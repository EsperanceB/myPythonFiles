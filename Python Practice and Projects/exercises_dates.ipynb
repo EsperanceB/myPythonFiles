{
 "cells": [
  {
   "cell_type": "code",
   "execution_count": 11,
   "id": "4ebe391e",
   "metadata": {},
   "outputs": [
    {
     "name": "stdout",
     "output_type": "stream",
     "text": [
      "Current time is: 18:19:56.094836\n",
      "Time 00:00:00\n",
      "time is: 07:10:34\n",
      "time is: 07:10:45\n",
      "time is: 07:10:45.400437\n"
     ]
    }
   ],
   "source": [
    "from datetime import datetime\n",
    "from datetime import time\n",
    "\n",
    "# Extract time from datetime object\n",
    "now = datetime.now()\n",
    "print(\"Current time is:\", now.time())\n",
    "\n",
    "# Create empty time object\n",
    "t = time()\n",
    "print('Time', t)\n",
    "\n",
    "# create time object with attribute names\n",
    "t1 = time(hour=7, minute=10, second=34)\n",
    "print(\"time is:\", t1)\n",
    "\n",
    "# time without attributes names\n",
    "t2 = time(7, 10, 45)\n",
    "print(\"time is:\", t2)\n",
    "\n",
    "# time with microseconds\n",
    "t3 = time(7, 10, 45, 400437)\n",
    "print(\"time is:\", t3)"
   ]
  },
  {
   "cell_type": "code",
   "execution_count": 12,
   "id": "b94d9a69",
   "metadata": {},
   "outputs": [
    {
     "name": "stdout",
     "output_type": "stream",
     "text": [
      "Time is: 18:19:57.919474\n",
      "Hours 18\n",
      "Minutes 19\n",
      "Seconds 57\n",
      "Microseconds 919474\n"
     ]
    }
   ],
   "source": [
    "from datetime import datetime\n",
    "\n",
    "# Extract time from datetime object\n",
    "t = datetime.now().time()\n",
    "print('Time is:', t)\n",
    "\n",
    "print('Hours', t.hour)\n",
    "print('Minutes', t.minute)\n",
    "print('Seconds', t.second)\n",
    "print('Microseconds', t.microsecond)"
   ]
  },
  {
   "cell_type": "code",
   "execution_count": 6,
   "id": "965963eb",
   "metadata": {},
   "outputs": [
    {
     "name": "stdout",
     "output_type": "stream",
     "text": [
      "Differance: 1683056922.1616335\n",
      "<class 'datetime.timedelta'>\n"
     ]
    }
   ],
   "source": [
    "from datetime import datetime\n",
    "import time\n",
    "\n",
    "# given datetime\n",
    "current_date = datetime.now()\n",
    "Tim_date_time = datetime(year=1982, month=6, day=6, hour=7, minute=0)\n",
    "\n",
    "# Difference between two dates\n",
    "# Get timedelta\n",
    "timedelta = current_date - Tim_date_time\n",
    "\n",
    "\n",
    "print('Differance:', time.time())\n",
    "print(type(timedelta))\n",
    "\n",
    "\n",
    "\n",
    "\n",
    " \n"
   ]
  },
  {
   "cell_type": "code",
   "execution_count": 5,
   "id": "7b10f056",
   "metadata": {},
   "outputs": [
    {
     "name": "stdout",
     "output_type": "stream",
     "text": [
      "   September 2022\n",
      "Mo Tu We Th Fr Sa Su\n",
      "          1  2  3  4\n",
      " 5  6  7  8  9 10 11\n",
      "12 13 14 15 16 17 18\n",
      "19 20 21 22 23 24 25\n",
      "26 27 28 29 30\n",
      "\n"
     ]
    }
   ],
   "source": [
    "import calendar\n",
    "year = 2022\n",
    "month = 9\n",
    "print(calendar.month(year,month))"
   ]
  },
  {
   "cell_type": "code",
   "execution_count": 15,
   "id": "38eb330f",
   "metadata": {},
   "outputs": [
    {
     "data": {
      "text/plain": [
       "'Feb'"
      ]
     },
     "execution_count": 15,
     "metadata": {},
     "output_type": "execute_result"
    }
   ],
   "source": [
    "import calendar\n",
    "calendar.month_abbr[2]"
   ]
  },
  {
   "cell_type": "code",
   "execution_count": 16,
   "id": "b1d1455b",
   "metadata": {},
   "outputs": [
    {
     "name": "stdout",
     "output_type": "stream",
     "text": [
      "Today is:  2023-02-28 18:20:00.675572\n"
     ]
    }
   ],
   "source": [
    "from datetime import datetime\n",
    "\n",
    "today = datetime.today()\n",
    "print(\"Today is: \",today )"
   ]
  },
  {
   "cell_type": "code",
   "execution_count": 17,
   "id": "3e32b506",
   "metadata": {},
   "outputs": [
    {
     "name": "stdout",
     "output_type": "stream",
     "text": [
      "2020-02-25 16:20:00\n"
     ]
    }
   ],
   "source": [
    "from datetime import datetime\n",
    "import calendar\n",
    "\n",
    "date_string = \"Feb 25 2020 4:20PM\"\n",
    "date_object = datetime.strptime(date_string,\"%b %d %Y %I:%M%p\")\n",
    "\n",
    "print(date_object)\n",
    "\n",
    "\n"
   ]
  },
  {
   "cell_type": "code",
   "execution_count": 18,
   "id": "3814c971",
   "metadata": {},
   "outputs": [
    {
     "name": "stdout",
     "output_type": "stream",
     "text": [
      "2021-06-12 09:15:00\n"
     ]
    }
   ],
   "source": [
    "from datetime import datetime\n",
    "\n",
    "# Date String in dd/mm/yyyy HH:MM:SS format\n",
    "dt_string = \"12/06/2021 09:15PM\"\n",
    "\n",
    "# Convert string to datetime object\n",
    "dt_object = datetime.strptime(dt_string, \"%d/%m/%Y %H:%M%p\")\n",
    "print(dt_object)"
   ]
  },
  {
   "cell_type": "code",
   "execution_count": 25,
   "id": "c8524435",
   "metadata": {},
   "outputs": [
    {
     "name": "stdout",
     "output_type": "stream",
     "text": [
      "The actual date is:  2020-02-25 00:00:00\n",
      "The date  after subtraction is : 2020-01-21 00:00:00\n"
     ]
    }
   ],
   "source": [
    "from datetime import datetime, timedelta\n",
    "\n",
    "given_date = datetime(2020, 2, 25)\n",
    "print(\"The actual date is: \", given_date)\n",
    "week =  7*5 \n",
    "\n",
    "date_res = given_date - timedelta(days = week)\n",
    "print(\"The date  after subtraction is :\", date_res)\n"
   ]
  },
  {
   "cell_type": "code",
   "execution_count": 34,
   "id": "48f29524",
   "metadata": {},
   "outputs": [
    {
     "name": "stdout",
     "output_type": "stream",
     "text": [
      "Tuesday 25 February 2020\n"
     ]
    }
   ],
   "source": [
    "from datetime import datetime\n",
    "\n",
    "\n",
    "given_date = datetime(2020, 2, 25)\n",
    "print(given_date.strftime(\"%A %d %B %Y\"))"
   ]
  },
  {
   "cell_type": "code",
   "execution_count": 44,
   "id": "b726b23a",
   "metadata": {},
   "outputs": [
    {
     "name": "stdout",
     "output_type": "stream",
     "text": [
      "1\n",
      "Sunday\n"
     ]
    }
   ],
   "source": [
    "import calendar\n",
    "from datetime import datetime\n",
    "\n",
    "given_date = datetime(2020, 7, 26)\n",
    "print(given_date.today().weekday())\n",
    "print(given_date.strftime('%A'))"
   ]
  },
  {
   "cell_type": "code",
   "execution_count": 43,
   "id": "aa02d6e6",
   "metadata": {},
   "outputs": [
    {
     "name": "stdout",
     "output_type": "stream",
     "text": [
      "1\n",
      "Sunday\n"
     ]
    }
   ],
   "source": [
    "from datetime import datetime\n",
    "\n",
    "given_date = datetime(2020, 7, 26)\n",
    "\n",
    "# to get weekday as integer\n",
    "print(given_date.today().weekday())\n",
    "\n",
    "# To get the english name of the weekday\n",
    "print(given_date.strftime('%A'))"
   ]
  },
  {
   "cell_type": "code",
   "execution_count": 45,
   "id": "2db67721",
   "metadata": {},
   "outputs": [
    {
     "name": "stdout",
     "output_type": "stream",
     "text": [
      "Sunday\n"
     ]
    }
   ],
   "source": [
    "import calendar\n",
    "from datetime import datetime\n",
    "given_date = datetime(2020, 7, 26)\n",
    "\n",
    "weekday = calendar.day_name[given_date.weekday()]\n",
    "print(weekday)"
   ]
  },
  {
   "cell_type": "code",
   "execution_count": 50,
   "id": "17b766be",
   "metadata": {},
   "outputs": [
    {
     "name": "stdout",
     "output_type": "stream",
     "text": [
      "2020-03-29 22:00:00\n"
     ]
    }
   ],
   "source": [
    "from datetime import datetime\n",
    "given_date = datetime(2020, 3, 22, 10, 0, 0)\n",
    "week = 7\n",
    "time = 12\n",
    "date_res = given_date + timedelta(days = week,hours = time )\n",
    "print(date_res)"
   ]
  },
  {
   "cell_type": "code",
   "execution_count": 64,
   "id": "bf906da9",
   "metadata": {},
   "outputs": [
    {
     "name": "stdout",
     "output_type": "stream",
     "text": [
      "21:55:44.847681\n"
     ]
    }
   ],
   "source": [
    "from datetime import datetime\n",
    "import time\n",
    "\n",
    "current_date = datetime.now()\n",
    "print(current_date.time())\n",
    "\n"
   ]
  },
  {
   "cell_type": "code",
   "execution_count": 65,
   "id": "3191086f",
   "metadata": {},
   "outputs": [
    {
     "name": "stdout",
     "output_type": "stream",
     "text": [
      "1677621405567\n"
     ]
    }
   ],
   "source": [
    "import time\n",
    "\n",
    "milliseconds = int(round(time.time() * 1000))\n",
    "print(milliseconds)"
   ]
  },
  {
   "cell_type": "code",
   "execution_count": 68,
   "id": "0804041e",
   "metadata": {},
   "outputs": [
    {
     "name": "stdout",
     "output_type": "stream",
     "text": [
      "2020-02-25 00:00:00\n"
     ]
    }
   ],
   "source": [
    "from datetime import datetime\n",
    "\n",
    "given_date = datetime(2020, 2, 25)\n",
    "print(given_date.strftime(\"%Y-%m-%d %H:%M:%S\"))\n"
   ]
  },
  {
   "cell_type": "code",
   "execution_count": 72,
   "id": "36f268a2",
   "metadata": {},
   "outputs": [
    {
     "name": "stdout",
     "output_type": "stream",
     "text": [
      "2020-06-24\n"
     ]
    }
   ],
   "source": [
    "import calendar\n",
    "from datetime import datetime,timedelta\n",
    "\n",
    "given_date = datetime(2020, 2, 25).date()\n",
    "month_to_sub = 4*30\n",
    "date_res = given_date + timedelta(days = month_to_sub)\n",
    "print(date_res)\n"
   ]
  },
  {
   "cell_type": "code",
   "execution_count": 73,
   "id": "cf27f1d9",
   "metadata": {},
   "outputs": [
    {
     "name": "stdout",
     "output_type": "stream",
     "text": [
      "2020-06-25\n"
     ]
    }
   ],
   "source": [
    "from datetime import datetime\n",
    "\n",
    "from dateutil.relativedelta import relativedelta\n",
    "\n",
    "# 2020-02-25\n",
    "given_date = datetime(2020, 2, 25).date()\n",
    "\n",
    "months_to_add = 4\n",
    "new_date = given_date + relativedelta(months=+ months_to_add)\n",
    "print(new_date)"
   ]
  },
  {
   "cell_type": "code",
   "execution_count": 78,
   "id": "40a23dce",
   "metadata": {},
   "outputs": [
    {
     "name": "stdout",
     "output_type": "stream",
     "text": [
      "205  days\n"
     ]
    }
   ],
   "source": [
    "from datetime import datetime\n",
    "\n",
    "\n",
    "# 2020-02-25\n",
    "date_1 = datetime(2020, 2, 25)\n",
    "\n",
    "# 2020-09-17\n",
    "date_2 = datetime(2020, 9, 17)\n",
    "\n",
    "num_days = date_2 - date_1\n",
    "\n",
    "print(num_days.days, \" days\")"
   ]
  },
  {
   "cell_type": "code",
   "execution_count": 79,
   "id": "84bac5e0",
   "metadata": {},
   "outputs": [
    {
     "name": "stdout",
     "output_type": "stream",
     "text": [
      "date_2 is greater\n",
      "Difference is 205 days\n"
     ]
    }
   ],
   "source": [
    "from datetime import datetime\n",
    "\n",
    "# 2020-02-25\n",
    "date_1 = datetime(2020, 2, 25).date()\n",
    "# 2020-09-17\n",
    "date_2 = datetime(2020, 9, 17).date()\n",
    "\n",
    "delta = None\n",
    "if date_1 > date_2:\n",
    "    print(\"date_1 is greater\")\n",
    "    delta = date_1 - date_2\n",
    "else:\n",
    "    print(\"date_2 is greater\")\n",
    "    delta = date_2 - date_1\n",
    "print(\"Difference is\", delta.days, \"days\")"
   ]
  }
 ],
 "metadata": {
  "kernelspec": {
   "display_name": "Python 3 (ipykernel)",
   "language": "python",
   "name": "python3"
  },
  "language_info": {
   "codemirror_mode": {
    "name": "ipython",
    "version": 3
   },
   "file_extension": ".py",
   "mimetype": "text/x-python",
   "name": "python",
   "nbconvert_exporter": "python",
   "pygments_lexer": "ipython3",
   "version": "3.10.9"
  }
 },
 "nbformat": 4,
 "nbformat_minor": 5
}
