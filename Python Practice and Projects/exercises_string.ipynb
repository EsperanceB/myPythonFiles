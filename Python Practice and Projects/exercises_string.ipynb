{
 "cells": [
  {
   "cell_type": "code",
   "execution_count": 18,
   "id": "cc336f20",
   "metadata": {},
   "outputs": [
    {
     "name": "stdout",
     "output_type": "stream",
     "text": [
      "2\n",
      "Jms\n"
     ]
    }
   ],
   "source": [
    "exercises_string"
   ]
  },
  {
   "cell_type": "code",
   "execution_count": 24,
   "id": "6ea3b6af",
   "metadata": {},
   "outputs": [
    {
     "name": "stdout",
     "output_type": "stream",
     "text": [
      "Dip\n"
     ]
    }
   ],
   "source": [
    "str1 = \"JhonDipPeta\"\n",
    "a = int((len(str1))/2-1)\n",
    "\n",
    "strf = str1[a] + str1[a+1] + str1[a+2]\n",
    "print(strf)"
   ]
  },
  {
   "cell_type": "code",
   "execution_count": 42,
   "id": "21730cbd",
   "metadata": {},
   "outputs": [
    {
     "name": "stdout",
     "output_type": "stream",
     "text": [
      "Son\n"
     ]
    }
   ],
   "source": [
    "str2 = \"JaSonAy\"\n",
    "a = int((len(str2))/2-1)\n",
    "\n",
    "strf = str2[a] + str2[a+1] + str2[a+2]\n",
    "print(strf)"
   ]
  },
  {
   "cell_type": "code",
   "execution_count": 1,
   "id": "fd5061df",
   "metadata": {},
   "outputs": [
    {
     "ename": "NameError",
     "evalue": "name 'str2' is not defined",
     "output_type": "error",
     "traceback": [
      "\u001b[1;31m---------------------------------------------------------------------------\u001b[0m",
      "\u001b[1;31mNameError\u001b[0m                                 Traceback (most recent call last)",
      "Cell \u001b[1;32mIn[1], line 3\u001b[0m\n\u001b[0;32m      1\u001b[0m s1 \u001b[38;5;241m=\u001b[39m \u001b[38;5;124m\"\u001b[39m\u001b[38;5;124mAult\u001b[39m\u001b[38;5;124m\"\u001b[39m\n\u001b[0;32m      2\u001b[0m s2 \u001b[38;5;241m=\u001b[39m \u001b[38;5;124m\"\u001b[39m\u001b[38;5;124mKelly\u001b[39m\u001b[38;5;124m\"\u001b[39m\n\u001b[1;32m----> 3\u001b[0m a \u001b[38;5;241m=\u001b[39m \u001b[38;5;28mint\u001b[39m((\u001b[38;5;28mlen\u001b[39m(\u001b[43mstr2\u001b[49m))\u001b[38;5;241m/\u001b[39m\u001b[38;5;241m2\u001b[39m\u001b[38;5;241m-\u001b[39m\u001b[38;5;241m1\u001b[39m)\n\u001b[0;32m      6\u001b[0m strf2 \u001b[38;5;241m=\u001b[39m s1[:a:] \u001b[38;5;241m+\u001b[39m s2 \u001b[38;5;241m+\u001b[39m s1[a:] \n\u001b[0;32m      7\u001b[0m \u001b[38;5;28mprint\u001b[39m(strf2)\n",
      "\u001b[1;31mNameError\u001b[0m: name 'str2' is not defined"
     ]
    }
   ],
   "source": [
    "s1 = \"Ault\"\n",
    "s2 = \"Kelly\"\n",
    "a = int((len(str2))/2-1)\n",
    "\n",
    "\n",
    "strf2 = s1[:a:] + s2 + s1[a:] \n",
    "print(strf2)"
   ]
  },
  {
   "cell_type": "code",
   "execution_count": 55,
   "id": "4d651973",
   "metadata": {},
   "outputs": [
    {
     "name": "stdout",
     "output_type": "stream",
     "text": [
      "AJrpan\n"
     ]
    }
   ],
   "source": [
    "s1 = \"America\"\n",
    "s2 = \"Japan\"\n",
    "a = int((len(s1)-1)/2)\n",
    "b = int((len(s2)-1)/2)\n",
    "strf = s1[0] + s2[0] + s1[a] + s2[b]+s1[-1] + s2[-1]\n",
    "print(strf)"
   ]
  },
  {
   "cell_type": "code",
   "execution_count": 58,
   "id": "0271e9cd",
   "metadata": {},
   "outputs": [
    {
     "name": "stdout",
     "output_type": "stream",
     "text": [
      "total counts of chars, Digits, and symbols \n",
      "\n",
      "Chars = 8 Digits = 2 Symbol = 3\n"
     ]
    }
   ],
   "source": [
    "def find_digits_chars_symbols(sample_str):\n",
    "    char_count = 0\n",
    "    digit_count = 0\n",
    "    symbol_count = 0\n",
    "    for char in sample_str:\n",
    "        if char.isalpha():\n",
    "            char_count += 1\n",
    "        elif char.isdigit():\n",
    "            digit_count += 1\n",
    "        # if it is not letter or digit then it is special symbol\n",
    "        else:\n",
    "            symbol_count += 1\n",
    "\n",
    "    print(\"Chars =\", char_count, \"Digits =\", digit_count, \"Symbol =\", symbol_count)\n",
    "\n",
    "sample_str = \"P@yn2at&#i5ve\"\n",
    "print(\"total counts of chars, Digits, and symbols \\n\")\n",
    "find_digits_chars_symbols(sample_str)"
   ]
  },
  {
   "cell_type": "code",
   "execution_count": 72,
   "id": "1210da92",
   "metadata": {},
   "outputs": [
    {
     "name": "stdout",
     "output_type": "stream",
     "text": [
      "True\n",
      "False\n"
     ]
    }
   ],
   "source": [
    "\n",
    "\n",
    "def find_balance(s1,s2):\n",
    "    for char1 in s1:\n",
    "        flag = True\n",
    "        if char1 in s2:\n",
    "            continue\n",
    "\n",
    "        else:\n",
    "            flag = False\n",
    "            \n",
    "    return flag\n",
    "            \n",
    "s1 = \"Yn\"\n",
    "s2 = \"PYnative\"\n",
    "str_bal = find_balance(s1,s2)\n",
    "print(str_bal)\n",
    "s3 = \"Ynf\"\n",
    "s4 = \"PYnative\"        \n",
    "str_bal2 = find_balance(s3,s4)\n",
    "print(str_bal2)    "
   ]
  },
  {
   "cell_type": "code",
   "execution_count": 3,
   "id": "91c91a3f",
   "metadata": {},
   "outputs": [
    {
     "name": "stdout",
     "output_type": "stream",
     "text": [
      "The word USA appears: 2\n"
     ]
    }
   ],
   "source": [
    "str1 = \"Welcome to USA. usa awesome, isn't it?\"\n",
    "str_ac = \"usa\"\n",
    "str_temp = str1.lower()\n",
    "count = str_temp.count(str_ac)\n",
    "print(\"The word USA appears:\",count)\n",
    "    \n",
    "\n",
    "\n"
   ]
  },
  {
   "cell_type": "code",
   "execution_count": 6,
   "id": "3f11acae",
   "metadata": {},
   "outputs": [
    {
     "name": "stdout",
     "output_type": "stream",
     "text": [
      "The sum of digit is:  38\n",
      "Theaverage is:  6.333333333333333\n"
     ]
    }
   ],
   "source": [
    "str1 = \"PYnative29@#8496\"\n",
    "sum1 = 0\n",
    "count = 0\n",
    "for k in str1:\n",
    "    if k.isdigit():\n",
    "        sum1 +=int(k)\n",
    "        count+=1\n",
    "avg = sum1/count\n",
    "print(\"The sum of digit is: \",sum1)\n",
    "print(\"Theaverage is: \",avg)\n",
    "        "
   ]
  },
  {
   "cell_type": "code",
   "execution_count": 7,
   "id": "bcc9b29d",
   "metadata": {},
   "outputs": [
    {
     "name": "stdout",
     "output_type": "stream",
     "text": [
      "Digits: [2, 9, 8, 4, 9, 6]\n",
      "Sum is: 38 Average is  6.333333333333333\n"
     ]
    }
   ],
   "source": [
    "import re\n",
    "\n",
    "input_str = \"PYnative29@#8496\"\n",
    "digit_list = [int(num) for num in re.findall(r'\\d', input_str)]\n",
    "print('Digits:', digit_list)\n",
    "\n",
    "# use the built-in function sum\n",
    "total = sum(digit_list)\n",
    "\n",
    "# average = sum / count of digits\n",
    "avg = total / len(digit_list)\n",
    "print(\"Sum is:\", total, \"Average is \", avg)"
   ]
  },
  {
   "cell_type": "code",
   "execution_count": 19,
   "id": "2408cf56",
   "metadata": {},
   "outputs": [
    {
     "name": "stdout",
     "output_type": "stream",
     "text": [
      "{'A': 1, 'p': 2, 'l': 1, 'e': 1}\n"
     ]
    }
   ],
   "source": [
    "str1 = \"Apple\"\n",
    "count = 0\n",
    "dictS = {}\n",
    "for k in str1:\n",
    "    count=str1.count(k)\n",
    "    dictS.update({k:count})\n",
    "print(dictS)"
   ]
  },
  {
   "cell_type": "code",
   "execution_count": 36,
   "id": "be3e3690",
   "metadata": {},
   "outputs": [
    {
     "name": "stdout",
     "output_type": "stream",
     "text": [
      "evitanYP\n"
     ]
    }
   ],
   "source": [
    "str1 = \"PYnative\"\n",
    "\n",
    "print(str1[::-1])"
   ]
  },
  {
   "cell_type": "code",
   "execution_count": 37,
   "id": "fac60d04",
   "metadata": {},
   "outputs": [
    {
     "name": "stdout",
     "output_type": "stream",
     "text": [
      "Original String is: PYnative\n",
      "Reversed String is: evitanYP\n"
     ]
    }
   ],
   "source": [
    "str1 = \"PYnative\"\n",
    "print(\"Original String is:\", str1)\n",
    "\n",
    "str1 = ''.join(reversed(str1))\n",
    "print(\"Reversed String is:\", str1)"
   ]
  },
  {
   "cell_type": "code",
   "execution_count": 2,
   "id": "3199652a",
   "metadata": {},
   "outputs": [
    {
     "name": "stdout",
     "output_type": "stream",
     "text": [
      "the last position of the word Emma is:  43\n"
     ]
    }
   ],
   "source": [
    "str1 = \"Emma is a data scientist who knows Python. Emma works at google.\"\n",
    "str_posit = \"Emma\"\n",
    "find = str1.rfind(str_posit)\n",
    "print(\"the last position of the word Emma is: \",find)\n",
    "    "
   ]
  },
  {
   "cell_type": "code",
   "execution_count": 7,
   "id": "ffe1a358",
   "metadata": {},
   "outputs": [
    {
     "name": "stdout",
     "output_type": "stream",
     "text": [
      "['Emma', 'is', 'a', 'data', 'scientist']\n",
      "Emma\n",
      "is\n",
      "a\n",
      "data\n",
      "scientist\n"
     ]
    }
   ],
   "source": [
    "str1 = \"Emma-is-a-data-scientist\"\n",
    "split = str1.split(\"-\")\n",
    "print(split)\n",
    "for k in split:\n",
    "    print(k)"
   ]
  },
  {
   "cell_type": "code",
   "execution_count": 15,
   "id": "194682c5",
   "metadata": {},
   "outputs": [
    {
     "name": "stdout",
     "output_type": "stream",
     "text": [
      "['Emma', 'Jon', 'Kelly', 'Eric']\n"
     ]
    }
   ],
   "source": [
    "str_list = [\"Emma\", \"Jon\", \"\", \"Kelly\", None, \"Eric\", \"\"]\n",
    "fin_list = []\n",
    "for k in str_list:\n",
    "    if k :\n",
    "        fin_list.append(k)\n",
    "        \n",
    "print(fin_list)\n",
    "        "
   ]
  },
  {
   "cell_type": "code",
   "execution_count": 16,
   "id": "9a34e3af",
   "metadata": {},
   "outputs": [
    {
     "name": "stdout",
     "output_type": "stream",
     "text": [
      "After removing empty strings\n",
      "['Emma', 'Jon', 'Kelly', 'Eric']\n"
     ]
    }
   ],
   "source": [
    "str_list = [\"Emma\", \"Jon\", \"\", \"Kelly\", None, \"Eric\", \"\"]\n",
    "\n",
    "# use built-in function filter to filter empty value\n",
    "new_str_list = list(filter(None, str_list))\n",
    "\n",
    "print(\"After removing empty strings\")\n",
    "print(new_str_list)"
   ]
  },
  {
   "cell_type": "code",
   "execution_count": 25,
   "id": "c19e028c",
   "metadata": {},
   "outputs": [
    {
     "name": "stdout",
     "output_type": "stream",
     "text": [
      "Original string is  /*Jon is @developer & musician\n",
      "New string is  Jon is developer  musician\n"
     ]
    }
   ],
   "source": [
    "str1 = \"/*Jon is @developer & musician\"\n",
    "\n",
    "import string\n",
    "\n",
    "str1 = \"/*Jon is @developer & musician\"\n",
    "print(\"Original string is \", str1)\n",
    "\n",
    "new_str = str1.translate(str.maketrans('', '', string.punctuation))\n",
    "\n",
    "print(\"New string is \", new_str)"
   ]
  },
  {
   "cell_type": "code",
   "execution_count": 20,
   "id": "a68e38a1",
   "metadata": {},
   "outputs": [
    {
     "name": "stdout",
     "output_type": "stream",
     "text": [
      "2510"
     ]
    }
   ],
   "source": [
    "str1 = 'I am 25 years and 10 months old'\n",
    "for k in str1:\n",
    "    if k.isdigit():\n",
    "        print(k,end=\"\")"
   ]
  },
  {
   "cell_type": "code",
   "execution_count": 22,
   "id": "a5966e1c",
   "metadata": {},
   "outputs": [
    {
     "name": "stdout",
     "output_type": "stream",
     "text": [
      "2\n",
      "5\n",
      "5\n",
      "0\n"
     ]
    }
   ],
   "source": [
    "str1 = \"Emma25 is Data scientist50 and AI Expert\"\n"
   ]
  },
  {
   "cell_type": "code",
   "execution_count": 24,
   "id": "ab8e21b8",
   "metadata": {},
   "outputs": [
    {
     "name": "stdout",
     "output_type": "stream",
     "text": [
      "The original string is : Emma25 is Data scientist50 and AI Expert\n",
      "Displaying words with alphabets and numbers\n",
      "Emma25\n",
      "scientist50\n"
     ]
    }
   ],
   "source": [
    "str1 = \"Emma25 is Data scientist50 and AI Expert\"\n",
    "print(\"The original string is : \" + str1)\n",
    "\n",
    "res = []\n",
    "# split string on whitespace\n",
    "temp = str1.split()\n",
    "\n",
    "# Words with both alphabets and numbers\n",
    "# isdigit() for numbers + isalpha() for alphabets\n",
    "# use any() to check each character\n",
    "\n",
    "for item in temp:\n",
    "    if any(char.isalpha() for char in item) and any(char.isdigit() for char in item):\n",
    "        res.append(item)\n",
    "\n",
    "print(\"Displaying words with alphabets and numbers\")\n",
    "for i in res:\n",
    "    print(i)"
   ]
  },
  {
   "cell_type": "code",
   "execution_count": 30,
   "id": "566c2815",
   "metadata": {},
   "outputs": [
    {
     "name": "stdout",
     "output_type": "stream",
     "text": [
      "##Jon is #developer # musician##\n"
     ]
    }
   ],
   "source": [
    "str1 = '/*Jon is @developer & musician!!'\n",
    "replace = \"#\"\n",
    "for k in string.punctuation:\n",
    "    str1 = str1.replace(k,replace)\n",
    "print(str1)"
   ]
  },
  {
   "cell_type": "code",
   "execution_count": 1,
   "id": "991c8663",
   "metadata": {},
   "outputs": [
    {
     "name": "stdout",
     "output_type": "stream",
     "text": [
      "Choose your first item: Chick\n",
      "Choose your second item: Beef\n",
      "Choose your third item: Spagetti B\n",
      "Order confirmation! You have ordered: \n",
      "Chick\n",
      "Beef\n",
      "Spagetti B\n"
     ]
    }
   ],
   "source": [
    "item1 = input(\"Choose your first item: \")\n",
    "item2 = input(\"Choose your second item: \")\n",
    "item3 = input(\"Choose your third item: \")\n",
    "print(\"Order confirmation! You have ordered: \")\n",
    "print(item1)\n",
    "print(item2)\n",
    "print(item3)\n"
   ]
  },
  {
   "cell_type": "code",
   "execution_count": 9,
   "id": "68a68050",
   "metadata": {},
   "outputs": [
    {
     "name": "stdout",
     "output_type": "stream",
     "text": [
      "sentence1.replace(!,): The quick brown fox jumps over the lazy dog. \n",
      "sentence1.upper() : THE QUICK BROWN FOX JUMPS OVER THE LAZY DOG.\n",
      "sentence1 reversed: .GOD YZAL EHT REVO SPMUJ XOF NWORB KCIUQ EHT\n"
     ]
    }
   ],
   "source": [
    "# Compulsory task 2\n",
    "sentence1 = \"The!quick!brown!fox!jumps!over!the!lazy!dog.\"\n",
    "sentence1 = sentence1.replace(\"!\",\" \") # Replace the symbole int the sentence\n",
    "print(\"sentence1.replace(\"\"!\"\",\" \"): {} \".format(sentence1))   # Using the examples \n",
    "print(f\"sentence1.upper() : {sentence1.upper()}\")\n",
    "print(f\"sentence1 reversed: {sentence1[::-1].upper()}\")  # It wasn't specified whether the reversed sentence should be upper case or lower case so I tried this"
   ]
  },
  {
   "cell_type": "code",
   "execution_count": null,
   "id": "8a85ef74",
   "metadata": {},
   "outputs": [],
   "source": []
  }
 ],
 "metadata": {
  "kernelspec": {
   "display_name": "Python 3 (ipykernel)",
   "language": "python",
   "name": "python3"
  },
  "language_info": {
   "codemirror_mode": {
    "name": "ipython",
    "version": 3
   },
   "file_extension": ".py",
   "mimetype": "text/x-python",
   "name": "python",
   "nbconvert_exporter": "python",
   "pygments_lexer": "ipython3",
   "version": "3.10.13"
  }
 },
 "nbformat": 4,
 "nbformat_minor": 5
}
