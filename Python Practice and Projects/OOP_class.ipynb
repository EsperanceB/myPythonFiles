{
 "cells": [
  {
   "cell_type": "code",
   "execution_count": 4,
   "id": "408c9e22",
   "metadata": {},
   "outputs": [
    {
     "name": "stdout",
     "output_type": "stream",
     "text": [
      "Name: Jessa Sex: Female Profession: Software Engineer\n",
      "Jessa working as a Software Engineer\n"
     ]
    }
   ],
   "source": [
    "\n",
    "class Person:\n",
    "    def __init__(self, name, sex, profession):\n",
    "        # data members (instance variables)\n",
    "        self.name = name\n",
    "        self.sex = sex\n",
    "        self.profession = profession\n",
    "\n",
    "    # Behavior (instance methods)\n",
    "    def show(self):\n",
    "        print('Name:', self.name, 'Sex:', self.sex, 'Profession:',\n",
    "              self.profession)\n",
    "\n",
    "    # Behavior (instance methods)\n",
    "    def work(self):\n",
    "        print(self.name, 'working as a', self.profession)\n",
    "\n",
    "# create object of a class\n",
    "jessa = Person('Jessa', 'Female', 'Software Engineer')\n",
    "\n",
    "# call methods\n",
    "jessa.show()\n",
    "jessa.work()"
   ]
  },
  {
   "cell_type": "code",
   "execution_count": 6,
   "id": "66a68804",
   "metadata": {},
   "outputs": [
    {
     "name": "stdout",
     "output_type": "stream",
     "text": [
      "Student: Harry 12\n",
      "School name: ABC School\n",
      "Student: Jessa 14\n",
      "School name: XYZ School\n"
     ]
    }
   ],
   "source": [
    "\"\"\" An instance attribute can be accessed or modified by using \n",
    "    the dot notation: instance_name.attribute_name.\n",
    "    A class variable is accessed or modified using the class name\n",
    "\"\"\"\n",
    "class Student:\n",
    "    # class variables\n",
    "    school_name = 'ABC School'\n",
    "\n",
    "    # constructor\n",
    "    def __init__(self, name, age):\n",
    "        # instance variables\n",
    "        self.name = name\n",
    "        self.age = age\n",
    "\n",
    "s1 = Student(\"Harry\", 12)\n",
    "# access instance variables\n",
    "print('Student:', s1.name, s1.age)\n",
    "\n",
    "# access class variable\n",
    "print('School name:', Student.school_name)\n",
    "\n",
    "# Modify instance variables\n",
    "s1.name = 'Jessa'\n",
    "s1.age = 14\n",
    "print('Student:', s1.name, s1.age)\n",
    "\n",
    "# Modify class variables\n",
    "Student.school_name = 'XYZ School'\n",
    "print('School name:', Student.school_name)"
   ]
  },
  {
   "cell_type": "code",
   "execution_count": 7,
   "id": "e9da9656",
   "metadata": {},
   "outputs": [
    {
     "name": "stdout",
     "output_type": "stream",
     "text": [
      "Student: Harry 12 ABC School\n",
      "Student: Harry 14 XYZ School\n"
     ]
    }
   ],
   "source": [
    "# class methods demo\n",
    "class Student:\n",
    "    # class variable\n",
    "    school_name = 'ABC School'\n",
    "\n",
    "    # constructor\n",
    "    def __init__(self, name, age):\n",
    "        # instance variables\n",
    "        self.name = name\n",
    "        self.age = age\n",
    "\n",
    "    # instance method\n",
    "    def show(self):\n",
    "        # access instance variables and class variables\n",
    "        print('Student:', self.name, self.age, Student.school_name)\n",
    "\n",
    "    # instance method\n",
    "    def change_age(self, new_age):\n",
    "        # modify instance variable\n",
    "        self.age = new_age\n",
    "\n",
    "    # class method\n",
    "    @classmethod\n",
    "    def modify_school_name(cls, new_name):\n",
    "        # modify class variable\n",
    "        cls.school_name = new_name\n",
    "\n",
    "s1 = Student(\"Harry\", 12)\n",
    "\n",
    "# call instance methods\n",
    "s1.show()\n",
    "s1.change_age(14)\n",
    "\n",
    "# call class method\n",
    "Student.modify_school_name('XYZ School')\n",
    "# call instance methods\n",
    "s1.show()"
   ]
  },
  {
   "cell_type": "code",
   "execution_count": 2,
   "id": "31aff45c",
   "metadata": {},
   "outputs": [
    {
     "name": "stdout",
     "output_type": "stream",
     "text": [
      "Apple\n"
     ]
    }
   ],
   "source": [
    "class Fruit:\n",
    "    def __init__(self, name, color):\n",
    "        self.name = name\n",
    "        self.color = color\n",
    "\n",
    "    def show(self):\n",
    "        print(\"Fruit is\", self.name, \"and Color is\", self.color)\n",
    "\n",
    "# creating object of the class\n",
    "obj = Fruit(\"Apple\", \"red\")\n",
    "\n",
    "# Deleting Object Properties\n",
    "#del obj.name\n",
    "\n",
    "# Accessing object properties after deleting\n",
    "print(obj.name)\n",
    "# Output: AttributeError: 'Fruit' object has no attribute 'name'"
   ]
  },
  {
   "cell_type": "code",
   "execution_count": 3,
   "id": "9dfab3aa",
   "metadata": {},
   "outputs": [],
   "source": [
    "class MyClass:\n",
    "  x = 5"
   ]
  },
  {
   "cell_type": "code",
   "execution_count": 4,
   "id": "a24b9456",
   "metadata": {},
   "outputs": [
    {
     "name": "stdout",
     "output_type": "stream",
     "text": [
      "5\n"
     ]
    }
   ],
   "source": [
    "p1 = MyClass()\n",
    "print(p1.x)"
   ]
  },
  {
   "cell_type": "code",
   "execution_count": 6,
   "id": "7682cf33",
   "metadata": {},
   "outputs": [
    {
     "name": "stdout",
     "output_type": "stream",
     "text": [
      "John\n",
      "36\n"
     ]
    }
   ],
   "source": [
    "class Person:\n",
    "    def __init__(self, name, age):\n",
    "        self.name = name\n",
    "        self.age = age\n",
    "\n",
    "p1 = Person(\"John\", 36)\n",
    "\n",
    "print(p1.name)\n",
    "print(p1.age)"
   ]
  },
  {
   "cell_type": "code",
   "execution_count": 10,
   "id": "d76ca906",
   "metadata": {},
   "outputs": [
    {
     "name": "stdout",
     "output_type": "stream",
     "text": [
      "<__main__.Person object at 0x00000287956C6F70>\n"
     ]
    }
   ],
   "source": [
    "#The string representation of an object WITHOUT the __str__() function:\n",
    "class Person:\n",
    "    def __init__(self, name, age):\n",
    "        self.name = name\n",
    "        self.age = age\n",
    "\n",
    "p1 = Person(\"John\", 36)\n",
    "\n",
    "print(p1)"
   ]
  },
  {
   "cell_type": "code",
   "execution_count": 15,
   "id": "a533686c",
   "metadata": {},
   "outputs": [
    {
     "name": "stdout",
     "output_type": "stream",
     "text": [
      "John(36)\n",
      "John(40)\n"
     ]
    }
   ],
   "source": [
    "#The string representation of an object WITH the __str__() function:\n",
    "class Person:\n",
    "    def __init__(self, name, age):\n",
    "        self.name = name\n",
    "        self.age = age\n",
    "\n",
    "    def __str__(self):\n",
    "        return f\"{self.name}({self.age})\"\n",
    "\n",
    "p1 = Person(\"John\", 36)\n",
    "\n",
    "print(p1)\n",
    "p1.age = 40\n",
    "print(p1)"
   ]
  },
  {
   "cell_type": "code",
   "execution_count": 12,
   "id": "5ec36530",
   "metadata": {},
   "outputs": [
    {
     "name": "stdout",
     "output_type": "stream",
     "text": [
      "Hello my name is John\n"
     ]
    }
   ],
   "source": [
    "#Insert a function that prints a greeting, and execute it on the p1 object\n",
    "\n",
    "class Person:\n",
    "  def __init__(self, name, age):\n",
    "    self.name = name\n",
    "    self.age = age\n",
    "\n",
    "  def myfunc(self):\n",
    "    print(\"Hello my name is \" + self.name)\n",
    "\n",
    "p1 = Person(\"John\", 36)\n",
    "p1.myfunc()\n"
   ]
  },
  {
   "cell_type": "code",
   "execution_count": 13,
   "id": "14775a2e",
   "metadata": {},
   "outputs": [
    {
     "name": "stdout",
     "output_type": "stream",
     "text": [
      "Hello my name is John\n"
     ]
    }
   ],
   "source": [
    "class Person:\n",
    "  def __init__(mysillyobject, name, age):\n",
    "    mysillyobject.name = name\n",
    "    mysillyobject.age = age\n",
    "\n",
    "  def myfunc(abc):\n",
    "    print(\"Hello my name is \" + abc.name)\n",
    "\n",
    "p1 = Person(\"John\", 36)\n",
    "p1.myfunc()"
   ]
  },
  {
   "cell_type": "code",
   "execution_count": 16,
   "id": "b536cbc2",
   "metadata": {},
   "outputs": [
    {
     "name": "stdout",
     "output_type": "stream",
     "text": [
      "Inside Display\n"
     ]
    }
   ],
   "source": [
    "class Employee:\n",
    "\n",
    "    def display(self):\n",
    "        print('Inside Display')\n",
    "\n",
    "emp = Employee()\n",
    "emp.display()"
   ]
  },
  {
   "cell_type": "code",
   "execution_count": 17,
   "id": "e7ba9061",
   "metadata": {},
   "outputs": [
    {
     "name": "stdout",
     "output_type": "stream",
     "text": [
      "Name: PYnative Address: ABC Street\n"
     ]
    }
   ],
   "source": [
    "class Company:\n",
    "\n",
    "    # no-argument constructor\n",
    "    def __init__(self):\n",
    "        self.name = \"PYnative\"\n",
    "        self.address = \"ABC Street\"\n",
    "\n",
    "    # a method for printing data members\n",
    "    def show(self):\n",
    "        print('Name:', self.name, 'Address:', self.address)\n",
    "\n",
    "# creating object of the class\n",
    "cmp = Company()\n",
    "\n",
    "# calling the instance method using the object\n",
    "cmp.show()"
   ]
  },
  {
   "cell_type": "code",
   "execution_count": 18,
   "id": "cf9c2da6",
   "metadata": {},
   "outputs": [
    {
     "name": "stdout",
     "output_type": "stream",
     "text": [
      "Emma 23 7500\n"
     ]
    }
   ],
   "source": [
    "class Employee:\n",
    "    # parameterized constructor\n",
    "    def __init__(self, name, age, salary):\n",
    "        self.name = name\n",
    "        self.age = age\n",
    "        self.salary = salary\n",
    "\n",
    "    # display object\n",
    "    def show(self):\n",
    "        print(self.name, self.age, self.salary)\n",
    "\n",
    "# creating object of the Employee class\n",
    "emma = Employee('Emma', 23, 7500)\n",
    "emma.show()"
   ]
  },
  {
   "cell_type": "code",
   "execution_count": 20,
   "id": "a01992eb",
   "metadata": {},
   "outputs": [
    {
     "name": "stdout",
     "output_type": "stream",
     "text": [
      "Emma 12 7\n",
      "Kelly 13 7\n"
     ]
    }
   ],
   "source": [
    "class Student:\n",
    "    # constructor with default values age and classroom\n",
    "    def __init__(self, name, age=12, classroom=7):\n",
    "        self.name = name\n",
    "        self.age = age\n",
    "        self.classroom = classroom\n",
    "\n",
    "    # display Student\n",
    "    def show(self):\n",
    "        print(self.name, self.age, self.classroom)\n",
    "\n",
    "# creating object of the Student class\n",
    "emma = Student('Emma')\n",
    "emma.show()\n",
    "kelly = Student('Kelly', 13)\n",
    "kelly.show()"
   ]
  },
  {
   "cell_type": "code",
   "execution_count": 21,
   "id": "1ff12d06",
   "metadata": {},
   "outputs": [
    {
     "ename": "TypeError",
     "evalue": "__init__() missing 1 required positional argument: 'age'",
     "output_type": "error",
     "traceback": [
      "\u001b[1;31m---------------------------------------------------------------------------\u001b[0m",
      "\u001b[1;31mTypeError\u001b[0m                                 Traceback (most recent call last)",
      "Input \u001b[1;32mIn [21]\u001b[0m, in \u001b[0;36m<cell line: 14>\u001b[1;34m()\u001b[0m\n\u001b[0;32m     11\u001b[0m         \u001b[38;5;28mself\u001b[39m\u001b[38;5;241m.\u001b[39mage \u001b[38;5;241m=\u001b[39m age\n\u001b[0;32m     13\u001b[0m \u001b[38;5;66;03m# creating first object\u001b[39;00m\n\u001b[1;32m---> 14\u001b[0m emma \u001b[38;5;241m=\u001b[39m \u001b[43mStudent\u001b[49m\u001b[43m(\u001b[49m\u001b[38;5;124;43m'\u001b[39;49m\u001b[38;5;124;43mEmma\u001b[39;49m\u001b[38;5;124;43m'\u001b[39;49m\u001b[43m)\u001b[49m\n\u001b[0;32m     16\u001b[0m \u001b[38;5;66;03m# creating Second object\u001b[39;00m\n\u001b[0;32m     17\u001b[0m kelly \u001b[38;5;241m=\u001b[39m Student(\u001b[38;5;124m'\u001b[39m\u001b[38;5;124mKelly\u001b[39m\u001b[38;5;124m'\u001b[39m, \u001b[38;5;241m13\u001b[39m)\n",
      "\u001b[1;31mTypeError\u001b[0m: __init__() missing 1 required positional argument: 'age'"
     ]
    }
   ],
   "source": [
    "class Student:\n",
    "    # one argument constructor\n",
    "    def __init__(self, name):\n",
    "        print(\"One arguments constructor\")\n",
    "        self.name = name\n",
    "\n",
    "    # two argument constructor\n",
    "    def __init__(self, name, age):\n",
    "        print(\"Two arguments constructor\")\n",
    "        self.name = name\n",
    "        self.age = age\n",
    "\n",
    "# creating first object\n",
    "emma = Student('Emma')\n",
    "\n",
    "# creating Second object\n",
    "kelly = Student('Kelly', 13)"
   ]
  },
  {
   "cell_type": "code",
   "execution_count": 23,
   "id": "4857a89a",
   "metadata": {},
   "outputs": [
    {
     "name": "stdout",
     "output_type": "stream",
     "text": [
      "Inside Vehicle Constructor\n",
      "Inside Car Constructor\n",
      "Inside Electric Car Constructor\n",
      "Engine=1500cc, Max Speed=240,Km range=750\n"
     ]
    }
   ],
   "source": [
    "class Vehicle:\n",
    "    # Constructor of Vehicle\n",
    "    def __init__(self, engine):\n",
    "        print('Inside Vehicle Constructor')\n",
    "        self.engine = engine\n",
    "\n",
    "class Car(Vehicle):\n",
    "    # Constructor of Car\n",
    "    def __init__(self, engine, max_speed):\n",
    "        super().__init__(engine)\n",
    "        print('Inside Car Constructor')\n",
    "        self.max_speed = max_speed\n",
    "\n",
    "class Electric_Car(Car):\n",
    "    # Constructor of Electric Car\n",
    "    def __init__(self, engine, max_speed, km_range):\n",
    "        super().__init__(engine, max_speed)\n",
    "        print('Inside Electric Car Constructor')\n",
    "        self.km_range = km_range\n",
    "\n",
    "# Object of electric car\n",
    "ev = Electric_Car('1500cc', 240, 750)\n",
    "print(f'Engine={ev.engine}, Max Speed={ev.max_speed},Km range={ev.km_range}')"
   ]
  },
  {
   "cell_type": "code",
   "execution_count": 24,
   "id": "aa4c733a",
   "metadata": {},
   "outputs": [
    {
     "name": "stdout",
     "output_type": "stream",
     "text": [
      "The number of Employee: 3\n"
     ]
    }
   ],
   "source": [
    "class Employee:\n",
    "    count = 0\n",
    "    def __init__(self):\n",
    "        Employee.count = Employee.count + 1\n",
    "\n",
    "\n",
    "# creating objects\n",
    "e1 = Employee()\n",
    "e2 = Employee()\n",
    "e2 = Employee()\n",
    "print(\"The number of Employee:\", Employee.count)"
   ]
  },
  {
   "cell_type": "code",
   "execution_count": 30,
   "id": "acb649a5",
   "metadata": {},
   "outputs": [
    {
     "data": {
      "text/plain": [
       "<bound method Test.name of <__main__.Test object at 0x00000287956A3520>>"
      ]
     },
     "execution_count": 30,
     "metadata": {},
     "output_type": "execute_result"
    }
   ],
   "source": [
    "class Test:\n",
    "\n",
    "    def name(self, i):\n",
    "        self.id = i\n",
    "        return True\n",
    "\n",
    "d = Test()\n",
    "d.name"
   ]
  },
  {
   "cell_type": "code",
   "execution_count": 34,
   "id": "211e0e1e",
   "metadata": {},
   "outputs": [
    {
     "name": "stdout",
     "output_type": "stream",
     "text": [
      "Inside Constructor\n",
      "Object initialized\n",
      "Hello, my name is Emma\n",
      "Inside destructor\n",
      "Object destroyed\n"
     ]
    }
   ],
   "source": [
    "class Student:\n",
    "\n",
    "    # constructor\n",
    "    def __init__(self, name):\n",
    "        print('Inside Constructor')\n",
    "        self.name = name\n",
    "        print('Object initialized')\n",
    "\n",
    "    def show(self):\n",
    "        print('Hello, my name is', self.name)\n",
    "\n",
    "    # destructor\n",
    "    def __del__(self):\n",
    "        print('Inside destructor')\n",
    "        print('Object destroyed')\n",
    "\n",
    "# create object\n",
    "s1 = Student('Emma')\n",
    "s1.show()\n",
    "\n",
    "# delete object\n",
    "del s1"
   ]
  },
  {
   "cell_type": "code",
   "execution_count": 36,
   "id": "09996019",
   "metadata": {},
   "outputs": [
    {
     "name": "stdout",
     "output_type": "stream",
     "text": [
      "Inside Constructor\n",
      "Object destroyed\n",
      "Hello, my name is Emma\n",
      "After sleep\n",
      "Hello, my name is Emma\n",
      "Object destroyed\n"
     ]
    }
   ],
   "source": [
    "import time\n",
    "\n",
    "class Student:\n",
    "\n",
    "    # constructor\n",
    "    def __init__(self, name):\n",
    "        print('Inside Constructor')\n",
    "        self.name = name\n",
    "\n",
    "    def show(self):\n",
    "        print('Hello, my name is', self.name)\n",
    "\n",
    "    # destructor\n",
    "    def __del__(self):\n",
    "        print('Object destroyed')\n",
    "\n",
    "# create object\n",
    "s1 = Student('Emma')\n",
    "# create new reference\n",
    "# both reference points to the same object\n",
    "s2 = s1\n",
    "s1.show()\n",
    "\n",
    "# delete object reference s1\n",
    "del s1\n",
    "\n",
    "# add sleep and observe the output\n",
    "time.sleep(5)\n",
    "print('After sleep')\n",
    "s2.show()\n"
   ]
  },
  {
   "cell_type": "code",
   "execution_count": 38,
   "id": "bd3d9ff4",
   "metadata": {},
   "outputs": [
    {
     "name": "stdout",
     "output_type": "stream",
     "text": [
      "Vehicle 12 created\n",
      "Car 12 created\n"
     ]
    }
   ],
   "source": [
    "import time\n",
    "\n",
    "\n",
    "class Vehicle():\n",
    "    def __init__(self, id, car):\n",
    "        self.id = id;\n",
    "        # saving reference of Car object\n",
    "        self.dealer = car;\n",
    "        print('Vehicle', self.id, 'created');\n",
    "\n",
    "    def __del__(self):\n",
    "        print('Vehicle', self.id, 'destroyed');\n",
    "\n",
    "\n",
    "class Car():\n",
    "    def __init__(self, id):\n",
    "        self.id = id;\n",
    "        # saving Vehicle class object in 'dealer' variable\n",
    "        # Sending reference of Car object ('self') for Vehicle object\n",
    "        self.dealer = Vehicle(id, self);\n",
    "        print('Car', self.id, 'created')\n",
    "\n",
    "    def __del__(self):\n",
    "        print('Car', self.id, 'destroyed')\n",
    "\n",
    "\n",
    "# create car object\n",
    "c = Car(12)\n",
    "# delete car object\n",
    "del c\n",
    "# ideally destructor must execute now\n",
    "\n",
    "# to observe the behavior\n",
    "time.sleep(8)"
   ]
  },
  {
   "cell_type": "code",
   "execution_count": 39,
   "id": "9f3c04bf",
   "metadata": {},
   "outputs": [
    {
     "name": "stdout",
     "output_type": "stream",
     "text": [
      "Car 12 destroyed\n",
      "Vehicle 12 destroyed\n",
      "Car 12 destroyed\n",
      "Vehicle 12 destroyed\n"
     ]
    },
    {
     "ename": "Exception",
     "evalue": "Not Allowed",
     "output_type": "error",
     "traceback": [
      "\u001b[1;31m---------------------------------------------------------------------------\u001b[0m",
      "\u001b[1;31mException\u001b[0m                                 Traceback (most recent call last)",
      "Input \u001b[1;32mIn [39]\u001b[0m, in \u001b[0;36m<cell line: 11>\u001b[1;34m()\u001b[0m\n\u001b[0;32m      8\u001b[0m         \u001b[38;5;28mprint\u001b[39m(\u001b[38;5;124m'\u001b[39m\u001b[38;5;124mRelease resources\u001b[39m\u001b[38;5;124m'\u001b[39m)\n\u001b[0;32m     10\u001b[0m \u001b[38;5;66;03m# creating an object\u001b[39;00m\n\u001b[1;32m---> 11\u001b[0m car \u001b[38;5;241m=\u001b[39m \u001b[43mVehicle\u001b[49m\u001b[43m(\u001b[49m\u001b[38;5;241;43m350\u001b[39;49m\u001b[43m)\u001b[49m;\n\u001b[0;32m     12\u001b[0m \u001b[38;5;66;03m# to delete the object explicitly\u001b[39;00m\n\u001b[0;32m     13\u001b[0m \u001b[38;5;28;01mdel\u001b[39;00m car\n",
      "Input \u001b[1;32mIn [39]\u001b[0m, in \u001b[0;36mVehicle.__init__\u001b[1;34m(self, speed)\u001b[0m\n\u001b[0;32m      2\u001b[0m \u001b[38;5;28;01mdef\u001b[39;00m \u001b[38;5;21m__init__\u001b[39m(\u001b[38;5;28mself\u001b[39m, speed):\n\u001b[0;32m      3\u001b[0m     \u001b[38;5;28;01mif\u001b[39;00m speed \u001b[38;5;241m>\u001b[39m \u001b[38;5;241m240\u001b[39m:\n\u001b[1;32m----> 4\u001b[0m         \u001b[38;5;28;01mraise\u001b[39;00m \u001b[38;5;167;01mException\u001b[39;00m(\u001b[38;5;124m'\u001b[39m\u001b[38;5;124mNot Allowed\u001b[39m\u001b[38;5;124m'\u001b[39m);\n\u001b[0;32m      5\u001b[0m     \u001b[38;5;28mself\u001b[39m\u001b[38;5;241m.\u001b[39mspeed \u001b[38;5;241m=\u001b[39m speed\n",
      "\u001b[1;31mException\u001b[0m: Not Allowed"
     ]
    }
   ],
   "source": [
    "class Vehicle:\n",
    "    def __init__(self, speed):\n",
    "        if speed > 240:\n",
    "            raise Exception('Not Allowed');\n",
    "        self.speed = speed;\n",
    "\n",
    "    def __del__(self):\n",
    "        print('Release resources')\n",
    "\n",
    "# creating an object\n",
    "car = Vehicle(350);\n",
    "# to delete the object explicitly\n",
    "del car"
   ]
  },
  {
   "cell_type": "code",
   "execution_count": 1,
   "id": "877f46c5",
   "metadata": {},
   "outputs": [
    {
     "name": "stdout",
     "output_type": "stream",
     "text": [
      "Name:  Jessa Salary: 8000\n",
      "Jessa is working on NLP\n"
     ]
    }
   ],
   "source": [
    "class Employee:\n",
    "    # constructor\n",
    "    def __init__(self, name, salary, project):\n",
    "        # data members\n",
    "        self.name = name\n",
    "        self.salary = salary\n",
    "        self.project = project\n",
    "\n",
    "    # method\n",
    "    # to display employee's details\n",
    "    def show(self):\n",
    "        # accessing public data member\n",
    "        print(\"Name: \", self.name, 'Salary:', self.salary)\n",
    "\n",
    "    # method\n",
    "    def work(self):\n",
    "        print(self.name, 'is working on', self.project)\n",
    "\n",
    "# creating object of a class\n",
    "emp = Employee('Jessa', 8000, 'NLP')\n",
    "\n",
    "# calling public method of the class\n",
    "emp.show()\n",
    "emp.work()"
   ]
  },
  {
   "cell_type": "code",
   "execution_count": 2,
   "id": "c2817df9",
   "metadata": {},
   "outputs": [
    {
     "ename": "AttributeError",
     "evalue": "'Employee' object has no attribute '__salary'",
     "output_type": "error",
     "traceback": [
      "\u001b[1;31m---------------------------------------------------------------------------\u001b[0m",
      "\u001b[1;31mAttributeError\u001b[0m                            Traceback (most recent call last)",
      "Input \u001b[1;32mIn [2]\u001b[0m, in \u001b[0;36m<cell line: 13>\u001b[1;34m()\u001b[0m\n\u001b[0;32m     10\u001b[0m emp \u001b[38;5;241m=\u001b[39m Employee(\u001b[38;5;124m'\u001b[39m\u001b[38;5;124mJessa\u001b[39m\u001b[38;5;124m'\u001b[39m, \u001b[38;5;241m10000\u001b[39m)\n\u001b[0;32m     12\u001b[0m \u001b[38;5;66;03m# accessing private data members\u001b[39;00m\n\u001b[1;32m---> 13\u001b[0m \u001b[38;5;28mprint\u001b[39m(\u001b[38;5;124m'\u001b[39m\u001b[38;5;124mSalary:\u001b[39m\u001b[38;5;124m'\u001b[39m, \u001b[43memp\u001b[49m\u001b[38;5;241;43m.\u001b[39;49m\u001b[43m__salary\u001b[49m)\n",
      "\u001b[1;31mAttributeError\u001b[0m: 'Employee' object has no attribute '__salary'"
     ]
    }
   ],
   "source": [
    "class Employee:\n",
    "    # constructor\n",
    "    def __init__(self, name, salary):\n",
    "        # public data member\n",
    "        self.name = name\n",
    "        # private member\n",
    "        self.__salary = salary\n",
    "\n",
    "# creating object of a class\n",
    "emp = Employee('Jessa', 10000)\n",
    "\n",
    "# accessing private data members\n",
    "print('Salary:', emp.__salary)"
   ]
  },
  {
   "cell_type": "code",
   "execution_count": 3,
   "id": "af0ec338",
   "metadata": {},
   "outputs": [
    {
     "name": "stdout",
     "output_type": "stream",
     "text": [
      "Name:  Jessa Salary: 10000\n"
     ]
    }
   ],
   "source": [
    "class Employee:\n",
    "    # constructor\n",
    "    def __init__(self, name, salary):\n",
    "        # public data member\n",
    "        self.name = name\n",
    "        # private member\n",
    "        self.__salary = salary\n",
    "\n",
    "    # public instance methods\n",
    "    def show(self):\n",
    "        # private members are accessible from a class\n",
    "        print(\"Name: \", self.name, 'Salary:', self.__salary)\n",
    "\n",
    "# creating object of a class\n",
    "emp = Employee('Jessa', 10000)\n",
    "\n",
    "# calling public method of the class\n",
    "emp.show()"
   ]
  },
  {
   "cell_type": "code",
   "execution_count": 4,
   "id": "bc0b5728",
   "metadata": {},
   "outputs": [
    {
     "name": "stdout",
     "output_type": "stream",
     "text": [
      "Name: Jessa\n",
      "Salary: 10000\n"
     ]
    }
   ],
   "source": [
    "class Employee:\n",
    "    # constructor\n",
    "    def __init__(self, name, salary):\n",
    "        # public data member\n",
    "        self.name = name\n",
    "        # private member\n",
    "        self.__salary = salary\n",
    "\n",
    "# creating object of a class\n",
    "emp = Employee('Jessa', 10000)\n",
    "\n",
    "print('Name:', emp.name)\n",
    "# direct access to private member using name mangling\n",
    "print('Salary:', emp._Employee__salary)"
   ]
  },
  {
   "cell_type": "code",
   "execution_count": 5,
   "id": "c727da02",
   "metadata": {},
   "outputs": [
    {
     "name": "stdout",
     "output_type": "stream",
     "text": [
      "Employee name : Jessa\n",
      "Working on project : NLP\n",
      "Project: NLP\n"
     ]
    }
   ],
   "source": [
    "# base class\n",
    "class Company:\n",
    "    def __init__(self):\n",
    "        # Protected member\n",
    "        self._project = \"NLP\"\n",
    "\n",
    "# child class\n",
    "class Employee(Company):\n",
    "    def __init__(self, name):\n",
    "        self.name = name\n",
    "        Company.__init__(self)\n",
    "\n",
    "    def show(self):\n",
    "        print(\"Employee name :\", self.name)\n",
    "        # Accessing protected member in child class\n",
    "        print(\"Working on project :\", self._project)\n",
    "\n",
    "c = Employee(\"Jessa\")\n",
    "c.show()\n",
    "\n",
    "# Direct access protected data member\n",
    "print('Project:', c._project)"
   ]
  },
  {
   "cell_type": "code",
   "execution_count": 6,
   "id": "3b7014b3",
   "metadata": {},
   "outputs": [
    {
     "name": "stdout",
     "output_type": "stream",
     "text": [
      "Name: Jessa 14\n",
      "Name: Jessa 16\n"
     ]
    }
   ],
   "source": [
    "class Student:\n",
    "    def __init__(self, name, age):\n",
    "        # private member\n",
    "        self.name = name\n",
    "        self.__age = age\n",
    "\n",
    "    # getter method\n",
    "    def get_age(self):\n",
    "        return self.__age\n",
    "\n",
    "    # setter method\n",
    "    def set_age(self, age):\n",
    "        self.__age = age\n",
    "\n",
    "stud = Student('Jessa', 14)\n",
    "\n",
    "# retrieving age using getter\n",
    "print('Name:', stud.name, stud.get_age())\n",
    "\n",
    "# changing age using setter\n",
    "stud.set_age(16)\n",
    "\n",
    "# retrieving age using getter\n",
    "print('Name:', stud.name, stud.get_age())"
   ]
  },
  {
   "cell_type": "code",
   "execution_count": 7,
   "id": "5711c0cd",
   "metadata": {},
   "outputs": [
    {
     "name": "stdout",
     "output_type": "stream",
     "text": [
      "Student Details: Jessa 10\n",
      "Invalid roll no. Please set correct roll number\n",
      "Student Details: Jessa 25\n"
     ]
    }
   ],
   "source": [
    "class Student:\n",
    "    def __init__(self, name, roll_no, age):\n",
    "        # private member\n",
    "        self.name = name\n",
    "        # private members to restrict access\n",
    "        # avoid direct data modification\n",
    "        self.__roll_no = roll_no\n",
    "        self.__age = age\n",
    "\n",
    "    def show(self):\n",
    "        print('Student Details:', self.name, self.__roll_no)\n",
    "\n",
    "    # getter methods\n",
    "    def get_roll_no(self):\n",
    "        return self.__roll_no\n",
    "\n",
    "    # setter method to modify data member\n",
    "    # condition to allow data modification with rules\n",
    "    def set_roll_no(self, number):\n",
    "        if number > 50:\n",
    "            print('Invalid roll no. Please set correct roll number')\n",
    "        else:\n",
    "            self.__roll_no = number\n",
    "\n",
    "jessa = Student('Jessa', 10, 15)\n",
    "\n",
    "# before Modify\n",
    "jessa.show()\n",
    "# changing roll number using setter\n",
    "jessa.set_roll_no(120)\n",
    "\n",
    "\n",
    "jessa.set_roll_no(25)\n",
    "jessa.show()"
   ]
  },
  {
   "cell_type": "code",
   "execution_count": 8,
   "id": "efbd3da9",
   "metadata": {},
   "outputs": [
    {
     "name": "stdout",
     "output_type": "stream",
     "text": [
      "Details: Car x1 Red 20000\n",
      "Car max speed is 240\n",
      "Car change 7 gear\n",
      "Details: Truck x1 white 75000\n",
      "Vehicle max speed is 150\n",
      "Vehicle change 6 gear\n"
     ]
    }
   ],
   "source": [
    " class Vehicle:\n",
    "\n",
    "    def __init__(self, name, color, price):\n",
    "        self.name = name\n",
    "        self.color = color\n",
    "        self.price = price\n",
    "\n",
    "    def show(self):\n",
    "        print('Details:', self.name, self.color, self.price)\n",
    "\n",
    "    def max_speed(self):\n",
    "        print('Vehicle max speed is 150')\n",
    "\n",
    "    def change_gear(self):\n",
    "        print('Vehicle change 6 gear')\n",
    "\n",
    "\n",
    "# inherit from vehicle class\n",
    "class Car(Vehicle):\n",
    "    def max_speed(self):\n",
    "        print('Car max speed is 240')\n",
    "\n",
    "    def change_gear(self):\n",
    "        print('Car change 7 gear')\n",
    "\n",
    "\n",
    "# Car Object\n",
    "car = Car('Car x1', 'Red', 20000)\n",
    "car.show()\n",
    "# calls methods from Car class\n",
    "car.max_speed()\n",
    "car.change_gear()\n",
    "\n",
    "# Vehicle Object\n",
    "vehicle = Vehicle('Truck x1', 'white', 75000)\n",
    "vehicle.show()\n",
    "# calls method from a Vehicle class\n",
    "vehicle.max_speed()\n",
    "vehicle.change_gear()"
   ]
  },
  {
   "cell_type": "code",
   "execution_count": 9,
   "id": "eb178b1e",
   "metadata": {},
   "outputs": [
    {
     "name": "stdout",
     "output_type": "stream",
     "text": [
      "Redefine length\n",
      "4\n"
     ]
    }
   ],
   "source": [
    "class Shopping:\n",
    "    def __init__(self, basket, buyer):\n",
    "        self.basket = list(basket)\n",
    "        self.buyer = buyer\n",
    "\n",
    "    def __len__(self):\n",
    "        print('Redefine length')\n",
    "        count = len(self.basket)\n",
    "        # count total items in a different way\n",
    "        # pair of shoes and shir+pant\n",
    "        return count * 2\n",
    "\n",
    "shopping = Shopping(['Shoes', 'dress'], 'Jessa')\n",
    "print(len(shopping))"
   ]
  },
  {
   "cell_type": "code",
   "execution_count": 10,
   "id": "e9af9bdb",
   "metadata": {},
   "outputs": [
    {
     "name": "stdout",
     "output_type": "stream",
     "text": [
      "Petrol\n",
      "Max speed 350\n",
      "Diesel\n",
      "Max speed is 240\n"
     ]
    }
   ],
   "source": [
    "class Ferrari:\n",
    "    def fuel_type(self):\n",
    "        print(\"Petrol\")\n",
    "\n",
    "    def max_speed(self):\n",
    "        print(\"Max speed 350\")\n",
    "\n",
    "class BMW:\n",
    "    def fuel_type(self):\n",
    "        print(\"Diesel\")\n",
    "\n",
    "    def max_speed(self):\n",
    "        print(\"Max speed is 240\")\n",
    "\n",
    "ferrari = Ferrari()\n",
    "bmw = BMW()\n",
    "\n",
    "# iterate objects of same type\n",
    "for car in (ferrari, bmw):\n",
    "    # call methods without checking class of object\n",
    "    car.fuel_type()\n",
    "    car.max_speed()"
   ]
  },
  {
   "cell_type": "code",
   "execution_count": 11,
   "id": "7f053b38",
   "metadata": {},
   "outputs": [
    {
     "name": "stdout",
     "output_type": "stream",
     "text": [
      "Petrol\n",
      "Max speed 350\n",
      "Diesel\n",
      "Max speed is 240\n"
     ]
    }
   ],
   "source": [
    "class Ferrari:\n",
    "    def fuel_type(self):\n",
    "        print(\"Petrol\")\n",
    "\n",
    "    def max_speed(self):\n",
    "        print(\"Max speed 350\")\n",
    "\n",
    "class BMW:\n",
    "    def fuel_type(self):\n",
    "        print(\"Diesel\")\n",
    "\n",
    "    def max_speed(self):\n",
    "        print(\"Max speed is 240\")\n",
    "\n",
    "# normal function\n",
    "def car_details(obj):\n",
    "    obj.fuel_type()\n",
    "    obj.max_speed()\n",
    "\n",
    "ferrari = Ferrari()\n",
    "bmw = BMW()\n",
    "\n",
    "car_details(ferrari)\n",
    "car_details(bmw)"
   ]
  },
  {
   "cell_type": "code",
   "execution_count": 12,
   "id": "870e5adf",
   "metadata": {},
   "outputs": [
    {
     "name": "stdout",
     "output_type": "stream",
     "text": [
      "Reverse string\n",
      "e v i t a n Y P \n",
      "Reverse list\n",
      "Kelly Jessa Emma "
     ]
    }
   ],
   "source": [
    "students = ['Emma', 'Jessa', 'Kelly']\n",
    "school = 'ABC School'\n",
    "\n",
    "print('Reverse string')\n",
    "for i in reversed('PYnative'):\n",
    "    print(i, end=' ')\n",
    "\n",
    "print('\\nReverse list')\n",
    "for i in reversed(['Emma', 'Jessa', 'Kelly']):\n",
    "    print(i, end=' ')"
   ]
  },
  {
   "cell_type": "code",
   "execution_count": 13,
   "id": "9381f481",
   "metadata": {},
   "outputs": [
    {
     "name": "stdout",
     "output_type": "stream",
     "text": [
      "15\n"
     ]
    }
   ],
   "source": [
    "def addition(a, b):\n",
    "    c = a + b\n",
    "    print(c)\n",
    "\n",
    "\n",
    "def addition(a, b, c):\n",
    "    d = a + b + c\n",
    "    print(d)\n",
    "\n",
    "\n",
    "# the below line shows an error\n",
    "# addition(4, 5)\n",
    "\n",
    "# This line will call the second product method\n",
    "addition(3, 7, 5)"
   ]
  },
  {
   "cell_type": "code",
   "execution_count": 14,
   "id": "8031370e",
   "metadata": {},
   "outputs": [
    {
     "name": "stdout",
     "output_type": "stream",
     "text": [
      "0, 1, 2, 3, 4, \n",
      "5, 6, 7, 8, 9, \n",
      "2, 4, 6, 8, 10, "
     ]
    }
   ],
   "source": [
    "for i in range(5): print(i, end=', ')\n",
    "print()\n",
    "for i in range(5, 10): print(i, end=', ')\n",
    "print()\n",
    "for i in range(2, 12, 2): print(i, end=', ')"
   ]
  },
  {
   "cell_type": "code",
   "execution_count": 15,
   "id": "35e4beb5",
   "metadata": {},
   "outputs": [
    {
     "name": "stdout",
     "output_type": "stream",
     "text": [
      "Area of Square is: 25\n",
      "Area of Rectangle is: 15\n"
     ]
    }
   ],
   "source": [
    "class Shape:\n",
    "    # function with two default parameters\n",
    "    def area(self, a, b=0):\n",
    "        if b > 0:\n",
    "            print('Area of Rectangle is:', a * b)\n",
    "        else:\n",
    "            print('Area of Square is:', a ** 2)\n",
    "\n",
    "square = Shape()\n",
    "square.area(5)\n",
    "\n",
    "rectangle = Shape()\n",
    "rectangle.area(5, 3)"
   ]
  },
  {
   "cell_type": "code",
   "execution_count": 16,
   "id": "dfde8d8c",
   "metadata": {},
   "outputs": [
    {
     "name": "stdout",
     "output_type": "stream",
     "text": [
      "300\n",
      "JessRoy\n",
      "[10, 20, 30, 'jessa', 'emma', 'kelly']\n"
     ]
    }
   ],
   "source": [
    "# add 2 numbers\n",
    "print(100 + 200)\n",
    "\n",
    "# concatenate two strings\n",
    "print('Jess' + 'Roy')\n",
    "\n",
    "# merger two list\n",
    "print([10, 20, 30] + ['jessa', 'emma', 'kelly'])"
   ]
  },
  {
   "cell_type": "code",
   "execution_count": 17,
   "id": "0055900e",
   "metadata": {},
   "outputs": [
    {
     "ename": "TypeError",
     "evalue": "unsupported operand type(s) for +: 'Book' and 'Book'",
     "output_type": "error",
     "traceback": [
      "\u001b[1;31m---------------------------------------------------------------------------\u001b[0m",
      "\u001b[1;31mTypeError\u001b[0m                                 Traceback (most recent call last)",
      "Input \u001b[1;32mIn [17]\u001b[0m, in \u001b[0;36m<cell line: 10>\u001b[1;34m()\u001b[0m\n\u001b[0;32m      7\u001b[0m b2 \u001b[38;5;241m=\u001b[39m Book(\u001b[38;5;241m300\u001b[39m)\n\u001b[0;32m      9\u001b[0m \u001b[38;5;66;03m# add two objects\u001b[39;00m\n\u001b[1;32m---> 10\u001b[0m \u001b[38;5;28mprint\u001b[39m(\u001b[43mb1\u001b[49m\u001b[43m \u001b[49m\u001b[38;5;241;43m+\u001b[39;49m\u001b[43m \u001b[49m\u001b[43mb2\u001b[49m)\n",
      "\u001b[1;31mTypeError\u001b[0m: unsupported operand type(s) for +: 'Book' and 'Book'"
     ]
    }
   ],
   "source": [
    "class Book:\n",
    "    def __init__(self, pages):\n",
    "        self.pages = pages\n",
    "\n",
    "# creating two objects\n",
    "b1 = Book(400)\n",
    "b2 = Book(300)\n",
    "\n",
    "# add two objects\n",
    "print(b1 + b2)"
   ]
  },
  {
   "cell_type": "code",
   "execution_count": 18,
   "id": "67e8fb15",
   "metadata": {},
   "outputs": [
    {
     "name": "stdout",
     "output_type": "stream",
     "text": [
      "Total number of pages:  700\n"
     ]
    }
   ],
   "source": [
    "class Book:\n",
    "    def __init__(self, pages):\n",
    "        self.pages = pages\n",
    "\n",
    "    # Overloading + operator with magic method\n",
    "    def __add__(self, other):\n",
    "        return self.pages + other.pages\n",
    "\n",
    "b1 = Book(400)\n",
    "b2 = Book(300)\n",
    "print(\"Total number of pages: \", b1 + b2)"
   ]
  },
  {
   "cell_type": "code",
   "execution_count": 19,
   "id": "3d3f5372",
   "metadata": {},
   "outputs": [
    {
     "name": "stdout",
     "output_type": "stream",
     "text": [
      "Worked for 50 days\n",
      "salary is:  40000\n"
     ]
    }
   ],
   "source": [
    "\"\"\" The * operator is used to perform the multiplication. \n",
    "Let’s see how to overload it to calculate the salary of an \n",
    "employee for a specific period. \n",
    "Internally * operator is implemented by using the __mul__() method.\n",
    "\"\"\"\n",
    "class Employee:\n",
    "    def __init__(self, name, salary):\n",
    "        self.name = name\n",
    "        self.salary = salary\n",
    "\n",
    "    def __mul__(self, timesheet):\n",
    "        print('Worked for', timesheet.days, 'days')\n",
    "        # calculate salary\n",
    "        return self.salary * timesheet.days\n",
    "\n",
    "\n",
    "class TimeSheet:\n",
    "    def __init__(self, name, days):\n",
    "        self.name = name\n",
    "        self.days = days\n",
    "\n",
    "\n",
    "emp = Employee(\"Jessa\", 800)\n",
    "timesheet = TimeSheet(\"Jessa\", 50)\n",
    "print(\"salary is: \", emp * timesheet)"
   ]
  },
  {
   "cell_type": "code",
   "execution_count": 20,
   "id": "7a25e466",
   "metadata": {},
   "outputs": [
    {
     "name": "stdout",
     "output_type": "stream",
     "text": [
      "John Doe\n",
      "Mike Olsen\n"
     ]
    }
   ],
   "source": [
    "class Person:\n",
    "  def __init__(self, fname, lname):\n",
    "    self.firstname = fname\n",
    "    self.lastname = lname\n",
    "\n",
    "  def printname(self):\n",
    "    print(self.firstname, self.lastname)\n",
    "\n",
    "#Use the Person class to create an object, and then execute \n",
    "#the printname method:\n",
    "\n",
    "x = Person(\"John\", \"Doe\")\n",
    "x.printname()\n",
    "\n",
    "\n",
    "\n",
    "class Student(Person):\n",
    "  pass\n",
    "\n",
    "\n",
    "x = Student(\"Mike\", \"Olsen\")\n",
    "x.printname()\n"
   ]
  },
  {
   "cell_type": "code",
   "execution_count": 21,
   "id": "1404e8a5",
   "metadata": {},
   "outputs": [],
   "source": [
    "class Student(Person):\n",
    "  def __init__(self, fname, lname, year):\n",
    "    super().__init__(fname, lname)\n",
    "    self.graduationyear = year\n",
    "\n",
    "  def welcome(self):\n",
    "    print(\"Welcome\", self.firstname, self.lastname, \"to the class of\", self.graduationyear)"
   ]
  },
  {
   "cell_type": "code",
   "execution_count": null,
   "id": "5f255243",
   "metadata": {},
   "outputs": [],
   "source": []
  }
 ],
 "metadata": {
  "kernelspec": {
   "display_name": "Python 3 (ipykernel)",
   "language": "python",
   "name": "python3"
  },
  "language_info": {
   "codemirror_mode": {
    "name": "ipython",
    "version": 3
   },
   "file_extension": ".py",
   "mimetype": "text/x-python",
   "name": "python",
   "nbconvert_exporter": "python",
   "pygments_lexer": "ipython3",
   "version": "3.9.12"
  }
 },
 "nbformat": 4,
 "nbformat_minor": 5
}
