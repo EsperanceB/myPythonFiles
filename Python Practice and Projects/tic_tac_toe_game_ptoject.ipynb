{
 "cells": [
  {
   "cell_type": "code",
   "execution_count": 1,
   "id": "e936d933",
   "metadata": {},
   "outputs": [
    {
     "name": "stdout",
     "output_type": "stream",
     "text": [
      "vehicle wheels: 4\n",
      "vehicle power: 400\n"
     ]
    }
   ],
   "source": [
    "class Vehicle:\n",
    "    def __init__(self, wheels):\n",
    "        self.wheels = wheels\n",
    "        \n",
    "        # creating an object of the Engine class\n",
    "        self.engine = Engine(400)\n",
    "    \n",
    "    def run_method(self):\n",
    "        print(f'vehicle wheels: {self.wheels}')\n",
    " \n",
    "        # self.engine is an object of Engine\n",
    "        # self.engine.power is an attribute of Engine\n",
    "        print(f'vehicle power: {self.engine.power}')\n",
    " \n",
    "class Engine:\n",
    "    def __init__(self, power):\n",
    "        self.power = power\n",
    "        \n",
    "v1 = Vehicle(4)\n",
    "v1.run_method()"
   ]
  },
  {
   "cell_type": "code",
   "execution_count": 2,
   "id": "34ca880a",
   "metadata": {},
   "outputs": [
    {
     "name": "stdout",
     "output_type": "stream",
     "text": [
      "\n",
      "\n",
      "   |   |  \n",
      "-----------\n",
      "   |   |  \n",
      "-----------\n",
      "   |   |  \n"
     ]
    }
   ],
   "source": [
    "class Board:\n",
    "    def __init__(self):\n",
    "        self.board = [' ', ' ', ' ', \n",
    "                      ' ', ' ', ' ', \n",
    "                      ' ', ' ', ' ']\n",
    " \n",
    "    # method to print the board\n",
    "    def print_board(self):\n",
    "        print('\\n')\n",
    "        print(' ' + self.board[0] + ' | ' + self.board[1] + ' | ' + self.board[2])\n",
    "        print('-----------')\n",
    "        print(' ' + self.board[3] + ' | ' + self.board[4] + ' | ' + self.board[5])\n",
    "        print('-----------')\n",
    "        print(' ' + self.board[6] + ' | ' + self.board[7] + ' | ' + self.board[8])\n",
    " \n",
    " \n",
    "# create an object of Board for testing\n",
    "board = Board()\n",
    "board.print_board()"
   ]
  },
  {
   "cell_type": "code",
   "execution_count": 4,
   "id": "799c2712",
   "metadata": {},
   "outputs": [
    {
     "name": "stdout",
     "output_type": "stream",
     "text": [
      "Player selecting X, enter your name: esp\n",
      "Player selecting O, enter your name: tim\n"
     ]
    }
   ],
   "source": [
    "class Board:\n",
    "    def __init__(self):\n",
    "        self.board = [' ', ' ', ' ', \n",
    "                      ' ', ' ', ' ', \n",
    "                      ' ', ' ', ' ']\n",
    "    \n",
    "    def print_board(self):\n",
    "        print('\\n')\n",
    "        print(' ' + self.board[0] + ' | ' + self.board[1] + ' | ' + self.board[2])\n",
    "        print('-----------')\n",
    "        print(' ' + self.board[3] + ' | ' + self.board[4] + ' | ' + self.board[5])\n",
    "        print('-----------')\n",
    "        print(' ' + self.board[6] + ' | ' + self.board[7] + ' | ' + self.board[8])\n",
    "        \n",
    "    def check_winner(self, type):\n",
    "        if (self.board[0] == type and self.board[1] == type and self.board[2] == type) or \\\n",
    "           (self.board[3] == type and self.board[4] == type and self.board[5] == type) or \\\n",
    "           (self.board[6] == type and self.board[7] == type and self.board[8] == type) or \\\n",
    "           (self.board[0] == type and self.board[3] == type and self.board[6] == type) or \\\n",
    "           (self.board[1] == type and self.board[4] == type and self.board[7] == type) or \\\n",
    "           (self.board[2] == type and self.board[5] == type and self.board[8] == type) or \\\n",
    "           (self.board[0] == type and self.board[4] == type and self.board[8] == type) or \\\n",
    "           (self.board[2] == type and self.board[4] == type and self.board[6] == type):\n",
    "            return True\n",
    "        else:\n",
    "            return False\n",
    " \n",
    "    # If all fields are selected and there is no winner, it's draw\n",
    "    # Returning True if it's draw\n",
    "    def check_draw(self):\n",
    "        if ' ' not in self.board:\n",
    "            return True\n",
    "        else:\n",
    "            return False\n",
    " \n",
    "class Player:\n",
    "    def __init__(self, type):\n",
    "        self.type = type\n",
    "        self.name = self.get_name()\n",
    "    \n",
    "    # method to take players name input\n",
    "    def get_name(self):\n",
    "        if self.type == 'X':\n",
    "            name = input('Player selecting X, enter your name: ')\n",
    "        else:\n",
    "            name = input('Player selecting O, enter your name: ')\n",
    "        return name\n",
    " \n",
    "class Game:\n",
    "    def __init__(self):\n",
    "        self.board = Board()\n",
    " \n",
    "        self.player1 = Player('X')\n",
    "        self.player2 = Player('O')\n",
    " \n",
    "        self.current_player = self.player1\n",
    " \n",
    "    # this method will be later used to play the game\n",
    "    def play(self):\n",
    " \n",
    "        # using an infinite loop to run the game\n",
    "        # we will later add conditions to terminate the loop\n",
    "         while True:\n",
    "            try:\n",
    " \n",
    "                message = f'{self.current_player.name}, enter the position (1 - 9): '\n",
    "                position = int(input(message))\n",
    " \n",
    "                # the update_board() method return True if\n",
    "                # the user selected position is not already filled\n",
    "                if self.board.update_board(position, self.current_player.type):\n",
    "                    self.board.print_board()\n",
    " \n",
    "                    # checking winner each time after updating the board\n",
    "                    if self.board.check_winner(self.current_player.type):\n",
    "                        print(self.current_player.name, 'wins!')\n",
    "                        break\n",
    " \n",
    "                    # checking draw each time after updating the board\n",
    "                    elif self.board.check_draw():\n",
    "                        print('Game is a draw!')\n",
    "                        break\n",
    " \n",
    "                    # changing current player when board is updated\n",
    "                    else:\n",
    "                        if self.current_player == self.player1:\n",
    "                            self.current_player = self.player2\n",
    "                        else:\n",
    "                            self.current_player = self.player1\n",
    "            except:\n",
    "                    print('Invalid input! Enter a number between 1 and 9.')\n",
    "        \n",
    "        \n",
    "game = Game()\n",
    "game.play()"
   ]
  },
  {
   "cell_type": "code",
   "execution_count": null,
   "id": "f18f913c",
   "metadata": {},
   "outputs": [],
   "source": []
  }
 ],
 "metadata": {
  "kernelspec": {
   "display_name": "Python 3 (ipykernel)",
   "language": "python",
   "name": "python3"
  },
  "language_info": {
   "codemirror_mode": {
    "name": "ipython",
    "version": 3
   },
   "file_extension": ".py",
   "mimetype": "text/x-python",
   "name": "python",
   "nbconvert_exporter": "python",
   "pygments_lexer": "ipython3",
   "version": "3.10.9"
  }
 },
 "nbformat": 4,
 "nbformat_minor": 5
}
