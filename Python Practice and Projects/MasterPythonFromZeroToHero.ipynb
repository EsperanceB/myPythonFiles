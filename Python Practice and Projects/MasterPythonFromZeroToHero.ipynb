{
 "cells": [
  {
   "cell_type": "code",
   "execution_count": 1,
   "id": "a96d9eea",
   "metadata": {},
   "outputs": [
    {
     "name": "stdout",
     "output_type": "stream",
     "text": [
      "Help on method raw_input in module ipykernel.kernelbase:\n",
      "\n",
      "raw_input(prompt='') method of ipykernel.ipkernel.IPythonKernel instance\n",
      "    Forward raw_input to frontends\n",
      "    \n",
      "    Raises\n",
      "    ------\n",
      "    StdinNotImplementedError if active frontend doesn't support stdin.\n",
      "\n"
     ]
    }
   ],
   "source": [
    "help(input)"
   ]
  },
  {
   "cell_type": "code",
   "execution_count": 3,
   "id": "d76efc51",
   "metadata": {},
   "outputs": [
    {
     "name": "stdout",
     "output_type": "stream",
     "text": [
      "Enter a number :56\n"
     ]
    }
   ],
   "source": [
    "x = input('Enter a number :')"
   ]
  },
  {
   "cell_type": "code",
   "execution_count": 4,
   "id": "1977c41b",
   "metadata": {},
   "outputs": [
    {
     "data": {
      "text/plain": [
       "str"
      ]
     },
     "execution_count": 4,
     "metadata": {},
     "output_type": "execute_result"
    }
   ],
   "source": [
    "type(x)"
   ]
  },
  {
   "cell_type": "markdown",
   "id": "3f9c203b",
   "metadata": {},
   "source": [
    "# Control Flow (If condition, If-Else, If-Elif-Else, short hand if, Nestes If, Indentation!, Loops)"
   ]
  },
  {
   "cell_type": "code",
   "execution_count": 1,
   "id": "32a85a81",
   "metadata": {},
   "outputs": [
    {
     "name": "stdout",
     "output_type": "stream",
     "text": [
      "12\n",
      "11\n",
      "12\n",
      "I am still inside if condition\n",
      "I am outside the if condition\n"
     ]
    }
   ],
   "source": [
    "# If condition\n",
    "\n",
    "a = int(input())\n",
    "b = int(input())\n",
    "if a>b:\n",
    "    print(a)\n",
    "    print(\"I am still inside if condition\")\n",
    "print(\"I am outside the if condition\")"
   ]
  },
  {
   "cell_type": "code",
   "execution_count": 2,
   "id": "762a89b9",
   "metadata": {},
   "outputs": [
    {
     "name": "stdout",
     "output_type": "stream",
     "text": [
      "21\n",
      "23\n",
      "23\n"
     ]
    }
   ],
   "source": [
    "a = int(input())\n",
    "b = int(input())\n",
    "if a>b:\n",
    "    print(a)\n",
    "if b>a:\n",
    "    print(b)"
   ]
  },
  {
   "cell_type": "code",
   "execution_count": 3,
   "id": "9c536655",
   "metadata": {},
   "outputs": [
    {
     "name": "stdout",
     "output_type": "stream",
     "text": [
      "23\n",
      "12\n",
      "23\n",
      "if part\n"
     ]
    }
   ],
   "source": [
    "# if-else\n",
    "\n",
    "a = int(input())\n",
    "b = int(input())\n",
    "if a>b:\n",
    "    print(a)\n",
    "    print(\"if part\")\n",
    "else:\n",
    "    print(b)\n",
    "    print(\"else part\")"
   ]
  },
  {
   "cell_type": "code",
   "execution_count": 4,
   "id": "64b1f51e",
   "metadata": {},
   "outputs": [
    {
     "name": "stdout",
     "output_type": "stream",
     "text": [
      "21\n",
      "23\n",
      "B\n",
      "Not in if\n"
     ]
    }
   ],
   "source": [
    "a = int(input())\n",
    "b = int(input())\n",
    "if a==b:\n",
    "    print(\"Equal\")\n",
    "elif a>b:\n",
    "    print(\"A\")\n",
    "else:\n",
    "    print(\"B\")\n",
    "print(\"Not in if\")"
   ]
  },
  {
   "cell_type": "code",
   "execution_count": 6,
   "id": "23a2d696",
   "metadata": {},
   "outputs": [
    {
     "name": "stdout",
     "output_type": "stream",
     "text": [
      "Enter Marks :90\n",
      "A Grade\n"
     ]
    }
   ],
   "source": [
    "# Elif\n",
    "\n",
    "a = int(input('Enter Marks :'))\n",
    "if a >= 85:\n",
    "    print(\"A Grade\")\n",
    "elif (a < 85) and (a >= 80):\n",
    "    print(\"A- Grade\")\n",
    "elif (a < 80) and (a >= 75):\n",
    "    print(\"B Grade\")\n",
    "elif a< 75 and a >= 70:\n",
    "    print(\"B- Grade\")\n",
    "else:\n",
    "    print(\"below Average\")"
   ]
  },
  {
   "cell_type": "markdown",
   "id": "d611f078",
   "metadata": {},
   "source": [
    "a = int(input())\n",
    "if a>10:\n",
    "    print(\">10\")\n",
    "elif not(a>10):\n",
    "    print(\"Else part\")"
   ]
  },
  {
   "cell_type": "code",
   "execution_count": 7,
   "id": "e0ebc3bb",
   "metadata": {},
   "outputs": [
    {
     "name": "stdout",
     "output_type": "stream",
     "text": [
      "34\n",
      ">10\n",
      "Inside the top if\n",
      ">20\n",
      "Inside the nested if\n",
      ">30\n",
      "Inside the if of nested if\n",
      "Outside all ifs\n"
     ]
    }
   ],
   "source": [
    "# Nested if\n",
    "\n",
    "a = int(input())\n",
    "if a>10:\n",
    "    print(\">10\")\n",
    "    print(\"Inside the top if\")\n",
    "    if a>20:\n",
    "        print(\">20\")\n",
    "        print(\"Inside the nested if\")\n",
    "        if a>30:\n",
    "            print(\">30\")\n",
    "            print(\"Inside the if of nested if\")\n",
    "        else:\n",
    "            print(\"<=30\")\n",
    "            print(\"Inside the else part of nested if of nested if\")\n",
    "    else:\n",
    "        print(\"<=20\")\n",
    "        print(\"Inside the else part of nested if\")\n",
    "print(\"Outside all ifs\")"
   ]
  },
  {
   "cell_type": "markdown",
   "id": "5695a6c1",
   "metadata": {},
   "source": [
    "Identation are very important in python!!!"
   ]
  },
  {
   "cell_type": "code",
   "execution_count": 9,
   "id": "373384da",
   "metadata": {},
   "outputs": [
    {
     "name": "stdout",
     "output_type": "stream",
     "text": [
      "Enter a real number :14\n",
      "14\n",
      "Even\n"
     ]
    }
   ],
   "source": [
    "\"\"\" User will enter a floating point number let say 238.915. Your task is to find out the integer portion before the point\n",
    "(in this case 238) and  the check if that integer portion is an even number or not\"\"\"\n",
    "\n",
    "x = float(input('Enter a real number :'))\n",
    "y = round(x)\n",
    "if x>0:\n",
    "    if y>x:\n",
    "        intPortion = y-1     \n",
    "    else:\n",
    "        intPortion = y\n",
    "    print(intPortion)\n",
    "else:\n",
    "    if y<x:\n",
    "        intPortion = y+1\n",
    "    else:\n",
    "        intPortion = y\n",
    "\n",
    "if intPortion%2 == 0:\n",
    "    print(\"Even\")\n",
    "else:\n",
    "    print(\"odd\")\n",
    "    "
   ]
  },
  {
   "cell_type": "code",
   "execution_count": 10,
   "id": "9a7e312e",
   "metadata": {},
   "outputs": [
    {
     "name": "stdout",
     "output_type": "stream",
     "text": [
      "12\n",
      "1\n",
      "This is iteration numbber : 1\n",
      "4\n",
      "This is iteration numbber : 2\n",
      "9\n",
      "This is iteration numbber : 3\n",
      "16\n",
      "This is iteration numbber : 4\n",
      "25\n",
      "This is iteration numbber : 5\n",
      "36\n",
      "This is iteration numbber : 6\n",
      "49\n",
      "This is iteration numbber : 7\n",
      "64\n",
      "This is iteration numbber : 8\n",
      "81\n",
      "This is iteration numbber : 9\n",
      "100\n",
      "This is iteration numbber : 10\n",
      "121\n",
      "This is iteration numbber : 11\n",
      "Loop done\n"
     ]
    }
   ],
   "source": [
    "# Loops : used for repetitive tasks\n",
    "\n",
    "n = int(input())\n",
    "i = 1\n",
    "while i < n:\n",
    "    print(i**2)\n",
    "    print(\"This is iteration numbber :\", i)\n",
    "    i+=1   #i = i+1\n",
    "print(\"Loop done\")\n",
    "\n",
    "\n"
   ]
  },
  {
   "cell_type": "code",
   "execution_count": 11,
   "id": "b3a2596e",
   "metadata": {},
   "outputs": [
    {
     "name": "stdout",
     "output_type": "stream",
     "text": [
      "inside if\n",
      "inside if\n",
      "inside if\n",
      "inside if\n",
      "inside if\n",
      "inside if\n",
      "inside if\n",
      "inside if\n",
      "Something\n",
      "somethingelse\n",
      "Done\n"
     ]
    }
   ],
   "source": [
    "# Loops : break(exit the loop regardless what coming after, continue: execute the loop regardless what coming after\n",
    "\n",
    "n = 10\n",
    "i = 1\n",
    "while True:\n",
    "    if i%9 != 0 :\n",
    "        print(\"inside if\")\n",
    "        i+=1\n",
    "        continue\n",
    "    print(\"Something\")\n",
    "    print(\"somethingelse\")\n",
    "    break\n",
    "print(\"Done\")\n",
    "\n",
    "\n",
    "\n"
   ]
  },
  {
   "cell_type": "code",
   "execution_count": 12,
   "id": "382f515e",
   "metadata": {},
   "outputs": [
    {
     "name": "stdout",
     "output_type": "stream",
     "text": [
      "0\n",
      "2\n",
      "4\n",
      "6\n",
      "8\n",
      "10\n",
      "[0, 4, 16, 36, 64, 100]\n"
     ]
    }
   ],
   "source": [
    "# For loop\n",
    "\n",
    "L = []    # list\n",
    "for i in range(0,12,2):\n",
    "    print(i)\n",
    "    L.append(i**2)\n",
    "print(L)\n"
   ]
  },
  {
   "cell_type": "code",
   "execution_count": 13,
   "id": "46a9ccdb",
   "metadata": {},
   "outputs": [
    {
     "name": "stdout",
     "output_type": "stream",
     "text": [
      "apple\n",
      "cherry\n",
      "Outside the loop\n"
     ]
    }
   ],
   "source": [
    "# else in for Loops: not adviced using it in a for loop at the begining to evoid confusion whit the other if-else\n",
    "\n",
    "S = {\"apple\", 4.9, \"cherry\"}\n",
    "i = 1\n",
    "for x in S:\n",
    "    print(x)\n",
    "    i+=1\n",
    "    if i == 3:\n",
    "        break\n",
    "    else:\n",
    "        pass\n",
    "else :\n",
    "    print(\"Loop terminate with success\")\n",
    "print(\"Outside the loop\")"
   ]
  },
  {
   "cell_type": "code",
   "execution_count": 14,
   "id": "f62f8b02",
   "metadata": {},
   "outputs": [
    {
     "name": "stdout",
     "output_type": "stream",
     "text": [
      "A 10\n",
      "B -19\n",
      "C abc\n"
     ]
    }
   ],
   "source": [
    "# Exploring a dictionary\n",
    "\n",
    "D = {\"A\":10, \"B\":-19, \"C\":\"abc\"}\n",
    "for x in D:\n",
    "    print(x,D[x])"
   ]
  },
  {
   "cell_type": "code",
   "execution_count": 15,
   "id": "e3c76ebb",
   "metadata": {},
   "outputs": [
    {
     "name": "stdout",
     "output_type": "stream",
     "text": [
      "[-5, 1, 2, 2, 3, 4, 7, 9]\n"
     ]
    }
   ],
   "source": [
    "\"\"\" Given a list of numbers i.e [1,2,4,-5,7,9,3,2], make another list that contains all items in sorted order\n",
    "from min to max. i.e. you result will be another list like [-5,1,2,2,3,3,7,9]\"\"\"\n",
    "\n",
    "L = [1,2,4,-5,7,9,3,2]\n",
    "for j in range(len(L)):\n",
    "    m = L[j]\n",
    "    idx = j\n",
    "    c = j\n",
    "    for i in range(j,len(L)):\n",
    "        if L[i]<m:\n",
    "            m = L[i]\n",
    "            idx = c\n",
    "        c+=1\n",
    "    tmp = L[j]\n",
    "    L[j] = m\n",
    "    L[idx]= tmp\n",
    "print(L)"
   ]
  },
  {
   "cell_type": "markdown",
   "id": "19549085",
   "metadata": {},
   "source": [
    "# Functions"
   ]
  },
  {
   "cell_type": "code",
   "execution_count": 16,
   "id": "54a1e0a5",
   "metadata": {},
   "outputs": [],
   "source": [
    "# Naming a function is similar to naming variable, the name should be descriptive of the task\n",
    "# start a function structure with the module def\n",
    "\n",
    "def printSuccess():\n",
    "    print(\"I am done\")\n",
    "    print(\"Send me another task\")\n",
    "    "
   ]
  },
  {
   "cell_type": "code",
   "execution_count": 17,
   "id": "4ba36890",
   "metadata": {},
   "outputs": [
    {
     "name": "stdout",
     "output_type": "stream",
     "text": [
      "I am done\n",
      "Send me another task\n"
     ]
    }
   ],
   "source": [
    "printSuccess()"
   ]
  },
  {
   "cell_type": "code",
   "execution_count": 18,
   "id": "1c20a5df",
   "metadata": {},
   "outputs": [],
   "source": [
    "# Doc string: discribe what the function is doing. One should always describe the function!!!\n",
    "\n",
    "def printSuccess2():\n",
    "    \"\"\"this function is doing nothing except printing a message.\n",
    "    That message is \"Hello\"\n",
    "    \"\"\"\n",
    "    print(\"Hello\")\n",
    "    "
   ]
  },
  {
   "cell_type": "code",
   "execution_count": 19,
   "id": "9f5f38ea",
   "metadata": {},
   "outputs": [
    {
     "name": "stdout",
     "output_type": "stream",
     "text": [
      "Help on function printSuccess2 in module __main__:\n",
      "\n",
      "printSuccess2()\n",
      "    this function is doing nothing except printing a message.\n",
      "    That message is \"Hello\"\n",
      "\n"
     ]
    }
   ],
   "source": [
    "help(printSuccess2)"
   ]
  },
  {
   "cell_type": "code",
   "execution_count": 20,
   "id": "c285fef2",
   "metadata": {},
   "outputs": [
    {
     "name": "stdout",
     "output_type": "stream",
     "text": [
      "Hello\n"
     ]
    }
   ],
   "source": [
    "printSuccess2()"
   ]
  },
  {
   "cell_type": "code",
   "execution_count": 21,
   "id": "84317a14",
   "metadata": {},
   "outputs": [],
   "source": [
    "# input arguments\n",
    "\n",
    "def printMsg(msg):\n",
    "    \"\"\" The function prints the message supplied by the user or prints that msg is not \n",
    "    in the form of string\"\"\"\n",
    "    \n",
    "    if isinstance(msg,str):\n",
    "        print(msg)\n",
    "    else:\n",
    "        print(\"your input argument is not a string\")\n",
    "        print(\"Here is the type of what you have supplied :\", type(msg))"
   ]
  },
  {
   "cell_type": "code",
   "execution_count": 22,
   "id": "0c509ee6",
   "metadata": {},
   "outputs": [],
   "source": [
    "printMsg?"
   ]
  },
  {
   "cell_type": "code",
   "execution_count": 23,
   "id": "4701d545",
   "metadata": {},
   "outputs": [
    {
     "name": "stdout",
     "output_type": "stream",
     "text": [
      "your input argument is not a string\n",
      "Here is the type of what you have supplied : <class 'int'>\n"
     ]
    }
   ],
   "source": [
    "printMsg(23)"
   ]
  },
  {
   "cell_type": "code",
   "execution_count": 24,
   "id": "d76ba962",
   "metadata": {},
   "outputs": [
    {
     "name": "stdout",
     "output_type": "stream",
     "text": [
      "Hello there\n"
     ]
    }
   ],
   "source": [
    "y=\"Hello there\"\n",
    "printMsg(y)"
   ]
  },
  {
   "cell_type": "code",
   "execution_count": 25,
   "id": "9a600595",
   "metadata": {},
   "outputs": [],
   "source": [
    "# Multiple arguments(argument=variables)\n",
    "\n",
    "def mypow(a,b):\n",
    "    \"\"\" This funtion computes power just like buitin pow function\"\"\"\n",
    "    \n",
    "    c = a**b\n",
    "    print(c)\n",
    "\n"
   ]
  },
  {
   "cell_type": "code",
   "execution_count": 26,
   "id": "322ff1c5",
   "metadata": {},
   "outputs": [],
   "source": [
    "mypow?"
   ]
  },
  {
   "cell_type": "code",
   "execution_count": 27,
   "id": "50ee9fd5",
   "metadata": {},
   "outputs": [
    {
     "name": "stdout",
     "output_type": "stream",
     "text": [
      "81\n"
     ]
    }
   ],
   "source": [
    "mypow(3,4)"
   ]
  },
  {
   "cell_type": "code",
   "execution_count": 28,
   "id": "41637ac1",
   "metadata": {},
   "outputs": [],
   "source": [
    "def checkArgs(a,b,c):\n",
    "    if isinstance(a, (int,float)) and isinstance(b,(int,float)) and isinstance(c,(int,float)):\n",
    "        print((a+b+c)**2)\n",
    "    else:\n",
    "        print(\"Error: the input arguments are not the expected types\")\n",
    "    "
   ]
  },
  {
   "cell_type": "code",
   "execution_count": 29,
   "id": "9e2a9392",
   "metadata": {},
   "outputs": [
    {
     "name": "stdout",
     "output_type": "stream",
     "text": [
      "144\n"
     ]
    }
   ],
   "source": [
    "checkArgs(3,4,5)"
   ]
  },
  {
   "cell_type": "code",
   "execution_count": 30,
   "id": "cfe29b5f",
   "metadata": {},
   "outputs": [
    {
     "name": "stdout",
     "output_type": "stream",
     "text": [
      "Error: the input arguments are not the expected types\n"
     ]
    }
   ],
   "source": [
    "checkArgs(3,4,\"g\")"
   ]
  },
  {
   "cell_type": "code",
   "execution_count": 31,
   "id": "8fa9fb28",
   "metadata": {},
   "outputs": [
    {
     "ename": "TypeError",
     "evalue": "checkArgs() missing 1 required positional argument: 'c'",
     "output_type": "error",
     "traceback": [
      "\u001b[1;31m---------------------------------------------------------------------------\u001b[0m",
      "\u001b[1;31mTypeError\u001b[0m                                 Traceback (most recent call last)",
      "Input \u001b[1;32mIn [31]\u001b[0m, in \u001b[0;36m<cell line: 1>\u001b[1;34m()\u001b[0m\n\u001b[1;32m----> 1\u001b[0m \u001b[43mcheckArgs\u001b[49m\u001b[43m(\u001b[49m\u001b[38;5;241;43m3\u001b[39;49m\u001b[43m,\u001b[49m\u001b[38;5;241;43m4\u001b[39;49m\u001b[43m)\u001b[49m\n",
      "\u001b[1;31mTypeError\u001b[0m: checkArgs() missing 1 required positional argument: 'c'"
     ]
    }
   ],
   "source": [
    "checkArgs(3,4)"
   ]
  },
  {
   "cell_type": "code",
   "execution_count": 32,
   "id": "e062fc6b",
   "metadata": {},
   "outputs": [
    {
     "ename": "TypeError",
     "evalue": "checkArgs() takes 3 positional arguments but 4 were given",
     "output_type": "error",
     "traceback": [
      "\u001b[1;31m---------------------------------------------------------------------------\u001b[0m",
      "\u001b[1;31mTypeError\u001b[0m                                 Traceback (most recent call last)",
      "Input \u001b[1;32mIn [32]\u001b[0m, in \u001b[0;36m<cell line: 1>\u001b[1;34m()\u001b[0m\n\u001b[1;32m----> 1\u001b[0m \u001b[43mcheckArgs\u001b[49m\u001b[43m(\u001b[49m\u001b[38;5;241;43m3\u001b[39;49m\u001b[43m,\u001b[49m\u001b[38;5;241;43m4\u001b[39;49m\u001b[43m,\u001b[49m\u001b[38;5;241;43m2\u001b[39;49m\u001b[43m,\u001b[49m\u001b[38;5;241;43m5\u001b[39;49m\u001b[43m)\u001b[49m\n",
      "\u001b[1;31mTypeError\u001b[0m: checkArgs() takes 3 positional arguments but 4 were given"
     ]
    }
   ],
   "source": [
    "checkArgs(3,4,2,5)"
   ]
  },
  {
   "cell_type": "code",
   "execution_count": 33,
   "id": "eea59734",
   "metadata": {},
   "outputs": [],
   "source": [
    "# Order of input arguments\n",
    "\n",
    "def f(a,b,c):\n",
    "    print(\"A is :\",a)\n",
    "    print(\"B is :\",b)\n",
    "    print(\"C is :\",c)"
   ]
  },
  {
   "cell_type": "code",
   "execution_count": 34,
   "id": "e35ae4ee",
   "metadata": {},
   "outputs": [
    {
     "name": "stdout",
     "output_type": "stream",
     "text": [
      "A is : 2\n",
      "B is : 3\n",
      "C is : game\n"
     ]
    }
   ],
   "source": [
    "f(2,3,\"game\")"
   ]
  },
  {
   "cell_type": "code",
   "execution_count": 35,
   "id": "53f988a9",
   "metadata": {},
   "outputs": [
    {
     "name": "stdout",
     "output_type": "stream",
     "text": [
      "A is : 3\n",
      "B is : game\n",
      "C is : 2\n"
     ]
    }
   ],
   "source": [
    "f(3,\"game\",2)"
   ]
  },
  {
   "cell_type": "code",
   "execution_count": 36,
   "id": "56436fd5",
   "metadata": {},
   "outputs": [
    {
     "name": "stdout",
     "output_type": "stream",
     "text": [
      "A is : 2\n",
      "B is : 3\n",
      "C is : game\n"
     ]
    }
   ],
   "source": [
    "f(a=2, b=3, c=\"game\")"
   ]
  },
  {
   "cell_type": "code",
   "execution_count": 37,
   "id": "61fb8e71",
   "metadata": {},
   "outputs": [
    {
     "name": "stdout",
     "output_type": "stream",
     "text": [
      "A is : 2\n",
      "B is : 3\n",
      "C is : game\n"
     ]
    }
   ],
   "source": [
    "f(b=3, a=2, c=\"game\")"
   ]
  },
  {
   "cell_type": "code",
   "execution_count": 38,
   "id": "714ca8c6",
   "metadata": {},
   "outputs": [],
   "source": [
    "# Variables inside a function and return statement\n",
    "# I need value of c(c is not a variable, after the execution of the function c doesn't exist anymore)\n",
    "\n",
    "def myadd(a,b):\n",
    "    sumValue = a+b\n",
    "    return sumValue\n",
    "   \n",
    "    \n",
    "    \n",
    "    "
   ]
  },
  {
   "cell_type": "code",
   "execution_count": 39,
   "id": "9a4794c7",
   "metadata": {},
   "outputs": [
    {
     "name": "stdout",
     "output_type": "stream",
     "text": [
      "5\n"
     ]
    }
   ],
   "source": [
    "d = myadd(2,3)\n",
    "print(d)"
   ]
  },
  {
   "cell_type": "code",
   "execution_count": 40,
   "id": "cfe6f568",
   "metadata": {},
   "outputs": [],
   "source": [
    "variableOutSideTheFunction = 3"
   ]
  },
  {
   "cell_type": "code",
   "execution_count": 41,
   "id": "d3b62097",
   "metadata": {},
   "outputs": [],
   "source": [
    "def g():\n",
    "    variableOutSideTheFunction = 5\n",
    "    #print(variableOutSideTheFunction)"
   ]
  },
  {
   "cell_type": "code",
   "execution_count": 42,
   "id": "46a58504",
   "metadata": {},
   "outputs": [
    {
     "name": "stdout",
     "output_type": "stream",
     "text": [
      "<class 'NoneType'>\n"
     ]
    }
   ],
   "source": [
    "print(type(g()))"
   ]
  },
  {
   "cell_type": "code",
   "execution_count": 43,
   "id": "79723ca2",
   "metadata": {},
   "outputs": [
    {
     "name": "stdout",
     "output_type": "stream",
     "text": [
      "3\n"
     ]
    }
   ],
   "source": [
    "print(variableOutSideTheFunction)"
   ]
  },
  {
   "cell_type": "code",
   "execution_count": 44,
   "id": "6a453677",
   "metadata": {},
   "outputs": [],
   "source": [
    "def h():\n",
    "    print(\"A\")\n",
    "    a = 3\n",
    "    b = 5\n",
    "    c = a+b\n",
    "    print(\"something\")\n",
    "    return c\n",
    "    print(\"B\")\n",
    "    print(\"C\")"
   ]
  },
  {
   "cell_type": "code",
   "execution_count": 45,
   "id": "4c3fcc87",
   "metadata": {},
   "outputs": [
    {
     "name": "stdout",
     "output_type": "stream",
     "text": [
      "A\n",
      "something\n",
      "<class 'int'>\n"
     ]
    }
   ],
   "source": [
    "print(type(h()))"
   ]
  },
  {
   "cell_type": "code",
   "execution_count": 46,
   "id": "33594e9b",
   "metadata": {},
   "outputs": [],
   "source": [
    " def r():\n",
    "        a = 5\n",
    "        b = 7\n",
    "        d =\"something\"\n",
    "        return a,b,d"
   ]
  },
  {
   "cell_type": "code",
   "execution_count": 47,
   "id": "d9857c62",
   "metadata": {},
   "outputs": [
    {
     "name": "stdout",
     "output_type": "stream",
     "text": [
      "5 7 something\n"
     ]
    }
   ],
   "source": [
    "x, y, z = r()\n",
    "print(x, y, z)"
   ]
  },
  {
   "cell_type": "code",
   "execution_count": 48,
   "id": "61d2717c",
   "metadata": {},
   "outputs": [],
   "source": [
    "# Variable number of input arguments\n",
    "\n",
    "def myAddUniversal(*args):\n",
    "    s = 0\n",
    "    for i in range(len(args)):\n",
    "        s += args[i]\n",
    "    return s\n"
   ]
  },
  {
   "cell_type": "code",
   "execution_count": 49,
   "id": "c6ce77fb",
   "metadata": {},
   "outputs": [
    {
     "name": "stdout",
     "output_type": "stream",
     "text": [
      "93.6\n"
     ]
    }
   ],
   "source": [
    "print(myAddUniversal(2,4,5,4.6,78))"
   ]
  },
  {
   "cell_type": "code",
   "execution_count": 50,
   "id": "961f9a19",
   "metadata": {},
   "outputs": [],
   "source": [
    "def printAllVariableNamesAndValues(**args):\n",
    "    for x in args:\n",
    "        print(\"Variable Name is :\", x, \"And Value is :\", args[x])"
   ]
  },
  {
   "cell_type": "code",
   "execution_count": 51,
   "id": "a937e817",
   "metadata": {},
   "outputs": [
    {
     "name": "stdout",
     "output_type": "stream",
     "text": [
      "Variable Name is : a And Value is : 3\n",
      "Variable Name is : b And Value is : B\n",
      "Variable Name is : c And Value is : ccc\n",
      "Variable Name is : y And Value is : 6.7\n"
     ]
    }
   ],
   "source": [
    "printAllVariableNamesAndValues(a = 3,b = \"B\",c=\"ccc\",y=6.7)"
   ]
  },
  {
   "cell_type": "code",
   "execution_count": 52,
   "id": "3ceb1ec1",
   "metadata": {},
   "outputs": [],
   "source": [
    "# Default values: the value that operate when no value is entered\n",
    " \n",
    "def gg(s = 4):\n",
    "    print(s)"
   ]
  },
  {
   "cell_type": "code",
   "execution_count": 53,
   "id": "92b0d53b",
   "metadata": {},
   "outputs": [
    {
     "name": "stdout",
     "output_type": "stream",
     "text": [
      "4\n"
     ]
    }
   ],
   "source": [
    "gg()"
   ]
  },
  {
   "cell_type": "code",
   "execution_count": 54,
   "id": "26231c39",
   "metadata": {},
   "outputs": [
    {
     "name": "stdout",
     "output_type": "stream",
     "text": [
      "56\n"
     ]
    }
   ],
   "source": [
    "gg(56)"
   ]
  },
  {
   "cell_type": "code",
   "execution_count": 55,
   "id": "a75adfca",
   "metadata": {},
   "outputs": [
    {
     "name": "stdout",
     "output_type": "stream",
     "text": [
      "[-9, 2, 3]\n"
     ]
    }
   ],
   "source": [
    "L = [1,2,3]\n",
    "L2 = L\n",
    "L2[0] = -9\n",
    "print(L)"
   ]
  },
  {
   "cell_type": "code",
   "execution_count": 56,
   "id": "24f8c394",
   "metadata": {},
   "outputs": [],
   "source": [
    "def ff(L=[1,2]):\n",
    "    for i in L:\n",
    "        print(i)"
   ]
  },
  {
   "cell_type": "code",
   "execution_count": 57,
   "id": "44848b19",
   "metadata": {},
   "outputs": [
    {
     "name": "stdout",
     "output_type": "stream",
     "text": [
      "1\n",
      "2\n"
     ]
    }
   ],
   "source": [
    "L2 = [12,3,4]\n",
    "ff()"
   ]
  },
  {
   "cell_type": "code",
   "execution_count": 58,
   "id": "f82e06e1",
   "metadata": {},
   "outputs": [
    {
     "name": "stdout",
     "output_type": "stream",
     "text": [
      "12\n",
      "3\n",
      "4\n"
     ]
    }
   ],
   "source": [
    "ff(L2)"
   ]
  },
  {
   "cell_type": "code",
   "execution_count": 59,
   "id": "e38f8038",
   "metadata": {},
   "outputs": [
    {
     "name": "stdout",
     "output_type": "stream",
     "text": [
      "1\n",
      "2\n"
     ]
    }
   ],
   "source": [
    "ff()"
   ]
  },
  {
   "cell_type": "code",
   "execution_count": 61,
   "id": "5487d376",
   "metadata": {},
   "outputs": [],
   "source": [
    "import sys\n",
    "sys.path.append('OS(C:)/Mymodule/')"
   ]
  },
  {
   "cell_type": "code",
   "execution_count": 69,
   "id": "2c3b63cd",
   "metadata": {},
   "outputs": [],
   "source": [
    "#import my_universal_functions as myfs\n",
    "from my_universal_functions import addAllNumerics"
   ]
  },
  {
   "cell_type": "code",
   "execution_count": 70,
   "id": "f15bc0d5",
   "metadata": {},
   "outputs": [
    {
     "name": "stdout",
     "output_type": "stream",
     "text": [
      "35\n"
     ]
    }
   ],
   "source": [
    "d = addAllNumerics (2,3,4,5,6,7,8)\n",
    "print(d)"
   ]
  },
  {
   "cell_type": "code",
   "execution_count": 66,
   "id": "dd46cb35",
   "metadata": {},
   "outputs": [],
   "source": [
    "c = myfs.addAllNumerics(2,3,4,6)"
   ]
  },
  {
   "cell_type": "code",
   "execution_count": 67,
   "id": "bbb0a4a8",
   "metadata": {},
   "outputs": [
    {
     "name": "stdout",
     "output_type": "stream",
     "text": [
      "15\n"
     ]
    }
   ],
   "source": [
    "print(c)"
   ]
  },
  {
   "cell_type": "code",
   "execution_count": 71,
   "id": "0a8c68f8",
   "metadata": {},
   "outputs": [
    {
     "data": {
      "text/plain": [
       "'Python Course'"
      ]
     },
     "execution_count": 71,
     "metadata": {},
     "output_type": "execute_result"
    }
   ],
   "source": [
    "myfs.myName"
   ]
  },
  {
   "cell_type": "code",
   "execution_count": 72,
   "id": "2c789671",
   "metadata": {},
   "outputs": [
    {
     "data": {
      "text/plain": [
       "' Given a list of numbers i.e [1,2,4,-5,7,9,3,2], make another list that contains all items in sorted order\\nfrom min to max. i.e. you result will be another list like [-5,1,2,2,3,3,7,9]'"
      ]
     },
     "execution_count": 72,
     "metadata": {},
     "output_type": "execute_result"
    }
   ],
   "source": [
    "\"\"\" Given a list of numbers i.e [1,2,4,-5,7,9,3,2], make another list that contains all items in sorted order\n",
    "from min to max. i.e. you result will be another list like [-5,1,2,2,3,3,7,9]\"\"\"\n",
    "\n"
   ]
  },
  {
   "cell_type": "code",
   "execution_count": 81,
   "id": "77fe5cfd",
   "metadata": {},
   "outputs": [],
   "source": [
    "def findMin(L,startIndx):\n",
    "    m = L[startIndx]\n",
    "    idx = startIndx\n",
    "    for i in range(startIndx,len(L)):\n",
    "        x = L[i]\n",
    "        if x<m:\n",
    "            m = x\n",
    "            idx = i\n",
    "        else:\n",
    "            pass\n",
    "       \n",
    "    return m,idx"
   ]
  },
  {
   "cell_type": "code",
   "execution_count": 83,
   "id": "d7b508eb",
   "metadata": {},
   "outputs": [],
   "source": [
    "a,b = findMin([2,3,4,5,0,1,9])"
   ]
  },
  {
   "cell_type": "code",
   "execution_count": 75,
   "id": "daf82183",
   "metadata": {},
   "outputs": [
    {
     "name": "stdout",
     "output_type": "stream",
     "text": [
      "0 4\n"
     ]
    }
   ],
   "source": [
    "print(a,b)"
   ]
  },
  {
   "cell_type": "code",
   "execution_count": 79,
   "id": "2605ae5d",
   "metadata": {},
   "outputs": [],
   "source": [
    "def swapValues(L,idx1,idx2):\n",
    "    tmp = L[idx1]\n",
    "    L[idx1] = L[idx2]\n",
    "    L[idx2] = tmp\n",
    "    return L"
   ]
  },
  {
   "cell_type": "code",
   "execution_count": 80,
   "id": "ec7b62af",
   "metadata": {},
   "outputs": [
    {
     "name": "stdout",
     "output_type": "stream",
     "text": [
      "[2, 7, 6, 3]\n"
     ]
    }
   ],
   "source": [
    "L = [2,3,6,7]\n",
    "L2 = swapValues(L,1,3)\n",
    "print(L2) "
   ]
  },
  {
   "cell_type": "code",
   "execution_count": 104,
   "id": "6f694671",
   "metadata": {},
   "outputs": [],
   "source": [
    "from my_universal_functions import checkIffNotNumeric\n",
    "\n",
    "def sortList(L):\n",
    "    if not(checkIffNotNumeric2(L)):\n",
    "        print(\"Error: List does not contain numeric values\")\n",
    "        return\n",
    "    else:\n",
    "        c = 0\n",
    "        for x in L:\n",
    "            m,idx = findMin(L,c)\n",
    "            L = swapValues(L,c,idx)\n",
    "            c += 1\n",
    "    return L"
   ]
  },
  {
   "cell_type": "code",
   "execution_count": 105,
   "id": "f935e7c1",
   "metadata": {},
   "outputs": [
    {
     "name": "stdout",
     "output_type": "stream",
     "text": [
      "[-8, 0, 1, 2, 3, 5, 17]\n"
     ]
    }
   ],
   "source": [
    "L2 = sortList([2,1,5,3,0,-8,17])\n",
    "print(L2)"
   ]
  },
  {
   "cell_type": "code",
   "execution_count": 90,
   "id": "cf62fa21",
   "metadata": {},
   "outputs": [],
   "source": [
    "checkIffNotNumeric??\n"
   ]
  },
  {
   "cell_type": "code",
   "execution_count": 103,
   "id": "0c876c10",
   "metadata": {},
   "outputs": [
    {
     "name": "stdout",
     "output_type": "stream",
     "text": [
      "True\n"
     ]
    }
   ],
   "source": [
    "print(checkIffNotNumeric2([2,1,5,3,0,17]))"
   ]
  },
  {
   "cell_type": "code",
   "execution_count": 102,
   "id": "d5d24ab7",
   "metadata": {},
   "outputs": [],
   "source": [
    "def checkIffNotNumeric2(L):\n",
    "    for x in L:\n",
    "        if not(isinstance(x,(int,float))):\n",
    "            return False\n",
    "    return True"
   ]
  },
  {
   "cell_type": "markdown",
   "id": "81a3a47a",
   "metadata": {},
   "source": [
    "# String"
   ]
  },
  {
   "cell_type": "code",
   "execution_count": 106,
   "id": "65ebcce1",
   "metadata": {},
   "outputs": [],
   "source": [
    "s = \"Python is the best programming language for data science\"\n",
    "t = 'in this course we are going to learn python'"
   ]
  },
  {
   "cell_type": "code",
   "execution_count": 107,
   "id": "194f99b6",
   "metadata": {},
   "outputs": [
    {
     "data": {
      "text/plain": [
       "str"
      ]
     },
     "execution_count": 107,
     "metadata": {},
     "output_type": "execute_result"
    }
   ],
   "source": [
    "type(s)"
   ]
  },
  {
   "cell_type": "code",
   "execution_count": 108,
   "id": "4a524577",
   "metadata": {},
   "outputs": [
    {
     "name": "stdout",
     "output_type": "stream",
     "text": [
      "Python is the best programming language for data science\n"
     ]
    }
   ],
   "source": [
    "print(s)"
   ]
  },
  {
   "cell_type": "code",
   "execution_count": 109,
   "id": "2e74702c",
   "metadata": {},
   "outputs": [
    {
     "name": "stdout",
     "output_type": "stream",
     "text": [
      "hello 12 hello2 who are you 5.9\n"
     ]
    }
   ],
   "source": [
    "print(\"hello\",12,\"hello2\", 'who are you',5.9)"
   ]
  },
  {
   "cell_type": "code",
   "execution_count": 113,
   "id": "e86817fd",
   "metadata": {},
   "outputs": [
    {
     "name": "stdout",
     "output_type": "stream",
     "text": [
      "Python is the best programming language for data science, in this course we are going to learn python\n"
     ]
    }
   ],
   "source": [
    "v = s +\", \" + t\n",
    "print(v)"
   ]
  },
  {
   "cell_type": "code",
   "execution_count": 116,
   "id": "893b2cec",
   "metadata": {},
   "outputs": [
    {
     "name": "stdout",
     "output_type": "stream",
     "text": [
      "The price of this book is: 12\n",
      "The price of this book is: 12\n"
     ]
    }
   ],
   "source": [
    "price = 12\n",
    "s = \"The price of this book\"\n",
    "v = s + ' is: ' + str(price)\n",
    "print(v)\n",
    "print(s,\"is:\",price)"
   ]
  },
  {
   "cell_type": "code",
   "execution_count": 118,
   "id": "89352d67",
   "metadata": {},
   "outputs": [
    {
     "name": "stdout",
     "output_type": "stream",
     "text": [
      "This is line 1\n",
      "this is line 2\n",
      "this is last line and this line is 3\n"
     ]
    }
   ],
   "source": [
    "# Multi line String\n",
    "multiLine = \"\"\"This is line 1\n",
    "this is line 2\n",
    "this is last line and this line is 3\"\"\"\n",
    "print(multiLine)\n"
   ]
  },
  {
   "cell_type": "code",
   "execution_count": 119,
   "id": "895bfcba",
   "metadata": {},
   "outputs": [
    {
     "name": "stdout",
     "output_type": "stream",
     "text": [
      "The following are available:\n",
      "        - a  : does nothing\n",
      "        - b  : also does nothing\n",
      "        \n"
     ]
    }
   ],
   "source": [
    "print(\"\"\"The following are available:\n",
    "        - a  : does nothing\n",
    "        - b  : also does nothing\n",
    "        \"\"\")"
   ]
  },
  {
   "cell_type": "code",
   "execution_count": 120,
   "id": "0c96f2ff",
   "metadata": {},
   "outputs": [
    {
     "name": "stdout",
     "output_type": "stream",
     "text": [
      "e of pr\n"
     ]
    }
   ],
   "source": [
    "# index different caracters in a string: indexing and slicing\n",
    "\n",
    "a = \"game of programming\"\n",
    "print(a[3:10])\n",
    "\n"
   ]
  },
  {
   "cell_type": "code",
   "execution_count": 121,
   "id": "123ca9be",
   "metadata": {},
   "outputs": [
    {
     "name": "stdout",
     "output_type": "stream",
     "text": [
      "r\n"
     ]
    }
   ],
   "source": [
    "s = \"how are you and who are you\"\n",
    "print(s[5])"
   ]
  },
  {
   "cell_type": "code",
   "execution_count": 122,
   "id": "ee96e2e2",
   "metadata": {},
   "outputs": [
    {
     "data": {
      "text/plain": [
       "str"
      ]
     },
     "execution_count": 122,
     "metadata": {},
     "output_type": "execute_result"
    }
   ],
   "source": [
    "type(s[5])"
   ]
  },
  {
   "cell_type": "code",
   "execution_count": 126,
   "id": "9bf74259",
   "metadata": {},
   "outputs": [
    {
     "data": {
      "text/plain": [
       "'how are you'"
      ]
     },
     "execution_count": 126,
     "metadata": {},
     "output_type": "execute_result"
    }
   ],
   "source": [
    "s[0:11]"
   ]
  },
  {
   "cell_type": "code",
   "execution_count": 127,
   "id": "c605dcb4",
   "metadata": {},
   "outputs": [
    {
     "data": {
      "text/plain": [
       "'o'"
      ]
     },
     "execution_count": 127,
     "metadata": {},
     "output_type": "execute_result"
    }
   ],
   "source": [
    "s[-2]"
   ]
  },
  {
   "cell_type": "code",
   "execution_count": 128,
   "id": "3dc0f3c3",
   "metadata": {},
   "outputs": [
    {
     "data": {
      "text/plain": [
       "'y'"
      ]
     },
     "execution_count": 128,
     "metadata": {},
     "output_type": "execute_result"
    }
   ],
   "source": [
    "s[-3]"
   ]
  },
  {
   "cell_type": "code",
   "execution_count": 133,
   "id": "1423721f",
   "metadata": {},
   "outputs": [
    {
     "data": {
      "text/plain": [
       "''"
      ]
     },
     "execution_count": 133,
     "metadata": {},
     "output_type": "execute_result"
    }
   ],
   "source": [
    "s[-11:1]"
   ]
  },
  {
   "cell_type": "code",
   "execution_count": 134,
   "id": "761bb832",
   "metadata": {},
   "outputs": [],
   "source": [
    "# string is immutable, once created you can't make any change(suppress, add, exchange etc)\n"
   ]
  },
  {
   "cell_type": "code",
   "execution_count": 135,
   "id": "932cfca6",
   "metadata": {},
   "outputs": [
    {
     "data": {
      "text/plain": [
       "'hwaeyu'"
      ]
     },
     "execution_count": 135,
     "metadata": {},
     "output_type": "execute_result"
    }
   ],
   "source": [
    "s[0:12:2]"
   ]
  },
  {
   "cell_type": "code",
   "execution_count": 136,
   "id": "835d7ee0",
   "metadata": {},
   "outputs": [
    {
     "data": {
      "text/plain": [
       "'how are you '"
      ]
     },
     "execution_count": 136,
     "metadata": {},
     "output_type": "execute_result"
    }
   ],
   "source": [
    "#s[start:en:step]\n",
    "s[:12]\n"
   ]
  },
  {
   "cell_type": "code",
   "execution_count": 137,
   "id": "ebf7974d",
   "metadata": {},
   "outputs": [
    {
     "data": {
      "text/plain": [
       "' are you and who are you'"
      ]
     },
     "execution_count": 137,
     "metadata": {},
     "output_type": "execute_result"
    }
   ],
   "source": [
    "s[3:]"
   ]
  },
  {
   "cell_type": "code",
   "execution_count": 138,
   "id": "513b76b0",
   "metadata": {},
   "outputs": [
    {
     "data": {
      "text/plain": [
       "'ow are you '"
      ]
     },
     "execution_count": 138,
     "metadata": {},
     "output_type": "execute_result"
    }
   ],
   "source": [
    "s[1:12]"
   ]
  },
  {
   "cell_type": "code",
   "execution_count": 140,
   "id": "953aefad",
   "metadata": {},
   "outputs": [
    {
     "name": "stdout",
     "output_type": "stream",
     "text": [
      "27\n",
      "5\n"
     ]
    }
   ],
   "source": [
    "print(len(s))\n",
    "print(len(a[3:8]))"
   ]
  },
  {
   "cell_type": "code",
   "execution_count": 141,
   "id": "246de00f",
   "metadata": {},
   "outputs": [
    {
     "data": {
      "text/plain": [
       "'uoy era ohw dna uoy era woh'"
      ]
     },
     "execution_count": 141,
     "metadata": {},
     "output_type": "execute_result"
    }
   ],
   "source": [
    "s[::-1]"
   ]
  },
  {
   "cell_type": "code",
   "execution_count": 142,
   "id": "ffeb5b35",
   "metadata": {},
   "outputs": [
    {
     "name": "stdout",
     "output_type": "stream",
     "text": [
      "abc  def     hgq asdfaf\n"
     ]
    }
   ],
   "source": [
    "a = \"      abc  def     hgq asdfaf          \"\n",
    "b = a.strip()\n",
    "print(b)"
   ]
  },
  {
   "cell_type": "code",
   "execution_count": 143,
   "id": "ce30b212",
   "metadata": {},
   "outputs": [
    {
     "name": "stdout",
     "output_type": "stream",
     "text": [
      " abc  defg ;; sadfa qf\n"
     ]
    }
   ],
   "source": [
    "a = \" ABC  deFg ;; Sadfa QF\"\n",
    "b = a.lower()\n",
    "print(b)"
   ]
  },
  {
   "cell_type": "code",
   "execution_count": 144,
   "id": "0f0a8bc1",
   "metadata": {},
   "outputs": [
    {
     "name": "stdout",
     "output_type": "stream",
     "text": [
      " ABC  DEFG ;; SADFA QF\n"
     ]
    }
   ],
   "source": [
    "d = a.upper()\n",
    "print(d)"
   ]
  },
  {
   "cell_type": "code",
   "execution_count": 145,
   "id": "cd4ab1ed",
   "metadata": {},
   "outputs": [
    {
     "name": "stdout",
     "output_type": "stream",
     "text": [
      " ABC  deFg ** Sadfa QF\n"
     ]
    }
   ],
   "source": [
    "t = a.replace(\";\", \"*\")\n",
    "print(t)"
   ]
  },
  {
   "cell_type": "code",
   "execution_count": 146,
   "id": "2541abc9",
   "metadata": {},
   "outputs": [
    {
     "name": "stdout",
     "output_type": "stream",
     "text": [
      " ABC  deFg two semi colons Sadfa QF\n"
     ]
    }
   ],
   "source": [
    "d = a.replace(\";;\", \"two semi colons\")\n",
    "print(d)"
   ]
  },
  {
   "cell_type": "code",
   "execution_count": 147,
   "id": "bb5ac2a3",
   "metadata": {},
   "outputs": [
    {
     "name": "stdout",
     "output_type": "stream",
     "text": [
      "['abc', 'def', 'hgydfa', 'yy23']\n"
     ]
    }
   ],
   "source": [
    "a = \"abc;def;hgydfa;yy23\"\n",
    "L =a.split(\";\")    # returns List\n",
    "print(L)"
   ]
  },
  {
   "cell_type": "code",
   "execution_count": 148,
   "id": "45c2ee06",
   "metadata": {},
   "outputs": [
    {
     "data": {
      "text/plain": [
       "'def'"
      ]
     },
     "execution_count": 148,
     "metadata": {},
     "output_type": "execute_result"
    }
   ],
   "source": [
    "L[1]"
   ]
  },
  {
   "cell_type": "code",
   "execution_count": 150,
   "id": "9fa5dc7a",
   "metadata": {},
   "outputs": [
    {
     "name": "stdout",
     "output_type": "stream",
     "text": [
      "Abc;def;hgydfa;yy23\n"
     ]
    }
   ],
   "source": [
    "print(a.capitalize())"
   ]
  },
  {
   "cell_type": "code",
   "execution_count": 151,
   "id": "60e29d3d",
   "metadata": {},
   "outputs": [
    {
     "name": "stdout",
     "output_type": "stream",
     "text": [
      "Help on built-in function count:\n",
      "\n",
      "count(...) method of builtins.str instance\n",
      "    S.count(sub[, start[, end]]) -> int\n",
      "    \n",
      "    Return the number of non-overlapping occurrences of substring sub in\n",
      "    string S[start:end].  Optional arguments start and end are\n",
      "    interpreted as in slice notation.\n",
      "\n"
     ]
    }
   ],
   "source": [
    "help(a.count)"
   ]
  },
  {
   "cell_type": "code",
   "execution_count": 153,
   "id": "0337c033",
   "metadata": {},
   "outputs": [
    {
     "data": {
      "text/plain": [
       "True"
      ]
     },
     "execution_count": 153,
     "metadata": {},
     "output_type": "execute_result"
    }
   ],
   "source": [
    "\"abc\" in \"asgdkjjdguibabcpoejopjihcuhk;nsjhy3gygi\""
   ]
  },
  {
   "cell_type": "code",
   "execution_count": 154,
   "id": "1d92b1f2",
   "metadata": {},
   "outputs": [
    {
     "data": {
      "text/plain": [
       "True"
      ]
     },
     "execution_count": 154,
     "metadata": {},
     "output_type": "execute_result"
    }
   ],
   "source": [
    "\"abc\" == \"abc\""
   ]
  },
  {
   "cell_type": "code",
   "execution_count": 157,
   "id": "dcb772c0",
   "metadata": {},
   "outputs": [
    {
     "data": {
      "text/plain": [
       "False"
      ]
     },
     "execution_count": 157,
     "metadata": {},
     "output_type": "execute_result"
    }
   ],
   "source": [
    "\"mabcdefghi\"<\"def\" # works with the order of alphabet"
   ]
  },
  {
   "cell_type": "code",
   "execution_count": 158,
   "id": "bd2f3759",
   "metadata": {},
   "outputs": [
    {
     "ename": "SyntaxError",
     "evalue": "invalid syntax (1756096802.py, line 1)",
     "output_type": "error",
     "traceback": [
      "\u001b[1;36m  Input \u001b[1;32mIn [158]\u001b[1;36m\u001b[0m\n\u001b[1;33m    print(\"we are learning\"string\"here\")\u001b[0m\n\u001b[1;37m                           ^\u001b[0m\n\u001b[1;31mSyntaxError\u001b[0m\u001b[1;31m:\u001b[0m invalid syntax\n"
     ]
    }
   ],
   "source": [
    "print(\"we are learning\"string\"here\")"
   ]
  },
  {
   "cell_type": "code",
   "execution_count": 159,
   "id": "67d9419a",
   "metadata": {},
   "outputs": [
    {
     "name": "stdout",
     "output_type": "stream",
     "text": [
      "we are learning\"string\"here\n"
     ]
    }
   ],
   "source": [
    "print(\"we are learning\\\"string\\\"here\")"
   ]
  },
  {
   "cell_type": "code",
   "execution_count": 160,
   "id": "33ece478",
   "metadata": {},
   "outputs": [
    {
     "name": "stdout",
     "output_type": "stream",
     "text": [
      "we are learning\"string\" here\n"
     ]
    }
   ],
   "source": [
    "print('we are learning\"string\" here')"
   ]
  },
  {
   "cell_type": "code",
   "execution_count": 161,
   "id": "e30e9c23",
   "metadata": {},
   "outputs": [
    {
     "name": "stdout",
     "output_type": "stream",
     "text": [
      "we are\t now on another line\n"
     ]
    }
   ],
   "source": [
    "print(\"we are\\t now on another line\")"
   ]
  },
  {
   "cell_type": "code",
   "execution_count": 162,
   "id": "62bbfb85",
   "metadata": {},
   "outputs": [
    {
     "name": "stdout",
     "output_type": "stream",
     "text": [
      "c:\n",
      "ame\\drive\n"
     ]
    }
   ],
   "source": [
    "print(\"c:\\name\\drive\")"
   ]
  },
  {
   "cell_type": "code",
   "execution_count": 163,
   "id": "ae2d23bf",
   "metadata": {},
   "outputs": [
    {
     "name": "stdout",
     "output_type": "stream",
     "text": [
      "c:\\name\\drive\n"
     ]
    }
   ],
   "source": [
    "print(r\"c:\\name\\drive\")"
   ]
  },
  {
   "cell_type": "markdown",
   "id": "81274441",
   "metadata": {},
   "source": [
    "# Data Structures"
   ]
  },
  {
   "cell_type": "code",
   "execution_count": 164,
   "id": "47aa9bd1",
   "metadata": {},
   "outputs": [
    {
     "data": {
      "text/plain": [
       "'List   ordered,  changeable, duplicates\\nTuple     ordered , unchangeable, duplicates\\nset       unordered, addable/removable, no duplicates\\nDictionary  unordered, changeable,      no duplicate\\n\\n'"
      ]
     },
     "execution_count": 164,
     "metadata": {},
     "output_type": "execute_result"
    }
   ],
   "source": [
    "\"\"\"List     ordered,    changeable,        duplicates\n",
    "Tuple       ordered ,   unchangeable,      duplicates\n",
    "set         unordered,  addable/removable, no duplicates\n",
    "Dictionary  unordered,  changeable,        no duplicate\n",
    "\n",
    "\"\"\""
   ]
  },
  {
   "cell_type": "code",
   "execution_count": 1,
   "id": "2a6e5e26",
   "metadata": {},
   "outputs": [
    {
     "name": "stdout",
     "output_type": "stream",
     "text": [
      "Enter a number: 5\n",
      "Enter a number: 6\n",
      "Enter a number: 8\n",
      "Enter a number: 7\n",
      "Enter a number: -1\n",
      "Enter a number: 8\n",
      "Enter a number: \n"
     ]
    },
    {
     "ename": "ValueError",
     "evalue": "invalid literal for int() with base 10: ''",
     "output_type": "error",
     "traceback": [
      "\u001b[1;31m---------------------------------------------------------------------------\u001b[0m",
      "\u001b[1;31mValueError\u001b[0m                                Traceback (most recent call last)",
      "Input \u001b[1;32mIn [1]\u001b[0m, in \u001b[0;36m<cell line: 2>\u001b[1;34m()\u001b[0m\n\u001b[0;32m      1\u001b[0m n \u001b[38;5;241m=\u001b[39m \u001b[38;5;28mint\u001b[39m(\u001b[38;5;28minput\u001b[39m(\u001b[38;5;124m\"\u001b[39m\u001b[38;5;124mEnter a number: \u001b[39m\u001b[38;5;124m\"\u001b[39m))\n\u001b[0;32m      2\u001b[0m \u001b[38;5;28;01mwhile\u001b[39;00m n\u001b[38;5;241m>\u001b[39m\u001b[38;5;241m0\u001b[39m:\n\u001b[1;32m----> 3\u001b[0m   \u001b[38;5;28;43mint\u001b[39;49m\u001b[43m(\u001b[49m\u001b[38;5;28;43minput\u001b[39;49m\u001b[43m(\u001b[49m\u001b[38;5;124;43m\"\u001b[39;49m\u001b[38;5;124;43mEnter a number: \u001b[39;49m\u001b[38;5;124;43m\"\u001b[39;49m\u001b[43m)\u001b[49m\u001b[43m)\u001b[49m\n\u001b[0;32m      4\u001b[0m   \u001b[38;5;28;01mif\u001b[39;00m n \u001b[38;5;241m==\u001b[39m \u001b[38;5;241m-\u001b[39m\u001b[38;5;241m1\u001b[39m:\n\u001b[0;32m      5\u001b[0m     \u001b[38;5;28;01mbreak\u001b[39;00m\n",
      "\u001b[1;31mValueError\u001b[0m: invalid literal for int() with base 10: ''"
     ]
    }
   ],
   "source": [
    "n = int(input(\"Enter a number: \"))\n",
    "while n>0:\n",
    "  int(input(\"Enter a number: \"))\n",
    "  if n == -1:\n",
    "    break"
   ]
  },
  {
   "cell_type": "code",
   "execution_count": 3,
   "id": "d7fb9ce4",
   "metadata": {},
   "outputs": [
    {
     "name": "stdout",
     "output_type": "stream",
     "text": [
      "Enter a number: 3\n",
      "Enter a number: 4\n",
      "Enter a number: 5\n",
      "Enter a number: 7\n",
      "Enter a number: 8\n",
      "Enter a number: 6\n",
      "Enter a number: 9\n",
      "Enter a number: -1\n",
      "The average is:  6.0\n"
     ]
    }
   ],
   "source": [
    "n = int(input(\"Enter a number: \")) \n",
    "myNums = [n]\n",
    "while True:\n",
    "  if n>0:\n",
    "    n = int(input(\"Enter a number: \"))\n",
    "    myNums.append(n)\n",
    "  else:\n",
    "    break\n",
    "myNums.remove(-1)\n",
    "sum = 0\n",
    "for n in range(len(myNums)):\n",
    "    sum += myNums[n]\n",
    "\n",
    "avrg = sum/len(myNums)\n",
    "print(\"The average is: \",avrg)\n"
   ]
  },
  {
   "cell_type": "code",
   "execution_count": null,
   "id": "1d25664a",
   "metadata": {},
   "outputs": [],
   "source": [
    "guard = True\n",
    "hour = int(input(\"What time is it? \"))\n",
    "guard = (input(\"Is the guard at the gate?\"))\n",
    "if 7>=hour<=17:\n",
    "  print(\"You're in\")\n",
    "if 17<hour<7 :\n",
    "  print(\"You need the\", guard)\n",
    "if guard == True:\n",
    "  print(\"You're in\")\n",
    "else:\n",
    "  print(\"you can not get in\")"
   ]
  },
  {
   "cell_type": "code",
   "execution_count": null,
   "id": "d66b33b3",
   "metadata": {},
   "outputs": [],
   "source": []
  },
  {
   "cell_type": "code",
   "execution_count": null,
   "id": "6b95d199",
   "metadata": {},
   "outputs": [],
   "source": []
  }
 ],
 "metadata": {
  "kernelspec": {
   "display_name": "Python 3 (ipykernel)",
   "language": "python",
   "name": "python3"
  },
  "language_info": {
   "codemirror_mode": {
    "name": "ipython",
    "version": 3
   },
   "file_extension": ".py",
   "mimetype": "text/x-python",
   "name": "python",
   "nbconvert_exporter": "python",
   "pygments_lexer": "ipython3",
   "version": "3.9.12"
  }
 },
 "nbformat": 4,
 "nbformat_minor": 5
}
