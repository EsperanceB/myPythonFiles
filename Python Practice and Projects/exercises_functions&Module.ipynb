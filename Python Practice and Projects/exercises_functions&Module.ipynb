{
 "cells": [
  {
   "cell_type": "code",
   "execution_count": 1,
   "id": "7712dd08",
   "metadata": {},
   "outputs": [
    {
     "name": "stdout",
     "output_type": "stream",
     "text": [
      "This function returns the factorial of a given number.\n"
     ]
    }
   ],
   "source": [
    "def factorial(x):\n",
    "    \"\"\"This function returns the factorial of a given number.\"\"\"\n",
    "    return x\n",
    "\n",
    "# access doc string\n",
    "print(factorial.__doc__)"
   ]
  },
  {
   "cell_type": "code",
   "execution_count": 2,
   "id": "df6220f2",
   "metadata": {},
   "outputs": [
    {
     "name": "stdout",
     "output_type": "stream",
     "text": [
      "Help on function factorial in module __main__:\n",
      "\n",
      "factorial(x)\n",
      "    This function returns the factorial of a given number.\n",
      "\n",
      "None\n"
     ]
    }
   ],
   "source": [
    "print(help(factorial))"
   ]
  },
  {
   "cell_type": "code",
   "execution_count": 3,
   "id": "7575fd04",
   "metadata": {},
   "outputs": [
    {
     "name": "stdout",
     "output_type": "stream",
     "text": [
      "Even numbers are: [2, 42, 62, 70]\n"
     ]
    }
   ],
   "source": [
    "def is_even(list1):\n",
    "    even_num = []\n",
    "    for n in list1:\n",
    "        if n % 2 == 0:\n",
    "            even_num.append(n)\n",
    "    # return a list\n",
    "    return even_num\n",
    "\n",
    "# Pass list to the function\n",
    "even_num = is_even([2, 3, 42, 51, 62, 70, 5, 9])\n",
    "print(\"Even numbers are:\", even_num)"
   ]
  },
  {
   "cell_type": "code",
   "execution_count": 4,
   "id": "ab91ccaa",
   "metadata": {},
   "outputs": [
    {
     "name": "stdout",
     "output_type": "stream",
     "text": [
      "Addition:  12\n",
      "Subtraction:  8\n",
      "Multiplication:  20\n",
      "Division:  5.0\n"
     ]
    }
   ],
   "source": [
    "def arithmetic(num1, num2):\n",
    "    add = num1 + num2\n",
    "    sub = num1 - num2\n",
    "    multiply = num1 * num2\n",
    "    division = num1 / num2\n",
    "    # return four values\n",
    "    return add, sub, multiply, division\n",
    "\n",
    "# read four return values in four variables\n",
    "a, b, c, d = arithmetic(10, 2)\n",
    "\n",
    "print(\"Addition: \", a)\n",
    "print(\"Subtraction: \", b)\n",
    "print(\"Multiplication: \", c)\n",
    "print(\"Division: \", d)"
   ]
  },
  {
   "cell_type": "code",
   "execution_count": 7,
   "id": "c3b93daf",
   "metadata": {},
   "outputs": [],
   "source": [
    "def addition(num1, num2):\n",
    "    # Implementation of addition function in comming release\n",
    "    # Pass statement \n",
    "    pass\n",
    "\n",
    "addition(10, 2)"
   ]
  },
  {
   "cell_type": "code",
   "execution_count": 8,
   "id": "27102f70",
   "metadata": {},
   "outputs": [
    {
     "name": "stdout",
     "output_type": "stream",
     "text": [
      "Value is : 888\n"
     ]
    },
    {
     "ename": "NameError",
     "evalue": "name 'loc_var' is not defined",
     "output_type": "error",
     "traceback": [
      "\u001b[1;31m---------------------------------------------------------------------------\u001b[0m",
      "\u001b[1;31mNameError\u001b[0m                                 Traceback (most recent call last)",
      "Input \u001b[1;32mIn [8]\u001b[0m, in \u001b[0;36m<cell line: 11>\u001b[1;34m()\u001b[0m\n\u001b[0;32m      8\u001b[0m     \u001b[38;5;28mprint\u001b[39m(\u001b[38;5;124m\"\u001b[39m\u001b[38;5;124mValue is :\u001b[39m\u001b[38;5;124m\"\u001b[39m, loc_var)\n\u001b[0;32m     10\u001b[0m function1()\n\u001b[1;32m---> 11\u001b[0m \u001b[43mfunction2\u001b[49m\u001b[43m(\u001b[49m\u001b[43m)\u001b[49m\n",
      "Input \u001b[1;32mIn [8]\u001b[0m, in \u001b[0;36mfunction2\u001b[1;34m()\u001b[0m\n\u001b[0;32m      6\u001b[0m \u001b[38;5;28;01mdef\u001b[39;00m \u001b[38;5;21mfunction2\u001b[39m():\n\u001b[1;32m----> 8\u001b[0m     \u001b[38;5;28mprint\u001b[39m(\u001b[38;5;124m\"\u001b[39m\u001b[38;5;124mValue is :\u001b[39m\u001b[38;5;124m\"\u001b[39m, \u001b[43mloc_var\u001b[49m)\n",
      "\u001b[1;31mNameError\u001b[0m: name 'loc_var' is not defined"
     ]
    }
   ],
   "source": [
    "def function1():\n",
    "    # local variable\n",
    "    loc_var = 888\n",
    "    print(\"Value is :\", loc_var)\n",
    "\n",
    "def function2():\n",
    "\n",
    "    print(\"Value is :\", loc_var)\n",
    "\n",
    "function1()\n",
    "function2()"
   ]
  },
  {
   "cell_type": "code",
   "execution_count": 10,
   "id": "b2cfb6e7",
   "metadata": {},
   "outputs": [
    {
     "name": "stdout",
     "output_type": "stream",
     "text": [
      "Value in 1st function : 5\n",
      "Value in 2nd function : 555\n",
      "Value in 3rd function : 5\n"
     ]
    }
   ],
   "source": [
    "# Global variable\n",
    "global_var = 5\n",
    "\n",
    "def function1():\n",
    "    print(\"Value in 1st function :\", global_var)\n",
    "\n",
    "def function2():\n",
    "    # Modify global variable\n",
    "    # function will treat it as a local variable\n",
    "    global_var = 555\n",
    "    print(\"Value in 2nd function :\", global_var)\n",
    "\n",
    "def function3():\n",
    "    print(\"Value in 3rd function :\", global_var)\n",
    "\n",
    "function1()\n",
    "function2()\n",
    "function3()"
   ]
  },
  {
   "cell_type": "code",
   "execution_count": 11,
   "id": "795912d8",
   "metadata": {},
   "outputs": [
    {
     "name": "stdout",
     "output_type": "stream",
     "text": [
      "Value in 1st function : 5\n",
      "Value in 2nd function : 555\n",
      "Value in 3rd function : 555\n"
     ]
    }
   ],
   "source": [
    "# Global variable\n",
    "x = 5\n",
    "\n",
    "# defining 1st function\n",
    "def function1():\n",
    "    print(\"Value in 1st function :\", x)\n",
    "\n",
    "# defining 2nd function\n",
    "def function2():\n",
    "    # Modify global variable using global keyword\n",
    "    global x\n",
    "    x = 555\n",
    "    print(\"Value in 2nd function :\", x)\n",
    "\n",
    "# defining 3rd function\n",
    "def function3():\n",
    "    print(\"Value in 3rd function :\", x)\n",
    "\n",
    "function1()\n",
    "function2()\n",
    "function3()"
   ]
  },
  {
   "cell_type": "code",
   "execution_count": 12,
   "id": "f28680d9",
   "metadata": {},
   "outputs": [
    {
     "name": "stdout",
     "output_type": "stream",
     "text": [
      "value of x inside inner function is : 700\n",
      "value of x inside outer function is : 700\n"
     ]
    }
   ],
   "source": [
    "def outer_func():\n",
    "    x = 777\n",
    "\n",
    "    def inner_func():\n",
    "        # local variable now acts as global variable\n",
    "        nonlocal x\n",
    "        x = 700\n",
    "        print(\"value of x inside inner function is :\", x)\n",
    "\n",
    "    inner_func()\n",
    "    print(\"value of x inside outer function is :\", x)\n",
    "\n",
    "outer_func()"
   ]
  },
  {
   "cell_type": "code",
   "execution_count": 13,
   "id": "66639078",
   "metadata": {},
   "outputs": [
    {
     "name": "stdout",
     "output_type": "stream",
     "text": [
      "Hello John Wilson\n",
      "Hello Kelly Ault\n"
     ]
    }
   ],
   "source": [
    "#keyword argument\n",
    "\n",
    "def message(name, surname):\n",
    "    print(\"Hello\", name, surname)\n",
    "\n",
    "message(name=\"John\", surname=\"Wilson\")\n",
    "message(surname=\"Ault\", name=\"Kelly\")"
   ]
  },
  {
   "cell_type": "code",
   "execution_count": 15,
   "id": "99913398",
   "metadata": {},
   "outputs": [
    {
     "name": "stdout",
     "output_type": "stream",
     "text": [
      "Hello John\n",
      "Hello Guest\n"
     ]
    }
   ],
   "source": [
    "# function with default argument\n",
    "def message(name=\"Guest\"):\n",
    "    print(\"Hello\", name)\n",
    "\n",
    "# calling function with argument\n",
    "message(\"John\")\n",
    "\n",
    "# calling function without argument\n",
    "message()\n"
   ]
  },
  {
   "cell_type": "code",
   "execution_count": 16,
   "id": "21a9e99c",
   "metadata": {},
   "outputs": [
    {
     "name": "stdout",
     "output_type": "stream",
     "text": [
      "Sum is: 0\n",
      "Sum is: 26\n",
      "Sum is: 87.5\n"
     ]
    }
   ],
   "source": [
    "def addition(*numbers):\n",
    "    total = 0\n",
    "    for no in numbers:\n",
    "        total = total + no\n",
    "    print(\"Sum is:\", total)\n",
    "\n",
    "\n",
    "# 0 arguments\n",
    "addition()\n",
    "\n",
    "# 5 arguments\n",
    "addition(10, 5, 2, 5, 4)\n",
    "\n",
    "\n",
    "# 3 arguments\n",
    "addition(78, 7, 2.5)"
   ]
  },
  {
   "cell_type": "code",
   "execution_count": 17,
   "id": "cd9684f4",
   "metadata": {},
   "outputs": [
    {
     "name": "stdout",
     "output_type": "stream",
     "text": [
      "factorial of a number is: 40320\n"
     ]
    }
   ],
   "source": [
    "def factorial(no):\n",
    "    if no == 0:\n",
    "        return 1\n",
    "    else:\n",
    "        return no * factorial(no - 1)\n",
    "\n",
    "print(\"factorial of a number is:\", factorial(8))"
   ]
  },
  {
   "cell_type": "code",
   "execution_count": 18,
   "id": "c08eb64e",
   "metadata": {},
   "outputs": [
    {
     "name": "stdout",
     "output_type": "stream",
     "text": [
      "Even numbers are: [10, 12, 78, 6]\n"
     ]
    }
   ],
   "source": [
    "# Lambda function vs normal function\n",
    "def even_numbers(nums):\n",
    "    even_list = []\n",
    "    for n in nums:\n",
    "        if n % 2 == 0:\n",
    "            even_list.append(n)\n",
    "    return even_list\n",
    "\n",
    "num_list = [10, 5, 12, 78, 6, 1, 7, 9]\n",
    "ans = even_numbers(num_list)\n",
    "print(\"Even numbers are:\", ans)"
   ]
  },
  {
   "cell_type": "code",
   "execution_count": 19,
   "id": "1519cb96",
   "metadata": {},
   "outputs": [
    {
     "name": "stdout",
     "output_type": "stream",
     "text": [
      "Even numbers are:  [10, 12, 78, 6]\n"
     ]
    }
   ],
   "source": [
    "l = [10, 5, 12, 78, 6, 1, 7, 9]\n",
    "even_nos = list(filter(lambda x: x % 2 == 0, l))\n",
    "print(\"Even numbers are: \", even_nos)"
   ]
  },
  {
   "cell_type": "code",
   "execution_count": 21,
   "id": "dc3b80fc",
   "metadata": {},
   "outputs": [
    {
     "name": "stdout",
     "output_type": "stream",
     "text": [
      "Addition of all list elements is :  54\n"
     ]
    }
   ],
   "source": [
    "from functools import reduce\n",
    "list1 = [20, 13, 4, 8, 9]\n",
    "add = reduce(lambda x, y: x+y, list1)\n",
    "print(\"Addition of all list elements is : \", add)"
   ]
  },
  {
   "cell_type": "code",
   "execution_count": 37,
   "id": "151edf3c",
   "metadata": {},
   "outputs": [],
   "source": [
    "def identity(name,age):\n",
    "    print(\"My name is \", str(name), \"I'm \",age)\n",
    "    return name,age"
   ]
  },
  {
   "cell_type": "code",
   "execution_count": 43,
   "id": "18f252d4",
   "metadata": {},
   "outputs": [
    {
     "name": "stdout",
     "output_type": "stream",
     "text": [
      "What is your name? Esperance\n",
      "how old are you? 27\n",
      "My name is  Esperance I'm  27\n"
     ]
    },
    {
     "data": {
      "text/plain": [
       "('Esperance', 27)"
      ]
     },
     "execution_count": 43,
     "metadata": {},
     "output_type": "execute_result"
    }
   ],
   "source": [
    "name = input(\"What is your name? \")\n",
    "age = int(input(\"how old are you? \"))\n",
    "identity(name,age)"
   ]
  },
  {
   "cell_type": "code",
   "execution_count": 66,
   "id": "71364aa1",
   "metadata": {},
   "outputs": [
    {
     "name": "stdout",
     "output_type": "stream",
     "text": [
      "2\n",
      "3\n",
      "4\n",
      "5\n"
     ]
    }
   ],
   "source": [
    "def data_set(*args):\n",
    "    for i in args:\n",
    "        print(i)\n",
    "    \n",
    "    \n",
    "\n",
    "data_set(2,3,4,5)\n"
   ]
  },
  {
   "cell_type": "code",
   "execution_count": 73,
   "id": "fcc1a4cd",
   "metadata": {},
   "outputs": [],
   "source": [
    "def calculation(n1,n2):\n",
    "    addition = n1 + n2\n",
    "    sub = n1 - n2\n",
    "    return addition,sub\n"
   ]
  },
  {
   "cell_type": "code",
   "execution_count": 76,
   "id": "46d0355a",
   "metadata": {},
   "outputs": [
    {
     "name": "stdout",
     "output_type": "stream",
     "text": [
      "(77, 9)\n"
     ]
    }
   ],
   "source": [
    "res = calculation(43,34)\n",
    "print(res)"
   ]
  },
  {
   "cell_type": "code",
   "execution_count": 75,
   "id": "a13982a8",
   "metadata": {},
   "outputs": [
    {
     "name": "stdout",
     "output_type": "stream",
     "text": [
      "50 30\n"
     ]
    }
   ],
   "source": [
    "def calculation(a, b):\n",
    "    return a + b, a - b\n",
    "\n",
    "# get result in tuple format\n",
    "# unpack tuple\n",
    "add, sub = calculation(40, 10)\n",
    "print(add, sub)"
   ]
  },
  {
   "cell_type": "code",
   "execution_count": 77,
   "id": "ebe34342",
   "metadata": {},
   "outputs": [
    {
     "name": "stdout",
     "output_type": "stream",
     "text": [
      "Ben 12000\n",
      "Jessa 9000\n"
     ]
    }
   ],
   "source": [
    "def showEmployee(name,salary=9000):\n",
    "    print(name,salary)\n",
    "    \n",
    "showEmployee(\"Ben\", 12000)\n",
    "showEmployee(\"Jessa\")"
   ]
  },
  {
   "cell_type": "code",
   "execution_count": 5,
   "id": "2f8489c4",
   "metadata": {},
   "outputs": [
    {
     "name": "stdout",
     "output_type": "stream",
     "text": [
      "16\n"
     ]
    }
   ],
   "source": [
    "def calculate(a,b):\n",
    "    square = a**2\n",
    "    def addition(a,b):\n",
    "        return a+b\n",
    "    add = addition(a,b)\n",
    "    return add+5\n",
    "\n",
    "result = calculate(5,6)\n",
    "print(result)\n"
   ]
  },
  {
   "cell_type": "code",
   "execution_count": 16,
   "id": "936be7a3",
   "metadata": {},
   "outputs": [],
   "source": [
    "def additions(a,b):\n",
    "    addition = 0\n",
    "    for i in range(a,b):\n",
    "        addition +=i\n",
    "    print(addition)"
   ]
  },
  {
   "cell_type": "code",
   "execution_count": 17,
   "id": "d13e54d1",
   "metadata": {},
   "outputs": [
    {
     "name": "stdout",
     "output_type": "stream",
     "text": [
      "55\n"
     ]
    }
   ],
   "source": [
    "additions(0,11)"
   ]
  },
  {
   "cell_type": "code",
   "execution_count": 29,
   "id": "2969ad6e",
   "metadata": {},
   "outputs": [
    {
     "name": "stdout",
     "output_type": "stream",
     "text": [
      "Emma 26\n",
      "Esp 26\n"
     ]
    }
   ],
   "source": [
    "def display_student(name, age):\n",
    "    print(name, age)\n",
    "\n",
    "display_student(\"Emma\", 26)\n",
    "\n",
    "show_student = display_student \n",
    "show_student(\"Esp\",26)"
   ]
  },
  {
   "cell_type": "code",
   "execution_count": 67,
   "id": "3307c5e3",
   "metadata": {},
   "outputs": [
    {
     "name": "stdout",
     "output_type": "stream",
     "text": [
      "[4, 6, 8, 10, 12, 14, 16, 18, 20, 22, 24, 26, 28]\n"
     ]
    }
   ],
   "source": [
    "print(list(range(4,30,2)))"
   ]
  },
  {
   "cell_type": "code",
   "execution_count": 68,
   "id": "3233433d",
   "metadata": {},
   "outputs": [
    {
     "name": "stdout",
     "output_type": "stream",
     "text": [
      "24\n"
     ]
    }
   ],
   "source": [
    "x = [4, 6, 8, 24, 12, 2]\n",
    "m = max(x)\n",
    "print(m)"
   ]
  },
  {
   "cell_type": "code",
   "execution_count": 69,
   "id": "c5d3e8a3",
   "metadata": {},
   "outputs": [
    {
     "name": "stdout",
     "output_type": "stream",
     "text": [
      "largest 99\n"
     ]
    }
   ],
   "source": [
    "def large_finder(n):\n",
    "\n",
    "    large=n[0]\n",
    "\n",
    "\n",
    "    for i in  n:\n",
    "\n",
    "        if large<i:\n",
    "\n",
    "            large=i\n",
    "\n",
    "\n",
    "    return large\n",
    "\n",
    "\n",
    "l=[1,2,3,4,5,55,33,99,5]\n",
    "\n",
    "print(f\"largest {large_finder(l)}\")"
   ]
  },
  {
   "cell_type": "code",
   "execution_count": 70,
   "id": "7b6a3e33",
   "metadata": {},
   "outputs": [
    {
     "name": "stdout",
     "output_type": "stream",
     "text": [
      "24\n"
     ]
    }
   ],
   "source": [
    "def y():\n",
    "\n",
    "    z = max(x)\n",
    "\n",
    "\n",
    "    print(z)\n",
    "\n",
    "\n",
    "y()"
   ]
  },
  {
   "cell_type": "code",
   "execution_count": 71,
   "id": "57018d66",
   "metadata": {},
   "outputs": [
    {
     "name": "stdout",
     "output_type": "stream",
     "text": [
      "55\n"
     ]
    }
   ],
   "source": [
    "def recursive(n):\n",
    "\n",
    "    count = 0\n",
    "\n",
    "    for i in range(n+1):\n",
    "\n",
    "        count += i\n",
    "\n",
    "    print(count)\n",
    "\n",
    "\n",
    "recursive(10)"
   ]
  },
  {
   "cell_type": "code",
   "execution_count": 72,
   "id": "46deda49",
   "metadata": {},
   "outputs": [
    {
     "name": "stdout",
     "output_type": "stream",
     "text": [
      "highest number from the list [5, 14, 25, 2, -1, 89] is = 89\n",
      "**************************************************\n"
     ]
    }
   ],
   "source": [
    "def list_largest (list_num):\n",
    "\n",
    "    max_num = max(list_num)\n",
    "\n",
    "    return max_num\n",
    "\n",
    "\n",
    "list_num = [5,14,25,2,-1,89]\n",
    "\n",
    "highest_num=list_largest(list_num)\n",
    "\n",
    "print(f\"highest number from the list {list_num} is = {highest_num}\")\n",
    "\n",
    "print(\"*\"*50)"
   ]
  },
  {
   "cell_type": "code",
   "execution_count": 76,
   "id": "8a224ebd",
   "metadata": {},
   "outputs": [
    {
     "name": "stdout",
     "output_type": "stream",
     "text": [
      "68\n"
     ]
    }
   ],
   "source": [
    "x = [5,68,4,27,28]\n",
    "\n",
    "x.sort()\n",
    "print(x[-1])"
   ]
  },
  {
   "cell_type": "code",
   "execution_count": 77,
   "id": "d329c23f",
   "metadata": {},
   "outputs": [
    {
     "name": "stdout",
     "output_type": "stream",
     "text": [
      "[4, 6, 8, 10, 12, 14, 16, 18, 20, 22, 24, 26, 28, 30, 32, 34, 36, 38, 40]\n"
     ]
    }
   ],
   "source": [
    "result = list(filter(lambda number: number%2==0, range(4,40+1)))\n",
    "print(result)"
   ]
  },
  {
   "cell_type": "code",
   "execution_count": 78,
   "id": "c53d405a",
   "metadata": {},
   "outputs": [
    {
     "name": "stdout",
     "output_type": "stream",
     "text": [
      "[6, 8, 10, 12, 14, 16, 18, 20, 22, 24, 26, 28]\n"
     ]
    }
   ],
   "source": [
    "s = range(6,30,2)\n",
    "\n",
    "n = list(filter(lambda x:x%2==0,s))\n",
    "\n",
    "print(n)"
   ]
  },
  {
   "cell_type": "code",
   "execution_count": 79,
   "id": "b51e365a",
   "metadata": {},
   "outputs": [
    {
     "name": "stdout",
     "output_type": "stream",
     "text": [
      "6\n"
     ]
    }
   ],
   "source": [
    "# function that returns de biggest number between two\n",
    "def max_of_two( x, y ):\n",
    "    if x > y:\n",
    "        return x\n",
    "        print(x)\n",
    "    return y\n",
    "# function that return the biggest number between the 3\n",
    "def max_of_three( x, y, z ):\n",
    "    \n",
    "    return max_of_two( x, max_of_two( y, z ) ) #return the first function, with new arguments where the first function is assigned as the 2 last arguments\n",
    "print(max_of_three(3, 6, -5))"
   ]
  },
  {
   "cell_type": "code",
   "execution_count": 80,
   "id": "6371ed60",
   "metadata": {},
   "outputs": [
    {
     "name": "stdout",
     "output_type": "stream",
     "text": [
      "55\n"
     ]
    }
   ],
   "source": [
    "def recursive_fun(x):\n",
    "    addition = 0\n",
    "    for i in range(1, x+1):\n",
    "        addition = addition + i\n",
    "    \n",
    "    return addition\n",
    "resu = recursive_fun(10)\n",
    "print(resu)"
   ]
  },
  {
   "cell_type": "code",
   "execution_count": 81,
   "id": "71120381",
   "metadata": {},
   "outputs": [],
   "source": [
    "def find_largest_item(list):\n",
    "    if len(list) == 0:\n",
    "        print('error: empty list')\n",
    "    else:\n",
    "        #y is the first element in the list\n",
    "        y = list[0]\n",
    "        for x in list:\n",
    "            if x > y:\n",
    "                y = x\n",
    "            else:\n",
    "                continue\n",
    "        print(y)"
   ]
  },
  {
   "cell_type": "code",
   "execution_count": 83,
   "id": "b7f40ecf",
   "metadata": {},
   "outputs": [
    {
     "name": "stdout",
     "output_type": "stream",
     "text": [
      "10\n"
     ]
    }
   ],
   "source": [
    "def outer_function(a,b):\n",
    "    def inner_function():\n",
    "        add = a + b\n",
    "        return add\n",
    "    return inner_function() + 5\n",
    "\n",
    "print(outer_function(2,3))"
   ]
  },
  {
   "cell_type": "code",
   "execution_count": 84,
   "id": "ddb9bb8d",
   "metadata": {},
   "outputs": [
    {
     "name": "stdout",
     "output_type": "stream",
     "text": [
      "10\n"
     ]
    }
   ],
   "source": [
    "def func(a,b):\n",
    "    def same(func):\n",
    "        return a+b\n",
    "    return a+b+5\n",
    "print(func(2,3))"
   ]
  },
  {
   "cell_type": "code",
   "execution_count": 85,
   "id": "6f6853e1",
   "metadata": {},
   "outputs": [
    {
     "ename": "TypeError",
     "evalue": "person1() takes no arguments",
     "output_type": "error",
     "traceback": [
      "\u001b[1;31m---------------------------------------------------------------------------\u001b[0m",
      "\u001b[1;31mTypeError\u001b[0m                                 Traceback (most recent call last)",
      "Input \u001b[1;32mIn [85]\u001b[0m, in \u001b[0;36m<cell line: 17>\u001b[1;34m()\u001b[0m\n\u001b[0;32m     14\u001b[0m     \u001b[38;5;28;01mdef\u001b[39;00m \u001b[38;5;21minit\u001b[39m(\u001b[38;5;28mself\u001b[39m, name, age):\n\u001b[0;32m     15\u001b[0m         \u001b[38;5;28msuper\u001b[39m()\u001b[38;5;241m.\u001b[39minit(name, age)\n\u001b[1;32m---> 17\u001b[0m p1 \u001b[38;5;241m=\u001b[39m \u001b[43mperson1\u001b[49m\u001b[43m(\u001b[49m\u001b[38;5;124;43m\"\u001b[39;49m\u001b[38;5;124;43mJarle\u001b[39;49m\u001b[38;5;124;43m\"\u001b[39;49m\u001b[43m,\u001b[49m\u001b[43m \u001b[49m\u001b[38;5;241;43m19\u001b[39;49m\u001b[43m)\u001b[49m\n\u001b[0;32m     18\u001b[0m på1\u001b[38;5;241m.\u001b[39mshow()\n\u001b[0;32m     19\u001b[0m p2 \u001b[38;5;241m=\u001b[39m person2(\u001b[38;5;124m\"\u001b[39m\u001b[38;5;124mMarius\u001b[39m\u001b[38;5;124m\"\u001b[39m, \u001b[38;5;241m19\u001b[39m)\n",
      "\u001b[1;31mTypeError\u001b[0m: person1() takes no arguments"
     ]
    }
   ],
   "source": [
    "class Person:\n",
    "    def init(self, name,age):\n",
    "        self.name = name\n",
    "        self.age = age\n",
    "\n",
    "    def show(self):\n",
    "        print(f\"I am {self.name} and I am {self.age} years old\")\n",
    "\n",
    "class person1(Person):\n",
    "    def init(self, name,age):\n",
    "        super().init(name, age)\n",
    "\n",
    "class person2(Person):\n",
    "    def init(self, name, age):\n",
    "        super().init(name, age)\n",
    "\n",
    "p1 = person1(\"Jarle\", 19)\n",
    "på1.show()\n",
    "p2 = person2(\"Marius\", 19)\n",
    "p2.show()"
   ]
  },
  {
   "cell_type": "code",
   "execution_count": 87,
   "id": "e22c2087",
   "metadata": {},
   "outputs": [
    {
     "name": "stdout",
     "output_type": "stream",
     "text": [
      "Ben 6900\n",
      "Jack 9000\n"
     ]
    }
   ],
   "source": [
    "class Employee:\n",
    "    def __init__(self, name, salary=9000):\n",
    "        self.name = name\n",
    "        self.salary = salary\n",
    "\n",
    "Employee1 = Employee(\"Ben\", 6900)\n",
    "Employee2 = Employee(\"Jack\")\n",
    "print(Employee1.name, Employee1.salary)\n",
    "print(Employee2.name, Employee2.salary)"
   ]
  },
  {
   "cell_type": "code",
   "execution_count": 89,
   "id": "602ed46d",
   "metadata": {},
   "outputs": [
    {
     "name": "stdout",
     "output_type": "stream",
     "text": [
      "250 250\n"
     ]
    }
   ],
   "source": [
    "#i want to help \n",
    "#this is the solution ,\n",
    "\n",
    "def addEvenNumber(*n):\n",
    "    evens = []\n",
    "    for j in n:\n",
    "        if j%2==0:\n",
    "            evens.append(j)\n",
    "\n",
    "    a = sum(evens)\n",
    "            \n",
    "    Sum = 0\n",
    "    for i in evens:\n",
    "        Sum+=i\n",
    "    return Sum,a\n",
    "\n",
    "res1,res2 = addEvenNumber(2,89,76,55,78,4,64,7,71,26)\n",
    "print(res1,res2)"
   ]
  },
  {
   "cell_type": "code",
   "execution_count": 90,
   "id": "0341c373",
   "metadata": {},
   "outputs": [
    {
     "name": "stdout",
     "output_type": "stream",
     "text": [
      "[232, 24, 196, 8, 90]\n",
      "550\n"
     ]
    }
   ],
   "source": [
    "list1 = []\n",
    "def addEvenNumber(*args):\n",
    "    for i in args:\n",
    "        if i % 2 == 0:\n",
    "            list1.append(i)\n",
    "    return list1, sum(list1)\n",
    "\n",
    "res1, res2 = addEvenNumber(232,24,255,196,7,77,8,90)\n",
    "\n",
    "print(res1)\n",
    "print(res2)"
   ]
  },
  {
   "cell_type": "code",
   "execution_count": 91,
   "id": "bd581c0c",
   "metadata": {},
   "outputs": [
    {
     "name": "stdout",
     "output_type": "stream",
     "text": [
      "[2, 4, 6, 8, 10, 12, 14, 16, 18, 20, 22, 24, 26, 28]\n"
     ]
    }
   ],
   "source": [
    "List=[i*1 for i in range(2,30) if i%2==0]\n",
    "print(List)"
   ]
  },
  {
   "cell_type": "code",
   "execution_count": 95,
   "id": "ac7ebfb3",
   "metadata": {},
   "outputs": [
    {
     "name": "stdout",
     "output_type": "stream",
     "text": [
      "What's your name? Esperance\n",
      "What's your salary? \n",
      "Employee: Esperance Default salary is: 9000\n"
     ]
    }
   ],
   "source": [
    "def showEmployee(name, salary):\n",
    "    default = 9000\n",
    "    try:\n",
    "        if salary == \"\": \n",
    "                print(\"Employee:\", name, \"Default salary is:\", default)\n",
    "        else:\n",
    "                print(\"Employee:\", name, \"salary is:\", int(salary))\n",
    "    except Exception:\n",
    "            print(\"Enter a number for salary\")\n",
    "\n",
    "giveName  = input(\"What's your name? \")\n",
    "giveSal = input(\"What's your salary? \")\n",
    "showEmployee(giveName, giveSal)"
   ]
  },
  {
   "cell_type": "code",
   "execution_count": 96,
   "id": "694a1745",
   "metadata": {},
   "outputs": [
    {
     "name": "stdout",
     "output_type": "stream",
     "text": [
      "4 6 8 10 12 14 16 18 20 22 24 26 28 30 "
     ]
    }
   ],
   "source": [
    "for i in range(4,31):\n",
    "    if i%2 == 0:\n",
    "        print(i, end=' ')"
   ]
  },
  {
   "cell_type": "code",
   "execution_count": 97,
   "id": "ee6baaa8",
   "metadata": {},
   "outputs": [
    {
     "name": "stdout",
     "output_type": "stream",
     "text": [
      "55\n"
     ]
    }
   ],
   "source": [
    "def recursion (num):\n",
    "    summ = 0\n",
    "    for i in range(0,num):\n",
    "        summ += i\n",
    "        summ += 1\n",
    "    print(summ)\n",
    "recursion(10)"
   ]
  },
  {
   "cell_type": "code",
   "execution_count": 98,
   "id": "5455d6fb",
   "metadata": {},
   "outputs": [
    {
     "name": "stdout",
     "output_type": "stream",
     "text": [
      "[4, 6, 8, 10, 12, 14, 16, 18, 20, 22, 24, 26, 28]\n"
     ]
    }
   ],
   "source": [
    "Even_nums = []\n",
    "for x in range(4,30):\n",
    "    if x%2==0:\n",
    "        Even_nums.append(x)\n",
    "print(Even_nums)"
   ]
  },
  {
   "cell_type": "code",
   "execution_count": 104,
   "id": "2f4a9ca0",
   "metadata": {},
   "outputs": [
    {
     "name": "stdout",
     "output_type": "stream",
     "text": [
      "24\n"
     ]
    }
   ],
   "source": [
    "def func(*args):\n",
    "    add = 0\n",
    "    for arg in args:\n",
    "        for item in arg:\n",
    "            if item> add:\n",
    "                add=item\n",
    "    return add\n",
    "    \n",
    "aList = [4, 6, 8, 24, 12, 2]\n",
    "print(func(aList))"
   ]
  },
  {
   "cell_type": "code",
   "execution_count": 106,
   "id": "239d0ea6",
   "metadata": {},
   "outputs": [
    {
     "name": "stdout",
     "output_type": "stream",
     "text": [
      "enter the total numbers inside list.:    9\n",
      "enter the numbers you want to insert into list: 8\n",
      "enter the numbers you want to insert into list: 9\n",
      "enter the numbers you want to insert into list: 5\n",
      "enter the numbers you want to insert into list: 3\n",
      "enter the numbers you want to insert into list: 9\n",
      "enter the numbers you want to insert into list: 23\n",
      "enter the numbers you want to insert into list: 56\n",
      "enter the numbers you want to insert into list: 34\n",
      "enter the numbers you want to insert into list: 23\n",
      "[8, 9, 5, 3, 9, 23, 56, 34, 23]  <--the given list by you is here.\n",
      " \n",
      "[3, 5, 8, 9, 9, 23, 23, 34, 56]\n",
      "56\n"
     ]
    }
   ],
   "source": [
    "list = []\n",
    "list_1 =[]\n",
    "n = int(input(\"enter the total numbers inside list.:    \"))\n",
    "i = 1 \n",
    "while(i <= n):\n",
    "    num = int(input(\"enter the numbers you want to insert into list: \"))\n",
    "    i +=1\n",
    "    list.append(num)\n",
    "print(list, \" <--the given list by you is here.\\n \")\n",
    "    \n",
    "list.sort()\n",
    "print(list)\n",
    "print(max(list))"
   ]
  },
  {
   "cell_type": "code",
   "execution_count": 107,
   "id": "db633221",
   "metadata": {},
   "outputs": [
    {
     "name": "stdout",
     "output_type": "stream",
     "text": [
      "55\n"
     ]
    }
   ],
   "source": [
    "def calculateSum(num):\n",
    "    if num:\n",
    "        return num + calculateSum(num-1)\n",
    "    else: #why is there else here\n",
    "        return 0\n",
    "\n",
    "res = calculateSum(10)\n",
    "print(res)"
   ]
  },
  {
   "cell_type": "code",
   "execution_count": 108,
   "id": "8d7cee08",
   "metadata": {},
   "outputs": [
    {
     "name": "stdout",
     "output_type": "stream",
     "text": [
      "55\n"
     ]
    }
   ],
   "source": [
    "def calculateSum(num):\n",
    "  result = 0\n",
    "  while num != 0: \n",
    "    result = result + num\n",
    "    num = num - 1\n",
    "  return result\n",
    "\n",
    "print(calculateSum(10))"
   ]
  },
  {
   "cell_type": "code",
   "execution_count": 109,
   "id": "a2786f02",
   "metadata": {},
   "outputs": [
    {
     "name": "stdout",
     "output_type": "stream",
     "text": [
      "24\n"
     ]
    }
   ],
   "source": [
    "alist = [4, 6, 8, 24, 12, 2]\n",
    "\n",
    "def largest_number(l):\n",
    "    max_number = l[0]\n",
    "    for i in range(0, len(l)):\n",
    "        if max_number < l[i]:\n",
    "            max_number = l[i]\n",
    "    print(max_number)\n",
    "\n",
    "largest_number(alist) #called the function"
   ]
  },
  {
   "cell_type": "code",
   "execution_count": 128,
   "id": "35f87432",
   "metadata": {},
   "outputs": [
    {
     "name": "stdout",
     "output_type": "stream",
     "text": [
      "[4, 6, 8, 10, 12, 14, 16, 18, 20, 22, 24, 26, 28, 30]\n"
     ]
    }
   ],
   "source": [
    "def even():\n",
    "    l=[]\n",
    "    for i in range(4,31):\n",
    "        if i%2 ==0:\n",
    "            l.append(i)\n",
    "    return l\n",
    "\n",
    "print(even())"
   ]
  },
  {
   "cell_type": "code",
   "execution_count": 131,
   "id": "6d6168ad",
   "metadata": {},
   "outputs": [
    {
     "name": "stdout",
     "output_type": "stream",
     "text": [
      "[4, 6, 8, 10, 12, 14, 16, 18, 20, 22, 24, 26, 28]\n"
     ]
    }
   ],
   "source": [
    "numList=[]\n",
    "def PythonList(start, end):\n",
    "    for x in range(start, end):\n",
    "        if x % 2 == 0:\n",
    "            numList.append(x)\n",
    "    return numList\n",
    "\n",
    "\n",
    "print(PythonList(4, 30))"
   ]
  },
  {
   "cell_type": "code",
   "execution_count": 132,
   "id": "a09377fb",
   "metadata": {},
   "outputs": [
    {
     "name": "stdout",
     "output_type": "stream",
     "text": [
      "[4, 6, 8, 10, 12, 14, 16, 18, 20, 22, 24, 26, 28]\n"
     ]
    }
   ],
   "source": [
    "list = []\n",
    "\n",
    "for i in range(4,30,2):\n",
    "    list.append(i)\n",
    "print(list)"
   ]
  },
  {
   "cell_type": "code",
   "execution_count": 134,
   "id": "e7ecc15d",
   "metadata": {},
   "outputs": [
    {
     "name": "stdout",
     "output_type": "stream",
     "text": [
      "24\n"
     ]
    }
   ],
   "source": [
    "aList = [4, 6, 8, 24, 12, 2]\n",
    "aList.sort(reverse=True)\n",
    "print(aList.pop(0))"
   ]
  },
  {
   "cell_type": "code",
   "execution_count": null,
   "id": "55c161b4",
   "metadata": {},
   "outputs": [],
   "source": []
  }
 ],
 "metadata": {
  "kernelspec": {
   "display_name": "Python 3 (ipykernel)",
   "language": "python",
   "name": "python3"
  },
  "language_info": {
   "codemirror_mode": {
    "name": "ipython",
    "version": 3
   },
   "file_extension": ".py",
   "mimetype": "text/x-python",
   "name": "python",
   "nbconvert_exporter": "python",
   "pygments_lexer": "ipython3",
   "version": "3.9.12"
  }
 },
 "nbformat": 4,
 "nbformat_minor": 5
}
