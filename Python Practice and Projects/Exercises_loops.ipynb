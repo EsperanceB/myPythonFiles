{
 "cells": [
  {
   "cell_type": "code",
   "execution_count": 1,
   "id": "5bbe69b0",
   "metadata": {},
   "outputs": [
    {
     "name": "stdout",
     "output_type": "stream",
     "text": [
      "1\n",
      "2\n",
      "3\n",
      "4\n",
      "5\n",
      "6\n",
      "7\n",
      "8\n",
      "9\n",
      "10\n"
     ]
    }
   ],
   "source": [
    "for i in range(1,11):\n",
    "    print(i)"
   ]
  },
  {
   "cell_type": "code",
   "execution_count": 22,
   "id": "0fe6c2e1",
   "metadata": {},
   "outputs": [
    {
     "name": "stdout",
     "output_type": "stream",
     "text": [
      "1 \n",
      "1 2 \n",
      "1 2 3 \n",
      "1 2 3 4 \n",
      "1 2 3 4 5 \n"
     ]
    }
   ],
   "source": [
    "row = 5\n",
    "for i in range (1,row+1,1):\n",
    "    for j in range(1,i+1):\n",
    "        print(j, end=\" \")\n",
    "    print(\"\")"
   ]
  },
  {
   "cell_type": "code",
   "execution_count": 7,
   "id": "13b485e8",
   "metadata": {},
   "outputs": [
    {
     "name": "stdout",
     "output_type": "stream",
     "text": [
      "Enter a number: 10\n",
      "55\n"
     ]
    }
   ],
   "source": [
    "num = int(input(\"Enter a number: \"))\n",
    "total=0\n",
    "for i in range(0,num,1):\n",
    "    i+=1\n",
    "    total= total + i\n",
    "print(total)\n"
   ]
  },
  {
   "cell_type": "code",
   "execution_count": 14,
   "id": "146e9d8d",
   "metadata": {},
   "outputs": [
    {
     "name": "stdout",
     "output_type": "stream",
     "text": [
      "Enter a number: 2\n",
      "2\n",
      "4\n",
      "6\n",
      "8\n",
      "10\n",
      "12\n",
      "14\n",
      "16\n",
      "18\n",
      "20\n"
     ]
    }
   ],
   "source": [
    "num = int(input(\"Enter a number: \"))\n",
    "prod = 0\n",
    "for i in range(0,10,1):\n",
    "    i+=1\n",
    "    prod = num * i\n",
    "    print(prod)"
   ]
  },
  {
   "cell_type": "code",
   "execution_count": 23,
   "id": "0708f882",
   "metadata": {},
   "outputs": [
    {
     "name": "stdout",
     "output_type": "stream",
     "text": [
      "75\n",
      "150\n",
      "145\n"
     ]
    }
   ],
   "source": [
    "numbers = [12, 75, 150, 180, 145, 525, 50]\n",
    "for n in numbers:\n",
    "    if n > 500:\n",
    "        break\n",
    "    if n > 150:\n",
    "        continue\n",
    "    if n%5== 0:\n",
    "        print(n)\n",
    "            "
   ]
  },
  {
   "cell_type": "code",
   "execution_count": 24,
   "id": "a6a5ca60",
   "metadata": {},
   "outputs": [
    {
     "name": "stdout",
     "output_type": "stream",
     "text": [
      "5\n"
     ]
    }
   ],
   "source": [
    "n = 75869\n",
    "counter = 0\n",
    "while n != 0:\n",
    "    n = n//10\n",
    "    counter +=1\n",
    "print(counter)"
   ]
  },
  {
   "cell_type": "code",
   "execution_count": 41,
   "id": "e6ac9967",
   "metadata": {},
   "outputs": [
    {
     "name": "stdout",
     "output_type": "stream",
     "text": [
      "Give number of row : 8\n",
      "8 7 6 5 4 3 2 1 \n",
      "7 6 5 4 3 2 1 \n",
      "6 5 4 3 2 1 \n",
      "5 4 3 2 1 \n",
      "4 3 2 1 \n",
      "3 2 1 \n",
      "2 1 \n",
      "1 \n",
      "\n"
     ]
    }
   ],
   "source": [
    "row = int(input(\"Give number of row : \"))\n",
    "k = row\n",
    "for i in range(0,row+1):\n",
    "    for j in range(k-i,0,-1):\n",
    "        print(j, end=' ')\n",
    "    print(\"\") "
   ]
  },
  {
   "cell_type": "code",
   "execution_count": 42,
   "id": "67f0af7d",
   "metadata": {},
   "outputs": [
    {
     "name": "stdout",
     "output_type": "stream",
     "text": [
      "[50, 40, 30, 20, 10]\n"
     ]
    }
   ],
   "source": [
    "list1 = [10, 20, 30, 40, 50]\n",
    "print(list1[::-1])"
   ]
  },
  {
   "cell_type": "code",
   "execution_count": 43,
   "id": "5d09a3eb",
   "metadata": {},
   "outputs": [
    {
     "name": "stdout",
     "output_type": "stream",
     "text": [
      "50\n",
      "40\n",
      "30\n",
      "20\n",
      "10\n"
     ]
    }
   ],
   "source": [
    "list1 = [10, 20, 30, 40, 50]\n",
    "for i in list1[::-1]:\n",
    "    print(i)"
   ]
  },
  {
   "cell_type": "code",
   "execution_count": 44,
   "id": "dfc6672e",
   "metadata": {},
   "outputs": [
    {
     "name": "stdout",
     "output_type": "stream",
     "text": [
      "-10\n",
      "-9\n",
      "-8\n",
      "-7\n",
      "-6\n",
      "-5\n",
      "-4\n",
      "-3\n",
      "-2\n",
      "-1\n"
     ]
    }
   ],
   "source": [
    "for i in range(-10,0):\n",
    "    print(i)"
   ]
  },
  {
   "cell_type": "code",
   "execution_count": 48,
   "id": "1159d610",
   "metadata": {},
   "outputs": [
    {
     "name": "stdout",
     "output_type": "stream",
     "text": [
      "0\n",
      "1\n",
      "2\n",
      "3\n",
      "4\n",
      "Done!\n"
     ]
    }
   ],
   "source": [
    "for i in range(5):\n",
    "    print(i)\n",
    "else:\n",
    "    print(\"Done!\")"
   ]
  },
  {
   "cell_type": "code",
   "execution_count": 57,
   "id": "585962bf",
   "metadata": {},
   "outputs": [
    {
     "name": "stdout",
     "output_type": "stream",
     "text": [
      "29\n",
      "31\n",
      "37\n",
      "41\n",
      "43\n",
      "47\n"
     ]
    }
   ],
   "source": [
    "start = 25\n",
    "end = 50\n",
    "for n in range(start,end+1):\n",
    "    if n > 1:\n",
    "        for m in range(2,n):\n",
    "            if n%m == 0:\n",
    "                break\n",
    "        else:\n",
    "            print(n)\n",
    "        "
   ]
  },
  {
   "cell_type": "code",
   "execution_count": 68,
   "id": "015da22e",
   "metadata": {},
   "outputs": [
    {
     "name": "stdout",
     "output_type": "stream",
     "text": [
      "0 1 1 2 3 5 8 13 21 34 "
     ]
    }
   ],
   "source": [
    "# fibobacci numbers\n",
    "\n",
    "num1,num2 =0,  1\n",
    "for i in range(10):\n",
    "    print(num1, end=\" \")\n",
    "    num = num1 + num2\n",
    "    num1= num2\n",
    "    num2= num\n",
    "    \n"
   ]
  },
  {
   "cell_type": "code",
   "execution_count": 67,
   "id": "2ff62e6e",
   "metadata": {},
   "outputs": [
    {
     "name": "stdout",
     "output_type": "stream",
     "text": [
      "Fibonacci sequence:\n",
      "0  1  1  2  3  5  8  13  21  34  "
     ]
    }
   ],
   "source": [
    "num1, num2 = 0, 1\n",
    "\n",
    "print(\"Fibonacci sequence:\")\n",
    "# run loop 10 times\n",
    "for i in range(10):\n",
    "    # print next number of a series\n",
    "    print(num1, end=\"  \")\n",
    "    # add last two numbers to get next number\n",
    "    res = num1 + num2\n",
    "\n",
    "    # update values\n",
    "    num1 = num2\n",
    "    num2 = res"
   ]
  },
  {
   "cell_type": "code",
   "execution_count": 75,
   "id": "45c8c33e",
   "metadata": {},
   "outputs": [
    {
     "name": "stdout",
     "output_type": "stream",
     "text": [
      "Enter a number: 6\n",
      "720\n"
     ]
    }
   ],
   "source": [
    "num = int(input(\"Enter a number: \"))\n",
    "factorial = 1\n",
    "for i in range(1,num,1):\n",
    "    i+=1\n",
    "    factorial= factorial* i\n",
    "print(factorial)"
   ]
  },
  {
   "cell_type": "code",
   "execution_count": 84,
   "id": "6522bc92",
   "metadata": {},
   "outputs": [],
   "source": [
    "def factorial_of_num(): \n",
    "    num = int(input(\"Give a number: \"))\n",
    "    factorial = 1\n",
    "    if num < 0:\n",
    "        print(\"Factorial does not exist for negative numbers\")\n",
    "    elif num == 0:\n",
    "        print(\"The factorial of 0 is 1\")\n",
    "    else:\n",
    "        # run loop 5 times\n",
    "        for i in range(1, num + 1):\n",
    "            # multiply factorial by current number\n",
    "            factorial = factorial * i\n",
    "            \n",
    "        return(factorial)\n",
    "        "
   ]
  },
  {
   "cell_type": "code",
   "execution_count": 106,
   "id": "ef856667",
   "metadata": {},
   "outputs": [
    {
     "name": "stdout",
     "output_type": "stream",
     "text": [
      "Give a number: 6\n"
     ]
    },
    {
     "data": {
      "text/plain": [
       "720"
      ]
     },
     "execution_count": 106,
     "metadata": {},
     "output_type": "execute_result"
    }
   ],
   "source": [
    "factorial_of_num()"
   ]
  },
  {
   "cell_type": "code",
   "execution_count": 91,
   "id": "cbd9c34c",
   "metadata": {},
   "outputs": [
    {
     "name": "stdout",
     "output_type": "stream",
     "text": [
      "24567"
     ]
    }
   ],
   "source": [
    "num = 76542\n",
    "while num > 0:\n",
    "    reverse = num%10\n",
    "    num = num//10\n",
    "    print(reverse,end=\"\")\n",
    "    "
   ]
  },
  {
   "cell_type": "code",
   "execution_count": 94,
   "id": "402f73f2",
   "metadata": {},
   "outputs": [
    {
     "name": "stdout",
     "output_type": "stream",
     "text": [
      "20 40 60 80 100 "
     ]
    }
   ],
   "source": [
    "my_list = [10, 20, 30, 40, 50, 60, 70, 80, 90, 100]\n",
    "for i in my_list[1::2]:\n",
    "    print(i, end=\" \")\n",
    "    "
   ]
  },
  {
   "cell_type": "code",
   "execution_count": 97,
   "id": "6659a244",
   "metadata": {},
   "outputs": [
    {
     "name": "stdout",
     "output_type": "stream",
     "text": [
      "Give a number: 6\n",
      "The cube of  1 is  1\n",
      "The cube of  2 is  8\n",
      "The cube of  3 is  27\n",
      "The cube of  4 is  64\n",
      "The cube of  5 is  125\n",
      "The cube of  6 is  216\n"
     ]
    }
   ],
   "source": [
    "num = int(input(\"Give a number: \"))\n",
    "for i in range(1,num+1):\n",
    "    num = i**3\n",
    "    print(\"The cube of \", i,\"is \", num)"
   ]
  },
  {
   "cell_type": "code",
   "execution_count": 133,
   "id": "9884b76d",
   "metadata": {},
   "outputs": [
    {
     "name": "stdout",
     "output_type": "stream",
     "text": [
      "2+22+222+2222+22222+\n",
      "Sum of above series is: 24690\n"
     ]
    }
   ],
   "source": [
    "n = 2\n",
    "suite = 0\n",
    "\n",
    "for i in range(0,5):\n",
    "    print(n, end=\"+\")\n",
    "    suite += n\n",
    "    n = n*10 + 2\n",
    "    \n",
    "print(\"\\nSum of above series is:\", suite)\n"
   ]
  },
  {
   "cell_type": "code",
   "execution_count": 136,
   "id": "fad6cf04",
   "metadata": {},
   "outputs": [
    {
     "name": "stdout",
     "output_type": "stream",
     "text": [
      "* \n",
      "* * \n",
      "* * * \n",
      "* * * * \n",
      "* * * * * \n",
      "* * * * * * \n",
      "* * * * * * * \n",
      "* * * * * * * * \n",
      "* * * * * * * \n",
      "* * * * * * \n",
      "* * * * * \n",
      "* * * * \n",
      "* * * \n",
      "* * \n",
      "* \n"
     ]
    }
   ],
   "source": [
    "row = 7\n",
    "for i in range (1,row+1,1):\n",
    "    for j in range(1,i+1):\n",
    "        print(\"*\", end=\" \")\n",
    "    print(\"\")\n",
    "for i in range(0,row+1):\n",
    "    for j in range(k-i,0,-1):\n",
    "        print(\"*\", end=' ')\n",
    "    print(\"\") \n"
   ]
  },
  {
   "cell_type": "code",
   "execution_count": 3,
   "id": "c3dc78a4",
   "metadata": {},
   "outputs": [
    {
     "name": "stdout",
     "output_type": "stream",
     "text": [
      "\n",
      "\n",
      "\n",
      "\n",
      "*\n",
      "\n",
      "\n",
      "\n",
      "\n",
      " *\n",
      "\n",
      "\n",
      "\n",
      "\n",
      "  *\n",
      "\n",
      "\n",
      "\n",
      "\n",
      "   *\n",
      "\n",
      "\n",
      "\n",
      "\n",
      "    *\n",
      "\n",
      "\n",
      "\n",
      "\n",
      "     *\n",
      "\n",
      "\n",
      "\n",
      "\n",
      "      *\n",
      "\n",
      "\n",
      "\n",
      "\n",
      "       *\n",
      "\n",
      "\n",
      "\n",
      "\n",
      "        *\n",
      "\n",
      "\n",
      "\n",
      "\n",
      "         *\n",
      "\n",
      "\n",
      "\n",
      "\n",
      "          *\n",
      "\n",
      "\n",
      "\n",
      "\n",
      "           *\n",
      "\n",
      "\n",
      "\n",
      "\n",
      "            *\n",
      "\n",
      "\n",
      "\n",
      "\n",
      "             *\n",
      "\n",
      "\n",
      "\n",
      "\n",
      "              *\n",
      "\n",
      "\n",
      "\n",
      "\n",
      "               *\n",
      "\n",
      "\n",
      "\n",
      "\n",
      "                *\n",
      "\n",
      "\n",
      "\n",
      "\n",
      "                 *\n",
      "\n",
      "\n",
      "\n",
      "\n",
      "                  *\n",
      "\n",
      "\n",
      "\n",
      "\n",
      "                   *\n"
     ]
    }
   ],
   "source": [
    "import time\n",
    "import os\n",
    "\n",
    "def clear():\n",
    "    os.system('cls' if os.name == 'nt' else 'clear')\n",
    "\n",
    "for i in range(0,20):\n",
    "    print('\\n\\n\\n')\n",
    "    print(' '*i + '*')\n",
    "    time.sleep(0.1)\n",
    "    clear()"
   ]
  },
  {
   "cell_type": "code",
   "execution_count": null,
   "id": "2c7d6534",
   "metadata": {},
   "outputs": [],
   "source": []
  }
 ],
 "metadata": {
  "kernelspec": {
   "display_name": "Python 3 (ipykernel)",
   "language": "python",
   "name": "python3"
  },
  "language_info": {
   "codemirror_mode": {
    "name": "ipython",
    "version": 3
   },
   "file_extension": ".py",
   "mimetype": "text/x-python",
   "name": "python",
   "nbconvert_exporter": "python",
   "pygments_lexer": "ipython3",
   "version": "3.10.9"
  }
 },
 "nbformat": 4,
 "nbformat_minor": 5
}
