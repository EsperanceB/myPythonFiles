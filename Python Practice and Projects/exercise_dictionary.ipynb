{
 "cells": [
  {
   "cell_type": "code",
   "execution_count": 1,
   "id": "1b73a60f",
   "metadata": {},
   "outputs": [],
   "source": [
    "keys = ['Ten', 'Twenty', 'Thirty']\n",
    "values = [10, 20, 30]\n"
   ]
  },
  {
   "cell_type": "code",
   "execution_count": 2,
   "id": "17df4510",
   "metadata": {},
   "outputs": [
    {
     "name": "stdout",
     "output_type": "stream",
     "text": [
      "{'name': 'Jessa', 'country': 'USA', 'telephone': 1178}\n",
      "{'name': 'Jessa', 'country': 'USA', 'telephone': 1178}\n",
      "{'name': 'Mark', 'country': 'USA', 'telephone': 1178}\n",
      "{'name': 'Jessa', 10: 'Mobile'}\n",
      "{'name': 'Jessa', 'telephones': [1178, 2563, 4569]}\n"
     ]
    }
   ],
   "source": [
    "# create a dictionary using {}\n",
    "person = {\"name\": \"Jessa\", \"country\": \"USA\", \"telephone\": 1178}\n",
    "print(person)\n",
    "# output {'name': 'Jessa', 'country': 'USA', 'telephone': 1178}\n",
    "\n",
    "# create a dictionary using dict()\n",
    "person = dict({\"name\": \"Jessa\", \"country\": \"USA\", \"telephone\": 1178})\n",
    "print(person)\n",
    "# output {'name': 'Jessa', 'country': 'USA', 'telephone': 1178}\n",
    "\n",
    "# create a dictionary from sequence having each item as a pair\n",
    "person = dict([(\"name\", \"Mark\"), (\"country\", \"USA\"), (\"telephone\", 1178)])\n",
    "print(person)\n",
    "\n",
    "# create dictionary with mixed keys keys\n",
    "# first key is string and second is an integer\n",
    "sample_dict = {\"name\": \"Jessa\", 10: \"Mobile\"}\n",
    "print(sample_dict)\n",
    "# output {'name': 'Jessa', 10: 'Mobile'}\n",
    "\n",
    "# create dictionary with value as a list\n",
    "person = {\"name\": \"Jessa\", \"telephones\": [1178, 2563, 4569]}\n",
    "print(person)\n",
    "# output {'name': 'Jessa', 'telephones': [1178, 2563, 4569]}"
   ]
  },
  {
   "cell_type": "code",
   "execution_count": 3,
   "id": "45044d0a",
   "metadata": {},
   "outputs": [
    {
     "name": "stdout",
     "output_type": "stream",
     "text": [
      "dict_keys(['name', 'country', 'telephone'])\n",
      "<class 'dict_keys'>\n",
      "dict_values(['Jessa', 'USA', 1178])\n",
      "<class 'dict_values'>\n",
      "dict_items([('name', 'Jessa'), ('country', 'USA'), ('telephone', 1178)])\n",
      "<class 'dict_items'>\n"
     ]
    }
   ],
   "source": [
    "person = {\"name\": \"Jessa\", \"country\": \"USA\", \"telephone\": 1178}\n",
    "\n",
    "# Get all keys\n",
    "print(person.keys())\n",
    "# output dict_keys(['name', 'country', 'telephone'])\n",
    "print(type(person.keys()))\n",
    "# Output class 'dict_keys'\n",
    "\n",
    "# Get all values\n",
    "print(person.values())\n",
    "# output dict_values(['Jessa', 'USA', 1178])\n",
    "print(type(person.values()))  \n",
    "# Output class 'dict_values'\n",
    "\n",
    "# Get all key-value pair\n",
    "print(person.items())\n",
    "# output dict_items([('name', 'Jessa'), ('country', 'USA'), ('telephone', 1178)])\n",
    "print(type(person.items()))\n",
    "# Output class 'dict_items'"
   ]
  },
  {
   "cell_type": "code",
   "execution_count": 4,
   "id": "4587e997",
   "metadata": {},
   "outputs": [
    {
     "name": "stdout",
     "output_type": "stream",
     "text": [
      "key : value\n",
      "name : Jessa\n",
      "country : USA\n",
      "telephone : 1178\n",
      "key : value\n",
      "name Jessa\n",
      "country USA\n",
      "telephone 1178\n"
     ]
    }
   ],
   "source": [
    "person = {\"name\": \"Jessa\", \"country\": \"USA\", \"telephone\": 1178}\n",
    "\n",
    "# Iterating the dictionary using for-loop\n",
    "print('key', ':', 'value')\n",
    "for key in person:\n",
    "    print(key, ':', person[key])\n",
    "\n",
    "# using items() method\n",
    "print('key', ':', 'value')\n",
    "for key_value in person.items():\n",
    "    # first is key, and second is value\n",
    "    print(key_value[0], key_value[1])\n",
    " "
   ]
  },
  {
   "cell_type": "code",
   "execution_count": 5,
   "id": "5f622248",
   "metadata": {},
   "outputs": [
    {
     "name": "stdout",
     "output_type": "stream",
     "text": [
      "{'name': 'Jessa', 'country': 'USA', 'telephone': 1178, 'weight': 50, 'height': 6}\n"
     ]
    }
   ],
   "source": [
    "person = {\"name\": \"Jessa\", 'country': \"USA\", \"telephone\": 1178}\n",
    "\n",
    "# update dictionary by adding 2 new keys\n",
    "person[\"weight\"] = 50\n",
    "person.update({\"height\": 6})\n",
    "\n",
    "# print the updated dictionary\n",
    "print(person)\n",
    "# output {'name': 'Jessa', 'country': 'USA', 'telephone': 1178, 'weight': 50, 'height': 6}"
   ]
  },
  {
   "cell_type": "code",
   "execution_count": 6,
   "id": "7fea5388",
   "metadata": {},
   "outputs": [
    {
     "name": "stdout",
     "output_type": "stream",
     "text": [
      "{'name': 'Jessa', 'country': 'USA', 'telephone': 1178, 'weight': 50, 'height': 6}\n"
     ]
    }
   ],
   "source": [
    "person = {\"name\": \"Jessa\", 'country': \"USA\", \"telephone\": 1178}\n",
    "\n",
    "# update dictionary by adding 2 new keys\n",
    "person[\"weight\"] = 50\n",
    "person.update({\"height\": 6})\n",
    "\n",
    "# print the updated dictionary\n",
    "print(person)\n",
    "# output {'name': 'Jessa', 'country': 'USA', 'telephone': 1178, 'weight': 50, 'height': 6}"
   ]
  },
  {
   "cell_type": "code",
   "execution_count": 7,
   "id": "37614832",
   "metadata": {},
   "outputs": [
    {
     "name": "stdout",
     "output_type": "stream",
     "text": [
      "name : Jessa\n",
      "country : USA\n",
      "telephone : 1178\n",
      "state : Texas\n",
      "zip : None\n"
     ]
    }
   ],
   "source": [
    "person_details = {\"name\": \"Jessa\", \"country\": \"USA\", \"telephone\": 1178}\n",
    "\n",
    "# set default value if key doesn't exists\n",
    "person_details.setdefault('state', 'Texas')\n",
    "\n",
    "# key doesn't exists and value not mentioned. default None\n",
    "person_details.setdefault(\"zip\")\n",
    "\n",
    "# key exists and value mentioned. doesn't  change value\n",
    "person_details.setdefault('country', 'Canada')\n",
    "\n",
    "# Display dictionary\n",
    "for key, value in person_details.items():\n",
    "    print(key, ':', value)"
   ]
  },
  {
   "cell_type": "code",
   "execution_count": 8,
   "id": "461fded9",
   "metadata": {},
   "outputs": [
    {
     "name": "stdout",
     "output_type": "stream",
     "text": [
      "Canada\n",
      "USA\n"
     ]
    }
   ],
   "source": [
    "person = {\"name\": \"Jessa\", \"country\": \"USA\"}\n",
    "\n",
    "# updating the country name\n",
    "person[\"country\"] = \"Canada\"\n",
    "# print the updated country\n",
    "print(person['country'])\n",
    "# Output 'Canada'\n",
    "\n",
    "# updating the country name using update() method\n",
    "person.update({\"country\": \"USA\"})\n",
    "# print the updated country\n",
    "print(person['country'])\n",
    "# Output 'USA'"
   ]
  },
  {
   "cell_type": "code",
   "execution_count": 9,
   "id": "6376d037",
   "metadata": {},
   "outputs": [
    {
     "name": "stdout",
     "output_type": "stream",
     "text": [
      "('height', 6)\n",
      "{'name': 'Jessa', 'country': 'USA', 'telephone': 1178, 'weight': 50}\n",
      "1178\n",
      "{'name': 'Jessa', 'country': 'USA', 'weight': 50}\n",
      "{'name': 'Jessa', 'country': 'USA'}\n",
      "{}\n"
     ]
    }
   ],
   "source": [
    "person = {'name': 'Jessa', 'country': 'USA', 'telephone': 1178, 'weight': 50, 'height': 6}\n",
    "\n",
    "# Remove last inserted item from the dictionary\n",
    "deleted_item = person.popitem()\n",
    "print(deleted_item)  # output ('height', 6)\n",
    "# display updated dictionary\n",
    "print(person)  \n",
    "# Output {'name': 'Jessa', 'country': 'USA', 'telephone': 1178, 'weight': 50}\n",
    "\n",
    "# Remove key 'telephone' from the dictionary\n",
    "deleted_item = person.pop('telephone')\n",
    "print(deleted_item)  # output 1178\n",
    "# display updated dictionary\n",
    "print(person)  \n",
    "# Output {'name': 'Jessa', 'country': 'USA', 'weight': 50}\n",
    "\n",
    "# delete key 'weight'\n",
    "del person['weight']\n",
    "# display updated dictionary\n",
    "print(person)\n",
    "# Output {'name': 'Jessa', 'country': 'USA'}\n",
    "\n",
    "# remove all item (key-values) from dict\n",
    "person.clear()\n",
    "# display updated dictionary\n",
    "print(person)  # {}\n",
    "\n",
    "# Delete the entire dictionary\n",
    "del person"
   ]
  },
  {
   "cell_type": "code",
   "execution_count": 10,
   "id": "4edf0f9e",
   "metadata": {},
   "outputs": [
    {
     "name": "stdout",
     "output_type": "stream",
     "text": [
      "country name is USA\n"
     ]
    }
   ],
   "source": [
    "person = {'name': 'Jessa', 'country': 'USA', 'telephone': 1178}\n",
    "\n",
    "# Get the list of keys and check if 'country' key is present\n",
    "key_name = 'country'\n",
    "if key_name in person.keys():\n",
    "    print(\"country name is\", person[key_name])\n",
    "else:\n",
    "    print(\"Key not found\")\n",
    "# Output country name is USA"
   ]
  },
  {
   "cell_type": "code",
   "execution_count": 11,
   "id": "6346c539",
   "metadata": {},
   "outputs": [
    {
     "name": "stdout",
     "output_type": "stream",
     "text": [
      "{'Jessa': 70, 'Arul': 80, 'Emma': 55, 'Kelly': 68, 'Harry': 50, 'Olivia': 66}\n"
     ]
    }
   ],
   "source": [
    "dict1 = {'Jessa': 70, 'Arul': 80, 'Emma': 55}\n",
    "dict2 = {'Kelly': 68, 'Harry': 50, 'Olivia': 66}\n",
    "\n",
    "# copy second dictionary into first dictionary\n",
    "dict1.update(dict2)\n",
    "# printing the updated dictionary\n",
    "print(dict1)\n",
    "# output {'Jessa': 70, 'Arul': 80, 'Emma': 55, 'Kelly': 68, 'Harry': 50, 'Olivia': 66}"
   ]
  },
  {
   "cell_type": "code",
   "execution_count": 12,
   "id": "da5dfd7f",
   "metadata": {},
   "outputs": [
    {
     "name": "stdout",
     "output_type": "stream",
     "text": [
      "{'Aadya': 1, 'Arul': 2, 'Harry': 5, 'Olivia': 6, 'Nancy': 7, 'Perry': 9}\n"
     ]
    }
   ],
   "source": [
    "student_dict1 = {'Aadya': 1, 'Arul': 2, }\n",
    "student_dict2 = {'Harry': 5, 'Olivia': 6}\n",
    "student_dict3 = {'Nancy': 7, 'Perry': 9}\n",
    "\n",
    "# join three dictionaries \n",
    "student_dict = {**student_dict1, **student_dict2, **student_dict3}\n",
    "# printing the final Merged dictionary\n",
    "print(student_dict)\n",
    "# Output {'Aadya': 1, 'Arul': 2, 'Harry': 5, 'Olivia': 6, 'Nancy': 7, 'Perry': 9}"
   ]
  },
  {
   "cell_type": "code",
   "execution_count": 13,
   "id": "eda8ebe5",
   "metadata": {},
   "outputs": [
    {
     "name": "stdout",
     "output_type": "stream",
     "text": [
      "66\n"
     ]
    }
   ],
   "source": [
    "dict1 = {'Jessa': 70, 'Arul': 80, 'Emma': 55}\n",
    "dict2 = {'Kelly': 68, 'Harry': 50, 'Emma': 66}\n",
    "\n",
    "# join two dictionaries with some common items\n",
    "dict1.update(dict2)\n",
    "# printing the updated dictionary\n",
    "print(dict1['Emma'])\n",
    "# Output 66"
   ]
  },
  {
   "cell_type": "code",
   "execution_count": 14,
   "id": "ca35a418",
   "metadata": {},
   "outputs": [
    {
     "name": "stdout",
     "output_type": "stream",
     "text": [
      "{'Jessa': 70, 'Emma': 55}\n",
      "{'Jessa': 70, 'Emma': 55}\n",
      "{'Jessa': 70, 'Emma': 55}\n"
     ]
    }
   ],
   "source": [
    "dict1 = {'Jessa': 70, 'Emma': 55}\n",
    "\n",
    "# Copy dictionary using copy() method\n",
    "dict2 = dict1.copy()\n",
    "# printing the new  dictionary\n",
    "print(dict2)\n",
    "# output {'Jessa': 70, 'Emma': 55}\n",
    "\n",
    "# Copy dictionary using dict() constructor\n",
    "dict3 = dict(dict1)\n",
    "print(dict3)\n",
    "# output {'Jessa': 70, 'Emma': 55}\n",
    "\n",
    "# Copy dictionary using the output of items() methods\n",
    "dict4 = dict(dict1.items())\n",
    "print(dict4)\n",
    "# output {'Jessa': 70, 'Emma': 55}"
   ]
  },
  {
   "cell_type": "markdown",
   "id": "819b6430",
   "metadata": {},
   "source": [
    "When you set dict2 = dict1, you are making them refer to the same dict object, so when you modify one of them, all references associated with that object reflect the current state of the object. So don’t use the assignment operator to copy the dictionary instead use the copy() method."
   ]
  },
  {
   "cell_type": "code",
   "execution_count": 15,
   "id": "829f0c50",
   "metadata": {},
   "outputs": [
    {
     "name": "stdout",
     "output_type": "stream",
     "text": [
      "{'Jessa': 90, 'Emma': 55}\n",
      "{'Jessa': 90, 'Emma': 55}\n"
     ]
    }
   ],
   "source": [
    "dict1 = {'Jessa': 70, 'Emma': 55}\n",
    "\n",
    "# Copy dictionary using assignment = operator\n",
    "dict2 = dict1\n",
    "# modify dict2\n",
    "dict2.update({'Jessa': 90})\n",
    "print(dict2)\n",
    "# Output {'Jessa': 90, 'Emma': 55}\n",
    "\n",
    "print(dict1)\n",
    "# Output {'Jessa': 90, 'Emma': 55}"
   ]
  },
  {
   "cell_type": "code",
   "execution_count": 16,
   "id": "e13c8ad6",
   "metadata": {},
   "outputs": [
    {
     "name": "stdout",
     "output_type": "stream",
     "text": [
      "person: {'name': 'Jessa', 'company': 'Google', 'address': {'state': 'Texas', 'city': 'Houston'}}\n",
      "City: Houston\n",
      "Person details\n",
      "name : Jessa\n",
      "company : Google\n",
      "Person Address\n",
      "state : Texas\n",
      "city : Houston\n"
     ]
    }
   ],
   "source": [
    "# address dictionary to store person address\n",
    "address = {\"state\": \"Texas\", 'city': 'Houston'}\n",
    "\n",
    "# dictionary to store person details with address as a nested dictionary\n",
    "person = {'name': 'Jessa', 'company': 'Google', 'address': address}\n",
    "\n",
    "# Display dictionary\n",
    "print(\"person:\", person)\n",
    "\n",
    "# Get nested dictionary key 'city'\n",
    "print(\"City:\", person['address']['city'])\n",
    "\n",
    "# Iterating outer dictionary\n",
    "print(\"Person details\")\n",
    "for key, value in person.items():\n",
    "    if key == 'address':\n",
    "        # Iterating through nested dictionary\n",
    "        print(\"Person Address\")\n",
    "        for nested_key, nested_value in value.items():\n",
    "            print(nested_key, ':', nested_value)\n",
    "    else:\n",
    "        print(key, ':', value)"
   ]
  },
  {
   "cell_type": "code",
   "execution_count": 17,
   "id": "e7fa3682",
   "metadata": {},
   "outputs": [
    {
     "name": "stdout",
     "output_type": "stream",
     "text": [
      "Student 3 name: Kelly\n",
      "Student 3 marks: 85\n",
      "\n",
      "Class details\n",
      "\n",
      "student1\n",
      "name : Jessa\n",
      "state : Texas\n",
      "city : Houston\n",
      "marks : 75\n",
      "\n",
      "\n",
      "student2\n",
      "name : Emma\n",
      "state : Texas\n",
      "city : Dallas\n",
      "marks : 60\n",
      "\n",
      "\n",
      "student3\n",
      "name : Kelly\n",
      "state : Texas\n",
      "city : Austin\n",
      "marks : 85\n",
      "\n",
      "\n"
     ]
    }
   ],
   "source": [
    "# each dictionary will store data of a single student\n",
    "jessa = {'name': 'Jessa', 'state': 'Texas', 'city': 'Houston', 'marks': 75}\n",
    "emma = {'name': 'Emma', 'state': 'Texas', 'city': 'Dallas', 'marks': 60}\n",
    "kelly = {'name': 'Kelly', 'state': 'Texas', 'city': 'Austin', 'marks': 85}\n",
    "\n",
    "# Outer dictionary to store all student dictionaries (nested dictionaries)\n",
    "class_six = {'student1': jessa, 'student2': emma, 'student3': kelly}\n",
    "\n",
    "# Get student3's name and mark\n",
    "print(\"Student 3 name:\", class_six['student3']['name'])\n",
    "print(\"Student 3 marks:\", class_six['student3']['marks'])\n",
    "\n",
    "# Iterating outer dictionary\n",
    "print(\"\\nClass details\\n\")\n",
    " "
   ]
  },
  {
   "cell_type": "code",
   "execution_count": 18,
   "id": "fe66a163",
   "metadata": {},
   "outputs": [
    {
     "name": "stdout",
     "output_type": "stream",
     "text": [
      "[('a', 35), ('b', 95), ('c', 45)]\n",
      "['a', 'b', 'c']\n",
      "[35, 45, 95]\n"
     ]
    }
   ],
   "source": [
    "#Sort dictionary\n",
    "\n",
    "dict1 = {'c': 45, 'b': 95, 'a': 35}\n",
    "\n",
    "# sorting dictionary by keys\n",
    "print(sorted(dict1.items()))\n",
    "# Output [('a', 35), ('b', 95), ('c', 45)]\n",
    "\n",
    "# sort dict eys\n",
    "print(sorted(dict1))\n",
    "# output ['a', 'b', 'c']\n",
    "\n",
    "# sort dictionary values\n",
    "print(sorted(dict1.values()))\n",
    "# output [35, 45, 95]"
   ]
  },
  {
   "cell_type": "code",
   "execution_count": 19,
   "id": "1d6208a2",
   "metadata": {},
   "outputs": [
    {
     "name": "stdout",
     "output_type": "stream",
     "text": [
      "{2: 4, 8: 64}\n"
     ]
    }
   ],
   "source": [
    "# output_dictionary = {key : value for key,value in iterable [if key,value condition1]}(syntax)\n",
    "# calculate the square of each even number from a list and store in dict\n",
    "numbers = [1, 3, 5, 2, 8]\n",
    "even_squares = {x: x ** 2 for x in numbers if x % 2 == 0}\n",
    "print(even_squares)\n",
    "\n",
    "# output {2: 4, 8: 64}"
   ]
  },
  {
   "cell_type": "code",
   "execution_count": 20,
   "id": "641cf233",
   "metadata": {},
   "outputs": [
    {
     "name": "stdout",
     "output_type": "stream",
     "text": [
      "{'Jessa': 1178, 'Emma': 4020, 'Kelly': 5786}\n"
     ]
    }
   ],
   "source": [
    "telephone_book = [1178, 4020, 5786]\n",
    "persons = ['Jessa', 'Emma', 'Kelly']\n",
    "\n",
    "telephone_Directory = {key: value for key, value in zip(persons, telephone_book)}\n",
    "print(telephone_Directory)\n",
    "# Output {'Jessa': 1178, 'Emma': 4020, 'Kelly': 5786}"
   ]
  },
  {
   "cell_type": "code",
   "execution_count": 22,
   "id": "9375676f",
   "metadata": {},
   "outputs": [
    {
     "name": "stdout",
     "output_type": "stream",
     "text": [
      "Maximum Key 3\n",
      "Minimum Key 1\n"
     ]
    }
   ],
   "source": [
    "dict = {1:'aaa',2:'bbb',3:'AAA'}\n",
    "print('Maximum Key',max(dict)) # 3\n",
    "print('Minimum Key',min(dict)) # 1\n",
    " "
   ]
  },
  {
   "cell_type": "code",
   "execution_count": 23,
   "id": "7f0f8dff",
   "metadata": {},
   "outputs": [
    {
     "name": "stdout",
     "output_type": "stream",
     "text": [
      "All True Keys:: True\n",
      "One False Key False\n",
      "Empty Dictionary True\n",
      "With 0 in single quotes True\n"
     ]
    }
   ],
   "source": [
    "#dictionary with both 'true' keys\n",
    "dict1 = {1:'True',1:'False'}\n",
    "\n",
    "#dictionary with one false key\n",
    "dict2 = {0:'True',1:'False'}\n",
    "\n",
    "#empty dictionary\n",
    "dict3= {}\n",
    "\n",
    "#'0' is true actually\n",
    "dict4 = {'0':False}\n",
    "\n",
    "print('All True Keys::',all(dict1))\n",
    "print('One False Key',all(dict2))\n",
    "print('Empty Dictionary',all(dict3))\n",
    "print('With 0 in single quotes',all(dict4))"
   ]
  },
  {
   "cell_type": "code",
   "execution_count": 24,
   "id": "6be2e5f4",
   "metadata": {},
   "outputs": [
    {
     "name": "stdout",
     "output_type": "stream",
     "text": [
      "All True Keys:: True\n",
      "One False Key :: True\n",
      "Empty Dictionary :: False\n",
      "With 0 in single quotes :: True\n",
      "all false ::  False\n"
     ]
    }
   ],
   "source": [
    "#dictionary with both 'true' keys\n",
    "dict1 = {1:'True',1:'False'}\n",
    "\n",
    "#dictionary with one false key\n",
    "dict2 = {0:'True',1:'False'}\n",
    "\n",
    "#empty dictionary\n",
    "dict3= {}\n",
    "\n",
    "#'0' is true actually\n",
    "dict4 = {'0':False}\n",
    "\n",
    "#all false\n",
    "dict5 = {0:False}\n",
    "\n",
    "print('All True Keys::',any(dict1))\n",
    "print('One False Key ::',any(dict2))\n",
    "print('Empty Dictionary ::',any(dict3))\n",
    "print('With 0 in single quotes ::',any(dict4))\n",
    "print('all false :: ',any(dict5))"
   ]
  },
  {
   "cell_type": "code",
   "execution_count": 25,
   "id": "ab63ad8f",
   "metadata": {},
   "outputs": [
    {
     "name": "stdout",
     "output_type": "stream",
     "text": [
      "{'Ten': 10, 'Twenty': 20, 'Thirty': 30}\n"
     ]
    }
   ],
   "source": [
    "keys = ['Ten', 'Twenty', 'Thirty']\n",
    "values = [10, 20, 30]\n",
    "dict_kv = {key: value for key, value in zip(keys, values)}\n",
    "print(dict_kv)"
   ]
  },
  {
   "cell_type": "code",
   "execution_count": 27,
   "id": "c30060d8",
   "metadata": {},
   "outputs": [
    {
     "name": "stdout",
     "output_type": "stream",
     "text": [
      "{'Ten': 10, 'Twenty': 20, 'Thirty': 30, 'Fourty': 40, 'Fifty': 50}\n"
     ]
    }
   ],
   "source": [
    "dict1 = {'Ten': 10, 'Twenty': 20, 'Thirty': 30}\n",
    "dict2 = {'Thirty': 30, 'Fourty': 40, 'Fifty': 50}\n",
    "dict1.update(dict2)\n",
    "print(dict1)"
   ]
  },
  {
   "cell_type": "code",
   "execution_count": 28,
   "id": "5330f5d3",
   "metadata": {},
   "outputs": [],
   "source": [
    "dict1 = {'Ten': 10, 'Twenty': 20, 'Thirty': 30}\n",
    "dict2 = {'Thirty': 30, 'Fourty': 40, 'Fifty': 50}\n",
    "dictf = {**dict1,**dict2}\n"
   ]
  },
  {
   "cell_type": "code",
   "execution_count": 29,
   "id": "9674acbe",
   "metadata": {},
   "outputs": [
    {
     "data": {
      "text/plain": [
       "{'Ten': 10, 'Twenty': 20, 'Thirty': 30, 'Fourty': 40, 'Fifty': 50}"
      ]
     },
     "execution_count": 29,
     "metadata": {},
     "output_type": "execute_result"
    }
   ],
   "source": [
    "dictf"
   ]
  },
  {
   "cell_type": "code",
   "execution_count": 38,
   "id": "bcbe73cc",
   "metadata": {},
   "outputs": [
    {
     "name": "stdout",
     "output_type": "stream",
     "text": [
      "80\n",
      "80\n"
     ]
    }
   ],
   "source": [
    "sampleDict = {\"class\": {\"student\": {\"name\": \"Mike\",\"marks\": {\"physics\": 70,\"history\": 80}}}}\n",
    "\n",
    "class_st = {'name':'mike', 'marks' : {'physics': 70, 'history':80}}\n",
    "print(class_st['marks']['history'])\n",
    "print(sampleDict['class']['student']['marks']['history'])"
   ]
  },
  {
   "cell_type": "code",
   "execution_count": 57,
   "id": "69bae05c",
   "metadata": {},
   "outputs": [
    {
     "name": "stdout",
     "output_type": "stream",
     "text": [
      "{'Kelly': {'designation': 'Developer', 'salary': 8000}, 'Emma': {'designation': 'Developer', 'salary': 8000}}\n"
     ]
    }
   ],
   "source": [
    "employees = ['Kelly', 'Emma']\n",
    "defaults = {\"designation\": 'Developer', \"salary\": 8000}\n",
    "\n",
    "dict_employee= dict.fromkeys(employees,defaults)\n",
    "print(dict_employee)\n"
   ]
  },
  {
   "cell_type": "code",
   "execution_count": 66,
   "id": "6665c45e",
   "metadata": {},
   "outputs": [
    {
     "name": "stdout",
     "output_type": "stream",
     "text": [
      "name : Kelly\n",
      "salary : 8000\n",
      "{'name': 'Kelly', 'salary': 8000}\n"
     ]
    }
   ],
   "source": [
    "sample_dict = {\"name\": \"Kelly\",\"age\": 25,\"salary\": 8000,\"city\": \"New york\"}\n",
    "\n",
    "# Keys to extract\n",
    "keys = [\"name\", \"salary\"]\n",
    "dict_s={}\n",
    "for key in keys:\n",
    "    if key in sample_dict:\n",
    "        print(key,\":\",sample_dict[key])\n",
    "        \n",
    "    \n",
    "    \n",
    "        \n",
    "    else:\n",
    "        print(\"Key no found\")\n",
    "newDict = {k: sample_dict[k] for k in keys}\n",
    "print(newDict)"
   ]
  },
  {
   "cell_type": "code",
   "execution_count": 68,
   "id": "427c801d",
   "metadata": {},
   "outputs": [
    {
     "name": "stdout",
     "output_type": "stream",
     "text": [
      "{'name': 'Kelly', 'salary': 8000}\n"
     ]
    }
   ],
   "source": [
    "sample_dict = {\n",
    "    \"name\": \"Kelly\",\n",
    "    \"age\": 25,\n",
    "    \"salary\": 8000,\n",
    "    \"city\": \"New york\"}\n",
    "\n",
    "# keys to extract\n",
    "keys = [\"name\", \"salary\"]\n",
    "\n",
    "# new dict\n",
    "res = {}\n",
    "\n",
    "for k in keys:\n",
    "    # add current key with its va;ue from sample_dict\n",
    "    res.update({k: sample_dict[k]})\n",
    "print(res)"
   ]
  },
  {
   "cell_type": "code",
   "execution_count": 69,
   "id": "d17df975",
   "metadata": {},
   "outputs": [
    {
     "name": "stdout",
     "output_type": "stream",
     "text": [
      "{'age': 25, 'city': 'New york'}\n"
     ]
    }
   ],
   "source": [
    "sample_dict = {\n",
    "    \"name\": \"Kelly\",\n",
    "    \"age\": 25,\n",
    "    \"salary\": 8000,\n",
    "    \"city\": \"New york\"\n",
    "}\n",
    "\n",
    "# Keys to remove\n",
    "keys = [\"name\", \"salary\"]\n",
    "\n",
    "for w in keys:\n",
    "    del sample_dict[w]\n",
    "print(sample_dict)"
   ]
  },
  {
   "cell_type": "code",
   "execution_count": 78,
   "id": "90c134c3",
   "metadata": {},
   "outputs": [
    {
     "name": "stdout",
     "output_type": "stream",
     "text": [
      "200 is present in the dictionary\n"
     ]
    }
   ],
   "source": [
    "sample_dict = {'a': 100, 'b': 200, 'c': 300}\n",
    "value = 200\n",
    "if value in sample_dict.values():\n",
    "    \n",
    "    print(value,\"is present in the dictionary\")\n",
    "else:\n",
    "    print(\"value not found\")"
   ]
  },
  {
   "cell_type": "code",
   "execution_count": 87,
   "id": "1ac31a46",
   "metadata": {},
   "outputs": [
    {
     "name": "stdout",
     "output_type": "stream",
     "text": [
      "{'name': 'Kelly', 'age': 25, 'salary': 8000, 'location': 'New york'}\n"
     ]
    }
   ],
   "source": [
    "sample_dict = {\n",
    "  \"name\": \"Kelly\",\n",
    "  \"age\":25,\n",
    "  \"salary\": 8000,\n",
    "  \"city\": \"New york\"\n",
    "}\n",
    "\n",
    "sample_dict.update({'location':sample_dict['city']})\n",
    "sample_dict.pop('city')\n",
    "print(sample_dict)"
   ]
  },
  {
   "cell_type": "code",
   "execution_count": 89,
   "id": "733523f4",
   "metadata": {},
   "outputs": [
    {
     "name": "stdout",
     "output_type": "stream",
     "text": [
      "Minimum Key Math\n",
      "Math\n"
     ]
    }
   ],
   "source": [
    "sample_dict = {\n",
    "  'Physics': 82,\n",
    "  'Math': 65,\n",
    "  'history': 75\n",
    "}\n",
    "\n",
    "print('Minimum Key',min(sample_dict))\n",
    "print(min(sample_dict, key=sample_dict.get))"
   ]
  },
  {
   "cell_type": "code",
   "execution_count": 95,
   "id": "6eb150e0",
   "metadata": {},
   "outputs": [
    {
     "name": "stdout",
     "output_type": "stream",
     "text": [
      "{'emp1': {'name': 'Jhon', 'salary': 7500}, 'emp2': {'name': 'Emma', 'salary': 8000}, 'emp3': {'name': 'Brad', 'salary': 8500}}\n"
     ]
    }
   ],
   "source": [
    "sample_dict = {\n",
    "    'emp1': {'name': 'Jhon', 'salary': 7500},\n",
    "    'emp2': {'name': 'Emma', 'salary': 8000},\n",
    "    'emp3': {'name': 'Brad', 'salary': 500}\n",
    "}\n",
    "sample_dict['emp3']['salary']=8500\n",
    "print(sample_dict)"
   ]
  },
  {
   "cell_type": "code",
   "execution_count": 3,
   "id": "1f21aab6",
   "metadata": {},
   "outputs": [
    {
     "name": "stdout",
     "output_type": "stream",
     "text": [
      "The total stock worth in the cafe is: 1630.0\n"
     ]
    }
   ],
   "source": [
    "menu =[\"coffee\", \"cupcake\", \"Tea\", \"Americano\", \"Wallnut cake\"]\n",
    "price = {\"coffee\":1.50, \"cupcake\":2, \"Tea\":1.20,\"Americano\":1.60, \"Wallnut cake\": 3.20}\n",
    "stock = {\"coffee\":300, \"cupcake\":150, \"Tea\":200,\"Americano\":160, \"Wallnut cake\":120}\n",
    "\n",
    "my_list = []\n",
    "\n",
    "item_value = 0\n",
    "total_budget = 0\n",
    "\n",
    "for key in menu:\n",
    "    item_value = price[key]*stock[key]\n",
    "    total_budget += item_value\n",
    "       \n",
    "     \n",
    "   \n",
    "print(f\"The total stock worth in the cafe is: {total_budget}\")"
   ]
  },
  {
   "cell_type": "code",
   "execution_count": 3,
   "id": "6d5f94f8",
   "metadata": {},
   "outputs": [
    {
     "name": "stdout",
     "output_type": "stream",
     "text": [
      "[[None, None, None, None], [None, None, None, None], [None, None, None, None]]\n"
     ]
    }
   ],
   "source": [
    "num_rows = 3\n",
    "num_column = 4\n",
    "empty_grid = [[None]*num_column for _ in range(num_rows)]\n",
    "\n",
    "print(empty_grid)"
   ]
  },
  {
   "cell_type": "code",
   "execution_count": 1,
   "id": "846027ba",
   "metadata": {},
   "outputs": [],
   "source": [
    "class Test:\n",
    "   def __init__(self, a):\n",
    "       self.attr1 = a\n",
    "       self.attr2 = 100    \n",
    "\n",
    "# object t1 of the Test class\n",
    "t1 = Test(1)\n",
    "t2 = Test(10)"
   ]
  },
  {
   "cell_type": "code",
   "execution_count": 2,
   "id": "1a0b76e1",
   "metadata": {},
   "outputs": [
    {
     "name": "stdout",
     "output_type": "stream",
     "text": [
      "1\n",
      "100\n"
     ]
    }
   ],
   "source": [
    "class Test:\n",
    " \n",
    "   def __init__(self, a):\n",
    "       self.attr1 = a\n",
    " \n",
    "   def call_me(self, obj):\n",
    "       print(self.attr1)   # 1\n",
    "       print(obj.attr1)   # 100\n",
    " \n",
    "# object t1 of the Test class\n",
    "t1 = Test(1)\n",
    "t2 = Test(100)\n",
    " \n",
    "t1.call_me(t2)\n"
   ]
  },
  {
   "cell_type": "code",
   "execution_count": 3,
   "id": "77a815f7",
   "metadata": {},
   "outputs": [],
   "source": [
    "class Polygon:\n",
    "    def __init__(self, sides):\n",
    "        self.sides = sides\n",
    "\n",
    "    def display_info(self):\n",
    "        print(\"A polygon is a two dimensional shape with straight lines.\")\n",
    "\n",
    "    def get_perimeter(self):\n",
    "        perimeter = sum(self.sides)\n",
    "        return perimeter\n",
    "\n",
    "class Triangle(Polygon):\n",
    "    def display_info(self):\n",
    "        print(\"A triangle is a polygon with 3 edges.\")"
   ]
  },
  {
   "cell_type": "code",
   "execution_count": null,
   "id": "8cd8a0ff",
   "metadata": {},
   "outputs": [],
   "source": [
    "def mine_sweeper(twoD_l):\n",
    "    grid = []\n",
    "    for i in range(len(twoD_l)):\n",
    "        for j in range(len(i)):\n",
    "    #for i in range(len(twoD_l)):\n",
    "        #grid.append(twoD_l[i][:])\n",
    "        #for j in range(len(twoD_l[i])):\n",
    "            if twoD_l[i][j][k][l] == '#':\n",
    "                continue\n",
    "                neighbors = 0\n",
    "            for d in [(1, 0), (-1, 0), (0, 1), (0, -1), (1, 1), (-1, -1),\n",
    "                                    (1, -1), (-1, 1),]:\n",
    "                di, dj = i + d[0], j + d[1]\n",
    "                try:\n",
    "                    if di >= 0 and dj >= 0 and twoD_l[di][dj] == '#':\n",
    "                        neighbors += 1\n",
    "                except IndexError:\n",
    "                    pass\n",
    "            grid[i][j] = neighbors\n",
    "    return grid\n",
    "\n",
    "\n",
    "grid = [[\"-\", \"-\", \"-\", \"#\", \"#\"],\n",
    "        [\"-\", \"#\", \"-\", \"-\", \"-\"],\n",
    "        [\"-\", \"-\", \"#\", \"-\", \"-\"],\n",
    "        [\"-\", \"-\", \"-\", \"-\", \"-\"]]\n"
   ]
  },
  {
   "cell_type": "code",
   "execution_count": 4,
   "id": "834c7ae8",
   "metadata": {},
   "outputs": [
    {
     "name": "stdout",
     "output_type": "stream",
     "text": [
      "[[1, 1, 2, '#', '#'], [1, '#', 2, 2, 2]]\n"
     ]
    }
   ],
   "source": [
    "def genPuzzle(grid):\n",
    "    puzzle = []\n",
    "    for i in range(len(grid)):\n",
    "        puzzle.append(grid[i][:])\n",
    "        for j in range(len(grid[i])):\n",
    "            if grid[i][j] == '#':\n",
    "                continue\n",
    "            neighbors = 0\n",
    "            for d in [(1, 0), (-1, 0), (0, 1), (0, -1), (1, 1), (-1, -1),\n",
    "                      (1, -1), (-1, 1)]:\n",
    "                di, dj = i + d[0], j + d[1]\n",
    "                try:\n",
    "                    if di >= 0 and dj >= 0 and grid[di][dj] == '#':\n",
    "                        neighbors += 1\n",
    "                except IndexError:\n",
    "                    pass\n",
    "            puzzle[i][j] = neighbors\n",
    "    return puzzle\n",
    "\n",
    "\n",
    "grid = [[\"-\", \"-\", \"-\", \"#\", \"#\"],\n",
    "        [\"-\", \"#\", \"-\", \"-\", \"-\"]]\n",
    "print(genPuzzle(grid))"
   ]
  },
  {
   "cell_type": "code",
   "execution_count": 5,
   "id": "2117e0f7",
   "metadata": {},
   "outputs": [
    {
     "name": "stdout",
     "output_type": "stream",
     "text": [
      "Result distance: 23 ft 2 inches\n"
     ]
    }
   ],
   "source": [
    "class Distance:\n",
    "    # initialize feet and inches attributes\n",
    "    def __init__(self, feet, inches):\n",
    "        self.feet = feet\n",
    "        self.inches = inches\n",
    "    \n",
    "    def add_distances(self, distance):\n",
    "        result_inches = self.inches + distance.inches\n",
    "        result_feet = self.feet + distance.feet\n",
    "        \n",
    "        # while inch is 12 or greater,\n",
    "        # increase feet by 1 and decrease inches by 12\n",
    "        while (result_inches >= 12):\n",
    "            result_feet = result_feet + 1\n",
    "            result_inches = result_inches - 12 \n",
    "            \n",
    "        # create an object of Distance\n",
    "        result_distance = Distance(result_feet, result_inches)\n",
    "        return result_distance\n",
    "        \n",
    "# create distance1 object\n",
    "distance1 = Distance(12, 8)\n",
    " \n",
    "# create distance2 object\n",
    "distance2 = Distance(10, 6)\n",
    " \n",
    "# call add_distances using distance1 object\n",
    "# distance2 is used as argument\n",
    "result = distance1.add_distances(distance2)\n",
    "print(f'Result distance: {result.feet} ft {result.inches} inches')\n"
   ]
  },
  {
   "cell_type": "code",
   "execution_count": null,
   "id": "1a926b53",
   "metadata": {},
   "outputs": [],
   "source": []
  },
  {
   "cell_type": "code",
   "execution_count": null,
   "id": "341aa645",
   "metadata": {},
   "outputs": [],
   "source": []
  }
 ],
 "metadata": {
  "kernelspec": {
   "display_name": "Python 3 (ipykernel)",
   "language": "python",
   "name": "python3"
  },
  "language_info": {
   "codemirror_mode": {
    "name": "ipython",
    "version": 3
   },
   "file_extension": ".py",
   "mimetype": "text/x-python",
   "name": "python",
   "nbconvert_exporter": "python",
   "pygments_lexer": "ipython3",
   "version": "3.10.9"
  }
 },
 "nbformat": 4,
 "nbformat_minor": 5
}
