{
 "cells": [
  {
   "cell_type": "markdown",
   "id": "b9c8b0f6",
   "metadata": {},
   "source": [
    "# Data Structures"
   ]
  },
  {
   "cell_type": "code",
   "execution_count": 2,
   "id": "91aa379c",
   "metadata": {},
   "outputs": [
    {
     "data": {
      "text/plain": [
       "'List     ordered,    changeable,        duplicates\\nTuple       ordered ,   unchangeable,      duplicates\\nset         unordered,  addable/removable, no duplicates\\nDictionary  unordered,  changeable,        no duplicate\\n\\n'"
      ]
     },
     "execution_count": 2,
     "metadata": {},
     "output_type": "execute_result"
    }
   ],
   "source": [
    "\"\"\"List     ordered,    changeable,        duplicates\n",
    "Tuple       ordered ,   unchangeable,      duplicates\n",
    "set         unordered,  addable/removable, no duplicates\n",
    "Dictionary  unordered,  changeable,        no duplicate\n",
    "\n",
    "\"\"\""
   ]
  },
  {
   "cell_type": "code",
   "execution_count": 3,
   "id": "c6c65202",
   "metadata": {},
   "outputs": [],
   "source": [
    "L = [1,3,4.9, \"name\",3]\n",
    "T = (1,3,4.9, \"name\",3)\n",
    "S = {1,3,4.9, \"name\",3}\n",
    "D = {23:\"twothree\", 'B':43, 'C':'CCD'}"
   ]
  },
  {
   "cell_type": "code",
   "execution_count": 4,
   "id": "66534dca",
   "metadata": {},
   "outputs": [
    {
     "name": "stdout",
     "output_type": "stream",
     "text": [
      "The type of L is  <class 'list'>\n",
      "The type of T is  <class 'tuple'>\n",
      "The type of S is  <class 'set'>\n",
      "The type of D is  <class 'dict'>\n"
     ]
    }
   ],
   "source": [
    "print(\"The type of L is \", type(L))\n",
    "print(\"The type of T is \", type(T))\n",
    "print(\"The type of S is \", type(S))\n",
    "print(\"The type of D is \", type(D))"
   ]
  },
  {
   "cell_type": "code",
   "execution_count": 5,
   "id": "55d5516f",
   "metadata": {},
   "outputs": [
    {
     "name": "stdout",
     "output_type": "stream",
     "text": [
      "3\n",
      "3\n",
      "True\n",
      "twothree\n"
     ]
    }
   ],
   "source": [
    "print(L[1])\n",
    "print(T[1])\n",
    "print(3 in S)\n",
    "print(D[23])"
   ]
  },
  {
   "cell_type": "code",
   "execution_count": 6,
   "id": "6e07001c",
   "metadata": {},
   "outputs": [
    {
     "name": "stdout",
     "output_type": "stream",
     "text": [
      "43\n"
     ]
    }
   ],
   "source": [
    "print(D['B'])"
   ]
  },
  {
   "cell_type": "code",
   "execution_count": 7,
   "id": "e5dd6395",
   "metadata": {},
   "outputs": [
    {
     "data": {
      "text/plain": [
       "{1, 3, 4.9, 'name'}"
      ]
     },
     "execution_count": 7,
     "metadata": {},
     "output_type": "execute_result"
    }
   ],
   "source": [
    "S"
   ]
  },
  {
   "cell_type": "code",
   "execution_count": 8,
   "id": "05589eff",
   "metadata": {},
   "outputs": [
    {
     "data": {
      "text/plain": [
       "[3, 4.9]"
      ]
     },
     "execution_count": 8,
     "metadata": {},
     "output_type": "execute_result"
    }
   ],
   "source": [
    "L[1:3]"
   ]
  },
  {
   "cell_type": "code",
   "execution_count": 9,
   "id": "7c1870b3",
   "metadata": {},
   "outputs": [
    {
     "data": {
      "text/plain": [
       "[3, 'name', 4.9, 3, 1]"
      ]
     },
     "execution_count": 9,
     "metadata": {},
     "output_type": "execute_result"
    }
   ],
   "source": [
    "L[::-1]"
   ]
  },
  {
   "cell_type": "code",
   "execution_count": 10,
   "id": "19cf2ac5",
   "metadata": {},
   "outputs": [
    {
     "data": {
      "text/plain": [
       "(1, 3, 4.9)"
      ]
     },
     "execution_count": 10,
     "metadata": {},
     "output_type": "execute_result"
    }
   ],
   "source": [
    "T[:3]"
   ]
  },
  {
   "cell_type": "code",
   "execution_count": 11,
   "id": "7d0dc601",
   "metadata": {},
   "outputs": [
    {
     "data": {
      "text/plain": [
       "[1, 3, 4.9, 'name', 3]"
      ]
     },
     "execution_count": 11,
     "metadata": {},
     "output_type": "execute_result"
    }
   ],
   "source": [
    " L\n",
    "    "
   ]
  },
  {
   "cell_type": "code",
   "execution_count": 12,
   "id": "ad5d60d5",
   "metadata": {},
   "outputs": [],
   "source": [
    "L = L+ [\"how\", \"are\", 6, \"you\"]"
   ]
  },
  {
   "cell_type": "code",
   "execution_count": 13,
   "id": "95b82da9",
   "metadata": {},
   "outputs": [
    {
     "data": {
      "text/plain": [
       "[1, 3, 4.9, 'name', 3, 'how', 'are', 6, 'you']"
      ]
     },
     "execution_count": 13,
     "metadata": {},
     "output_type": "execute_result"
    }
   ],
   "source": [
    "L"
   ]
  },
  {
   "cell_type": "code",
   "execution_count": 14,
   "id": "eb1093d4",
   "metadata": {},
   "outputs": [],
   "source": [
    "L.append(6.8)"
   ]
  },
  {
   "cell_type": "code",
   "execution_count": 15,
   "id": "f04a0b4a",
   "metadata": {},
   "outputs": [
    {
     "data": {
      "text/plain": [
       "[1, 3, 4.9, 'name', 3, 'how', 'are', 6, 'you', 6.8]"
      ]
     },
     "execution_count": 15,
     "metadata": {},
     "output_type": "execute_result"
    }
   ],
   "source": [
    "L"
   ]
  },
  {
   "cell_type": "code",
   "execution_count": 16,
   "id": "79d2c611",
   "metadata": {},
   "outputs": [],
   "source": [
    "T2 = ('a', 'b', 45)\n",
    "T3 = T + T2"
   ]
  },
  {
   "cell_type": "code",
   "execution_count": 17,
   "id": "1962404b",
   "metadata": {},
   "outputs": [
    {
     "data": {
      "text/plain": [
       "(1, 3, 4.9, 'name', 3, 'a', 'b', 45)"
      ]
     },
     "execution_count": 17,
     "metadata": {},
     "output_type": "execute_result"
    }
   ],
   "source": [
    "T3"
   ]
  },
  {
   "cell_type": "code",
   "execution_count": 18,
   "id": "8a2c3dc1",
   "metadata": {},
   "outputs": [],
   "source": [
    "S.add(56)"
   ]
  },
  {
   "cell_type": "code",
   "execution_count": 19,
   "id": "ce23191e",
   "metadata": {},
   "outputs": [
    {
     "data": {
      "text/plain": [
       "{1, 3, 4.9, 56, 'name'}"
      ]
     },
     "execution_count": 19,
     "metadata": {},
     "output_type": "execute_result"
    }
   ],
   "source": [
    "S"
   ]
  },
  {
   "cell_type": "code",
   "execution_count": 20,
   "id": "d1aa0618",
   "metadata": {},
   "outputs": [],
   "source": [
    "S.update({23,\"game\",1})"
   ]
  },
  {
   "cell_type": "code",
   "execution_count": 21,
   "id": "f1a88924",
   "metadata": {},
   "outputs": [
    {
     "data": {
      "text/plain": [
       "{1, 23, 3, 4.9, 56, 'game', 'name'}"
      ]
     },
     "execution_count": 21,
     "metadata": {},
     "output_type": "execute_result"
    }
   ],
   "source": [
    "S"
   ]
  },
  {
   "cell_type": "code",
   "execution_count": 22,
   "id": "06c959f6",
   "metadata": {},
   "outputs": [
    {
     "data": {
      "text/plain": [
       "{23: 'twothree', 'B': 43, 'C': 'CCD'}"
      ]
     },
     "execution_count": 22,
     "metadata": {},
     "output_type": "execute_result"
    }
   ],
   "source": [
    "D"
   ]
  },
  {
   "cell_type": "code",
   "execution_count": 23,
   "id": "a3e18901",
   "metadata": {},
   "outputs": [],
   "source": [
    "D['newkey'] = \"newValue\""
   ]
  },
  {
   "cell_type": "code",
   "execution_count": 24,
   "id": "f26ebc25",
   "metadata": {},
   "outputs": [
    {
     "data": {
      "text/plain": [
       "{23: 'twothree', 'B': 43, 'C': 'CCD', 'newkey': 'newValue'}"
      ]
     },
     "execution_count": 24,
     "metadata": {},
     "output_type": "execute_result"
    }
   ],
   "source": [
    "D"
   ]
  },
  {
   "cell_type": "code",
   "execution_count": 25,
   "id": "4ae30d06",
   "metadata": {},
   "outputs": [],
   "source": [
    "D2 = {\"y\":\"yy\", \"z\":10}"
   ]
  },
  {
   "cell_type": "code",
   "execution_count": 26,
   "id": "d2666c4d",
   "metadata": {},
   "outputs": [
    {
     "data": {
      "text/plain": [
       "[1, 3, 4.9, 'name', 3, 'how', 'are', 6, 'you', 6.8]"
      ]
     },
     "execution_count": 26,
     "metadata": {},
     "output_type": "execute_result"
    }
   ],
   "source": [
    "L"
   ]
  },
  {
   "cell_type": "code",
   "execution_count": 27,
   "id": "0251f3bc",
   "metadata": {},
   "outputs": [],
   "source": [
    "del L[3]"
   ]
  },
  {
   "cell_type": "code",
   "execution_count": 28,
   "id": "6546994b",
   "metadata": {},
   "outputs": [
    {
     "data": {
      "text/plain": [
       "{23: 'twothree', 'B': 43, 'C': 'CCD', 'newkey': 'newValue'}"
      ]
     },
     "execution_count": 28,
     "metadata": {},
     "output_type": "execute_result"
    }
   ],
   "source": [
    "D"
   ]
  },
  {
   "cell_type": "code",
   "execution_count": 29,
   "id": "cef54906",
   "metadata": {},
   "outputs": [],
   "source": [
    "del D['C']"
   ]
  },
  {
   "cell_type": "code",
   "execution_count": 30,
   "id": "2ba30541",
   "metadata": {},
   "outputs": [
    {
     "data": {
      "text/plain": [
       "{23: 'twothree', 'B': 43, 'newkey': 'newValue'}"
      ]
     },
     "execution_count": 30,
     "metadata": {},
     "output_type": "execute_result"
    }
   ],
   "source": [
    "D"
   ]
  },
  {
   "cell_type": "code",
   "execution_count": 31,
   "id": "51253a74",
   "metadata": {},
   "outputs": [],
   "source": [
    "D.update(D2)"
   ]
  },
  {
   "cell_type": "code",
   "execution_count": 32,
   "id": "e27a0dd4",
   "metadata": {},
   "outputs": [
    {
     "data": {
      "text/plain": [
       "{23: 'twothree', 'B': 43, 'newkey': 'newValue', 'y': 'yy', 'z': 10}"
      ]
     },
     "execution_count": 32,
     "metadata": {},
     "output_type": "execute_result"
    }
   ],
   "source": [
    "D"
   ]
  },
  {
   "cell_type": "code",
   "execution_count": 33,
   "id": "4de80dc7",
   "metadata": {},
   "outputs": [
    {
     "data": {
      "text/plain": [
       "[1, 3, 4.9, 3, 'how', 'are', 6, 'you', 6.8]"
      ]
     },
     "execution_count": 33,
     "metadata": {},
     "output_type": "execute_result"
    }
   ],
   "source": [
    "L "
   ]
  },
  {
   "cell_type": "code",
   "execution_count": 34,
   "id": "2b7db168",
   "metadata": {},
   "outputs": [],
   "source": [
    "L2 = L"
   ]
  },
  {
   "cell_type": "code",
   "execution_count": 35,
   "id": "d4e52dca",
   "metadata": {},
   "outputs": [
    {
     "data": {
      "text/plain": [
       "[1, 3, 4.9, 3, 'how', 'are', 6, 'you', 6.8]"
      ]
     },
     "execution_count": 35,
     "metadata": {},
     "output_type": "execute_result"
    }
   ],
   "source": [
    "L2"
   ]
  },
  {
   "cell_type": "code",
   "execution_count": 36,
   "id": "37243f7d",
   "metadata": {},
   "outputs": [],
   "source": [
    "L2[2] = \"four point nine\""
   ]
  },
  {
   "cell_type": "code",
   "execution_count": 37,
   "id": "229a5f67",
   "metadata": {},
   "outputs": [
    {
     "data": {
      "text/plain": [
       "[1, 3, 'four point nine', 3, 'how', 'are', 6, 'you', 6.8]"
      ]
     },
     "execution_count": 37,
     "metadata": {},
     "output_type": "execute_result"
    }
   ],
   "source": [
    "L2"
   ]
  },
  {
   "cell_type": "code",
   "execution_count": 38,
   "id": "231ad501",
   "metadata": {},
   "outputs": [
    {
     "data": {
      "text/plain": [
       "[1, 3, 'four point nine', 3, 'how', 'are', 6, 'you', 6.8]"
      ]
     },
     "execution_count": 38,
     "metadata": {},
     "output_type": "execute_result"
    }
   ],
   "source": [
    "L"
   ]
  },
  {
   "cell_type": "code",
   "execution_count": 39,
   "id": "db0219ad",
   "metadata": {},
   "outputs": [],
   "source": [
    "L2 = L.copy()"
   ]
  },
  {
   "cell_type": "code",
   "execution_count": 40,
   "id": "cf105702",
   "metadata": {},
   "outputs": [
    {
     "data": {
      "text/plain": [
       "[1, 3, 'four point nine', 3, 'how', 'are', 6, 'you', 6.8]"
      ]
     },
     "execution_count": 40,
     "metadata": {},
     "output_type": "execute_result"
    }
   ],
   "source": [
    "L2"
   ]
  },
  {
   "cell_type": "code",
   "execution_count": 41,
   "id": "16401539",
   "metadata": {},
   "outputs": [],
   "source": [
    "L2[2] = 4.9"
   ]
  },
  {
   "cell_type": "code",
   "execution_count": 42,
   "id": "50a90d7a",
   "metadata": {},
   "outputs": [
    {
     "data": {
      "text/plain": [
       "[1, 3, 4.9, 3, 'how', 'are', 6, 'you', 6.8]"
      ]
     },
     "execution_count": 42,
     "metadata": {},
     "output_type": "execute_result"
    }
   ],
   "source": [
    "L2"
   ]
  },
  {
   "cell_type": "code",
   "execution_count": 43,
   "id": "32eee340",
   "metadata": {},
   "outputs": [
    {
     "data": {
      "text/plain": [
       "[1, 3, 'four point nine', 3, 'how', 'are', 6, 'you', 6.8]"
      ]
     },
     "execution_count": 43,
     "metadata": {},
     "output_type": "execute_result"
    }
   ],
   "source": [
    "L"
   ]
  },
  {
   "cell_type": "code",
   "execution_count": 44,
   "id": "61f12052",
   "metadata": {},
   "outputs": [],
   "source": [
    "L3 = L[1:5]     # Slices are consider like a copy, they they don't affect the main list  "
   ]
  },
  {
   "cell_type": "code",
   "execution_count": 45,
   "id": "aca2f545",
   "metadata": {},
   "outputs": [
    {
     "data": {
      "text/plain": [
       "[3, 'four point nine', 3, 'how']"
      ]
     },
     "execution_count": 45,
     "metadata": {},
     "output_type": "execute_result"
    }
   ],
   "source": [
    "L3"
   ]
  },
  {
   "cell_type": "code",
   "execution_count": 46,
   "id": "55d62d19",
   "metadata": {},
   "outputs": [],
   "source": [
    "L3[0] = \"three\""
   ]
  },
  {
   "cell_type": "markdown",
   "id": "af56808b",
   "metadata": {},
   "source": [
    "L3"
   ]
  },
  {
   "cell_type": "code",
   "execution_count": 51,
   "id": "d291ff64",
   "metadata": {},
   "outputs": [
    {
     "data": {
      "text/plain": [
       "[1, 3, 'four point nine', 3, 'how', 'are', 6, 'you', 6.8]"
      ]
     },
     "execution_count": 51,
     "metadata": {},
     "output_type": "execute_result"
    }
   ],
   "source": [
    "L"
   ]
  },
  {
   "cell_type": "code",
   "execution_count": 52,
   "id": "f2de8a60",
   "metadata": {},
   "outputs": [],
   "source": [
    "L.reverse()"
   ]
  },
  {
   "cell_type": "code",
   "execution_count": 53,
   "id": "f88e8dfc",
   "metadata": {},
   "outputs": [
    {
     "data": {
      "text/plain": [
       "[6.8, 'you', 6, 'are', 'how', 3, 'four point nine', 3, 1]"
      ]
     },
     "execution_count": 53,
     "metadata": {},
     "output_type": "execute_result"
    }
   ],
   "source": [
    "L"
   ]
  },
  {
   "cell_type": "code",
   "execution_count": 54,
   "id": "8ca89eb7",
   "metadata": {},
   "outputs": [
    {
     "data": {
      "text/plain": [
       "[1, 3, 'four point nine', 3, 'how', 'are', 6, 'you', 6.8]"
      ]
     },
     "execution_count": 54,
     "metadata": {},
     "output_type": "execute_result"
    }
   ],
   "source": [
    "L[::-1]"
   ]
  },
  {
   "cell_type": "code",
   "execution_count": 56,
   "id": "d447dc47",
   "metadata": {},
   "outputs": [
    {
     "data": {
      "text/plain": [
       "dict_items([(23, 'twothree'), ('B', 43), ('newkey', 'newValue'), ('y', 'yy'), ('z', 10)])"
      ]
     },
     "execution_count": 56,
     "metadata": {},
     "output_type": "execute_result"
    }
   ],
   "source": [
    "D.items()"
   ]
  },
  {
   "cell_type": "code",
   "execution_count": 57,
   "id": "00626883",
   "metadata": {},
   "outputs": [
    {
     "data": {
      "text/plain": [
       "[6.8, 'you', 6, 'are', 'how', 3, 'four point nine', 3, 1]"
      ]
     },
     "execution_count": 57,
     "metadata": {},
     "output_type": "execute_result"
    }
   ],
   "source": [
    "L"
   ]
  },
  {
   "cell_type": "code",
   "execution_count": 58,
   "id": "5e42fec3",
   "metadata": {},
   "outputs": [
    {
     "data": {
      "text/plain": [
       "(1, 3, 4.9, 'name', 3)"
      ]
     },
     "execution_count": 58,
     "metadata": {},
     "output_type": "execute_result"
    }
   ],
   "source": [
    "T"
   ]
  },
  {
   "cell_type": "code",
   "execution_count": 59,
   "id": "9f497fca",
   "metadata": {},
   "outputs": [
    {
     "data": {
      "text/plain": [
       "{1, 23, 3, 4.9, 56, 'game', 'name'}"
      ]
     },
     "execution_count": 59,
     "metadata": {},
     "output_type": "execute_result"
    }
   ],
   "source": [
    "S"
   ]
  },
  {
   "cell_type": "code",
   "execution_count": 60,
   "id": "ece84eab",
   "metadata": {},
   "outputs": [
    {
     "data": {
      "text/plain": [
       "{23: 'twothree', 'B': 43, 'newkey': 'newValue', 'y': 'yy', 'z': 10}"
      ]
     },
     "execution_count": 60,
     "metadata": {},
     "output_type": "execute_result"
    }
   ],
   "source": [
    "D"
   ]
  },
  {
   "cell_type": "code",
   "execution_count": 61,
   "id": "5ffb0159",
   "metadata": {},
   "outputs": [],
   "source": [
    "D2 = {'A':L, 'B':T, 'C':S, 'D':D}"
   ]
  },
  {
   "cell_type": "code",
   "execution_count": 62,
   "id": "b2cd85c5",
   "metadata": {},
   "outputs": [
    {
     "data": {
      "text/plain": [
       "'are'"
      ]
     },
     "execution_count": 62,
     "metadata": {},
     "output_type": "execute_result"
    }
   ],
   "source": [
    "D2['A'][3]"
   ]
  },
  {
   "cell_type": "code",
   "execution_count": 63,
   "id": "1c3a59cd",
   "metadata": {},
   "outputs": [],
   "source": [
    "K = D2['D']"
   ]
  },
  {
   "cell_type": "code",
   "execution_count": 64,
   "id": "b7a5f67f",
   "metadata": {},
   "outputs": [
    {
     "data": {
      "text/plain": [
       "{23: 'twothree', 'B': 43, 'newkey': 'newValue', 'y': 'yy', 'z': 10}"
      ]
     },
     "execution_count": 64,
     "metadata": {},
     "output_type": "execute_result"
    }
   ],
   "source": [
    "K"
   ]
  },
  {
   "cell_type": "code",
   "execution_count": 65,
   "id": "b3016261",
   "metadata": {},
   "outputs": [
    {
     "name": "stdout",
     "output_type": "stream",
     "text": [
      "23 twothree\n",
      "B 43\n",
      "newkey newValue\n",
      "y yy\n",
      "z 10\n"
     ]
    }
   ],
   "source": [
    "for x in K:\n",
    "    print(x,K[x])"
   ]
  },
  {
   "cell_type": "code",
   "execution_count": 66,
   "id": "c0e4affd",
   "metadata": {},
   "outputs": [],
   "source": [
    "L3 = [L,T,D,23,\"game\"]"
   ]
  },
  {
   "cell_type": "code",
   "execution_count": 67,
   "id": "72f711f2",
   "metadata": {},
   "outputs": [
    {
     "data": {
      "text/plain": [
       "dict"
      ]
     },
     "execution_count": 67,
     "metadata": {},
     "output_type": "execute_result"
    }
   ],
   "source": [
    "type(L3[2])"
   ]
  },
  {
   "cell_type": "code",
   "execution_count": 68,
   "id": "ff82a350",
   "metadata": {},
   "outputs": [],
   "source": [
    "L3 = [x**2 for x in range(10)]"
   ]
  },
  {
   "cell_type": "code",
   "execution_count": 69,
   "id": "2d1088e9",
   "metadata": {},
   "outputs": [
    {
     "data": {
      "text/plain": [
       "[0, 1, 4, 9, 16, 25, 36, 49, 64, 81]"
      ]
     },
     "execution_count": 69,
     "metadata": {},
     "output_type": "execute_result"
    }
   ],
   "source": [
    "L3"
   ]
  },
  {
   "cell_type": "code",
   "execution_count": 70,
   "id": "03462b4b",
   "metadata": {},
   "outputs": [],
   "source": [
    "S3 = {x**2 for x in range (2,20,3)}"
   ]
  },
  {
   "cell_type": "code",
   "execution_count": 71,
   "id": "2503662f",
   "metadata": {},
   "outputs": [
    {
     "data": {
      "text/plain": [
       "{4, 25, 64, 121, 196, 289}"
      ]
     },
     "execution_count": 71,
     "metadata": {},
     "output_type": "execute_result"
    }
   ],
   "source": [
    "S3"
   ]
  },
  {
   "cell_type": "code",
   "execution_count": 72,
   "id": "2cdfe9ce",
   "metadata": {},
   "outputs": [
    {
     "data": {
      "text/plain": [
       "True"
      ]
     },
     "execution_count": 72,
     "metadata": {},
     "output_type": "execute_result"
    }
   ],
   "source": [
    "23 in D"
   ]
  },
  {
   "cell_type": "code",
   "execution_count": 74,
   "id": "31d8a3a4",
   "metadata": {},
   "outputs": [
    {
     "data": {
      "text/plain": [
       "False"
      ]
     },
     "execution_count": 74,
     "metadata": {},
     "output_type": "execute_result"
    }
   ],
   "source": [
    "43 in D"
   ]
  },
  {
   "cell_type": "code",
   "execution_count": 81,
   "id": "cb52729e",
   "metadata": {},
   "outputs": [],
   "source": [
    "\"\"\"Let say you are a teacher and you have different student\n",
    "records containing id of a studient and the marks list in each subjects\n",
    "where different students have taken different number of subjects. \n",
    "All these records are in hard copy. You want to enter all the data in computer\n",
    "and want to compute the average marks of each student and display\"\"\"\n",
    "\n",
    "\n",
    "def getDataFromUser():\n",
    "    D = {}\n",
    "    while True:\n",
    "        studentId = input(\"enter student ID: \")\n",
    "        marksList = input(\"enter the marks by comma separated values: \")\n",
    "        moreStudent = input('Enter \"no\" to quit insertion:')\n",
    "        if studentId in D:\n",
    "            print(studentId, \"is already inserted\")\n",
    "        else:\n",
    "            D[studentId] = marksList.split(\",\")\n",
    "        if moreStudent.lower() == \"no\":\n",
    "            return D\n",
    "        \n",
    "\n"
   ]
  },
  {
   "cell_type": "code",
   "execution_count": 82,
   "id": "6d0f699e",
   "metadata": {},
   "outputs": [
    {
     "name": "stdout",
     "output_type": "stream",
     "text": [
      "enter student ID: 12\n",
      "enter the marks by comma separated values: 56, 45, 13\n",
      "Enter \"no\" to quit insertion:asdf\n",
      "enter student ID: 45\n",
      "enter the marks by comma separated values: 44, 55, 65, 76\n",
      "Enter \"no\" to quit insertion:asdfa\n",
      "enter student ID: 12\n",
      "enter the marks by comma separated values: 45,44\n",
      "Enter \"no\" to quit insertion:adf\n",
      "12 is already inserted\n",
      "enter student ID: 23\n",
      "enter the marks by comma separated values: 45,44\n",
      "Enter \"no\" to quit insertion:no\n"
     ]
    }
   ],
   "source": [
    "studentData = getDataFromUser()"
   ]
  },
  {
   "cell_type": "code",
   "execution_count": 83,
   "id": "884e11bb",
   "metadata": {},
   "outputs": [
    {
     "data": {
      "text/plain": [
       "{'12': ['56', ' 45', ' 13'],\n",
       " '45': ['44', ' 55', ' 65', ' 76'],\n",
       " '23': ['45', '44']}"
      ]
     },
     "execution_count": 83,
     "metadata": {},
     "output_type": "execute_result"
    }
   ],
   "source": [
    "studentData"
   ]
  },
  {
   "cell_type": "code",
   "execution_count": 89,
   "id": "bcd2c3f1",
   "metadata": {},
   "outputs": [],
   "source": [
    "def getAvgMarks(D) :\n",
    "    avgMarks = {}\n",
    "    for x in D:\n",
    "        L = D[x]\n",
    "        s = 0\n",
    "        for marks in L:\n",
    "            s += int(marks)\n",
    "        avgMarks[x] = s/len(L)\n",
    "    return avgMarks    \n",
    "    "
   ]
  },
  {
   "cell_type": "code",
   "execution_count": 90,
   "id": "02b32557",
   "metadata": {},
   "outputs": [],
   "source": [
    "avgM = getAvgMarks(studentData)"
   ]
  },
  {
   "cell_type": "code",
   "execution_count": 91,
   "id": "16d3d646",
   "metadata": {},
   "outputs": [
    {
     "data": {
      "text/plain": [
       "{'12': 38.0, '45': 60.0, '23': 44.5}"
      ]
     },
     "execution_count": 91,
     "metadata": {},
     "output_type": "execute_result"
    }
   ],
   "source": [
    "avgM"
   ]
  },
  {
   "cell_type": "code",
   "execution_count": 92,
   "id": "009738e7",
   "metadata": {},
   "outputs": [
    {
     "name": "stdout",
     "output_type": "stream",
     "text": [
      "student :  12 got avg Marks as:  38.0\n",
      "student :  45 got avg Marks as:  60.0\n",
      "student :  23 got avg Marks as:  44.5\n"
     ]
    }
   ],
   "source": [
    "for x in avgM :\n",
    "    print(\"student : \", x, \"got avg Marks as: \", avgM[x])"
   ]
  },
  {
   "cell_type": "code",
   "execution_count": 93,
   "id": "b6f1718b",
   "metadata": {},
   "outputs": [],
   "source": [
    "import numpy as np"
   ]
  },
  {
   "cell_type": "code",
   "execution_count": 94,
   "id": "9d7aac11",
   "metadata": {},
   "outputs": [],
   "source": [
    "a = np.array([1,2,3,4,3,6,7], dtype = 'i')\n",
    "b = np.array((2,3,5,9), dtype='f')"
   ]
  },
  {
   "cell_type": "code",
   "execution_count": 95,
   "id": "df1aebc0",
   "metadata": {},
   "outputs": [
    {
     "name": "stdout",
     "output_type": "stream",
     "text": [
      "[1 2 3 4 3 6 7]\n"
     ]
    }
   ],
   "source": []
  },
  {
   "cell_type": "code",
   "execution_count": 96,
   "id": "507c64c3",
   "metadata": {},
   "outputs": [
    {
     "data": {
      "text/plain": [
       "numpy.ndarray"
      ]
     },
     "execution_count": 96,
     "metadata": {},
     "output_type": "execute_result"
    }
   ],
   "source": [
    "type(a)"
   ]
  },
  {
   "cell_type": "code",
   "execution_count": 1,
   "id": "ca7678c8",
   "metadata": {},
   "outputs": [
    {
     "name": "stdout",
     "output_type": "stream",
     "text": [
      "What time is it? 5\n",
      "Is the guard there?True\n"
     ]
    }
   ],
   "source": [
    "hour = int(input(\"What time is it? \"))\n",
    "guard = bool(input(\"Is the guard there?\"))\n",
    "\n",
    "if 7<=hour<=17:\n",
    "    print(\"You're in\")\n",
    "elif 17<hour<7 and guard == True:\n",
    "    print(\"You're in\")\n",
    "if guard == False:\n",
    "    print(\"you can not get in\")"
   ]
  },
  {
   "cell_type": "code",
   "execution_count": null,
   "id": "fecd07b8",
   "metadata": {},
   "outputs": [],
   "source": [
    "\n",
    "\n",
    "for hour in day:\n",
    "    hour = int(input(\"What time is it? \"))\n",
    "    yes = True\n",
    "    no = False\n",
    "    if 7<=hour<=17:\n",
    "      print(\"You're in\")\n",
    "    else:\n",
    "      guard = bool(input(\"Is the guard there?\"))\n",
    "      if 17<hour<7 and guard == yes:\n",
    "        print(\"You're in\")\n",
    "      else:\n",
    "        print(\"you can not get in\")"
   ]
  },
  {
   "cell_type": "code",
   "execution_count": null,
   "id": "68d4fac2",
   "metadata": {},
   "outputs": [],
   "source": []
  },
  {
   "cell_type": "code",
   "execution_count": null,
   "id": "b5622c5f",
   "metadata": {},
   "outputs": [],
   "source": []
  }
 ],
 "metadata": {
  "kernelspec": {
   "display_name": "Python 3 (ipykernel)",
   "language": "python",
   "name": "python3"
  },
  "language_info": {
   "codemirror_mode": {
    "name": "ipython",
    "version": 3
   },
   "file_extension": ".py",
   "mimetype": "text/x-python",
   "name": "python",
   "nbconvert_exporter": "python",
   "pygments_lexer": "ipython3",
   "version": "3.9.12"
  }
 },
 "nbformat": 4,
 "nbformat_minor": 5
}
