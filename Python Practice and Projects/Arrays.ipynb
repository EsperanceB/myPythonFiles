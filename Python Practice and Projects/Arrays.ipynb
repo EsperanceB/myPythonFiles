{
 "cells": [
  {
   "cell_type": "markdown",
   "id": "90ea59bd",
   "metadata": {},
   "source": [
    "\"\"\" Python does not have built-in support for Arrays, \n",
    "but Python Lists can be used instead.\n",
    "\"\"\""
   ]
  },
  {
   "cell_type": "code",
   "execution_count": null,
   "id": "acf6119c",
   "metadata": {},
   "outputs": [],
   "source": []
  }
 ],
 "metadata": {
  "kernelspec": {
   "display_name": "Python 3 (ipykernel)",
   "language": "python",
   "name": "python3"
  },
  "language_info": {
   "codemirror_mode": {
    "name": "ipython",
    "version": 3
   },
   "file_extension": ".py",
   "mimetype": "text/x-python",
   "name": "python",
   "nbconvert_exporter": "python",
   "pygments_lexer": "ipython3",
   "version": "3.9.12"
  }
 },
 "nbformat": 4,
 "nbformat_minor": 5
}
