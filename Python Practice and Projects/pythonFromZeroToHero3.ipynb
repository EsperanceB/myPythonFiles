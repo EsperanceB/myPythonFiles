{
 "cells": [
  {
   "cell_type": "markdown",
   "id": "ff6888c3",
   "metadata": {},
   "source": [
    "# Numpy"
   ]
  },
  {
   "cell_type": "code",
   "execution_count": 2,
   "id": "cc7b4d08",
   "metadata": {},
   "outputs": [],
   "source": [
    "# why numpy: because it's very fast et his package is very powerfool\n",
    "import numpy as np"
   ]
  },
  {
   "cell_type": "code",
   "execution_count": 4,
   "id": "0d21eae6",
   "metadata": {},
   "outputs": [],
   "source": [
    "a = np.array([1,2,3,4,3,6,7], dtype = 'i')\n",
    "b = np.array((2,3,5,9), dtype='f')"
   ]
  },
  {
   "cell_type": "code",
   "execution_count": 5,
   "id": "11922bd7",
   "metadata": {},
   "outputs": [
    {
     "name": "stdout",
     "output_type": "stream",
     "text": [
      "[1 2 3 4 3 6 7]\n"
     ]
    }
   ],
   "source": [
    "print(a)"
   ]
  },
  {
   "cell_type": "code",
   "execution_count": 7,
   "id": "0150a8fa",
   "metadata": {},
   "outputs": [
    {
     "data": {
      "text/plain": [
       "numpy.ndarray"
      ]
     },
     "execution_count": 7,
     "metadata": {},
     "output_type": "execute_result"
    }
   ],
   "source": [
    "type(a)"
   ]
  },
  {
   "cell_type": "code",
   "execution_count": 9,
   "id": "6d191e6e",
   "metadata": {},
   "outputs": [
    {
     "data": {
      "text/plain": [
       "dtype('int32')"
      ]
     },
     "execution_count": 9,
     "metadata": {},
     "output_type": "execute_result"
    }
   ],
   "source": [
    "a.dtype"
   ]
  },
  {
   "cell_type": "code",
   "execution_count": 10,
   "id": "9d3f965d",
   "metadata": {},
   "outputs": [
    {
     "data": {
      "text/plain": [
       "dtype('float32')"
      ]
     },
     "execution_count": 10,
     "metadata": {},
     "output_type": "execute_result"
    }
   ],
   "source": [
    "b.dtype"
   ]
  },
  {
   "cell_type": "code",
   "execution_count": 16,
   "id": "d8685c86",
   "metadata": {},
   "outputs": [],
   "source": [
    "# Numpy Dimensions\n",
    "import numpy as np\n",
    "a = np.array([[1,2,3],[4,5,6]])"
   ]
  },
  {
   "cell_type": "code",
   "execution_count": 17,
   "id": "93dffebf",
   "metadata": {},
   "outputs": [
    {
     "data": {
      "text/plain": [
       "2"
      ]
     },
     "execution_count": 17,
     "metadata": {},
     "output_type": "execute_result"
    }
   ],
   "source": [
    "a.ndim"
   ]
  },
  {
   "cell_type": "code",
   "execution_count": 18,
   "id": "1ed34d11",
   "metadata": {},
   "outputs": [
    {
     "data": {
      "text/plain": [
       "3"
      ]
     },
     "execution_count": 18,
     "metadata": {},
     "output_type": "execute_result"
    }
   ],
   "source": [
    "a[0,2]"
   ]
  },
  {
   "cell_type": "code",
   "execution_count": 23,
   "id": "b35dabba",
   "metadata": {},
   "outputs": [],
   "source": [
    "B = np.array([[1,2,3,-1],[2,4,5,9]])"
   ]
  },
  {
   "cell_type": "code",
   "execution_count": 24,
   "id": "f5219eb9",
   "metadata": {},
   "outputs": [
    {
     "data": {
      "text/plain": [
       "2"
      ]
     },
     "execution_count": 24,
     "metadata": {},
     "output_type": "execute_result"
    }
   ],
   "source": [
    "B.ndim"
   ]
  },
  {
   "cell_type": "code",
   "execution_count": 25,
   "id": "92b32790",
   "metadata": {},
   "outputs": [
    {
     "data": {
      "text/plain": [
       "5"
      ]
     },
     "execution_count": 25,
     "metadata": {},
     "output_type": "execute_result"
    }
   ],
   "source": [
    "B[1,2]"
   ]
  },
  {
   "cell_type": "code",
   "execution_count": 26,
   "id": "3a54e70f",
   "metadata": {},
   "outputs": [],
   "source": [
    "C = np.array([[[1,2,3],[4,5,6],[0,1,-1]],[[-1,-2,-3],[-4,-5,-6],[0,1,1]]])"
   ]
  },
  {
   "cell_type": "code",
   "execution_count": 27,
   "id": "619a433b",
   "metadata": {},
   "outputs": [
    {
     "data": {
      "text/plain": [
       "3"
      ]
     },
     "execution_count": 27,
     "metadata": {},
     "output_type": "execute_result"
    }
   ],
   "source": [
    "C.ndim"
   ]
  },
  {
   "cell_type": "code",
   "execution_count": 28,
   "id": "bf2fab59",
   "metadata": {},
   "outputs": [
    {
     "data": {
      "text/plain": [
       "-3"
      ]
     },
     "execution_count": 28,
     "metadata": {},
     "output_type": "execute_result"
    }
   ],
   "source": [
    "C[1,0,2]"
   ]
  },
  {
   "cell_type": "code",
   "execution_count": 29,
   "id": "3fe3cf85",
   "metadata": {},
   "outputs": [
    {
     "data": {
      "text/plain": [
       "numpy.ndarray"
      ]
     },
     "execution_count": 29,
     "metadata": {},
     "output_type": "execute_result"
    }
   ],
   "source": [
    "type(C)"
   ]
  },
  {
   "cell_type": "code",
   "execution_count": 32,
   "id": "78096c88",
   "metadata": {},
   "outputs": [
    {
     "data": {
      "text/plain": [
       "3"
      ]
     },
     "execution_count": 32,
     "metadata": {},
     "output_type": "execute_result"
    }
   ],
   "source": [
    "C.shape[1]"
   ]
  },
  {
   "cell_type": "code",
   "execution_count": 33,
   "id": "49f38f7a",
   "metadata": {},
   "outputs": [],
   "source": [
    "A = np.array([2])"
   ]
  },
  {
   "cell_type": "code",
   "execution_count": 34,
   "id": "c1ee3b65",
   "metadata": {},
   "outputs": [
    {
     "data": {
      "text/plain": [
       "1"
      ]
     },
     "execution_count": 34,
     "metadata": {},
     "output_type": "execute_result"
    }
   ],
   "source": [
    "A.ndim"
   ]
  },
  {
   "cell_type": "code",
   "execution_count": 35,
   "id": "3e103462",
   "metadata": {},
   "outputs": [],
   "source": [
    "B = np.array(3)"
   ]
  },
  {
   "cell_type": "code",
   "execution_count": 36,
   "id": "ebdb4e67",
   "metadata": {},
   "outputs": [
    {
     "data": {
      "text/plain": [
       "0"
      ]
     },
     "execution_count": 36,
     "metadata": {},
     "output_type": "execute_result"
    }
   ],
   "source": [
    "B.ndim"
   ]
  },
  {
   "cell_type": "code",
   "execution_count": 37,
   "id": "0569fd79",
   "metadata": {},
   "outputs": [
    {
     "data": {
      "text/plain": [
       "18"
      ]
     },
     "execution_count": 37,
     "metadata": {},
     "output_type": "execute_result"
    }
   ],
   "source": [
    "C.size"
   ]
  },
  {
   "cell_type": "code",
   "execution_count": 41,
   "id": "20b63200",
   "metadata": {},
   "outputs": [
    {
     "data": {
      "text/plain": [
       "72"
      ]
     },
     "execution_count": 41,
     "metadata": {},
     "output_type": "execute_result"
    }
   ],
   "source": [
    "C.nbytes"
   ]
  },
  {
   "cell_type": "markdown",
   "id": "f859f0be",
   "metadata": {},
   "source": [
    "# np.arange, reshape,random"
   ]
  },
  {
   "cell_type": "code",
   "execution_count": 46,
   "id": "00de3de1",
   "metadata": {},
   "outputs": [
    {
     "name": "stdout",
     "output_type": "stream",
     "text": [
      "[20 23 26 29 32 35 38 41 44 47 50 53 56 59 62 65 68 71 74 77 80 83 86 89\n",
      " 92 95 98]\n"
     ]
    }
   ],
   "source": [
    "A = np.arange(20,100,3)      # for i in range(20,100,3)!!!\n",
    "print(A)"
   ]
  },
  {
   "cell_type": "code",
   "execution_count": 45,
   "id": "e07f420e",
   "metadata": {},
   "outputs": [
    {
     "name": "stdout",
     "output_type": "stream",
     "text": [
      "[20 21 22 23 24 25 26 27 28 29 30 31 32 33 34 35 36 37 38 39 40 41 42 43\n",
      " 44 45 46 47 48 49 50 51 52 53 54 55 56 57 58 59 60 61 62 63 64 65 66 67\n",
      " 68 69 70 71 72 73 74 75 76 77 78 79 80 81 82 83 84 85 86 87 88 89 90 91\n",
      " 92 93 94 95 96 97 98 99]\n"
     ]
    }
   ],
   "source": [
    "print(A)"
   ]
  },
  {
   "cell_type": "code",
   "execution_count": 47,
   "id": "036b7e1b",
   "metadata": {},
   "outputs": [
    {
     "name": "stdout",
     "output_type": "stream",
     "text": [
      "range(0, 10)\n"
     ]
    }
   ],
   "source": [
    "print(range(10))"
   ]
  },
  {
   "cell_type": "code",
   "execution_count": 48,
   "id": "97cf4a56",
   "metadata": {},
   "outputs": [
    {
     "name": "stdout",
     "output_type": "stream",
     "text": [
      "[0, 1, 2, 3, 4, 5, 6, 7, 8, 9]\n"
     ]
    }
   ],
   "source": [
    "print(list(range(10)))"
   ]
  },
  {
   "cell_type": "code",
   "execution_count": 50,
   "id": "f98f774e",
   "metadata": {},
   "outputs": [
    {
     "name": "stdout",
     "output_type": "stream",
     "text": [
      "[6 1 2 3 9 0 5 7 4 8]\n"
     ]
    }
   ],
   "source": [
    "A = np.random.permutation(np.arange(10))\n",
    "print(A)"
   ]
  },
  {
   "cell_type": "code",
   "execution_count": 52,
   "id": "bf86ff80",
   "metadata": {},
   "outputs": [],
   "source": [
    "np.random.randint?"
   ]
  },
  {
   "cell_type": "code",
   "execution_count": 56,
   "id": "064bfcb9",
   "metadata": {},
   "outputs": [
    {
     "data": {
      "text/plain": [
       "25"
      ]
     },
     "execution_count": 56,
     "metadata": {},
     "output_type": "execute_result"
    }
   ],
   "source": [
    "np.random.randint(20,30)     # return an number randomly between 20 and 30"
   ]
  },
  {
   "cell_type": "code",
   "execution_count": 57,
   "id": "76dbed90",
   "metadata": {},
   "outputs": [],
   "source": [
    "v = np.random.randint(20,300)"
   ]
  },
  {
   "cell_type": "code",
   "execution_count": 58,
   "id": "e190b575",
   "metadata": {},
   "outputs": [
    {
     "data": {
      "text/plain": [
       "int"
      ]
     },
     "execution_count": 58,
     "metadata": {},
     "output_type": "execute_result"
    }
   ],
   "source": [
    "type(v)"
   ]
  },
  {
   "cell_type": "code",
   "execution_count": 59,
   "id": "aa3c17c0",
   "metadata": {},
   "outputs": [],
   "source": [
    "A = np.random.rand(1000)"
   ]
  },
  {
   "cell_type": "code",
   "execution_count": 61,
   "id": "8ddbd88e",
   "metadata": {},
   "outputs": [],
   "source": [
    "import matplotlib.pyplot as plt"
   ]
  },
  {
   "cell_type": "code",
   "execution_count": 63,
   "id": "0cca50ec",
   "metadata": {},
   "outputs": [
    {
     "data": {
      "text/plain": [
       "(array([13.,  6.,  9.,  8.,  8.,  8., 11., 12.,  8.,  7.,  6.,  9.,  9.,\n",
       "         8., 13.,  8.,  7.,  9.,  6.,  8., 10., 16.,  9., 11.,  8.,  8.,\n",
       "        12., 10., 12.,  8., 11.,  6., 12., 10.,  4.,  8.,  9., 10.,  6.,\n",
       "        12.,  9., 13., 11.,  8., 17.,  8.,  6., 13.,  7.,  6., 10., 10.,\n",
       "        12.,  7., 10., 15., 14.,  6.,  9., 13.,  8., 12., 13.,  8.,  5.,\n",
       "         9.,  9.,  7.,  7., 11.,  8.,  6.,  6., 16., 14., 15.,  9.,  7.,\n",
       "        17.,  7., 11., 11., 17.,  9.,  6., 12., 15., 13.,  8., 11., 12.,\n",
       "        14., 14.,  8., 11.,  9., 11., 14., 18., 13.]),\n",
       " array([6.30084890e-05, 1.00381881e-02, 2.00133678e-02, 2.99885474e-02,\n",
       "        3.99637271e-02, 4.99389067e-02, 5.99140864e-02, 6.98892660e-02,\n",
       "        7.98644457e-02, 8.98396253e-02, 9.98148050e-02, 1.09789985e-01,\n",
       "        1.19765164e-01, 1.29740344e-01, 1.39715524e-01, 1.49690703e-01,\n",
       "        1.59665883e-01, 1.69641062e-01, 1.79616242e-01, 1.89591422e-01,\n",
       "        1.99566601e-01, 2.09541781e-01, 2.19516961e-01, 2.29492140e-01,\n",
       "        2.39467320e-01, 2.49442500e-01, 2.59417679e-01, 2.69392859e-01,\n",
       "        2.79368039e-01, 2.89343218e-01, 2.99318398e-01, 3.09293578e-01,\n",
       "        3.19268757e-01, 3.29243937e-01, 3.39219116e-01, 3.49194296e-01,\n",
       "        3.59169476e-01, 3.69144655e-01, 3.79119835e-01, 3.89095015e-01,\n",
       "        3.99070194e-01, 4.09045374e-01, 4.19020554e-01, 4.28995733e-01,\n",
       "        4.38970913e-01, 4.48946093e-01, 4.58921272e-01, 4.68896452e-01,\n",
       "        4.78871632e-01, 4.88846811e-01, 4.98821991e-01, 5.08797170e-01,\n",
       "        5.18772350e-01, 5.28747530e-01, 5.38722709e-01, 5.48697889e-01,\n",
       "        5.58673069e-01, 5.68648248e-01, 5.78623428e-01, 5.88598608e-01,\n",
       "        5.98573787e-01, 6.08548967e-01, 6.18524147e-01, 6.28499326e-01,\n",
       "        6.38474506e-01, 6.48449686e-01, 6.58424865e-01, 6.68400045e-01,\n",
       "        6.78375224e-01, 6.88350404e-01, 6.98325584e-01, 7.08300763e-01,\n",
       "        7.18275943e-01, 7.28251123e-01, 7.38226302e-01, 7.48201482e-01,\n",
       "        7.58176662e-01, 7.68151841e-01, 7.78127021e-01, 7.88102201e-01,\n",
       "        7.98077380e-01, 8.08052560e-01, 8.18027740e-01, 8.28002919e-01,\n",
       "        8.37978099e-01, 8.47953278e-01, 8.57928458e-01, 8.67903638e-01,\n",
       "        8.77878817e-01, 8.87853997e-01, 8.97829177e-01, 9.07804356e-01,\n",
       "        9.17779536e-01, 9.27754716e-01, 9.37729895e-01, 9.47705075e-01,\n",
       "        9.57680255e-01, 9.67655434e-01, 9.77630614e-01, 9.87605794e-01,\n",
       "        9.97580973e-01]),\n",
       " <BarContainer object of 100 artists>)"
      ]
     },
     "execution_count": 63,
     "metadata": {},
     "output_type": "execute_result"
    },
    {
     "data": {
      "image/png": "[encoded data removed]",
      "text/plain": [
       "<Figure size 432x288 with 1 Axes>"
      ]
     },
     "metadata": {
      "needs_background": "light"
     },
     "output_type": "display_data"
    }
   ],
   "source": [
    "plt.hist(A, bins = 100)"
   ]
  },
  {
   "cell_type": "code",
   "execution_count": 64,
   "id": "b86b5c73",
   "metadata": {},
   "outputs": [
    {
     "data": {
      "text/plain": [
       "(array([1.000e+00, 0.000e+00, 0.000e+00, 1.000e+00, 0.000e+00, 0.000e+00,\n",
       "        1.000e+00, 0.000e+00, 2.000e+00, 0.000e+00, 1.000e+00, 1.000e+00,\n",
       "        0.000e+00, 0.000e+00, 1.000e+00, 2.000e+00, 3.000e+00, 7.000e+00,\n",
       "        3.000e+00, 3.000e+00, 4.000e+00, 3.000e+00, 4.000e+00, 7.000e+00,\n",
       "        9.000e+00, 8.000e+00, 1.300e+01, 1.000e+01, 1.100e+01, 2.100e+01,\n",
       "        2.200e+01, 2.900e+01, 2.800e+01, 2.600e+01, 3.200e+01, 2.500e+01,\n",
       "        3.700e+01, 3.800e+01, 3.600e+01, 4.900e+01, 5.800e+01, 6.800e+01,\n",
       "        7.900e+01, 8.700e+01, 8.500e+01, 7.800e+01, 1.140e+02, 1.140e+02,\n",
       "        1.430e+02, 1.560e+02, 1.670e+02, 1.520e+02, 1.670e+02, 1.860e+02,\n",
       "        2.070e+02, 2.510e+02, 2.540e+02, 2.610e+02, 2.900e+02, 3.090e+02,\n",
       "        3.240e+02, 4.040e+02, 3.900e+02, 4.640e+02, 4.710e+02, 5.410e+02,\n",
       "        5.200e+02, 5.500e+02, 5.910e+02, 5.780e+02, 7.220e+02, 7.490e+02,\n",
       "        7.540e+02, 8.210e+02, 8.230e+02, 9.010e+02, 9.210e+02, 9.730e+02,\n",
       "        9.400e+02, 1.030e+03, 1.105e+03, 1.105e+03, 1.129e+03, 1.198e+03,\n",
       "        1.263e+03, 1.338e+03, 1.354e+03, 1.368e+03, 1.388e+03, 1.406e+03,\n",
       "        1.508e+03, 1.436e+03, 1.520e+03, 1.505e+03, 1.464e+03, 1.594e+03,\n",
       "        1.589e+03, 1.647e+03, 1.655e+03, 1.633e+03, 1.629e+03, 1.651e+03,\n",
       "        1.684e+03, 1.739e+03, 1.677e+03, 1.655e+03, 1.695e+03, 1.674e+03,\n",
       "        1.634e+03, 1.549e+03, 1.582e+03, 1.599e+03, 1.480e+03, 1.507e+03,\n",
       "        1.472e+03, 1.442e+03, 1.439e+03, 1.347e+03, 1.341e+03, 1.370e+03,\n",
       "        1.316e+03, 1.299e+03, 1.157e+03, 1.138e+03, 1.066e+03, 1.017e+03,\n",
       "        1.002e+03, 9.720e+02, 8.910e+02, 9.000e+02, 8.540e+02, 8.200e+02,\n",
       "        7.440e+02, 7.070e+02, 7.730e+02, 6.760e+02, 6.590e+02, 5.690e+02,\n",
       "        5.430e+02, 4.740e+02, 4.680e+02, 4.550e+02, 3.910e+02, 3.950e+02,\n",
       "        3.800e+02, 3.460e+02, 3.110e+02, 3.190e+02, 2.650e+02, 2.310e+02,\n",
       "        2.200e+02, 2.230e+02, 1.880e+02, 1.610e+02, 1.540e+02, 1.450e+02,\n",
       "        1.200e+02, 1.210e+02, 1.060e+02, 1.000e+02, 8.800e+01, 9.300e+01,\n",
       "        8.400e+01, 6.100e+01, 5.700e+01, 4.200e+01, 5.100e+01, 4.500e+01,\n",
       "        3.400e+01, 3.800e+01, 2.800e+01, 2.400e+01, 2.100e+01, 2.200e+01,\n",
       "        1.300e+01, 2.300e+01, 1.500e+01, 1.400e+01, 1.500e+01, 8.000e+00,\n",
       "        9.000e+00, 4.000e+00, 5.000e+00, 7.000e+00, 1.000e+00, 2.000e+00,\n",
       "        6.000e+00, 1.000e+00, 0.000e+00, 3.000e+00, 2.000e+00, 1.000e+00,\n",
       "        0.000e+00, 1.000e+00, 1.000e+00, 0.000e+00, 0.000e+00, 0.000e+00,\n",
       "        1.000e+00, 2.000e+00]),\n",
       " array([-4.29999939, -4.2581546 , -4.21630982, -4.17446503, -4.13262025,\n",
       "        -4.09077546, -4.04893068, -4.00708589, -3.96524111, -3.92339632,\n",
       "        -3.88155154, -3.83970675, -3.79786197, -3.75601718, -3.7141724 ,\n",
       "        -3.67232761, -3.63048283, -3.58863804, -3.54679326, -3.50494847,\n",
       "        -3.46310369, -3.4212589 , -3.37941412, -3.33756933, -3.29572455,\n",
       "        -3.25387976, -3.21203498, -3.17019019, -3.12834541, -3.08650062,\n",
       "        -3.04465584, -3.00281105, -2.96096627, -2.91912148, -2.8772767 ,\n",
       "        -2.83543191, -2.79358713, -2.75174234, -2.70989756, -2.66805277,\n",
       "        -2.62620799, -2.5843632 , -2.54251842, -2.50067363, -2.45882885,\n",
       "        -2.41698406, -2.37513928, -2.33329449, -2.29144971, -2.24960492,\n",
       "        -2.20776014, -2.16591535, -2.12407057, -2.08222578, -2.040381  ,\n",
       "        -1.99853621, -1.95669143, -1.91484664, -1.87300186, -1.83115707,\n",
       "        -1.78931229, -1.7474675 , -1.70562272, -1.66377793, -1.62193315,\n",
       "        -1.58008836, -1.53824358, -1.49639879, -1.45455401, -1.41270922,\n",
       "        -1.37086444, -1.32901965, -1.28717487, -1.24533008, -1.2034853 ,\n",
       "        -1.16164051, -1.11979573, -1.07795094, -1.03610616, -0.99426137,\n",
       "        -0.95241659, -0.9105718 , -0.86872702, -0.82688223, -0.78503745,\n",
       "        -0.74319266, -0.70134788, -0.65950309, -0.61765831, -0.57581352,\n",
       "        -0.53396874, -0.49212395, -0.45027917, -0.40843438, -0.3665896 ,\n",
       "        -0.32474481, -0.28290003, -0.24105524, -0.19921046, -0.15736567,\n",
       "        -0.11552089, -0.0736761 , -0.03183132,  0.01001347,  0.05185825,\n",
       "         0.09370304,  0.13554782,  0.17739261,  0.21923739,  0.26108218,\n",
       "         0.30292696,  0.34477175,  0.38661653,  0.42846132,  0.4703061 ,\n",
       "         0.51215089,  0.55399567,  0.59584046,  0.63768524,  0.67953003,\n",
       "         0.72137481,  0.7632196 ,  0.80506438,  0.84690917,  0.88875395,\n",
       "         0.93059874,  0.97244352,  1.01428831,  1.05613309,  1.09797788,\n",
       "         1.13982266,  1.18166745,  1.22351223,  1.26535702,  1.3072018 ,\n",
       "         1.34904659,  1.39089137,  1.43273616,  1.47458094,  1.51642573,\n",
       "         1.55827051,  1.6001153 ,  1.64196008,  1.68380487,  1.72564965,\n",
       "         1.76749444,  1.80933922,  1.85118401,  1.89302879,  1.93487358,\n",
       "         1.97671836,  2.01856315,  2.06040793,  2.10225272,  2.1440975 ,\n",
       "         2.18594229,  2.22778707,  2.26963186,  2.31147664,  2.35332143,\n",
       "         2.39516621,  2.437011  ,  2.47885578,  2.52070057,  2.56254535,\n",
       "         2.60439014,  2.64623492,  2.68807971,  2.72992449,  2.77176928,\n",
       "         2.81361406,  2.85545885,  2.89730363,  2.93914842,  2.9809932 ,\n",
       "         3.02283799,  3.06468277,  3.10652756,  3.14837234,  3.19021713,\n",
       "         3.23206191,  3.2739067 ,  3.31575148,  3.35759627,  3.39944105,\n",
       "         3.44128584,  3.48313062,  3.52497541,  3.56682019,  3.60866498,\n",
       "         3.65050976,  3.69235455,  3.73419933,  3.77604412,  3.8178889 ,\n",
       "         3.85973369,  3.90157847,  3.94342326,  3.98526804,  4.02711283,\n",
       "         4.06895761]),\n",
       " <BarContainer object of 200 artists>)"
      ]
     },
     "execution_count": 64,
     "metadata": {},
     "output_type": "execute_result"
    },
    {
     "data": {
      "image/png": "[encoded data removed]",
      "text/plain": [
       "<Figure size 432x288 with 1 Axes>"
      ]
     },
     "metadata": {
      "needs_background": "light"
     },
     "output_type": "display_data"
    }
   ],
   "source": [
    "B = np.random.randn(100000)\n",
    "plt.hist(B, bins = 200)"
   ]
  },
  {
   "cell_type": "code",
   "execution_count": 65,
   "id": "139e3ddc",
   "metadata": {},
   "outputs": [],
   "source": [
    "C = np.random.rand(2,3)"
   ]
  },
  {
   "cell_type": "code",
   "execution_count": 66,
   "id": "6bf64769",
   "metadata": {},
   "outputs": [
    {
     "data": {
      "text/plain": [
       "array([[0.75914697, 0.71453444, 0.11590925],\n",
       "       [0.18328903, 0.83898532, 0.7068318 ]])"
      ]
     },
     "execution_count": 66,
     "metadata": {},
     "output_type": "execute_result"
    }
   ],
   "source": [
    "C"
   ]
  },
  {
   "cell_type": "code",
   "execution_count": 67,
   "id": "98b69b95",
   "metadata": {},
   "outputs": [
    {
     "data": {
      "text/plain": [
       "2"
      ]
     },
     "execution_count": 67,
     "metadata": {},
     "output_type": "execute_result"
    }
   ],
   "source": [
    "C.ndim"
   ]
  },
  {
   "cell_type": "code",
   "execution_count": 68,
   "id": "363a1e0c",
   "metadata": {},
   "outputs": [],
   "source": [
    "C = np.random.rand(2,3,4,2)"
   ]
  },
  {
   "cell_type": "code",
   "execution_count": 69,
   "id": "e15bc7c5",
   "metadata": {},
   "outputs": [
    {
     "data": {
      "text/plain": [
       "4"
      ]
     },
     "execution_count": 69,
     "metadata": {},
     "output_type": "execute_result"
    }
   ],
   "source": [
    "C.ndim"
   ]
  },
  {
   "cell_type": "code",
   "execution_count": 70,
   "id": "07004653",
   "metadata": {},
   "outputs": [
    {
     "data": {
      "text/plain": [
       "array([[[[0.07498678, 0.41211311],\n",
       "         [0.61821662, 0.88476024],\n",
       "         [0.00174223, 0.93224889],\n",
       "         [0.22381132, 0.07125814]],\n",
       "\n",
       "        [[0.54958828, 0.50942137],\n",
       "         [0.92658157, 0.04205448],\n",
       "         [0.30057078, 0.80108037],\n",
       "         [0.74136388, 0.94311516]],\n",
       "\n",
       "        [[0.23023734, 0.93073407],\n",
       "         [0.54274322, 0.26925527],\n",
       "         [0.04627692, 0.09497795],\n",
       "         [0.06608054, 0.0606867 ]]],\n",
       "\n",
       "\n",
       "       [[[0.72048131, 0.30491184],\n",
       "         [0.59390744, 0.42490802],\n",
       "         [0.73481134, 0.56038549],\n",
       "         [0.3993703 , 0.26073609]],\n",
       "\n",
       "        [[0.50693761, 0.68361264],\n",
       "         [0.91480462, 0.8292466 ],\n",
       "         [0.99970473, 0.34677099],\n",
       "         [0.89948935, 0.29021125]],\n",
       "\n",
       "        [[0.10257056, 0.30585751],\n",
       "         [0.84489104, 0.05403188],\n",
       "         [0.94786293, 0.796164  ],\n",
       "         [0.07411416, 0.13384906]]]])"
      ]
     },
     "execution_count": 70,
     "metadata": {},
     "output_type": "execute_result"
    }
   ],
   "source": [
    "C"
   ]
  },
  {
   "cell_type": "code",
   "execution_count": 71,
   "id": "dc11442b",
   "metadata": {},
   "outputs": [],
   "source": [
    "D = np.arange(100).reshape(4,25)"
   ]
  },
  {
   "cell_type": "code",
   "execution_count": 72,
   "id": "da2dd926",
   "metadata": {},
   "outputs": [
    {
     "data": {
      "text/plain": [
       "(4, 25)"
      ]
     },
     "execution_count": 72,
     "metadata": {},
     "output_type": "execute_result"
    }
   ],
   "source": [
    "D.shape"
   ]
  },
  {
   "cell_type": "code",
   "execution_count": 73,
   "id": "6a7849a0",
   "metadata": {},
   "outputs": [],
   "source": [
    "D = np.arange(100).reshape(4,5,5)"
   ]
  },
  {
   "cell_type": "code",
   "execution_count": 74,
   "id": "86649a9f",
   "metadata": {},
   "outputs": [
    {
     "data": {
      "text/plain": [
       "(4, 5, 5)"
      ]
     },
     "execution_count": 74,
     "metadata": {},
     "output_type": "execute_result"
    }
   ],
   "source": [
    "D.shape"
   ]
  },
  {
   "cell_type": "code",
   "execution_count": 76,
   "id": "60f87d88",
   "metadata": {},
   "outputs": [],
   "source": [
    "np.zeros?"
   ]
  },
  {
   "cell_type": "code",
   "execution_count": 77,
   "id": "911f123d",
   "metadata": {},
   "outputs": [],
   "source": [
    "# Slicing with numpy\n",
    "\n",
    "A = np.arange(100)"
   ]
  },
  {
   "cell_type": "code",
   "execution_count": 78,
   "id": "63f50520",
   "metadata": {},
   "outputs": [
    {
     "name": "stdout",
     "output_type": "stream",
     "text": [
      "[3 4 5 6 7 8 9]\n"
     ]
    }
   ],
   "source": [
    "b = A[3:10]\n",
    "print(b)"
   ]
  },
  {
   "cell_type": "code",
   "execution_count": 79,
   "id": "42065321",
   "metadata": {},
   "outputs": [],
   "source": [
    "b[0] = -1200"
   ]
  },
  {
   "cell_type": "code",
   "execution_count": 80,
   "id": "da7af05d",
   "metadata": {},
   "outputs": [
    {
     "data": {
      "text/plain": [
       "array([-1200,     4,     5,     6,     7,     8,     9])"
      ]
     },
     "execution_count": 80,
     "metadata": {},
     "output_type": "execute_result"
    }
   ],
   "source": [
    "b"
   ]
  },
  {
   "cell_type": "code",
   "execution_count": 81,
   "id": "c8567a96",
   "metadata": {},
   "outputs": [
    {
     "data": {
      "text/plain": [
       "array([    0,     1,     2, -1200,     4,     5,     6,     7,     8,\n",
       "           9,    10,    11,    12,    13,    14,    15,    16,    17,\n",
       "          18,    19,    20,    21,    22,    23,    24,    25,    26,\n",
       "          27,    28,    29,    30,    31,    32,    33,    34,    35,\n",
       "          36,    37,    38,    39,    40,    41,    42,    43,    44,\n",
       "          45,    46,    47,    48,    49,    50,    51,    52,    53,\n",
       "          54,    55,    56,    57,    58,    59,    60,    61,    62,\n",
       "          63,    64,    65,    66,    67,    68,    69,    70,    71,\n",
       "          72,    73,    74,    75,    76,    77,    78,    79,    80,\n",
       "          81,    82,    83,    84,    85,    86,    87,    88,    89,\n",
       "          90,    91,    92,    93,    94,    95,    96,    97,    98,\n",
       "          99])"
      ]
     },
     "execution_count": 81,
     "metadata": {},
     "output_type": "execute_result"
    }
   ],
   "source": [
    "A"
   ]
  },
  {
   "cell_type": "code",
   "execution_count": 82,
   "id": "57c040a4",
   "metadata": {},
   "outputs": [],
   "source": [
    "b = A[3:10].copy()"
   ]
  },
  {
   "cell_type": "code",
   "execution_count": 83,
   "id": "d882bbca",
   "metadata": {},
   "outputs": [
    {
     "data": {
      "text/plain": [
       "array([ 0,  5, 10, 15, 20, 25, 30, 35, 40, 45, 50, 55, 60, 65, 70, 75, 80,\n",
       "       85, 90, 95])"
      ]
     },
     "execution_count": 83,
     "metadata": {},
     "output_type": "execute_result"
    }
   ],
   "source": [
    "A[::5]"
   ]
  },
  {
   "cell_type": "code",
   "execution_count": 84,
   "id": "92224010",
   "metadata": {},
   "outputs": [
    {
     "data": {
      "text/plain": [
       "array([99, 94, 89, 84, 79, 74, 69, 64, 59, 54, 49, 44, 39, 34, 29, 24, 19,\n",
       "       14,  9,  4])"
      ]
     },
     "execution_count": 84,
     "metadata": {},
     "output_type": "execute_result"
    }
   ],
   "source": [
    "A[::-5]"
   ]
  },
  {
   "cell_type": "code",
   "execution_count": 85,
   "id": "62d86b09",
   "metadata": {},
   "outputs": [
    {
     "data": {
      "text/plain": [
       "array([   99,    98,    97,    96,    95,    94,    93,    92,    91,\n",
       "          90,    89,    88,    87,    86,    85,    84,    83,    82,\n",
       "          81,    80,    79,    78,    77,    76,    75,    74,    73,\n",
       "          72,    71,    70,    69,    68,    67,    66,    65,    64,\n",
       "          63,    62,    61,    60,    59,    58,    57,    56,    55,\n",
       "          54,    53,    52,    51,    50,    49,    48,    47,    46,\n",
       "          45,    44,    43,    42,    41,    40,    39,    38,    37,\n",
       "          36,    35,    34,    33,    32,    31,    30,    29,    28,\n",
       "          27,    26,    25,    24,    23,    22,    21,    20,    19,\n",
       "          18,    17,    16,    15,    14,    13,    12,    11,    10,\n",
       "           9,     8,     7,     6,     5,     4, -1200,     2,     1,\n",
       "           0])"
      ]
     },
     "execution_count": 85,
     "metadata": {},
     "output_type": "execute_result"
    }
   ],
   "source": [
    "A[::-1]"
   ]
  },
  {
   "cell_type": "code",
   "execution_count": 86,
   "id": "50095c73",
   "metadata": {},
   "outputs": [],
   "source": [
    "B = (A == -1200)*np.arange(A.size)"
   ]
  },
  {
   "cell_type": "code",
   "execution_count": 87,
   "id": "39d5fa98",
   "metadata": {},
   "outputs": [
    {
     "data": {
      "text/plain": [
       "array([    0,     1,     2, -1200,     4,     5,     6,     7,     8,\n",
       "           9,    10,    11,    12,    13,    14,    15,    16,    17,\n",
       "          18,    19,    20,    21,    22,    23,    24,    25,    26,\n",
       "          27,    28,    29,    30,    31,    32,    33,    34,    35,\n",
       "          36,    37,    38,    39,    40,    41,    42,    43,    44,\n",
       "          45,    46,    47,    48,    49,    50,    51,    52,    53,\n",
       "          54,    55,    56,    57,    58,    59,    60,    61,    62,\n",
       "          63,    64,    65,    66,    67,    68,    69,    70,    71,\n",
       "          72,    73,    74,    75,    76,    77,    78,    79,    80,\n",
       "          81,    82,    83,    84,    85,    86,    87,    88,    89,\n",
       "          90,    91,    92,    93,    94,    95,    96,    97,    98,\n",
       "          99])"
      ]
     },
     "execution_count": 87,
     "metadata": {},
     "output_type": "execute_result"
    }
   ],
   "source": [
    "A"
   ]
  },
  {
   "cell_type": "code",
   "execution_count": 88,
   "id": "9290c6db",
   "metadata": {},
   "outputs": [],
   "source": [
    "idx = np.argwhere(A==-1200)[0][0]"
   ]
  },
  {
   "cell_type": "code",
   "execution_count": 89,
   "id": "32365c06",
   "metadata": {},
   "outputs": [
    {
     "data": {
      "text/plain": [
       "3"
      ]
     },
     "execution_count": 89,
     "metadata": {},
     "output_type": "execute_result"
    }
   ],
   "source": [
    "idx"
   ]
  },
  {
   "cell_type": "code",
   "execution_count": 90,
   "id": "76554493",
   "metadata": {},
   "outputs": [],
   "source": [
    "A[idx]=3"
   ]
  },
  {
   "cell_type": "code",
   "execution_count": 91,
   "id": "50ef9460",
   "metadata": {},
   "outputs": [
    {
     "data": {
      "text/plain": [
       "array([ 0,  1,  2,  3,  4,  5,  6,  7,  8,  9, 10, 11, 12, 13, 14, 15, 16,\n",
       "       17, 18, 19, 20, 21, 22, 23, 24, 25, 26, 27, 28, 29, 30, 31, 32, 33,\n",
       "       34, 35, 36, 37, 38, 39, 40, 41, 42, 43, 44, 45, 46, 47, 48, 49, 50,\n",
       "       51, 52, 53, 54, 55, 56, 57, 58, 59, 60, 61, 62, 63, 64, 65, 66, 67,\n",
       "       68, 69, 70, 71, 72, 73, 74, 75, 76, 77, 78, 79, 80, 81, 82, 83, 84,\n",
       "       85, 86, 87, 88, 89, 90, 91, 92, 93, 94, 95, 96, 97, 98, 99])"
      ]
     },
     "execution_count": 91,
     "metadata": {},
     "output_type": "execute_result"
    }
   ],
   "source": [
    "A"
   ]
  },
  {
   "cell_type": "code",
   "execution_count": 92,
   "id": "948f4f79",
   "metadata": {},
   "outputs": [],
   "source": [
    "A = np.round(10*np.random.rand(5,4))"
   ]
  },
  {
   "cell_type": "code",
   "execution_count": 93,
   "id": "4a91c1a4",
   "metadata": {},
   "outputs": [
    {
     "data": {
      "text/plain": [
       "array([[0., 4., 6., 3.],\n",
       "       [2., 3., 6., 9.],\n",
       "       [8., 9., 7., 2.],\n",
       "       [7., 7., 1., 7.],\n",
       "       [7., 8., 6., 9.]])"
      ]
     },
     "execution_count": 93,
     "metadata": {},
     "output_type": "execute_result"
    }
   ],
   "source": [
    "A"
   ]
  },
  {
   "cell_type": "code",
   "execution_count": 95,
   "id": "729f68f1",
   "metadata": {},
   "outputs": [
    {
     "data": {
      "text/plain": [
       "6.0"
      ]
     },
     "execution_count": 95,
     "metadata": {},
     "output_type": "execute_result"
    }
   ],
   "source": [
    "A[1,2]"
   ]
  },
  {
   "cell_type": "code",
   "execution_count": 96,
   "id": "17d03dc3",
   "metadata": {},
   "outputs": [
    {
     "data": {
      "text/plain": [
       "array([2., 3., 6., 9.])"
      ]
     },
     "execution_count": 96,
     "metadata": {},
     "output_type": "execute_result"
    }
   ],
   "source": [
    "A[1,:]"
   ]
  },
  {
   "cell_type": "code",
   "execution_count": 97,
   "id": "742d0205",
   "metadata": {},
   "outputs": [
    {
     "data": {
      "text/plain": [
       "array([4., 3., 9., 7., 8.])"
      ]
     },
     "execution_count": 97,
     "metadata": {},
     "output_type": "execute_result"
    }
   ],
   "source": [
    "A[:,1]"
   ]
  },
  {
   "cell_type": "code",
   "execution_count": 98,
   "id": "b254a79d",
   "metadata": {},
   "outputs": [
    {
     "data": {
      "text/plain": [
       "array([[6., 9.],\n",
       "       [7., 2.]])"
      ]
     },
     "execution_count": 98,
     "metadata": {},
     "output_type": "execute_result"
    }
   ],
   "source": [
    "A[1:3,2:4]"
   ]
  },
  {
   "cell_type": "code",
   "execution_count": 99,
   "id": "76b0b34a",
   "metadata": {},
   "outputs": [
    {
     "data": {
      "text/plain": [
       "array([[0., 2., 8., 7., 7.],\n",
       "       [4., 3., 9., 7., 8.],\n",
       "       [6., 6., 7., 1., 6.],\n",
       "       [3., 9., 2., 7., 9.]])"
      ]
     },
     "execution_count": 99,
     "metadata": {},
     "output_type": "execute_result"
    }
   ],
   "source": [
    "A.T"
   ]
  },
  {
   "cell_type": "code",
   "execution_count": 100,
   "id": "5f73dcab",
   "metadata": {},
   "outputs": [],
   "source": [
    "import numpy.linalg as la"
   ]
  },
  {
   "cell_type": "code",
   "execution_count": 101,
   "id": "e3dd70a8",
   "metadata": {},
   "outputs": [
    {
     "data": {
      "text/plain": [
       "array([[ 0.03877743,  3.19902298, -3.9305599 ],\n",
       "       [-0.13885337, -0.74068797,  2.24858636],\n",
       "       [ 1.04568712, -0.66869333,  0.67061857]])"
      ]
     },
     "execution_count": 101,
     "metadata": {},
     "output_type": "execute_result"
    }
   ],
   "source": [
    "la.inv(np.random.rand(3,3))"
   ]
  },
  {
   "cell_type": "code",
   "execution_count": 102,
   "id": "b3cc8a8d",
   "metadata": {},
   "outputs": [
    {
     "data": {
      "text/plain": [
       "array([[0., 4., 6., 3.],\n",
       "       [2., 3., 6., 9.],\n",
       "       [8., 9., 7., 2.],\n",
       "       [7., 7., 1., 7.],\n",
       "       [7., 8., 6., 9.]])"
      ]
     },
     "execution_count": 102,
     "metadata": {},
     "output_type": "execute_result"
    }
   ],
   "source": [
    "A"
   ]
  },
  {
   "cell_type": "code",
   "execution_count": 108,
   "id": "bbf0d5d1",
   "metadata": {},
   "outputs": [],
   "source": [
    "A.sort(axis=0)"
   ]
  },
  {
   "cell_type": "code",
   "execution_count": 110,
   "id": "7467b420",
   "metadata": {},
   "outputs": [
    {
     "data": {
      "text/plain": [
       "array([ 0,  1,  2,  3,  4,  5,  6,  7,  8,  9, 10, 11, 12, 13, 14, 15, 16,\n",
       "       17, 18, 19, 20, 21, 22, 23, 24, 25, 26, 27, 28, 29, 30, 31, 32, 33,\n",
       "       34, 35, 36, 37, 38, 39, 40, 41, 42, 43, 44, 45, 46, 47, 48, 49, 50,\n",
       "       51, 52, 53, 54, 55, 56, 57, 58, 59, 60, 61, 62, 63, 64, 65, 66, 67,\n",
       "       68, 69, 70, 71, 72, 73, 74, 75, 76, 77, 78, 79, 80, 81, 82, 83, 84,\n",
       "       85, 86, 87, 88, 89, 90, 91, 92, 93, 94, 95, 96, 97, 98, 99])"
      ]
     },
     "execution_count": 110,
     "metadata": {},
     "output_type": "execute_result"
    }
   ],
   "source": [
    "A"
   ]
  },
  {
   "cell_type": "markdown",
   "id": "3d3150e1",
   "metadata": {},
   "source": [
    "# More indexing"
   ]
  },
  {
   "cell_type": "code",
   "execution_count": 111,
   "id": "1e85f8df",
   "metadata": {},
   "outputs": [],
   "source": [
    "A =np.arange(100)"
   ]
  },
  {
   "cell_type": "code",
   "execution_count": 118,
   "id": "b027509a",
   "metadata": {},
   "outputs": [],
   "source": [
    "B = A[[3,5,6]]"
   ]
  },
  {
   "cell_type": "code",
   "execution_count": 119,
   "id": "72f1018b",
   "metadata": {},
   "outputs": [],
   "source": [
    "B[0] =-4"
   ]
  },
  {
   "cell_type": "code",
   "execution_count": 120,
   "id": "d380e629",
   "metadata": {},
   "outputs": [
    {
     "data": {
      "text/plain": [
       "array([-4,  5,  6])"
      ]
     },
     "execution_count": 120,
     "metadata": {},
     "output_type": "execute_result"
    }
   ],
   "source": [
    "B"
   ]
  },
  {
   "cell_type": "code",
   "execution_count": 121,
   "id": "465e71b7",
   "metadata": {},
   "outputs": [
    {
     "data": {
      "text/plain": [
       "array([ 0,  1,  2,  3,  4,  5,  6,  7,  8,  9, 10, 11, 12, 13, 14, 15, 16,\n",
       "       17, 18, 19, 20, 21, 22, 23, 24, 25, 26, 27, 28, 29, 30, 31, 32, 33,\n",
       "       34, 35, 36, 37, 38, 39, 40, 41, 42, 43, 44, 45, 46, 47, 48, 49, 50,\n",
       "       51, 52, 53, 54, 55, 56, 57, 58, 59, 60, 61, 62, 63, 64, 65, 66, 67,\n",
       "       68, 69, 70, 71, 72, 73, 74, 75, 76, 77, 78, 79, 80, 81, 82, 83, 84,\n",
       "       85, 86, 87, 88, 89, 90, 91, 92, 93, 94, 95, 96, 97, 98, 99])"
      ]
     },
     "execution_count": 121,
     "metadata": {},
     "output_type": "execute_result"
    }
   ],
   "source": [
    "A"
   ]
  },
  {
   "cell_type": "code",
   "execution_count": 122,
   "id": "ad42ca86",
   "metadata": {},
   "outputs": [],
   "source": [
    "B = A[A<40]"
   ]
  },
  {
   "cell_type": "code",
   "execution_count": 123,
   "id": "529e6963",
   "metadata": {},
   "outputs": [
    {
     "data": {
      "text/plain": [
       "array([ 0,  1,  2,  3,  4,  5,  6,  7,  8,  9, 10, 11, 12, 13, 14, 15, 16,\n",
       "       17, 18, 19, 20, 21, 22, 23, 24, 25, 26, 27, 28, 29, 30, 31, 32, 33,\n",
       "       34, 35, 36, 37, 38, 39])"
      ]
     },
     "execution_count": 123,
     "metadata": {},
     "output_type": "execute_result"
    }
   ],
   "source": [
    "B"
   ]
  },
  {
   "cell_type": "code",
   "execution_count": 124,
   "id": "e5a2f762",
   "metadata": {},
   "outputs": [],
   "source": [
    "B = A[(A<40) & (A>30)]    # this & is used in array while this other and is used for single object"
   ]
  },
  {
   "cell_type": "code",
   "execution_count": 125,
   "id": "c7add88f",
   "metadata": {},
   "outputs": [
    {
     "data": {
      "text/plain": [
       "array([31, 32, 33, 34, 35, 36, 37, 38, 39])"
      ]
     },
     "execution_count": 125,
     "metadata": {},
     "output_type": "execute_result"
    }
   ],
   "source": [
    "B"
   ]
  },
  {
   "cell_type": "code",
   "execution_count": 126,
   "id": "6854acf5",
   "metadata": {},
   "outputs": [],
   "source": [
    "# & ,and\n",
    "#|, or\n",
    "#~, not"
   ]
  },
  {
   "cell_type": "code",
   "execution_count": 127,
   "id": "bd1b00ed",
   "metadata": {},
   "outputs": [],
   "source": [
    "# Broadcasting\n",
    "# hstack,vstack,sort(axis=0)\n",
    "A = np.round(10*np.random.rand(2,3))"
   ]
  },
  {
   "cell_type": "code",
   "execution_count": 128,
   "id": "cceb6e7d",
   "metadata": {},
   "outputs": [
    {
     "data": {
      "text/plain": [
       "array([[3., 8., 4.],\n",
       "       [3., 7., 3.]])"
      ]
     },
     "execution_count": 128,
     "metadata": {},
     "output_type": "execute_result"
    }
   ],
   "source": [
    "A"
   ]
  },
  {
   "cell_type": "code",
   "execution_count": 129,
   "id": "e87beddd",
   "metadata": {},
   "outputs": [
    {
     "data": {
      "text/plain": [
       "array([[ 6., 11.,  7.],\n",
       "       [ 6., 10.,  6.]])"
      ]
     },
     "execution_count": 129,
     "metadata": {},
     "output_type": "execute_result"
    }
   ],
   "source": [
    "A+3"
   ]
  },
  {
   "cell_type": "code",
   "execution_count": 130,
   "id": "4f8958da",
   "metadata": {},
   "outputs": [
    {
     "data": {
      "text/plain": [
       "array([[3., 8., 4.],\n",
       "       [4., 8., 4.]])"
      ]
     },
     "execution_count": 130,
     "metadata": {},
     "output_type": "execute_result"
    }
   ],
   "source": [
    "A+(np.arange(2).reshape(2,1))"
   ]
  },
  {
   "cell_type": "code",
   "execution_count": 131,
   "id": "bd7b332e",
   "metadata": {},
   "outputs": [
    {
     "data": {
      "text/plain": [
       "array([[3., 8., 4.],\n",
       "       [3., 7., 3.]])"
      ]
     },
     "execution_count": 131,
     "metadata": {},
     "output_type": "execute_result"
    }
   ],
   "source": [
    "A"
   ]
  },
  {
   "cell_type": "code",
   "execution_count": 133,
   "id": "533616b7",
   "metadata": {},
   "outputs": [],
   "source": [
    "B = np.round(10*np.random.rand(2,2))"
   ]
  },
  {
   "cell_type": "code",
   "execution_count": 134,
   "id": "bc52bbb6",
   "metadata": {},
   "outputs": [
    {
     "data": {
      "text/plain": [
       "array([[3., 8., 4.],\n",
       "       [3., 7., 3.]])"
      ]
     },
     "execution_count": 134,
     "metadata": {},
     "output_type": "execute_result"
    }
   ],
   "source": [
    "A"
   ]
  },
  {
   "cell_type": "code",
   "execution_count": 135,
   "id": "62639dee",
   "metadata": {},
   "outputs": [
    {
     "data": {
      "text/plain": [
       "array([[2., 8.],\n",
       "       [6., 9.]])"
      ]
     },
     "execution_count": 135,
     "metadata": {},
     "output_type": "execute_result"
    }
   ],
   "source": [
    "B"
   ]
  },
  {
   "cell_type": "code",
   "execution_count": 136,
   "id": "06d12d3a",
   "metadata": {},
   "outputs": [],
   "source": [
    "C = np.hstack((A,B))"
   ]
  },
  {
   "cell_type": "code",
   "execution_count": 137,
   "id": "a5ee7b7f",
   "metadata": {},
   "outputs": [
    {
     "data": {
      "text/plain": [
       "array([[3., 8., 4., 2., 8.],\n",
       "       [3., 7., 3., 6., 9.]])"
      ]
     },
     "execution_count": 137,
     "metadata": {},
     "output_type": "execute_result"
    }
   ],
   "source": [
    "C"
   ]
  },
  {
   "cell_type": "code",
   "execution_count": 138,
   "id": "23afccdc",
   "metadata": {},
   "outputs": [],
   "source": [
    "A = np.random.permutation(np.arange(10))"
   ]
  },
  {
   "cell_type": "code",
   "execution_count": 139,
   "id": "808243f9",
   "metadata": {},
   "outputs": [
    {
     "data": {
      "text/plain": [
       "array([9, 3, 6, 8, 0, 4, 5, 7, 2, 1])"
      ]
     },
     "execution_count": 139,
     "metadata": {},
     "output_type": "execute_result"
    }
   ],
   "source": [
    "A"
   ]
  },
  {
   "cell_type": "code",
   "execution_count": 140,
   "id": "d391e090",
   "metadata": {},
   "outputs": [],
   "source": [
    "A.sort()"
   ]
  },
  {
   "cell_type": "code",
   "execution_count": 141,
   "id": "62af29fa",
   "metadata": {},
   "outputs": [
    {
     "data": {
      "text/plain": [
       "array([0, 1, 2, 3, 4, 5, 6, 7, 8, 9])"
      ]
     },
     "execution_count": 141,
     "metadata": {},
     "output_type": "execute_result"
    }
   ],
   "source": [
    "A"
   ]
  },
  {
   "cell_type": "code",
   "execution_count": 142,
   "id": "8898d1a0",
   "metadata": {},
   "outputs": [],
   "source": [
    "A = A[::-1]"
   ]
  },
  {
   "cell_type": "code",
   "execution_count": 143,
   "id": "a936c940",
   "metadata": {},
   "outputs": [
    {
     "data": {
      "text/plain": [
       "array([9, 8, 7, 6, 5, 4, 3, 2, 1, 0])"
      ]
     },
     "execution_count": 143,
     "metadata": {},
     "output_type": "execute_result"
    }
   ],
   "source": [
    "A"
   ]
  },
  {
   "cell_type": "code",
   "execution_count": 144,
   "id": "07803363",
   "metadata": {},
   "outputs": [],
   "source": [
    "A = np.array([\"abc\", 'how are you', 'u765', '13er'])"
   ]
  },
  {
   "cell_type": "code",
   "execution_count": 145,
   "id": "362bfb6b",
   "metadata": {},
   "outputs": [],
   "source": [
    "A.sort()"
   ]
  },
  {
   "cell_type": "code",
   "execution_count": 146,
   "id": "5c44e6b9",
   "metadata": {},
   "outputs": [
    {
     "data": {
      "text/plain": [
       "array(['13er', 'abc', 'how are you', 'u765'], dtype='<U11')"
      ]
     },
     "execution_count": 146,
     "metadata": {},
     "output_type": "execute_result"
    }
   ],
   "source": [
    "A"
   ]
  },
  {
   "cell_type": "code",
   "execution_count": 147,
   "id": "c5f4c846",
   "metadata": {},
   "outputs": [
    {
     "name": "stdout",
     "output_type": "stream",
     "text": [
      "139 ms ± 498 µs per loop (mean ± std. dev. of 7 runs, 10 loops each)\n",
      "787 µs ± 4.85 µs per loop (mean ± std. dev. of 7 runs, 1,000 loops each)\n"
     ]
    }
   ],
   "source": [
    "B = np.random.rand(1000000)\n",
    "%timeit sum(B)\n",
    "%timeit np.sum(B)     # B.sum()"
   ]
  },
  {
   "cell_type": "code",
   "execution_count": 148,
   "id": "a4c376e9",
   "metadata": {},
   "outputs": [],
   "source": [
    "def mySum(G):\n",
    "    s = 0\n",
    "    for x in G:\n",
    "        s+=x\n",
    "    return s"
   ]
  },
  {
   "cell_type": "code",
   "execution_count": 151,
   "id": "e3818d9d",
   "metadata": {},
   "outputs": [
    {
     "name": "stdout",
     "output_type": "stream",
     "text": [
      "187 ms ± 1.3 ms per loop (mean ± std. dev. of 7 runs, 10 loops each)\n"
     ]
    }
   ],
   "source": [
    "%timeit mySum(B)"
   ]
  },
  {
   "cell_type": "markdown",
   "id": "1e798783",
   "metadata": {},
   "source": [
    "# Panda"
   ]
  },
  {
   "cell_type": "code",
   "execution_count": 152,
   "id": "64cba17c",
   "metadata": {},
   "outputs": [],
   "source": [
    "import pandas as pd"
   ]
  },
  {
   "cell_type": "code",
   "execution_count": 154,
   "id": "1d84bf3b",
   "metadata": {},
   "outputs": [
    {
     "name": "stdout",
     "output_type": "stream",
     "text": [
      "1.4.2\n"
     ]
    }
   ],
   "source": [
    "print(pd.__version__)"
   ]
  },
  {
   "cell_type": "code",
   "execution_count": 156,
   "id": "30d908ef",
   "metadata": {},
   "outputs": [],
   "source": [
    "A = pd.Series([2,3,4,5], index=['a','b','c','d'])"
   ]
  },
  {
   "cell_type": "code",
   "execution_count": 157,
   "id": "aa2973c9",
   "metadata": {},
   "outputs": [
    {
     "data": {
      "text/plain": [
       "numpy.ndarray"
      ]
     },
     "execution_count": 157,
     "metadata": {},
     "output_type": "execute_result"
    }
   ],
   "source": [
    "type(A.values)"
   ]
  },
  {
   "cell_type": "code",
   "execution_count": 158,
   "id": "4d3d6381",
   "metadata": {},
   "outputs": [
    {
     "data": {
      "text/plain": [
       "pandas.core.series.Series"
      ]
     },
     "execution_count": 158,
     "metadata": {},
     "output_type": "execute_result"
    }
   ],
   "source": [
    "type(A)"
   ]
  },
  {
   "cell_type": "code",
   "execution_count": 159,
   "id": "e11bdf51",
   "metadata": {},
   "outputs": [
    {
     "data": {
      "text/plain": [
       "Index(['a', 'b', 'c', 'd'], dtype='object')"
      ]
     },
     "execution_count": 159,
     "metadata": {},
     "output_type": "execute_result"
    }
   ],
   "source": [
    "A.index"
   ]
  },
  {
   "cell_type": "code",
   "execution_count": 160,
   "id": "c8e662ed",
   "metadata": {},
   "outputs": [
    {
     "data": {
      "text/plain": [
       "2"
      ]
     },
     "execution_count": 160,
     "metadata": {},
     "output_type": "execute_result"
    }
   ],
   "source": [
    "A['a']"
   ]
  },
  {
   "cell_type": "code",
   "execution_count": 161,
   "id": "d9347d20",
   "metadata": {},
   "outputs": [
    {
     "data": {
      "text/plain": [
       "a    2\n",
       "b    3\n",
       "c    4\n",
       "dtype: int64"
      ]
     },
     "execution_count": 161,
     "metadata": {},
     "output_type": "execute_result"
    }
   ],
   "source": [
    "A['a':'c']"
   ]
  },
  {
   "cell_type": "code",
   "execution_count": 162,
   "id": "9e14943d",
   "metadata": {},
   "outputs": [],
   "source": [
    "# Series\n",
    "grads_dict = {'A':4,'B':3.5,'C':3,'D':2.5}\n",
    "grads = pd.Series(grads_dict)"
   ]
  },
  {
   "cell_type": "code",
   "execution_count": 163,
   "id": "df3e0f6e",
   "metadata": {},
   "outputs": [
    {
     "data": {
      "text/plain": [
       "array([4. , 3.5, 3. , 2.5])"
      ]
     },
     "execution_count": 163,
     "metadata": {},
     "output_type": "execute_result"
    }
   ],
   "source": [
    "grads.values"
   ]
  },
  {
   "cell_type": "code",
   "execution_count": 164,
   "id": "5ff97e72",
   "metadata": {},
   "outputs": [],
   "source": [
    "marks_dict = {'A':85,'B':75,'C':65,'D':55}\n",
    "marks = pd.Series(marks_dict)"
   ]
  },
  {
   "cell_type": "code",
   "execution_count": 165,
   "id": "932293c0",
   "metadata": {},
   "outputs": [
    {
     "data": {
      "text/plain": [
       "A    85\n",
       "B    75\n",
       "C    65\n",
       "D    55\n",
       "dtype: int64"
      ]
     },
     "execution_count": 165,
     "metadata": {},
     "output_type": "execute_result"
    }
   ],
   "source": [
    "marks"
   ]
  },
  {
   "cell_type": "code",
   "execution_count": 166,
   "id": "b0d806a6",
   "metadata": {},
   "outputs": [
    {
     "data": {
      "text/plain": [
       "85"
      ]
     },
     "execution_count": 166,
     "metadata": {},
     "output_type": "execute_result"
    }
   ],
   "source": [
    "marks['A']"
   ]
  },
  {
   "cell_type": "code",
   "execution_count": 167,
   "id": "3d19515c",
   "metadata": {},
   "outputs": [
    {
     "data": {
      "text/plain": [
       "A    85\n",
       "B    75\n",
       "dtype: int64"
      ]
     },
     "execution_count": 167,
     "metadata": {},
     "output_type": "execute_result"
    }
   ],
   "source": [
    "marks[0:2]"
   ]
  },
  {
   "cell_type": "code",
   "execution_count": 168,
   "id": "b7c48aa9",
   "metadata": {},
   "outputs": [
    {
     "data": {
      "text/plain": [
       "A    4.0\n",
       "B    3.5\n",
       "C    3.0\n",
       "D    2.5\n",
       "dtype: float64"
      ]
     },
     "execution_count": 168,
     "metadata": {},
     "output_type": "execute_result"
    }
   ],
   "source": [
    "# DataFrame: \n",
    "grads"
   ]
  },
  {
   "cell_type": "code",
   "execution_count": 169,
   "id": "4d8d7a01",
   "metadata": {},
   "outputs": [],
   "source": [
    "D = pd.DataFrame({'Marks':marks, 'Grades':grads})"
   ]
  },
  {
   "cell_type": "code",
   "execution_count": 170,
   "id": "9b35c78b",
   "metadata": {},
   "outputs": [
    {
     "data": {
      "text/html": [
       "<div>\n",
       "<style scoped>\n",
       "    .dataframe tbody tr th:only-of-type {\n",
       "        vertical-align: middle;\n",
       "    }\n",
       "\n",
       "    .dataframe tbody tr th {\n",
       "        vertical-align: top;\n",
       "    }\n",
       "\n",
       "    .dataframe thead th {\n",
       "        text-align: right;\n",
       "    }\n",
       "</style>\n",
       "<table border=\"1\" class=\"dataframe\">\n",
       "  <thead>\n",
       "    <tr style=\"text-align: right;\">\n",
       "      <th></th>\n",
       "      <th>Marks</th>\n",
       "      <th>Grades</th>\n",
       "    </tr>\n",
       "  </thead>\n",
       "  <tbody>\n",
       "    <tr>\n",
       "      <th>A</th>\n",
       "      <td>85</td>\n",
       "      <td>4.0</td>\n",
       "    </tr>\n",
       "    <tr>\n",
       "      <th>B</th>\n",
       "      <td>75</td>\n",
       "      <td>3.5</td>\n",
       "    </tr>\n",
       "    <tr>\n",
       "      <th>C</th>\n",
       "      <td>65</td>\n",
       "      <td>3.0</td>\n",
       "    </tr>\n",
       "    <tr>\n",
       "      <th>D</th>\n",
       "      <td>55</td>\n",
       "      <td>2.5</td>\n",
       "    </tr>\n",
       "  </tbody>\n",
       "</table>\n",
       "</div>"
      ],
      "text/plain": [
       "   Marks  Grades\n",
       "A     85     4.0\n",
       "B     75     3.5\n",
       "C     65     3.0\n",
       "D     55     2.5"
      ]
     },
     "execution_count": 170,
     "metadata": {},
     "output_type": "execute_result"
    }
   ],
   "source": [
    "D"
   ]
  },
  {
   "cell_type": "code",
   "execution_count": 171,
   "id": "fdbe7716",
   "metadata": {},
   "outputs": [
    {
     "data": {
      "text/html": [
       "<div>\n",
       "<style scoped>\n",
       "    .dataframe tbody tr th:only-of-type {\n",
       "        vertical-align: middle;\n",
       "    }\n",
       "\n",
       "    .dataframe tbody tr th {\n",
       "        vertical-align: top;\n",
       "    }\n",
       "\n",
       "    .dataframe thead th {\n",
       "        text-align: right;\n",
       "    }\n",
       "</style>\n",
       "<table border=\"1\" class=\"dataframe\">\n",
       "  <thead>\n",
       "    <tr style=\"text-align: right;\">\n",
       "      <th></th>\n",
       "      <th>A</th>\n",
       "      <th>B</th>\n",
       "      <th>C</th>\n",
       "      <th>D</th>\n",
       "    </tr>\n",
       "  </thead>\n",
       "  <tbody>\n",
       "    <tr>\n",
       "      <th>Marks</th>\n",
       "      <td>85.0</td>\n",
       "      <td>75.0</td>\n",
       "      <td>65.0</td>\n",
       "      <td>55.0</td>\n",
       "    </tr>\n",
       "    <tr>\n",
       "      <th>Grades</th>\n",
       "      <td>4.0</td>\n",
       "      <td>3.5</td>\n",
       "      <td>3.0</td>\n",
       "      <td>2.5</td>\n",
       "    </tr>\n",
       "  </tbody>\n",
       "</table>\n",
       "</div>"
      ],
      "text/plain": [
       "           A     B     C     D\n",
       "Marks   85.0  75.0  65.0  55.0\n",
       "Grades   4.0   3.5   3.0   2.5"
      ]
     },
     "execution_count": 171,
     "metadata": {},
     "output_type": "execute_result"
    }
   ],
   "source": [
    "D.T"
   ]
  },
  {
   "cell_type": "code",
   "execution_count": 172,
   "id": "5bc934e7",
   "metadata": {},
   "outputs": [
    {
     "data": {
      "text/plain": [
       "array([[85. ,  4. ],\n",
       "       [75. ,  3.5],\n",
       "       [65. ,  3. ],\n",
       "       [55. ,  2.5]])"
      ]
     },
     "execution_count": 172,
     "metadata": {},
     "output_type": "execute_result"
    }
   ],
   "source": [
    "D.values"
   ]
  },
  {
   "cell_type": "code",
   "execution_count": 174,
   "id": "fb3015b2",
   "metadata": {},
   "outputs": [
    {
     "data": {
      "text/plain": [
       "65.0"
      ]
     },
     "execution_count": 174,
     "metadata": {},
     "output_type": "execute_result"
    }
   ],
   "source": [
    "D.values[2,0]"
   ]
  },
  {
   "cell_type": "code",
   "execution_count": 176,
   "id": "785c9976",
   "metadata": {},
   "outputs": [
    {
     "data": {
      "text/plain": [
       "Index(['Marks', 'Grades'], dtype='object')"
      ]
     },
     "execution_count": 176,
     "metadata": {},
     "output_type": "execute_result"
    }
   ],
   "source": [
    "D.columns"
   ]
  },
  {
   "cell_type": "code",
   "execution_count": 177,
   "id": "be584858",
   "metadata": {},
   "outputs": [
    {
     "data": {
      "text/html": [
       "<div>\n",
       "<style scoped>\n",
       "    .dataframe tbody tr th:only-of-type {\n",
       "        vertical-align: middle;\n",
       "    }\n",
       "\n",
       "    .dataframe tbody tr th {\n",
       "        vertical-align: top;\n",
       "    }\n",
       "\n",
       "    .dataframe thead th {\n",
       "        text-align: right;\n",
       "    }\n",
       "</style>\n",
       "<table border=\"1\" class=\"dataframe\">\n",
       "  <thead>\n",
       "    <tr style=\"text-align: right;\">\n",
       "      <th></th>\n",
       "      <th>Marks</th>\n",
       "      <th>Grades</th>\n",
       "    </tr>\n",
       "  </thead>\n",
       "  <tbody>\n",
       "    <tr>\n",
       "      <th>A</th>\n",
       "      <td>85</td>\n",
       "      <td>4.0</td>\n",
       "    </tr>\n",
       "    <tr>\n",
       "      <th>B</th>\n",
       "      <td>75</td>\n",
       "      <td>3.5</td>\n",
       "    </tr>\n",
       "    <tr>\n",
       "      <th>C</th>\n",
       "      <td>65</td>\n",
       "      <td>3.0</td>\n",
       "    </tr>\n",
       "    <tr>\n",
       "      <th>D</th>\n",
       "      <td>55</td>\n",
       "      <td>2.5</td>\n",
       "    </tr>\n",
       "  </tbody>\n",
       "</table>\n",
       "</div>"
      ],
      "text/plain": [
       "   Marks  Grades\n",
       "A     85     4.0\n",
       "B     75     3.5\n",
       "C     65     3.0\n",
       "D     55     2.5"
      ]
     },
     "execution_count": 177,
     "metadata": {},
     "output_type": "execute_result"
    }
   ],
   "source": [
    "D"
   ]
  },
  {
   "cell_type": "code",
   "execution_count": 178,
   "id": "a6610d4b",
   "metadata": {},
   "outputs": [],
   "source": [
    "# add columns\n",
    "\n",
    "D['ScaledMarks']=100*(D['Marks']/90)"
   ]
  },
  {
   "cell_type": "code",
   "execution_count": 179,
   "id": "a6cd8499",
   "metadata": {},
   "outputs": [
    {
     "data": {
      "text/html": [
       "<div>\n",
       "<style scoped>\n",
       "    .dataframe tbody tr th:only-of-type {\n",
       "        vertical-align: middle;\n",
       "    }\n",
       "\n",
       "    .dataframe tbody tr th {\n",
       "        vertical-align: top;\n",
       "    }\n",
       "\n",
       "    .dataframe thead th {\n",
       "        text-align: right;\n",
       "    }\n",
       "</style>\n",
       "<table border=\"1\" class=\"dataframe\">\n",
       "  <thead>\n",
       "    <tr style=\"text-align: right;\">\n",
       "      <th></th>\n",
       "      <th>Marks</th>\n",
       "      <th>Grades</th>\n",
       "      <th>ScaledMarks</th>\n",
       "    </tr>\n",
       "  </thead>\n",
       "  <tbody>\n",
       "    <tr>\n",
       "      <th>A</th>\n",
       "      <td>85</td>\n",
       "      <td>4.0</td>\n",
       "      <td>94.444444</td>\n",
       "    </tr>\n",
       "    <tr>\n",
       "      <th>B</th>\n",
       "      <td>75</td>\n",
       "      <td>3.5</td>\n",
       "      <td>83.333333</td>\n",
       "    </tr>\n",
       "    <tr>\n",
       "      <th>C</th>\n",
       "      <td>65</td>\n",
       "      <td>3.0</td>\n",
       "      <td>72.222222</td>\n",
       "    </tr>\n",
       "    <tr>\n",
       "      <th>D</th>\n",
       "      <td>55</td>\n",
       "      <td>2.5</td>\n",
       "      <td>61.111111</td>\n",
       "    </tr>\n",
       "  </tbody>\n",
       "</table>\n",
       "</div>"
      ],
      "text/plain": [
       "   Marks  Grades  ScaledMarks\n",
       "A     85     4.0    94.444444\n",
       "B     75     3.5    83.333333\n",
       "C     65     3.0    72.222222\n",
       "D     55     2.5    61.111111"
      ]
     },
     "execution_count": 179,
     "metadata": {},
     "output_type": "execute_result"
    }
   ],
   "source": [
    "D"
   ]
  },
  {
   "cell_type": "code",
   "execution_count": 180,
   "id": "54b3f470",
   "metadata": {},
   "outputs": [],
   "source": [
    "del D['ScaledMarks']"
   ]
  },
  {
   "cell_type": "code",
   "execution_count": 181,
   "id": "f696d8d7",
   "metadata": {},
   "outputs": [
    {
     "data": {
      "text/html": [
       "<div>\n",
       "<style scoped>\n",
       "    .dataframe tbody tr th:only-of-type {\n",
       "        vertical-align: middle;\n",
       "    }\n",
       "\n",
       "    .dataframe tbody tr th {\n",
       "        vertical-align: top;\n",
       "    }\n",
       "\n",
       "    .dataframe thead th {\n",
       "        text-align: right;\n",
       "    }\n",
       "</style>\n",
       "<table border=\"1\" class=\"dataframe\">\n",
       "  <thead>\n",
       "    <tr style=\"text-align: right;\">\n",
       "      <th></th>\n",
       "      <th>Marks</th>\n",
       "      <th>Grades</th>\n",
       "    </tr>\n",
       "  </thead>\n",
       "  <tbody>\n",
       "    <tr>\n",
       "      <th>A</th>\n",
       "      <td>85</td>\n",
       "      <td>4.0</td>\n",
       "    </tr>\n",
       "    <tr>\n",
       "      <th>B</th>\n",
       "      <td>75</td>\n",
       "      <td>3.5</td>\n",
       "    </tr>\n",
       "    <tr>\n",
       "      <th>C</th>\n",
       "      <td>65</td>\n",
       "      <td>3.0</td>\n",
       "    </tr>\n",
       "    <tr>\n",
       "      <th>D</th>\n",
       "      <td>55</td>\n",
       "      <td>2.5</td>\n",
       "    </tr>\n",
       "  </tbody>\n",
       "</table>\n",
       "</div>"
      ],
      "text/plain": [
       "   Marks  Grades\n",
       "A     85     4.0\n",
       "B     75     3.5\n",
       "C     65     3.0\n",
       "D     55     2.5"
      ]
     },
     "execution_count": 181,
     "metadata": {},
     "output_type": "execute_result"
    }
   ],
   "source": [
    "D"
   ]
  },
  {
   "cell_type": "code",
   "execution_count": 182,
   "id": "68d92d86",
   "metadata": {},
   "outputs": [],
   "source": [
    "G = D[D['Marks']>70]"
   ]
  },
  {
   "cell_type": "code",
   "execution_count": 183,
   "id": "eaf09b94",
   "metadata": {},
   "outputs": [
    {
     "data": {
      "text/html": [
       "<div>\n",
       "<style scoped>\n",
       "    .dataframe tbody tr th:only-of-type {\n",
       "        vertical-align: middle;\n",
       "    }\n",
       "\n",
       "    .dataframe tbody tr th {\n",
       "        vertical-align: top;\n",
       "    }\n",
       "\n",
       "    .dataframe thead th {\n",
       "        text-align: right;\n",
       "    }\n",
       "</style>\n",
       "<table border=\"1\" class=\"dataframe\">\n",
       "  <thead>\n",
       "    <tr style=\"text-align: right;\">\n",
       "      <th></th>\n",
       "      <th>Marks</th>\n",
       "      <th>Grades</th>\n",
       "    </tr>\n",
       "  </thead>\n",
       "  <tbody>\n",
       "    <tr>\n",
       "      <th>A</th>\n",
       "      <td>85</td>\n",
       "      <td>4.0</td>\n",
       "    </tr>\n",
       "    <tr>\n",
       "      <th>B</th>\n",
       "      <td>75</td>\n",
       "      <td>3.5</td>\n",
       "    </tr>\n",
       "  </tbody>\n",
       "</table>\n",
       "</div>"
      ],
      "text/plain": [
       "   Marks  Grades\n",
       "A     85     4.0\n",
       "B     75     3.5"
      ]
     },
     "execution_count": 183,
     "metadata": {},
     "output_type": "execute_result"
    }
   ],
   "source": [
    "G"
   ]
  },
  {
   "cell_type": "code",
   "execution_count": 185,
   "id": "f380cf05",
   "metadata": {},
   "outputs": [],
   "source": [
    "# Panda: NaN\n",
    "\n",
    "A = pd.DataFrame([{'a':1,'b':4},{'b':-3,'c':9}])"
   ]
  },
  {
   "cell_type": "code",
   "execution_count": 186,
   "id": "11f43403",
   "metadata": {},
   "outputs": [
    {
     "data": {
      "text/html": [
       "<div>\n",
       "<style scoped>\n",
       "    .dataframe tbody tr th:only-of-type {\n",
       "        vertical-align: middle;\n",
       "    }\n",
       "\n",
       "    .dataframe tbody tr th {\n",
       "        vertical-align: top;\n",
       "    }\n",
       "\n",
       "    .dataframe thead th {\n",
       "        text-align: right;\n",
       "    }\n",
       "</style>\n",
       "<table border=\"1\" class=\"dataframe\">\n",
       "  <thead>\n",
       "    <tr style=\"text-align: right;\">\n",
       "      <th></th>\n",
       "      <th>a</th>\n",
       "      <th>b</th>\n",
       "      <th>c</th>\n",
       "    </tr>\n",
       "  </thead>\n",
       "  <tbody>\n",
       "    <tr>\n",
       "      <th>0</th>\n",
       "      <td>1.0</td>\n",
       "      <td>4</td>\n",
       "      <td>NaN</td>\n",
       "    </tr>\n",
       "    <tr>\n",
       "      <th>1</th>\n",
       "      <td>NaN</td>\n",
       "      <td>-3</td>\n",
       "      <td>9.0</td>\n",
       "    </tr>\n",
       "  </tbody>\n",
       "</table>\n",
       "</div>"
      ],
      "text/plain": [
       "     a  b    c\n",
       "0  1.0  4  NaN\n",
       "1  NaN -3  9.0"
      ]
     },
     "execution_count": 186,
     "metadata": {},
     "output_type": "execute_result"
    }
   ],
   "source": [
    "A"
   ]
  },
  {
   "cell_type": "code",
   "execution_count": 187,
   "id": "453a7310",
   "metadata": {},
   "outputs": [
    {
     "data": {
      "text/html": [
       "<div>\n",
       "<style scoped>\n",
       "    .dataframe tbody tr th:only-of-type {\n",
       "        vertical-align: middle;\n",
       "    }\n",
       "\n",
       "    .dataframe tbody tr th {\n",
       "        vertical-align: top;\n",
       "    }\n",
       "\n",
       "    .dataframe thead th {\n",
       "        text-align: right;\n",
       "    }\n",
       "</style>\n",
       "<table border=\"1\" class=\"dataframe\">\n",
       "  <thead>\n",
       "    <tr style=\"text-align: right;\">\n",
       "      <th></th>\n",
       "      <th>a</th>\n",
       "      <th>b</th>\n",
       "      <th>c</th>\n",
       "    </tr>\n",
       "  </thead>\n",
       "  <tbody>\n",
       "    <tr>\n",
       "      <th>0</th>\n",
       "      <td>1.0</td>\n",
       "      <td>4</td>\n",
       "      <td>0.0</td>\n",
       "    </tr>\n",
       "    <tr>\n",
       "      <th>1</th>\n",
       "      <td>0.0</td>\n",
       "      <td>-3</td>\n",
       "      <td>9.0</td>\n",
       "    </tr>\n",
       "  </tbody>\n",
       "</table>\n",
       "</div>"
      ],
      "text/plain": [
       "     a  b    c\n",
       "0  1.0  4  0.0\n",
       "1  0.0 -3  9.0"
      ]
     },
     "execution_count": 187,
     "metadata": {},
     "output_type": "execute_result"
    }
   ],
   "source": [
    "A.fillna(0)"
   ]
  },
  {
   "cell_type": "code",
   "execution_count": 188,
   "id": "dec73fcb",
   "metadata": {},
   "outputs": [],
   "source": [
    "A.dropna?"
   ]
  },
  {
   "cell_type": "code",
   "execution_count": 189,
   "id": "a6790bf5",
   "metadata": {},
   "outputs": [],
   "source": [
    "A = pd.Series(['a','b','c'],index=[1,2,3])"
   ]
  },
  {
   "cell_type": "code",
   "execution_count": 190,
   "id": "128b7123",
   "metadata": {},
   "outputs": [
    {
     "data": {
      "text/plain": [
       "'a'"
      ]
     },
     "execution_count": 190,
     "metadata": {},
     "output_type": "execute_result"
    }
   ],
   "source": [
    "A[1]"
   ]
  },
  {
   "cell_type": "code",
   "execution_count": 191,
   "id": "b82b4cf5",
   "metadata": {},
   "outputs": [
    {
     "data": {
      "text/plain": [
       "2    b\n",
       "3    c\n",
       "dtype: object"
      ]
     },
     "execution_count": 191,
     "metadata": {},
     "output_type": "execute_result"
    }
   ],
   "source": [
    "A[1:3]"
   ]
  },
  {
   "cell_type": "code",
   "execution_count": 192,
   "id": "5bff2c47",
   "metadata": {},
   "outputs": [
    {
     "data": {
      "text/plain": [
       "1    a\n",
       "2    b\n",
       "3    c\n",
       "dtype: object"
      ]
     },
     "execution_count": 192,
     "metadata": {},
     "output_type": "execute_result"
    }
   ],
   "source": [
    "A.loc[1:3]"
   ]
  },
  {
   "cell_type": "code",
   "execution_count": 193,
   "id": "420ee865",
   "metadata": {},
   "outputs": [
    {
     "data": {
      "text/plain": [
       "2    b\n",
       "3    c\n",
       "dtype: object"
      ]
     },
     "execution_count": 193,
     "metadata": {},
     "output_type": "execute_result"
    }
   ],
   "source": [
    "A.iloc[1:3]"
   ]
  },
  {
   "cell_type": "code",
   "execution_count": 194,
   "id": "118f13fb",
   "metadata": {},
   "outputs": [
    {
     "data": {
      "text/html": [
       "<div>\n",
       "<style scoped>\n",
       "    .dataframe tbody tr th:only-of-type {\n",
       "        vertical-align: middle;\n",
       "    }\n",
       "\n",
       "    .dataframe tbody tr th {\n",
       "        vertical-align: top;\n",
       "    }\n",
       "\n",
       "    .dataframe thead th {\n",
       "        text-align: right;\n",
       "    }\n",
       "</style>\n",
       "<table border=\"1\" class=\"dataframe\">\n",
       "  <thead>\n",
       "    <tr style=\"text-align: right;\">\n",
       "      <th></th>\n",
       "      <th>Marks</th>\n",
       "      <th>Grades</th>\n",
       "    </tr>\n",
       "  </thead>\n",
       "  <tbody>\n",
       "    <tr>\n",
       "      <th>A</th>\n",
       "      <td>85</td>\n",
       "      <td>4.0</td>\n",
       "    </tr>\n",
       "    <tr>\n",
       "      <th>B</th>\n",
       "      <td>75</td>\n",
       "      <td>3.5</td>\n",
       "    </tr>\n",
       "    <tr>\n",
       "      <th>C</th>\n",
       "      <td>65</td>\n",
       "      <td>3.0</td>\n",
       "    </tr>\n",
       "    <tr>\n",
       "      <th>D</th>\n",
       "      <td>55</td>\n",
       "      <td>2.5</td>\n",
       "    </tr>\n",
       "  </tbody>\n",
       "</table>\n",
       "</div>"
      ],
      "text/plain": [
       "   Marks  Grades\n",
       "A     85     4.0\n",
       "B     75     3.5\n",
       "C     65     3.0\n",
       "D     55     2.5"
      ]
     },
     "execution_count": 194,
     "metadata": {},
     "output_type": "execute_result"
    }
   ],
   "source": [
    "D"
   ]
  },
  {
   "cell_type": "code",
   "execution_count": 195,
   "id": "47e54752",
   "metadata": {},
   "outputs": [
    {
     "data": {
      "text/plain": [
       "Marks     65.0\n",
       "Grades     3.0\n",
       "Name: C, dtype: float64"
      ]
     },
     "execution_count": 195,
     "metadata": {},
     "output_type": "execute_result"
    }
   ],
   "source": [
    "D.iloc[2,:]"
   ]
  },
  {
   "cell_type": "code",
   "execution_count": 196,
   "id": "5d8515ab",
   "metadata": {},
   "outputs": [
    {
     "data": {
      "text/html": [
       "<div>\n",
       "<style scoped>\n",
       "    .dataframe tbody tr th:only-of-type {\n",
       "        vertical-align: middle;\n",
       "    }\n",
       "\n",
       "    .dataframe tbody tr th {\n",
       "        vertical-align: top;\n",
       "    }\n",
       "\n",
       "    .dataframe thead th {\n",
       "        text-align: right;\n",
       "    }\n",
       "</style>\n",
       "<table border=\"1\" class=\"dataframe\">\n",
       "  <thead>\n",
       "    <tr style=\"text-align: right;\">\n",
       "      <th></th>\n",
       "      <th>Marks</th>\n",
       "      <th>Grades</th>\n",
       "    </tr>\n",
       "  </thead>\n",
       "  <tbody>\n",
       "    <tr>\n",
       "      <th>D</th>\n",
       "      <td>55</td>\n",
       "      <td>2.5</td>\n",
       "    </tr>\n",
       "    <tr>\n",
       "      <th>C</th>\n",
       "      <td>65</td>\n",
       "      <td>3.0</td>\n",
       "    </tr>\n",
       "    <tr>\n",
       "      <th>B</th>\n",
       "      <td>75</td>\n",
       "      <td>3.5</td>\n",
       "    </tr>\n",
       "    <tr>\n",
       "      <th>A</th>\n",
       "      <td>85</td>\n",
       "      <td>4.0</td>\n",
       "    </tr>\n",
       "  </tbody>\n",
       "</table>\n",
       "</div>"
      ],
      "text/plain": [
       "   Marks  Grades\n",
       "D     55     2.5\n",
       "C     65     3.0\n",
       "B     75     3.5\n",
       "A     85     4.0"
      ]
     },
     "execution_count": 196,
     "metadata": {},
     "output_type": "execute_result"
    }
   ],
   "source": [
    "D.iloc[::-1,:]"
   ]
  },
  {
   "cell_type": "markdown",
   "id": "b6453540",
   "metadata": {},
   "source": [
    "# Pandas : csv files\n"
   ]
  },
  {
   "cell_type": "code",
   "execution_count": 197,
   "id": "fbb3f656",
   "metadata": {},
   "outputs": [],
   "source": [
    "from sklearn.impute import SimpleImputer"
   ]
  },
  {
   "cell_type": "code",
   "execution_count": 207,
   "id": "f29d2070",
   "metadata": {},
   "outputs": [],
   "source": [
    "df = pd.read_csv('C:/Dataset_ex/Covid_Michigan.csv')"
   ]
  },
  {
   "cell_type": "code",
   "execution_count": 209,
   "id": "9aa967b7",
   "metadata": {},
   "outputs": [
    {
     "data": {
      "text/html": [
       "<div>\n",
       "<style scoped>\n",
       "    .dataframe tbody tr th:only-of-type {\n",
       "        vertical-align: middle;\n",
       "    }\n",
       "\n",
       "    .dataframe tbody tr th {\n",
       "        vertical-align: top;\n",
       "    }\n",
       "\n",
       "    .dataframe thead th {\n",
       "        text-align: right;\n",
       "    }\n",
       "</style>\n",
       "<table border=\"1\" class=\"dataframe\">\n",
       "  <thead>\n",
       "    <tr style=\"text-align: right;\">\n",
       "      <th></th>\n",
       "      <th>date</th>\n",
       "      <th>state</th>\n",
       "      <th>death</th>\n",
       "      <th>deathConfirmed</th>\n",
       "      <th>deathIncrease</th>\n",
       "      <th>deathProbable</th>\n",
       "      <th>hospitalizedCurrently</th>\n",
       "      <th>inIcuCurrently</th>\n",
       "      <th>negativeTestsViral</th>\n",
       "      <th>onVentilatorCurrently</th>\n",
       "      <th>positive</th>\n",
       "      <th>positiveCasesViral</th>\n",
       "      <th>positiveIncrease</th>\n",
       "      <th>positiveTestsViral</th>\n",
       "      <th>recovered</th>\n",
       "      <th>totalTestResults</th>\n",
       "      <th>totalTestResultsIncrease</th>\n",
       "      <th>totalTestsViral</th>\n",
       "      <th>totalTestsViralIncrease</th>\n",
       "    </tr>\n",
       "  </thead>\n",
       "  <tbody>\n",
       "    <tr>\n",
       "      <th>0</th>\n",
       "      <td>07/03/2021</td>\n",
       "      <td>MI</td>\n",
       "      <td>16658</td>\n",
       "      <td>15666</td>\n",
       "      <td>0</td>\n",
       "      <td>992</td>\n",
       "      <td>866</td>\n",
       "      <td>222</td>\n",
       "      <td>9869602</td>\n",
       "      <td>97</td>\n",
       "      <td>656072</td>\n",
       "      <td>596054</td>\n",
       "      <td>0</td>\n",
       "      <td>752365</td>\n",
       "      <td>549881</td>\n",
       "      <td>10621967</td>\n",
       "      <td>0</td>\n",
       "      <td>10621967</td>\n",
       "      <td>0</td>\n",
       "    </tr>\n",
       "    <tr>\n",
       "      <th>1</th>\n",
       "      <td>06/03/2021</td>\n",
       "      <td>MI</td>\n",
       "      <td>16658</td>\n",
       "      <td>15666</td>\n",
       "      <td>57</td>\n",
       "      <td>992</td>\n",
       "      <td>866</td>\n",
       "      <td>222</td>\n",
       "      <td>9869602</td>\n",
       "      <td>97</td>\n",
       "      <td>656072</td>\n",
       "      <td>596054</td>\n",
       "      <td>1692</td>\n",
       "      <td>752365</td>\n",
       "      <td>549881</td>\n",
       "      <td>10621967</td>\n",
       "      <td>37232</td>\n",
       "      <td>10621967</td>\n",
       "      <td>37232</td>\n",
       "    </tr>\n",
       "    <tr>\n",
       "      <th>2</th>\n",
       "      <td>05/03/2021</td>\n",
       "      <td>MI</td>\n",
       "      <td>16601</td>\n",
       "      <td>15610</td>\n",
       "      <td>12</td>\n",
       "      <td>991</td>\n",
       "      <td>866</td>\n",
       "      <td>222</td>\n",
       "      <td>9833789</td>\n",
       "      <td>97</td>\n",
       "      <td>654380</td>\n",
       "      <td>594765</td>\n",
       "      <td>1791</td>\n",
       "      <td>750946</td>\n",
       "      <td>541258</td>\n",
       "      <td>10584735</td>\n",
       "      <td>46112</td>\n",
       "      <td>10584735</td>\n",
       "      <td>46112</td>\n",
       "    </tr>\n",
       "    <tr>\n",
       "      <th>3</th>\n",
       "      <td>04/03/2021</td>\n",
       "      <td>MI</td>\n",
       "      <td>16589</td>\n",
       "      <td>15600</td>\n",
       "      <td>39</td>\n",
       "      <td>989</td>\n",
       "      <td>890</td>\n",
       "      <td>229</td>\n",
       "      <td>9789502</td>\n",
       "      <td>102</td>\n",
       "      <td>652589</td>\n",
       "      <td>593279</td>\n",
       "      <td>1827</td>\n",
       "      <td>749121</td>\n",
       "      <td>541258</td>\n",
       "      <td>10538623</td>\n",
       "      <td>46486</td>\n",
       "      <td>10538623</td>\n",
       "      <td>46486</td>\n",
       "    </tr>\n",
       "    <tr>\n",
       "      <th>4</th>\n",
       "      <td>03/03/2021</td>\n",
       "      <td>MI</td>\n",
       "      <td>16550</td>\n",
       "      <td>15563</td>\n",
       "      <td>6</td>\n",
       "      <td>987</td>\n",
       "      <td>882</td>\n",
       "      <td>234</td>\n",
       "      <td>9744673</td>\n",
       "      <td>100</td>\n",
       "      <td>650762</td>\n",
       "      <td>591753</td>\n",
       "      <td>1705</td>\n",
       "      <td>747464</td>\n",
       "      <td>541258</td>\n",
       "      <td>10492137</td>\n",
       "      <td>36453</td>\n",
       "      <td>10492137</td>\n",
       "      <td>36453</td>\n",
       "    </tr>\n",
       "    <tr>\n",
       "      <th>5</th>\n",
       "      <td>02/03/2021</td>\n",
       "      <td>MI</td>\n",
       "      <td>16544</td>\n",
       "      <td>15558</td>\n",
       "      <td>25</td>\n",
       "      <td>986</td>\n",
       "      <td>959</td>\n",
       "      <td>228</td>\n",
       "      <td>9709698</td>\n",
       "      <td>99</td>\n",
       "      <td>649057</td>\n",
       "      <td>590217</td>\n",
       "      <td>1642</td>\n",
       "      <td>745986</td>\n",
       "      <td>541258</td>\n",
       "      <td>10455684</td>\n",
       "      <td>19406</td>\n",
       "      <td>10455684</td>\n",
       "      <td>19406</td>\n",
       "    </tr>\n",
       "    <tr>\n",
       "      <th>6</th>\n",
       "      <td>01/03/2021</td>\n",
       "      <td>MI</td>\n",
       "      <td>16519</td>\n",
       "      <td>15534</td>\n",
       "      <td>11</td>\n",
       "      <td>985</td>\n",
       "      <td>893</td>\n",
       "      <td>226</td>\n",
       "      <td>9691266</td>\n",
       "      <td>103</td>\n",
       "      <td>647415</td>\n",
       "      <td>589150</td>\n",
       "      <td>1865</td>\n",
       "      <td>745012</td>\n",
       "      <td>541258</td>\n",
       "      <td>10436278</td>\n",
       "      <td>48387</td>\n",
       "      <td>10436278</td>\n",
       "      <td>48387</td>\n",
       "    </tr>\n",
       "    <tr>\n",
       "      <th>7</th>\n",
       "      <td>28/02/2021</td>\n",
       "      <td>MI</td>\n",
       "      <td>16508</td>\n",
       "      <td>15522</td>\n",
       "      <td>0</td>\n",
       "      <td>986</td>\n",
       "      <td>841</td>\n",
       "      <td>195</td>\n",
       "      <td>9644816</td>\n",
       "      <td>93</td>\n",
       "      <td>645550</td>\n",
       "      <td>587581</td>\n",
       "      <td>0</td>\n",
       "      <td>743075</td>\n",
       "      <td>541258</td>\n",
       "      <td>10387891</td>\n",
       "      <td>0</td>\n",
       "      <td>10387891</td>\n",
       "      <td>0</td>\n",
       "    </tr>\n",
       "    <tr>\n",
       "      <th>8</th>\n",
       "      <td>27/02/2021</td>\n",
       "      <td>MI</td>\n",
       "      <td>16508</td>\n",
       "      <td>15522</td>\n",
       "      <td>70</td>\n",
       "      <td>986</td>\n",
       "      <td>841</td>\n",
       "      <td>195</td>\n",
       "      <td>9644816</td>\n",
       "      <td>93</td>\n",
       "      <td>645550</td>\n",
       "      <td>587581</td>\n",
       "      <td>1425</td>\n",
       "      <td>743075</td>\n",
       "      <td>541258</td>\n",
       "      <td>10387891</td>\n",
       "      <td>36981</td>\n",
       "      <td>10387891</td>\n",
       "      <td>36981</td>\n",
       "    </tr>\n",
       "    <tr>\n",
       "      <th>9</th>\n",
       "      <td>26/02/2021</td>\n",
       "      <td>MI</td>\n",
       "      <td>16438</td>\n",
       "      <td>15454</td>\n",
       "      <td>2</td>\n",
       "      <td>984</td>\n",
       "      <td>841</td>\n",
       "      <td>195</td>\n",
       "      <td>9609112</td>\n",
       "      <td>93</td>\n",
       "      <td>644125</td>\n",
       "      <td>586425</td>\n",
       "      <td>1257</td>\n",
       "      <td>741798</td>\n",
       "      <td>529080</td>\n",
       "      <td>10350910</td>\n",
       "      <td>41966</td>\n",
       "      <td>10350910</td>\n",
       "      <td>41966</td>\n",
       "    </tr>\n",
       "  </tbody>\n",
       "</table>\n",
       "</div>"
      ],
      "text/plain": [
       "         date state  death  deathConfirmed  deathIncrease  deathProbable  \\\n",
       "0  07/03/2021    MI  16658           15666              0            992   \n",
       "1  06/03/2021    MI  16658           15666             57            992   \n",
       "2  05/03/2021    MI  16601           15610             12            991   \n",
       "3  04/03/2021    MI  16589           15600             39            989   \n",
       "4  03/03/2021    MI  16550           15563              6            987   \n",
       "5  02/03/2021    MI  16544           15558             25            986   \n",
       "6  01/03/2021    MI  16519           15534             11            985   \n",
       "7  28/02/2021    MI  16508           15522              0            986   \n",
       "8  27/02/2021    MI  16508           15522             70            986   \n",
       "9  26/02/2021    MI  16438           15454              2            984   \n",
       "\n",
       "   hospitalizedCurrently  inIcuCurrently  negativeTestsViral  \\\n",
       "0                    866             222             9869602   \n",
       "1                    866             222             9869602   \n",
       "2                    866             222             9833789   \n",
       "3                    890             229             9789502   \n",
       "4                    882             234             9744673   \n",
       "5                    959             228             9709698   \n",
       "6                    893             226             9691266   \n",
       "7                    841             195             9644816   \n",
       "8                    841             195             9644816   \n",
       "9                    841             195             9609112   \n",
       "\n",
       "   onVentilatorCurrently  positive  positiveCasesViral  positiveIncrease  \\\n",
       "0                     97    656072              596054                 0   \n",
       "1                     97    656072              596054              1692   \n",
       "2                     97    654380              594765              1791   \n",
       "3                    102    652589              593279              1827   \n",
       "4                    100    650762              591753              1705   \n",
       "5                     99    649057              590217              1642   \n",
       "6                    103    647415              589150              1865   \n",
       "7                     93    645550              587581                 0   \n",
       "8                     93    645550              587581              1425   \n",
       "9                     93    644125              586425              1257   \n",
       "\n",
       "   positiveTestsViral  recovered  totalTestResults  totalTestResultsIncrease  \\\n",
       "0              752365     549881          10621967                         0   \n",
       "1              752365     549881          10621967                     37232   \n",
       "2              750946     541258          10584735                     46112   \n",
       "3              749121     541258          10538623                     46486   \n",
       "4              747464     541258          10492137                     36453   \n",
       "5              745986     541258          10455684                     19406   \n",
       "6              745012     541258          10436278                     48387   \n",
       "7              743075     541258          10387891                         0   \n",
       "8              743075     541258          10387891                     36981   \n",
       "9              741798     529080          10350910                     41966   \n",
       "\n",
       "   totalTestsViral  totalTestsViralIncrease  \n",
       "0         10621967                        0  \n",
       "1         10621967                    37232  \n",
       "2         10584735                    46112  \n",
       "3         10538623                    46486  \n",
       "4         10492137                    36453  \n",
       "5         10455684                    19406  \n",
       "6         10436278                    48387  \n",
       "7         10387891                        0  \n",
       "8         10387891                    36981  \n",
       "9         10350910                    41966  "
      ]
     },
     "execution_count": 209,
     "metadata": {},
     "output_type": "execute_result"
    }
   ],
   "source": [
    "df.head(10)"
   ]
  },
  {
   "cell_type": "code",
   "execution_count": 211,
   "id": "2be287b8",
   "metadata": {},
   "outputs": [],
   "source": [
    "df.drop(['death','deathConfirmed'], axis = 1, inplace = True)"
   ]
  },
  {
   "cell_type": "code",
   "execution_count": 212,
   "id": "0f1b0002",
   "metadata": {},
   "outputs": [
    {
     "data": {
      "text/html": [
       "<div>\n",
       "<style scoped>\n",
       "    .dataframe tbody tr th:only-of-type {\n",
       "        vertical-align: middle;\n",
       "    }\n",
       "\n",
       "    .dataframe tbody tr th {\n",
       "        vertical-align: top;\n",
       "    }\n",
       "\n",
       "    .dataframe thead th {\n",
       "        text-align: right;\n",
       "    }\n",
       "</style>\n",
       "<table border=\"1\" class=\"dataframe\">\n",
       "  <thead>\n",
       "    <tr style=\"text-align: right;\">\n",
       "      <th></th>\n",
       "      <th>date</th>\n",
       "      <th>state</th>\n",
       "      <th>deathIncrease</th>\n",
       "      <th>deathProbable</th>\n",
       "      <th>hospitalizedCurrently</th>\n",
       "      <th>inIcuCurrently</th>\n",
       "      <th>negativeTestsViral</th>\n",
       "      <th>onVentilatorCurrently</th>\n",
       "      <th>positive</th>\n",
       "      <th>positiveCasesViral</th>\n",
       "      <th>positiveIncrease</th>\n",
       "      <th>positiveTestsViral</th>\n",
       "      <th>recovered</th>\n",
       "      <th>totalTestResults</th>\n",
       "      <th>totalTestResultsIncrease</th>\n",
       "      <th>totalTestsViral</th>\n",
       "      <th>totalTestsViralIncrease</th>\n",
       "    </tr>\n",
       "  </thead>\n",
       "  <tbody>\n",
       "    <tr>\n",
       "      <th>0</th>\n",
       "      <td>07/03/2021</td>\n",
       "      <td>MI</td>\n",
       "      <td>0</td>\n",
       "      <td>992</td>\n",
       "      <td>866</td>\n",
       "      <td>222</td>\n",
       "      <td>9869602</td>\n",
       "      <td>97</td>\n",
       "      <td>656072</td>\n",
       "      <td>596054</td>\n",
       "      <td>0</td>\n",
       "      <td>752365</td>\n",
       "      <td>549881</td>\n",
       "      <td>10621967</td>\n",
       "      <td>0</td>\n",
       "      <td>10621967</td>\n",
       "      <td>0</td>\n",
       "    </tr>\n",
       "    <tr>\n",
       "      <th>1</th>\n",
       "      <td>06/03/2021</td>\n",
       "      <td>MI</td>\n",
       "      <td>57</td>\n",
       "      <td>992</td>\n",
       "      <td>866</td>\n",
       "      <td>222</td>\n",
       "      <td>9869602</td>\n",
       "      <td>97</td>\n",
       "      <td>656072</td>\n",
       "      <td>596054</td>\n",
       "      <td>1692</td>\n",
       "      <td>752365</td>\n",
       "      <td>549881</td>\n",
       "      <td>10621967</td>\n",
       "      <td>37232</td>\n",
       "      <td>10621967</td>\n",
       "      <td>37232</td>\n",
       "    </tr>\n",
       "    <tr>\n",
       "      <th>2</th>\n",
       "      <td>05/03/2021</td>\n",
       "      <td>MI</td>\n",
       "      <td>12</td>\n",
       "      <td>991</td>\n",
       "      <td>866</td>\n",
       "      <td>222</td>\n",
       "      <td>9833789</td>\n",
       "      <td>97</td>\n",
       "      <td>654380</td>\n",
       "      <td>594765</td>\n",
       "      <td>1791</td>\n",
       "      <td>750946</td>\n",
       "      <td>541258</td>\n",
       "      <td>10584735</td>\n",
       "      <td>46112</td>\n",
       "      <td>10584735</td>\n",
       "      <td>46112</td>\n",
       "    </tr>\n",
       "    <tr>\n",
       "      <th>3</th>\n",
       "      <td>04/03/2021</td>\n",
       "      <td>MI</td>\n",
       "      <td>39</td>\n",
       "      <td>989</td>\n",
       "      <td>890</td>\n",
       "      <td>229</td>\n",
       "      <td>9789502</td>\n",
       "      <td>102</td>\n",
       "      <td>652589</td>\n",
       "      <td>593279</td>\n",
       "      <td>1827</td>\n",
       "      <td>749121</td>\n",
       "      <td>541258</td>\n",
       "      <td>10538623</td>\n",
       "      <td>46486</td>\n",
       "      <td>10538623</td>\n",
       "      <td>46486</td>\n",
       "    </tr>\n",
       "    <tr>\n",
       "      <th>4</th>\n",
       "      <td>03/03/2021</td>\n",
       "      <td>MI</td>\n",
       "      <td>6</td>\n",
       "      <td>987</td>\n",
       "      <td>882</td>\n",
       "      <td>234</td>\n",
       "      <td>9744673</td>\n",
       "      <td>100</td>\n",
       "      <td>650762</td>\n",
       "      <td>591753</td>\n",
       "      <td>1705</td>\n",
       "      <td>747464</td>\n",
       "      <td>541258</td>\n",
       "      <td>10492137</td>\n",
       "      <td>36453</td>\n",
       "      <td>10492137</td>\n",
       "      <td>36453</td>\n",
       "    </tr>\n",
       "  </tbody>\n",
       "</table>\n",
       "</div>"
      ],
      "text/plain": [
       "         date state  deathIncrease  deathProbable  hospitalizedCurrently  \\\n",
       "0  07/03/2021    MI              0            992                    866   \n",
       "1  06/03/2021    MI             57            992                    866   \n",
       "2  05/03/2021    MI             12            991                    866   \n",
       "3  04/03/2021    MI             39            989                    890   \n",
       "4  03/03/2021    MI              6            987                    882   \n",
       "\n",
       "   inIcuCurrently  negativeTestsViral  onVentilatorCurrently  positive  \\\n",
       "0             222             9869602                     97    656072   \n",
       "1             222             9869602                     97    656072   \n",
       "2             222             9833789                     97    654380   \n",
       "3             229             9789502                    102    652589   \n",
       "4             234             9744673                    100    650762   \n",
       "\n",
       "   positiveCasesViral  positiveIncrease  positiveTestsViral  recovered  \\\n",
       "0              596054                 0              752365     549881   \n",
       "1              596054              1692              752365     549881   \n",
       "2              594765              1791              750946     541258   \n",
       "3              593279              1827              749121     541258   \n",
       "4              591753              1705              747464     541258   \n",
       "\n",
       "   totalTestResults  totalTestResultsIncrease  totalTestsViral  \\\n",
       "0          10621967                         0         10621967   \n",
       "1          10621967                     37232         10621967   \n",
       "2          10584735                     46112         10584735   \n",
       "3          10538623                     46486         10538623   \n",
       "4          10492137                     36453         10492137   \n",
       "\n",
       "   totalTestsViralIncrease  \n",
       "0                        0  \n",
       "1                    37232  \n",
       "2                    46112  \n",
       "3                    46486  \n",
       "4                    36453  "
      ]
     },
     "execution_count": 212,
     "metadata": {},
     "output_type": "execute_result"
    }
   ],
   "source": [
    "df.head()"
   ]
  },
  {
   "cell_type": "code",
   "execution_count": 213,
   "id": "9dc2b64a",
   "metadata": {},
   "outputs": [
    {
     "data": {
      "text/html": [
       "<div>\n",
       "<style scoped>\n",
       "    .dataframe tbody tr th:only-of-type {\n",
       "        vertical-align: middle;\n",
       "    }\n",
       "\n",
       "    .dataframe tbody tr th {\n",
       "        vertical-align: top;\n",
       "    }\n",
       "\n",
       "    .dataframe thead th {\n",
       "        text-align: right;\n",
       "    }\n",
       "</style>\n",
       "<table border=\"1\" class=\"dataframe\">\n",
       "  <thead>\n",
       "    <tr style=\"text-align: right;\">\n",
       "      <th></th>\n",
       "      <th>date</th>\n",
       "      <th>state</th>\n",
       "      <th>deathIncrease</th>\n",
       "      <th>DeathProb</th>\n",
       "      <th>hospitalizedCurrently</th>\n",
       "      <th>inIcuCurrently</th>\n",
       "      <th>negativeTestsViral</th>\n",
       "      <th>onVent</th>\n",
       "      <th>positive</th>\n",
       "      <th>positiveCasesViral</th>\n",
       "      <th>Increase</th>\n",
       "      <th>positiveTestsViral</th>\n",
       "      <th>recovered</th>\n",
       "      <th>totalTestResults</th>\n",
       "      <th>totalTestResultsIncrease</th>\n",
       "      <th>totalTestsViral</th>\n",
       "      <th>totalTestsViralIncrease</th>\n",
       "    </tr>\n",
       "  </thead>\n",
       "  <tbody>\n",
       "    <tr>\n",
       "      <th>0</th>\n",
       "      <td>07/03/2021</td>\n",
       "      <td>MI</td>\n",
       "      <td>0</td>\n",
       "      <td>992</td>\n",
       "      <td>866</td>\n",
       "      <td>222</td>\n",
       "      <td>9869602</td>\n",
       "      <td>97</td>\n",
       "      <td>656072</td>\n",
       "      <td>596054</td>\n",
       "      <td>0</td>\n",
       "      <td>752365</td>\n",
       "      <td>549881</td>\n",
       "      <td>10621967</td>\n",
       "      <td>0</td>\n",
       "      <td>10621967</td>\n",
       "      <td>0</td>\n",
       "    </tr>\n",
       "    <tr>\n",
       "      <th>1</th>\n",
       "      <td>06/03/2021</td>\n",
       "      <td>MI</td>\n",
       "      <td>57</td>\n",
       "      <td>992</td>\n",
       "      <td>866</td>\n",
       "      <td>222</td>\n",
       "      <td>9869602</td>\n",
       "      <td>97</td>\n",
       "      <td>656072</td>\n",
       "      <td>596054</td>\n",
       "      <td>1692</td>\n",
       "      <td>752365</td>\n",
       "      <td>549881</td>\n",
       "      <td>10621967</td>\n",
       "      <td>37232</td>\n",
       "      <td>10621967</td>\n",
       "      <td>37232</td>\n",
       "    </tr>\n",
       "    <tr>\n",
       "      <th>2</th>\n",
       "      <td>05/03/2021</td>\n",
       "      <td>MI</td>\n",
       "      <td>12</td>\n",
       "      <td>991</td>\n",
       "      <td>866</td>\n",
       "      <td>222</td>\n",
       "      <td>9833789</td>\n",
       "      <td>97</td>\n",
       "      <td>654380</td>\n",
       "      <td>594765</td>\n",
       "      <td>1791</td>\n",
       "      <td>750946</td>\n",
       "      <td>541258</td>\n",
       "      <td>10584735</td>\n",
       "      <td>46112</td>\n",
       "      <td>10584735</td>\n",
       "      <td>46112</td>\n",
       "    </tr>\n",
       "    <tr>\n",
       "      <th>3</th>\n",
       "      <td>04/03/2021</td>\n",
       "      <td>MI</td>\n",
       "      <td>39</td>\n",
       "      <td>989</td>\n",
       "      <td>890</td>\n",
       "      <td>229</td>\n",
       "      <td>9789502</td>\n",
       "      <td>102</td>\n",
       "      <td>652589</td>\n",
       "      <td>593279</td>\n",
       "      <td>1827</td>\n",
       "      <td>749121</td>\n",
       "      <td>541258</td>\n",
       "      <td>10538623</td>\n",
       "      <td>46486</td>\n",
       "      <td>10538623</td>\n",
       "      <td>46486</td>\n",
       "    </tr>\n",
       "    <tr>\n",
       "      <th>4</th>\n",
       "      <td>03/03/2021</td>\n",
       "      <td>MI</td>\n",
       "      <td>6</td>\n",
       "      <td>987</td>\n",
       "      <td>882</td>\n",
       "      <td>234</td>\n",
       "      <td>9744673</td>\n",
       "      <td>100</td>\n",
       "      <td>650762</td>\n",
       "      <td>591753</td>\n",
       "      <td>1705</td>\n",
       "      <td>747464</td>\n",
       "      <td>541258</td>\n",
       "      <td>10492137</td>\n",
       "      <td>36453</td>\n",
       "      <td>10492137</td>\n",
       "      <td>36453</td>\n",
       "    </tr>\n",
       "    <tr>\n",
       "      <th>...</th>\n",
       "      <td>...</td>\n",
       "      <td>...</td>\n",
       "      <td>...</td>\n",
       "      <td>...</td>\n",
       "      <td>...</td>\n",
       "      <td>...</td>\n",
       "      <td>...</td>\n",
       "      <td>...</td>\n",
       "      <td>...</td>\n",
       "      <td>...</td>\n",
       "      <td>...</td>\n",
       "      <td>...</td>\n",
       "      <td>...</td>\n",
       "      <td>...</td>\n",
       "      <td>...</td>\n",
       "      <td>...</td>\n",
       "      <td>...</td>\n",
       "    </tr>\n",
       "    <tr>\n",
       "      <th>328</th>\n",
       "      <td>13/04/2020</td>\n",
       "      <td>MI</td>\n",
       "      <td>142</td>\n",
       "      <td>122</td>\n",
       "      <td>3986</td>\n",
       "      <td>1570</td>\n",
       "      <td>67063</td>\n",
       "      <td>1365</td>\n",
       "      <td>32702</td>\n",
       "      <td>31715</td>\n",
       "      <td>1036</td>\n",
       "      <td>34120</td>\n",
       "      <td>447</td>\n",
       "      <td>101183</td>\n",
       "      <td>3590</td>\n",
       "      <td>101183</td>\n",
       "      <td>3590</td>\n",
       "    </tr>\n",
       "    <tr>\n",
       "      <th>329</th>\n",
       "      <td>12/04/2020</td>\n",
       "      <td>MI</td>\n",
       "      <td>168</td>\n",
       "      <td>113</td>\n",
       "      <td>3636</td>\n",
       "      <td>1582</td>\n",
       "      <td>64555</td>\n",
       "      <td>1441</td>\n",
       "      <td>31666</td>\n",
       "      <td>30727</td>\n",
       "      <td>686</td>\n",
       "      <td>33038</td>\n",
       "      <td>433</td>\n",
       "      <td>97593</td>\n",
       "      <td>3286</td>\n",
       "      <td>97593</td>\n",
       "      <td>3286</td>\n",
       "    </tr>\n",
       "    <tr>\n",
       "      <th>330</th>\n",
       "      <td>11/04/2020</td>\n",
       "      <td>MI</td>\n",
       "      <td>164</td>\n",
       "      <td>103</td>\n",
       "      <td>3636</td>\n",
       "      <td>1582</td>\n",
       "      <td>62241</td>\n",
       "      <td>1441</td>\n",
       "      <td>30980</td>\n",
       "      <td>30085</td>\n",
       "      <td>808</td>\n",
       "      <td>32066</td>\n",
       "      <td>595</td>\n",
       "      <td>94307</td>\n",
       "      <td>3755</td>\n",
       "      <td>94307</td>\n",
       "      <td>3755</td>\n",
       "    </tr>\n",
       "    <tr>\n",
       "      <th>331</th>\n",
       "      <td>10/04/2020</td>\n",
       "      <td>MI</td>\n",
       "      <td>161</td>\n",
       "      <td>95</td>\n",
       "      <td>3823</td>\n",
       "      <td>1663</td>\n",
       "      <td>59597</td>\n",
       "      <td>1394</td>\n",
       "      <td>30172</td>\n",
       "      <td>29327</td>\n",
       "      <td>1076</td>\n",
       "      <td>30955</td>\n",
       "      <td>56</td>\n",
       "      <td>90552</td>\n",
       "      <td>4580</td>\n",
       "      <td>90552</td>\n",
       "      <td>4580</td>\n",
       "    </tr>\n",
       "    <tr>\n",
       "      <th>332</th>\n",
       "      <td>09/04/2020</td>\n",
       "      <td>MI</td>\n",
       "      <td>156</td>\n",
       "      <td>88</td>\n",
       "      <td>3826</td>\n",
       "      <td>1628</td>\n",
       "      <td>56430</td>\n",
       "      <td>1434</td>\n",
       "      <td>29096</td>\n",
       "      <td>28303</td>\n",
       "      <td>1032</td>\n",
       "      <td>29542</td>\n",
       "      <td>56</td>\n",
       "      <td>85972</td>\n",
       "      <td>4786</td>\n",
       "      <td>85972</td>\n",
       "      <td>4786</td>\n",
       "    </tr>\n",
       "  </tbody>\n",
       "</table>\n",
       "<p>333 rows × 17 columns</p>\n",
       "</div>"
      ],
      "text/plain": [
       "           date state  deathIncrease  DeathProb  hospitalizedCurrently  \\\n",
       "0    07/03/2021    MI              0        992                    866   \n",
       "1    06/03/2021    MI             57        992                    866   \n",
       "2    05/03/2021    MI             12        991                    866   \n",
       "3    04/03/2021    MI             39        989                    890   \n",
       "4    03/03/2021    MI              6        987                    882   \n",
       "..          ...   ...            ...        ...                    ...   \n",
       "328  13/04/2020    MI            142        122                   3986   \n",
       "329  12/04/2020    MI            168        113                   3636   \n",
       "330  11/04/2020    MI            164        103                   3636   \n",
       "331  10/04/2020    MI            161         95                   3823   \n",
       "332  09/04/2020    MI            156         88                   3826   \n",
       "\n",
       "     inIcuCurrently  negativeTestsViral  onVent  positive  positiveCasesViral  \\\n",
       "0               222             9869602      97    656072              596054   \n",
       "1               222             9869602      97    656072              596054   \n",
       "2               222             9833789      97    654380              594765   \n",
       "3               229             9789502     102    652589              593279   \n",
       "4               234             9744673     100    650762              591753   \n",
       "..              ...                 ...     ...       ...                 ...   \n",
       "328            1570               67063    1365     32702               31715   \n",
       "329            1582               64555    1441     31666               30727   \n",
       "330            1582               62241    1441     30980               30085   \n",
       "331            1663               59597    1394     30172               29327   \n",
       "332            1628               56430    1434     29096               28303   \n",
       "\n",
       "     Increase  positiveTestsViral  recovered  totalTestResults  \\\n",
       "0           0              752365     549881          10621967   \n",
       "1        1692              752365     549881          10621967   \n",
       "2        1791              750946     541258          10584735   \n",
       "3        1827              749121     541258          10538623   \n",
       "4        1705              747464     541258          10492137   \n",
       "..        ...                 ...        ...               ...   \n",
       "328      1036               34120        447            101183   \n",
       "329       686               33038        433             97593   \n",
       "330       808               32066        595             94307   \n",
       "331      1076               30955         56             90552   \n",
       "332      1032               29542         56             85972   \n",
       "\n",
       "     totalTestResultsIncrease  totalTestsViral  totalTestsViralIncrease  \n",
       "0                           0         10621967                        0  \n",
       "1                       37232         10621967                    37232  \n",
       "2                       46112         10584735                    46112  \n",
       "3                       46486         10538623                    46486  \n",
       "4                       36453         10492137                    36453  \n",
       "..                        ...              ...                      ...  \n",
       "328                      3590           101183                     3590  \n",
       "329                      3286            97593                     3286  \n",
       "330                      3755            94307                     3755  \n",
       "331                      4580            90552                     4580  \n",
       "332                      4786            85972                     4786  \n",
       "\n",
       "[333 rows x 17 columns]"
      ]
     },
     "execution_count": 213,
     "metadata": {},
     "output_type": "execute_result"
    }
   ],
   "source": [
    "df.rename(columns = {'onVentilatorCurrently':'onVent','deathProbable':'DeathProb','positiveIncrease':'Increase'})"
   ]
  },
  {
   "cell_type": "code",
   "execution_count": 217,
   "id": "0f9245bf",
   "metadata": {},
   "outputs": [],
   "source": [
    "df['date'] = pd.to_datetime(df['date'])"
   ]
  },
  {
   "cell_type": "code",
   "execution_count": 219,
   "id": "4cfe1906",
   "metadata": {},
   "outputs": [
    {
     "data": {
      "text/html": [
       "<div>\n",
       "<style scoped>\n",
       "    .dataframe tbody tr th:only-of-type {\n",
       "        vertical-align: middle;\n",
       "    }\n",
       "\n",
       "    .dataframe tbody tr th {\n",
       "        vertical-align: top;\n",
       "    }\n",
       "\n",
       "    .dataframe thead th {\n",
       "        text-align: right;\n",
       "    }\n",
       "</style>\n",
       "<table border=\"1\" class=\"dataframe\">\n",
       "  <thead>\n",
       "    <tr style=\"text-align: right;\">\n",
       "      <th></th>\n",
       "      <th>date</th>\n",
       "      <th>state</th>\n",
       "      <th>deathIncrease</th>\n",
       "      <th>deathProbable</th>\n",
       "      <th>hospitalizedCurrently</th>\n",
       "      <th>inIcuCurrently</th>\n",
       "      <th>negativeTestsViral</th>\n",
       "      <th>onVentilatorCurrently</th>\n",
       "      <th>positive</th>\n",
       "      <th>positiveCasesViral</th>\n",
       "      <th>positiveIncrease</th>\n",
       "      <th>positiveTestsViral</th>\n",
       "      <th>recovered</th>\n",
       "      <th>totalTestResults</th>\n",
       "      <th>totalTestResultsIncrease</th>\n",
       "      <th>totalTestsViral</th>\n",
       "      <th>totalTestsViralIncrease</th>\n",
       "    </tr>\n",
       "  </thead>\n",
       "  <tbody>\n",
       "    <tr>\n",
       "      <th>0</th>\n",
       "      <td>2021-07-03</td>\n",
       "      <td>MI</td>\n",
       "      <td>0</td>\n",
       "      <td>992</td>\n",
       "      <td>866</td>\n",
       "      <td>222</td>\n",
       "      <td>9869602</td>\n",
       "      <td>97</td>\n",
       "      <td>656072</td>\n",
       "      <td>596054</td>\n",
       "      <td>0</td>\n",
       "      <td>752365</td>\n",
       "      <td>549881</td>\n",
       "      <td>10621967</td>\n",
       "      <td>0</td>\n",
       "      <td>10621967</td>\n",
       "      <td>0</td>\n",
       "    </tr>\n",
       "    <tr>\n",
       "      <th>1</th>\n",
       "      <td>2021-06-03</td>\n",
       "      <td>MI</td>\n",
       "      <td>57</td>\n",
       "      <td>992</td>\n",
       "      <td>866</td>\n",
       "      <td>222</td>\n",
       "      <td>9869602</td>\n",
       "      <td>97</td>\n",
       "      <td>656072</td>\n",
       "      <td>596054</td>\n",
       "      <td>1692</td>\n",
       "      <td>752365</td>\n",
       "      <td>549881</td>\n",
       "      <td>10621967</td>\n",
       "      <td>37232</td>\n",
       "      <td>10621967</td>\n",
       "      <td>37232</td>\n",
       "    </tr>\n",
       "    <tr>\n",
       "      <th>2</th>\n",
       "      <td>2021-05-03</td>\n",
       "      <td>MI</td>\n",
       "      <td>12</td>\n",
       "      <td>991</td>\n",
       "      <td>866</td>\n",
       "      <td>222</td>\n",
       "      <td>9833789</td>\n",
       "      <td>97</td>\n",
       "      <td>654380</td>\n",
       "      <td>594765</td>\n",
       "      <td>1791</td>\n",
       "      <td>750946</td>\n",
       "      <td>541258</td>\n",
       "      <td>10584735</td>\n",
       "      <td>46112</td>\n",
       "      <td>10584735</td>\n",
       "      <td>46112</td>\n",
       "    </tr>\n",
       "    <tr>\n",
       "      <th>3</th>\n",
       "      <td>2021-04-03</td>\n",
       "      <td>MI</td>\n",
       "      <td>39</td>\n",
       "      <td>989</td>\n",
       "      <td>890</td>\n",
       "      <td>229</td>\n",
       "      <td>9789502</td>\n",
       "      <td>102</td>\n",
       "      <td>652589</td>\n",
       "      <td>593279</td>\n",
       "      <td>1827</td>\n",
       "      <td>749121</td>\n",
       "      <td>541258</td>\n",
       "      <td>10538623</td>\n",
       "      <td>46486</td>\n",
       "      <td>10538623</td>\n",
       "      <td>46486</td>\n",
       "    </tr>\n",
       "    <tr>\n",
       "      <th>4</th>\n",
       "      <td>2021-03-03</td>\n",
       "      <td>MI</td>\n",
       "      <td>6</td>\n",
       "      <td>987</td>\n",
       "      <td>882</td>\n",
       "      <td>234</td>\n",
       "      <td>9744673</td>\n",
       "      <td>100</td>\n",
       "      <td>650762</td>\n",
       "      <td>591753</td>\n",
       "      <td>1705</td>\n",
       "      <td>747464</td>\n",
       "      <td>541258</td>\n",
       "      <td>10492137</td>\n",
       "      <td>36453</td>\n",
       "      <td>10492137</td>\n",
       "      <td>36453</td>\n",
       "    </tr>\n",
       "  </tbody>\n",
       "</table>\n",
       "</div>"
      ],
      "text/plain": [
       "        date state  deathIncrease  deathProbable  hospitalizedCurrently  \\\n",
       "0 2021-07-03    MI              0            992                    866   \n",
       "1 2021-06-03    MI             57            992                    866   \n",
       "2 2021-05-03    MI             12            991                    866   \n",
       "3 2021-04-03    MI             39            989                    890   \n",
       "4 2021-03-03    MI              6            987                    882   \n",
       "\n",
       "   inIcuCurrently  negativeTestsViral  onVentilatorCurrently  positive  \\\n",
       "0             222             9869602                     97    656072   \n",
       "1             222             9869602                     97    656072   \n",
       "2             222             9833789                     97    654380   \n",
       "3             229             9789502                    102    652589   \n",
       "4             234             9744673                    100    650762   \n",
       "\n",
       "   positiveCasesViral  positiveIncrease  positiveTestsViral  recovered  \\\n",
       "0              596054                 0              752365     549881   \n",
       "1              596054              1692              752365     549881   \n",
       "2              594765              1791              750946     541258   \n",
       "3              593279              1827              749121     541258   \n",
       "4              591753              1705              747464     541258   \n",
       "\n",
       "   totalTestResults  totalTestResultsIncrease  totalTestsViral  \\\n",
       "0          10621967                         0         10621967   \n",
       "1          10621967                     37232         10621967   \n",
       "2          10584735                     46112         10584735   \n",
       "3          10538623                     46486         10538623   \n",
       "4          10492137                     36453         10492137   \n",
       "\n",
       "   totalTestsViralIncrease  \n",
       "0                        0  \n",
       "1                    37232  \n",
       "2                    46112  \n",
       "3                    46486  \n",
       "4                    36453  "
      ]
     },
     "execution_count": 219,
     "metadata": {},
     "output_type": "execute_result"
    }
   ],
   "source": [
    "df.head()"
   ]
  },
  {
   "cell_type": "code",
   "execution_count": 220,
   "id": "9d1f21c9",
   "metadata": {},
   "outputs": [
    {
     "data": {
      "text/html": [
       "<div>\n",
       "<style scoped>\n",
       "    .dataframe tbody tr th:only-of-type {\n",
       "        vertical-align: middle;\n",
       "    }\n",
       "\n",
       "    .dataframe tbody tr th {\n",
       "        vertical-align: top;\n",
       "    }\n",
       "\n",
       "    .dataframe thead th {\n",
       "        text-align: right;\n",
       "    }\n",
       "</style>\n",
       "<table border=\"1\" class=\"dataframe\">\n",
       "  <thead>\n",
       "    <tr style=\"text-align: right;\">\n",
       "      <th></th>\n",
       "      <th>deathIncrease</th>\n",
       "      <th>deathProbable</th>\n",
       "      <th>hospitalizedCurrently</th>\n",
       "      <th>inIcuCurrently</th>\n",
       "      <th>negativeTestsViral</th>\n",
       "      <th>onVentilatorCurrently</th>\n",
       "      <th>positive</th>\n",
       "      <th>positiveCasesViral</th>\n",
       "      <th>positiveIncrease</th>\n",
       "      <th>positiveTestsViral</th>\n",
       "      <th>recovered</th>\n",
       "      <th>totalTestResults</th>\n",
       "      <th>totalTestResultsIncrease</th>\n",
       "      <th>totalTestsViral</th>\n",
       "      <th>totalTestsViralIncrease</th>\n",
       "    </tr>\n",
       "  </thead>\n",
       "  <tbody>\n",
       "    <tr>\n",
       "      <th>count</th>\n",
       "      <td>333.000000</td>\n",
       "      <td>333.000000</td>\n",
       "      <td>333.000000</td>\n",
       "      <td>333.000000</td>\n",
       "      <td>3.330000e+02</td>\n",
       "      <td>333.000000</td>\n",
       "      <td>333.000000</td>\n",
       "      <td>333.000000</td>\n",
       "      <td>333.000000</td>\n",
       "      <td>333.000000</td>\n",
       "      <td>333.000000</td>\n",
       "      <td>3.330000e+02</td>\n",
       "      <td>333.000000</td>\n",
       "      <td>3.330000e+02</td>\n",
       "      <td>333.000000</td>\n",
       "    </tr>\n",
       "    <tr>\n",
       "      <th>mean</th>\n",
       "      <td>45.219219</td>\n",
       "      <td>426.981982</td>\n",
       "      <td>1601.495495</td>\n",
       "      <td>442.957958</td>\n",
       "      <td>3.990151e+06</td>\n",
       "      <td>274.009009</td>\n",
       "      <td>247656.333333</td>\n",
       "      <td>226828.708709</td>\n",
       "      <td>1885.909910</td>\n",
       "      <td>292915.498498</td>\n",
       "      <td>164593.216216</td>\n",
       "      <td>4.282988e+06</td>\n",
       "      <td>31653.996997</td>\n",
       "      <td>4.282988e+06</td>\n",
       "      <td>31653.996997</td>\n",
       "    </tr>\n",
       "    <tr>\n",
       "      <th>std</th>\n",
       "      <td>57.376557</td>\n",
       "      <td>262.631538</td>\n",
       "      <td>1190.935283</td>\n",
       "      <td>333.207809</td>\n",
       "      <td>3.165436e+06</td>\n",
       "      <td>277.232716</td>\n",
       "      <td>217664.042240</td>\n",
       "      <td>199873.390777</td>\n",
       "      <td>2524.775027</td>\n",
       "      <td>250364.364456</td>\n",
       "      <td>167959.678381</td>\n",
       "      <td>3.410234e+06</td>\n",
       "      <td>26444.822234</td>\n",
       "      <td>3.410234e+06</td>\n",
       "      <td>26444.822234</td>\n",
       "    </tr>\n",
       "    <tr>\n",
       "      <th>min</th>\n",
       "      <td>-4.000000</td>\n",
       "      <td>88.000000</td>\n",
       "      <td>471.000000</td>\n",
       "      <td>137.000000</td>\n",
       "      <td>5.643000e+04</td>\n",
       "      <td>50.000000</td>\n",
       "      <td>29096.000000</td>\n",
       "      <td>28303.000000</td>\n",
       "      <td>0.000000</td>\n",
       "      <td>29542.000000</td>\n",
       "      <td>56.000000</td>\n",
       "      <td>8.597200e+04</td>\n",
       "      <td>0.000000</td>\n",
       "      <td>8.597200e+04</td>\n",
       "      <td>0.000000</td>\n",
       "    </tr>\n",
       "    <tr>\n",
       "      <th>25%</th>\n",
       "      <td>7.000000</td>\n",
       "      <td>246.000000</td>\n",
       "      <td>661.000000</td>\n",
       "      <td>195.000000</td>\n",
       "      <td>9.907700e+05</td>\n",
       "      <td>95.000000</td>\n",
       "      <td>71089.000000</td>\n",
       "      <td>64132.000000</td>\n",
       "      <td>432.000000</td>\n",
       "      <td>88219.000000</td>\n",
       "      <td>51099.000000</td>\n",
       "      <td>1.078989e+06</td>\n",
       "      <td>12581.000000</td>\n",
       "      <td>1.078989e+06</td>\n",
       "      <td>12581.000000</td>\n",
       "    </tr>\n",
       "    <tr>\n",
       "      <th>50%</th>\n",
       "      <td>20.000000</td>\n",
       "      <td>321.000000</td>\n",
       "      <td>959.000000</td>\n",
       "      <td>299.000000</td>\n",
       "      <td>3.260521e+06</td>\n",
       "      <td>150.000000</td>\n",
       "      <td>130357.000000</td>\n",
       "      <td>117910.000000</td>\n",
       "      <td>911.000000</td>\n",
       "      <td>165437.000000</td>\n",
       "      <td>90216.000000</td>\n",
       "      <td>3.425958e+06</td>\n",
       "      <td>27375.000000</td>\n",
       "      <td>3.425958e+06</td>\n",
       "      <td>27375.000000</td>\n",
       "    </tr>\n",
       "    <tr>\n",
       "      <th>75%</th>\n",
       "      <td>63.000000</td>\n",
       "      <td>537.000000</td>\n",
       "      <td>2480.000000</td>\n",
       "      <td>629.000000</td>\n",
       "      <td>6.957668e+06</td>\n",
       "      <td>368.000000</td>\n",
       "      <td>472780.000000</td>\n",
       "      <td>437985.000000</td>\n",
       "      <td>2065.000000</td>\n",
       "      <td>556578.000000</td>\n",
       "      <td>236369.000000</td>\n",
       "      <td>7.514246e+06</td>\n",
       "      <td>45351.000000</td>\n",
       "      <td>7.514246e+06</td>\n",
       "      <td>45351.000000</td>\n",
       "    </tr>\n",
       "    <tr>\n",
       "      <th>max</th>\n",
       "      <td>288.000000</td>\n",
       "      <td>992.000000</td>\n",
       "      <td>4326.000000</td>\n",
       "      <td>1663.000000</td>\n",
       "      <td>9.869602e+06</td>\n",
       "      <td>1441.000000</td>\n",
       "      <td>656072.000000</td>\n",
       "      <td>596054.000000</td>\n",
       "      <td>17368.000000</td>\n",
       "      <td>752365.000000</td>\n",
       "      <td>549881.000000</td>\n",
       "      <td>1.062197e+07</td>\n",
       "      <td>183614.000000</td>\n",
       "      <td>1.062197e+07</td>\n",
       "      <td>183614.000000</td>\n",
       "    </tr>\n",
       "  </tbody>\n",
       "</table>\n",
       "</div>"
      ],
      "text/plain": [
       "       deathIncrease  deathProbable  hospitalizedCurrently  inIcuCurrently  \\\n",
       "count     333.000000     333.000000             333.000000      333.000000   \n",
       "mean       45.219219     426.981982            1601.495495      442.957958   \n",
       "std        57.376557     262.631538            1190.935283      333.207809   \n",
       "min        -4.000000      88.000000             471.000000      137.000000   \n",
       "25%         7.000000     246.000000             661.000000      195.000000   \n",
       "50%        20.000000     321.000000             959.000000      299.000000   \n",
       "75%        63.000000     537.000000            2480.000000      629.000000   \n",
       "max       288.000000     992.000000            4326.000000     1663.000000   \n",
       "\n",
       "       negativeTestsViral  onVentilatorCurrently       positive  \\\n",
       "count        3.330000e+02             333.000000     333.000000   \n",
       "mean         3.990151e+06             274.009009  247656.333333   \n",
       "std          3.165436e+06             277.232716  217664.042240   \n",
       "min          5.643000e+04              50.000000   29096.000000   \n",
       "25%          9.907700e+05              95.000000   71089.000000   \n",
       "50%          3.260521e+06             150.000000  130357.000000   \n",
       "75%          6.957668e+06             368.000000  472780.000000   \n",
       "max          9.869602e+06            1441.000000  656072.000000   \n",
       "\n",
       "       positiveCasesViral  positiveIncrease  positiveTestsViral  \\\n",
       "count          333.000000        333.000000          333.000000   \n",
       "mean        226828.708709       1885.909910       292915.498498   \n",
       "std         199873.390777       2524.775027       250364.364456   \n",
       "min          28303.000000          0.000000        29542.000000   \n",
       "25%          64132.000000        432.000000        88219.000000   \n",
       "50%         117910.000000        911.000000       165437.000000   \n",
       "75%         437985.000000       2065.000000       556578.000000   \n",
       "max         596054.000000      17368.000000       752365.000000   \n",
       "\n",
       "           recovered  totalTestResults  totalTestResultsIncrease  \\\n",
       "count     333.000000      3.330000e+02                333.000000   \n",
       "mean   164593.216216      4.282988e+06              31653.996997   \n",
       "std    167959.678381      3.410234e+06              26444.822234   \n",
       "min        56.000000      8.597200e+04                  0.000000   \n",
       "25%     51099.000000      1.078989e+06              12581.000000   \n",
       "50%     90216.000000      3.425958e+06              27375.000000   \n",
       "75%    236369.000000      7.514246e+06              45351.000000   \n",
       "max    549881.000000      1.062197e+07             183614.000000   \n",
       "\n",
       "       totalTestsViral  totalTestsViralIncrease  \n",
       "count     3.330000e+02               333.000000  \n",
       "mean      4.282988e+06             31653.996997  \n",
       "std       3.410234e+06             26444.822234  \n",
       "min       8.597200e+04                 0.000000  \n",
       "25%       1.078989e+06             12581.000000  \n",
       "50%       3.425958e+06             27375.000000  \n",
       "75%       7.514246e+06             45351.000000  \n",
       "max       1.062197e+07            183614.000000  "
      ]
     },
     "execution_count": 220,
     "metadata": {},
     "output_type": "execute_result"
    }
   ],
   "source": [
    "df.describe()"
   ]
  },
  {
   "cell_type": "code",
   "execution_count": 221,
   "id": "1500f0e9",
   "metadata": {},
   "outputs": [
    {
     "name": "stdout",
     "output_type": "stream",
     "text": [
      "<class 'pandas.core.frame.DataFrame'>\n",
      "RangeIndex: 333 entries, 0 to 332\n",
      "Data columns (total 17 columns):\n",
      " #   Column                    Non-Null Count  Dtype         \n",
      "---  ------                    --------------  -----         \n",
      " 0   date                      333 non-null    datetime64[ns]\n",
      " 1   state                     333 non-null    object        \n",
      " 2   deathIncrease             333 non-null    int64         \n",
      " 3   deathProbable             333 non-null    int64         \n",
      " 4   hospitalizedCurrently     333 non-null    int64         \n",
      " 5   inIcuCurrently            333 non-null    int64         \n",
      " 6   negativeTestsViral        333 non-null    int64         \n",
      " 7   onVentilatorCurrently     333 non-null    int64         \n",
      " 8   positive                  333 non-null    int64         \n",
      " 9   positiveCasesViral        333 non-null    int64         \n",
      " 10  positiveIncrease          333 non-null    int64         \n",
      " 11  positiveTestsViral        333 non-null    int64         \n",
      " 12  recovered                 333 non-null    int64         \n",
      " 13  totalTestResults          333 non-null    int64         \n",
      " 14  totalTestResultsIncrease  333 non-null    int64         \n",
      " 15  totalTestsViral           333 non-null    int64         \n",
      " 16  totalTestsViralIncrease   333 non-null    int64         \n",
      "dtypes: datetime64[ns](1), int64(15), object(1)\n",
      "memory usage: 44.4+ KB\n"
     ]
    }
   ],
   "source": [
    "df.info()"
   ]
  },
  {
   "cell_type": "code",
   "execution_count": 223,
   "id": "da049968",
   "metadata": {},
   "outputs": [],
   "source": [
    "df = df.fillna('NA')"
   ]
  },
  {
   "cell_type": "code",
   "execution_count": 224,
   "id": "5c242211",
   "metadata": {},
   "outputs": [
    {
     "name": "stdout",
     "output_type": "stream",
     "text": [
      "<class 'pandas.core.frame.DataFrame'>\n",
      "RangeIndex: 333 entries, 0 to 332\n",
      "Data columns (total 17 columns):\n",
      " #   Column                    Non-Null Count  Dtype         \n",
      "---  ------                    --------------  -----         \n",
      " 0   date                      333 non-null    datetime64[ns]\n",
      " 1   state                     333 non-null    object        \n",
      " 2   deathIncrease             333 non-null    int64         \n",
      " 3   deathProbable             333 non-null    int64         \n",
      " 4   hospitalizedCurrently     333 non-null    int64         \n",
      " 5   inIcuCurrently            333 non-null    int64         \n",
      " 6   negativeTestsViral        333 non-null    int64         \n",
      " 7   onVentilatorCurrently     333 non-null    int64         \n",
      " 8   positive                  333 non-null    int64         \n",
      " 9   positiveCasesViral        333 non-null    int64         \n",
      " 10  positiveIncrease          333 non-null    int64         \n",
      " 11  positiveTestsViral        333 non-null    int64         \n",
      " 12  recovered                 333 non-null    int64         \n",
      " 13  totalTestResults          333 non-null    int64         \n",
      " 14  totalTestResultsIncrease  333 non-null    int64         \n",
      " 15  totalTestsViral           333 non-null    int64         \n",
      " 16  totalTestsViralIncrease   333 non-null    int64         \n",
      "dtypes: datetime64[ns](1), int64(15), object(1)\n",
      "memory usage: 44.4+ KB\n"
     ]
    }
   ],
   "source": [
    "df.info()"
   ]
  },
  {
   "cell_type": "code",
   "execution_count": 225,
   "id": "7998b4cd",
   "metadata": {},
   "outputs": [],
   "source": [
    "df2 = df.groupby('state')[['state','positive','recovered']].sum().reset_index()"
   ]
  },
  {
   "cell_type": "code",
   "execution_count": 226,
   "id": "425f9c1d",
   "metadata": {},
   "outputs": [
    {
     "data": {
      "text/html": [
       "<div>\n",
       "<style scoped>\n",
       "    .dataframe tbody tr th:only-of-type {\n",
       "        vertical-align: middle;\n",
       "    }\n",
       "\n",
       "    .dataframe tbody tr th {\n",
       "        vertical-align: top;\n",
       "    }\n",
       "\n",
       "    .dataframe thead th {\n",
       "        text-align: right;\n",
       "    }\n",
       "</style>\n",
       "<table border=\"1\" class=\"dataframe\">\n",
       "  <thead>\n",
       "    <tr style=\"text-align: right;\">\n",
       "      <th></th>\n",
       "      <th>state</th>\n",
       "      <th>positive</th>\n",
       "      <th>recovered</th>\n",
       "    </tr>\n",
       "  </thead>\n",
       "  <tbody>\n",
       "    <tr>\n",
       "      <th>0</th>\n",
       "      <td>MI</td>\n",
       "      <td>82469559</td>\n",
       "      <td>54809541</td>\n",
       "    </tr>\n",
       "  </tbody>\n",
       "</table>\n",
       "</div>"
      ],
      "text/plain": [
       "  state  positive  recovered\n",
       "0    MI  82469559   54809541"
      ]
     },
     "execution_count": 226,
     "metadata": {},
     "output_type": "execute_result"
    }
   ],
   "source": [
    "df2"
   ]
  },
  {
   "cell_type": "code",
   "execution_count": 230,
   "id": "dc758c2d",
   "metadata": {},
   "outputs": [],
   "source": [
    "df2 = df.groupby(['state','date'])[['state','date','positive','recovered','deathProbable']].sum().reset_index()"
   ]
  },
  {
   "cell_type": "code",
   "execution_count": 231,
   "id": "0ce3fe81",
   "metadata": {},
   "outputs": [
    {
     "data": {
      "text/html": [
       "<div>\n",
       "<style scoped>\n",
       "    .dataframe tbody tr th:only-of-type {\n",
       "        vertical-align: middle;\n",
       "    }\n",
       "\n",
       "    .dataframe tbody tr th {\n",
       "        vertical-align: top;\n",
       "    }\n",
       "\n",
       "    .dataframe thead th {\n",
       "        text-align: right;\n",
       "    }\n",
       "</style>\n",
       "<table border=\"1\" class=\"dataframe\">\n",
       "  <thead>\n",
       "    <tr style=\"text-align: right;\">\n",
       "      <th></th>\n",
       "      <th>state</th>\n",
       "      <th>date</th>\n",
       "      <th>positive</th>\n",
       "      <th>recovered</th>\n",
       "      <th>deathProbable</th>\n",
       "    </tr>\n",
       "  </thead>\n",
       "  <tbody>\n",
       "    <tr>\n",
       "      <th>0</th>\n",
       "      <td>MI</td>\n",
       "      <td>2020-01-05</td>\n",
       "      <td>48240</td>\n",
       "      <td>8342</td>\n",
       "      <td>203</td>\n",
       "    </tr>\n",
       "    <tr>\n",
       "      <th>1</th>\n",
       "      <td>MI</td>\n",
       "      <td>2020-01-06</td>\n",
       "      <td>63813</td>\n",
       "      <td>38099</td>\n",
       "      <td>242</td>\n",
       "    </tr>\n",
       "    <tr>\n",
       "      <th>2</th>\n",
       "      <td>MI</td>\n",
       "      <td>2020-01-07</td>\n",
       "      <td>71089</td>\n",
       "      <td>51099</td>\n",
       "      <td>247</td>\n",
       "    </tr>\n",
       "    <tr>\n",
       "      <th>3</th>\n",
       "      <td>MI</td>\n",
       "      <td>2020-01-08</td>\n",
       "      <td>91332</td>\n",
       "      <td>60022</td>\n",
       "      <td>251</td>\n",
       "    </tr>\n",
       "    <tr>\n",
       "      <th>4</th>\n",
       "      <td>MI</td>\n",
       "      <td>2020-01-09</td>\n",
       "      <td>113820</td>\n",
       "      <td>76151</td>\n",
       "      <td>272</td>\n",
       "    </tr>\n",
       "    <tr>\n",
       "      <th>...</th>\n",
       "      <td>...</td>\n",
       "      <td>...</td>\n",
       "      <td>...</td>\n",
       "      <td>...</td>\n",
       "      <td>...</td>\n",
       "    </tr>\n",
       "    <tr>\n",
       "      <th>328</th>\n",
       "      <td>MI</td>\n",
       "      <td>2021-10-02</td>\n",
       "      <td>624970</td>\n",
       "      <td>498495</td>\n",
       "      <td>962</td>\n",
       "    </tr>\n",
       "    <tr>\n",
       "      <th>329</th>\n",
       "      <td>MI</td>\n",
       "      <td>2021-11-01</td>\n",
       "      <td>567682</td>\n",
       "      <td>415079</td>\n",
       "      <td>791</td>\n",
       "    </tr>\n",
       "    <tr>\n",
       "      <th>330</th>\n",
       "      <td>MI</td>\n",
       "      <td>2021-11-02</td>\n",
       "      <td>626477</td>\n",
       "      <td>498495</td>\n",
       "      <td>967</td>\n",
       "    </tr>\n",
       "    <tr>\n",
       "      <th>331</th>\n",
       "      <td>MI</td>\n",
       "      <td>2021-12-01</td>\n",
       "      <td>570150</td>\n",
       "      <td>415079</td>\n",
       "      <td>795</td>\n",
       "    </tr>\n",
       "    <tr>\n",
       "      <th>332</th>\n",
       "      <td>MI</td>\n",
       "      <td>2021-12-02</td>\n",
       "      <td>628012</td>\n",
       "      <td>498495</td>\n",
       "      <td>965</td>\n",
       "    </tr>\n",
       "  </tbody>\n",
       "</table>\n",
       "<p>333 rows × 5 columns</p>\n",
       "</div>"
      ],
      "text/plain": [
       "    state       date  positive  recovered  deathProbable\n",
       "0      MI 2020-01-05     48240       8342            203\n",
       "1      MI 2020-01-06     63813      38099            242\n",
       "2      MI 2020-01-07     71089      51099            247\n",
       "3      MI 2020-01-08     91332      60022            251\n",
       "4      MI 2020-01-09    113820      76151            272\n",
       "..    ...        ...       ...        ...            ...\n",
       "328    MI 2021-10-02    624970     498495            962\n",
       "329    MI 2021-11-01    567682     415079            791\n",
       "330    MI 2021-11-02    626477     498495            967\n",
       "331    MI 2021-12-01    570150     415079            795\n",
       "332    MI 2021-12-02    628012     498495            965\n",
       "\n",
       "[333 rows x 5 columns]"
      ]
     },
     "execution_count": 231,
     "metadata": {},
     "output_type": "execute_result"
    }
   ],
   "source": [
    "df2"
   ]
  },
  {
   "cell_type": "code",
   "execution_count": 234,
   "id": "a88eab56",
   "metadata": {},
   "outputs": [],
   "source": [
    "df3 = df2[df2['positive']>60000]"
   ]
  },
  {
   "cell_type": "code",
   "execution_count": 235,
   "id": "bacff32f",
   "metadata": {},
   "outputs": [
    {
     "data": {
      "text/html": [
       "<div>\n",
       "<style scoped>\n",
       "    .dataframe tbody tr th:only-of-type {\n",
       "        vertical-align: middle;\n",
       "    }\n",
       "\n",
       "    .dataframe tbody tr th {\n",
       "        vertical-align: top;\n",
       "    }\n",
       "\n",
       "    .dataframe thead th {\n",
       "        text-align: right;\n",
       "    }\n",
       "</style>\n",
       "<table border=\"1\" class=\"dataframe\">\n",
       "  <thead>\n",
       "    <tr style=\"text-align: right;\">\n",
       "      <th></th>\n",
       "      <th>state</th>\n",
       "      <th>date</th>\n",
       "      <th>positive</th>\n",
       "      <th>recovered</th>\n",
       "      <th>deathProbable</th>\n",
       "    </tr>\n",
       "  </thead>\n",
       "  <tbody>\n",
       "    <tr>\n",
       "      <th>1</th>\n",
       "      <td>MI</td>\n",
       "      <td>2020-01-06</td>\n",
       "      <td>63813</td>\n",
       "      <td>38099</td>\n",
       "      <td>242</td>\n",
       "    </tr>\n",
       "    <tr>\n",
       "      <th>2</th>\n",
       "      <td>MI</td>\n",
       "      <td>2020-01-07</td>\n",
       "      <td>71089</td>\n",
       "      <td>51099</td>\n",
       "      <td>247</td>\n",
       "    </tr>\n",
       "    <tr>\n",
       "      <th>3</th>\n",
       "      <td>MI</td>\n",
       "      <td>2020-01-08</td>\n",
       "      <td>91332</td>\n",
       "      <td>60022</td>\n",
       "      <td>251</td>\n",
       "    </tr>\n",
       "    <tr>\n",
       "      <th>4</th>\n",
       "      <td>MI</td>\n",
       "      <td>2020-01-09</td>\n",
       "      <td>113820</td>\n",
       "      <td>76151</td>\n",
       "      <td>272</td>\n",
       "    </tr>\n",
       "    <tr>\n",
       "      <th>5</th>\n",
       "      <td>MI</td>\n",
       "      <td>2020-01-10</td>\n",
       "      <td>139012</td>\n",
       "      <td>95051</td>\n",
       "      <td>321</td>\n",
       "    </tr>\n",
       "    <tr>\n",
       "      <th>...</th>\n",
       "      <td>...</td>\n",
       "      <td>...</td>\n",
       "      <td>...</td>\n",
       "      <td>...</td>\n",
       "      <td>...</td>\n",
       "    </tr>\n",
       "    <tr>\n",
       "      <th>328</th>\n",
       "      <td>MI</td>\n",
       "      <td>2021-10-02</td>\n",
       "      <td>624970</td>\n",
       "      <td>498495</td>\n",
       "      <td>962</td>\n",
       "    </tr>\n",
       "    <tr>\n",
       "      <th>329</th>\n",
       "      <td>MI</td>\n",
       "      <td>2021-11-01</td>\n",
       "      <td>567682</td>\n",
       "      <td>415079</td>\n",
       "      <td>791</td>\n",
       "    </tr>\n",
       "    <tr>\n",
       "      <th>330</th>\n",
       "      <td>MI</td>\n",
       "      <td>2021-11-02</td>\n",
       "      <td>626477</td>\n",
       "      <td>498495</td>\n",
       "      <td>967</td>\n",
       "    </tr>\n",
       "    <tr>\n",
       "      <th>331</th>\n",
       "      <td>MI</td>\n",
       "      <td>2021-12-01</td>\n",
       "      <td>570150</td>\n",
       "      <td>415079</td>\n",
       "      <td>795</td>\n",
       "    </tr>\n",
       "    <tr>\n",
       "      <th>332</th>\n",
       "      <td>MI</td>\n",
       "      <td>2021-12-02</td>\n",
       "      <td>628012</td>\n",
       "      <td>498495</td>\n",
       "      <td>965</td>\n",
       "    </tr>\n",
       "  </tbody>\n",
       "</table>\n",
       "<p>292 rows × 5 columns</p>\n",
       "</div>"
      ],
      "text/plain": [
       "    state       date  positive  recovered  deathProbable\n",
       "1      MI 2020-01-06     63813      38099            242\n",
       "2      MI 2020-01-07     71089      51099            247\n",
       "3      MI 2020-01-08     91332      60022            251\n",
       "4      MI 2020-01-09    113820      76151            272\n",
       "5      MI 2020-01-10    139012      95051            321\n",
       "..    ...        ...       ...        ...            ...\n",
       "328    MI 2021-10-02    624970     498495            962\n",
       "329    MI 2021-11-01    567682     415079            791\n",
       "330    MI 2021-11-02    626477     498495            967\n",
       "331    MI 2021-12-01    570150     415079            795\n",
       "332    MI 2021-12-02    628012     498495            965\n",
       "\n",
       "[292 rows x 5 columns]"
      ]
     },
     "execution_count": 235,
     "metadata": {},
     "output_type": "execute_result"
    }
   ],
   "source": [
    "df3"
   ]
  },
  {
   "cell_type": "markdown",
   "id": "27061d4a",
   "metadata": {},
   "source": [
    "#  Matplotlib"
   ]
  },
  {
   "cell_type": "code",
   "execution_count": 236,
   "id": "6e7d0494",
   "metadata": {},
   "outputs": [],
   "source": [
    "import matplotlib.pyplot as plt"
   ]
  },
  {
   "cell_type": "code",
   "execution_count": 237,
   "id": "63c94047",
   "metadata": {},
   "outputs": [
    {
     "data": {
      "text/plain": [
       "[<matplotlib.lines.Line2D at 0x227e694e250>]"
      ]
     },
     "execution_count": 237,
     "metadata": {},
     "output_type": "execute_result"
    },
    {
     "data": {
      "image/png": "[encoded data removed]",
      "text/plain": [
       "<Figure size 432x288 with 1 Axes>"
      ]
     },
     "metadata": {
      "needs_background": "light"
     },
     "output_type": "display_data"
    }
   ],
   "source": [
    "x = np.linspace(0,10,1000)\n",
    "y = np.sin(x)\n",
    "plt.plot(x,y)"
   ]
  },
  {
   "cell_type": "code",
   "execution_count": 244,
   "id": "fdb97934",
   "metadata": {},
   "outputs": [
    {
     "data": {
      "text/plain": [
       "<matplotlib.collections.PathCollection at 0x227e8c34310>"
      ]
     },
     "execution_count": 244,
     "metadata": {},
     "output_type": "execute_result"
    },
    {
     "data": {
      "image/png": "[encoded data removed]",
      "text/plain": [
       "<Figure size 432x288 with 1 Axes>"
      ]
     },
     "metadata": {
      "needs_background": "light"
     },
     "output_type": "display_data"
    }
   ],
   "source": [
    "plt.scatter(x[::10],y[::10],color = 'red')"
   ]
  },
  {
   "cell_type": "code",
   "execution_count": 245,
   "id": "b4ab0d90",
   "metadata": {},
   "outputs": [
    {
     "data": {
      "text/plain": [
       "[<matplotlib.lines.Line2D at 0x227e8c73280>]"
      ]
     },
     "execution_count": 245,
     "metadata": {},
     "output_type": "execute_result"
    },
    {
     "data": {
      "image/png": "[encoded data removed]",
      "text/plain": [
       "<Figure size 432x288 with 1 Axes>"
      ]
     },
     "metadata": {
      "needs_background": "light"
     },
     "output_type": "display_data"
    }
   ],
   "source": [
    "plt.plot(x,y,color = 'b')\n",
    "plt.plot(x,np.cos(x),color = 'g')"
   ]
  },
  {
   "cell_type": "code",
   "execution_count": null,
   "id": "3c33e114",
   "metadata": {},
   "outputs": [],
   "source": [
    "\"\"\"'-g'     solide green\n",
    "'--C'        dashed cyan\n",
    "'-.k'        dashdot black\n",
    "':r'         dotted red \n",
    "etc\"\"\""
   ]
  }
 ],
 "metadata": {
  "kernelspec": {
   "display_name": "Python 3 (ipykernel)",
   "language": "python",
   "name": "python3"
  },
  "language_info": {
   "codemirror_mode": {
    "name": "ipython",
    "version": 3
   },
   "file_extension": ".py",
   "mimetype": "text/x-python",
   "name": "python",
   "nbconvert_exporter": "python",
   "pygments_lexer": "ipython3",
   "version": "3.9.12"
  }
 },
 "nbformat": 4,
 "nbformat_minor": 5
}
