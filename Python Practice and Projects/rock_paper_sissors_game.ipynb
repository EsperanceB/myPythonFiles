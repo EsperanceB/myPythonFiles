{
 "cells": [
  {
   "cell_type": "code",
   "execution_count": 1,
   "id": "6f0a7e19",
   "metadata": {},
   "outputs": [
    {
     "name": "stdout",
     "output_type": "stream",
     "text": [
      "Enter rock/paper/scissors: rock\n",
      "Computer's pick: scissors\n",
      "Your pick: rock\n",
      "You win\n"
     ]
    }
   ],
   "source": [
    "import random\n",
    "\n",
    "class Game:\n",
    "    def __init__(self):\n",
    "        # call the get_computer_pick() method \n",
    "        self.computer_pick = self.get_computer_pick()    \n",
    "        # get the user's pick\n",
    "        self.user_pick = self.get_user_pick()\n",
    "\n",
    "        # get the result of the game\n",
    "        self.result = self.get_result()\n",
    "        \n",
    "    def get_computer_pick(self):\n",
    "        # get random number among 1, 2 and 3\n",
    "        random_number = random.randint(1, 3)\n",
    "        \n",
    "        # possible options \n",
    "        options = {1: 'rock', 2: 'paper', 3: 'scissors'}\n",
    "        \n",
    "        # return the value present at random_number\n",
    "        return options[random_number]\n",
    "    def get_user_pick(self):\n",
    "        # infinite while loop \n",
    "        while True:\n",
    "            user_pick = input('Enter rock/paper/scissors: ')\n",
    "\n",
    "            # convert to lowercase\n",
    "            user_pick = user_pick.lower()\n",
    "\n",
    "            # if user_pick is either rock or paper or scissors,\n",
    "            # terminate the loop\n",
    "            if user_pick in ('rock', 'paper', 'scissors'):\n",
    "                  break\n",
    "            else:\n",
    "                print('Wrong input!') \n",
    "\n",
    "        return user_pick\n",
    "    \n",
    "    \n",
    "    def get_result(self):\n",
    "        # condition for draw\n",
    "        if self.computer_pick == self.user_pick:\n",
    "            return 'draw'\n",
    "        \n",
    "        # condition for the user to win\n",
    "        elif self.user_pick == 'paper' and self.computer_pick == 'rock':\n",
    "            return 'win'\n",
    "        elif self.user_pick == 'rock' and self.computer_pick == 'scissors':\n",
    "            return 'win'\n",
    "        elif self.user_pick == 'scissors' and self.computer_pick == 'paper':\n",
    "            return 'win'\n",
    "        \n",
    "        # in all other conditions, users lose    \n",
    "        else:\n",
    "            return 'lose'\n",
    "        \n",
    "    def print_result(self):\n",
    "        print(f\"Computer's pick: {self.computer_pick}\")\n",
    "        print(f'Your pick: {self.user_pick}')\n",
    "        print(f'You {self.result}')\n",
    "\n",
    "    \n",
    "    \n",
    "    \n",
    "    \n",
    "# create an object of the Game class\n",
    "game = Game()\n",
    "game.print_result()"
   ]
  },
  {
   "cell_type": "code",
   "execution_count": 2,
   "id": "ef49a1f9",
   "metadata": {},
   "outputs": [
    {
     "name": "stdout",
     "output_type": "stream",
     "text": [
      "Enter rock/paper/scissors: rock\n",
      "Computer's pick: paper\n",
      "Your pick: rock\n",
      "You lose\n",
      "Enter rock/paper/scissors: scissors\n",
      "Computer's pick: paper\n",
      "Your pick: scissors\n",
      "You win\n",
      "Enter rock/paper/scissors: rock\n",
      "Computer's pick: paper\n",
      "Your pick: rock\n",
      "You lose\n",
      "Enter rock/paper/scissors: scissors\n",
      "Computer's pick: paper\n",
      "Your pick: scissors\n",
      "You win\n",
      "Enter rock/paper/scissors: rock\n",
      "Computer's pick: paper\n",
      "Your pick: rock\n",
      "You lose\n"
     ]
    }
   ],
   "source": [
    "for i in range(5):\n",
    "    game = Game()\n",
    "    game.print_result()"
   ]
  },
  {
   "cell_type": "code",
   "execution_count": 3,
   "id": "b3ffe5f5",
   "metadata": {},
   "outputs": [
    {
     "name": "stdout",
     "output_type": "stream",
     "text": [
      "Enter rock/paper/scissors: rock\n",
      "Computer's pick: scissors\n",
      "Your pick: rock\n",
      "You win\n",
      "Do you want to play again? (y/n): n\n"
     ]
    }
   ],
   "source": [
    "# putting object creation inside the loop\n",
    "while True:\n",
    "    game = Game()\n",
    "    game.print_result()\n",
    "\n",
    "    play_again = input('Do you want to play again? (y/n): ')\n",
    "\n",
    "   # if user enter any other character other than y, the game ends\n",
    "    if play_again != 'y':\n",
    "        break"
   ]
  },
  {
   "cell_type": "code",
   "execution_count": null,
   "id": "5d8390a8",
   "metadata": {},
   "outputs": [],
   "source": []
  }
 ],
 "metadata": {
  "kernelspec": {
   "display_name": "Python 3 (ipykernel)",
   "language": "python",
   "name": "python3"
  },
  "language_info": {
   "codemirror_mode": {
    "name": "ipython",
    "version": 3
   },
   "file_extension": ".py",
   "mimetype": "text/x-python",
   "name": "python",
   "nbconvert_exporter": "python",
   "pygments_lexer": "ipython3",
   "version": "3.10.9"
  }
 },
 "nbformat": 4,
 "nbformat_minor": 5
}
