{
 "cells": [
  {
   "cell_type": "code",
   "execution_count": 1,
   "id": "e6f23a2c",
   "metadata": {},
   "outputs": [
    {
     "name": "stdout",
     "output_type": "stream",
     "text": [
      "Enter the text to generate QR code: eperance\n"
     ]
    }
   ],
   "source": [
    "# import the pyqrcode  module after you install it\n",
    "import pyqrcode\n",
    "\n",
    "# take user input\n",
    "# this is the text for which we want to generate a QR code\n",
    "text = input(\"Enter the text to generate QR code: \")\n",
    "\n",
    "# create a pyqrcode object by calling the create() method\n",
    "# we will use our text as an argument\n",
    "qr_code = pyqrcode.create(text)\n",
    "\n",
    "# calling the svg() method of the qr_code object \n",
    "# creates the file named qr_code.svg in svg format\n",
    "# the scale argument sets how large to draw a single image\n",
    "qr_code.svg('qr_code.svg', scale = 8)"
   ]
  },
  {
   "cell_type": "code",
   "execution_count": null,
   "id": "1aed0e87",
   "metadata": {},
   "outputs": [],
   "source": []
  }
 ],
 "metadata": {
  "kernelspec": {
   "display_name": "Python 3 (ipykernel)",
   "language": "python",
   "name": "python3"
  },
  "language_info": {
   "codemirror_mode": {
    "name": "ipython",
    "version": 3
   },
   "file_extension": ".py",
   "mimetype": "text/x-python",
   "name": "python",
   "nbconvert_exporter": "python",
   "pygments_lexer": "ipython3",
   "version": "3.10.9"
  }
 },
 "nbformat": 4,
 "nbformat_minor": 5
}
