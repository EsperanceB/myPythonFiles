{
 "cells": [
  {
   "cell_type": "code",
   "execution_count": 4,
   "id": "18552630",
   "metadata": {},
   "outputs": [
    {
     "name": "stdout",
     "output_type": "stream",
     "text": [
      "[25, 35, 40, 60, 90]\n"
     ]
    }
   ],
   "source": [
    "result_list = []\n",
    "list1 = [10, 20, 25, 30, 35]\n",
    "list2 = [40, 45, 60, 75, 90]\n",
    "\n",
    "for i in list1:\n",
    "    if i%2 != 0:\n",
    "        result_list.append(i)\n",
    "for j in list2:\n",
    "    if j%2 == 0:\n",
    "        result_list.append(j)\n",
    "\n",
    "print(result_list)\n",
    "        "
   ]
  },
  {
   "cell_type": "code",
   "execution_count": 5,
   "id": "9eef4256",
   "metadata": {},
   "outputs": [],
   "source": [
    "def merge_list(list1, list2):\n",
    "    result_list = []\n",
    "    \n",
    "    # iterate first list\n",
    "    for num in list1:\n",
    "        # check if current number is odd\n",
    "        if num % 2 != 0:\n",
    "            # add odd number to result list\n",
    "            result_list.append(num)\n",
    "    \n",
    "    # iterate second list\n",
    "    for num in list2:\n",
    "        # check if current number is even\n",
    "        if num % 2 == 0:\n",
    "            # add even number to result list\n",
    "            result_list.append(num)\n",
    "    return result_list\n"
   ]
  },
  {
   "cell_type": "code",
   "execution_count": null,
   "id": "c0aa366f",
   "metadata": {},
   "outputs": [],
   "source": [
    "rate_per_amount= {10000$: 0,}"
   ]
  }
 ],
 "metadata": {
  "kernelspec": {
   "display_name": "Python 3 (ipykernel)",
   "language": "python",
   "name": "python3"
  },
  "language_info": {
   "codemirror_mode": {
    "name": "ipython",
    "version": 3
   },
   "file_extension": ".py",
   "mimetype": "text/x-python",
   "name": "python",
   "nbconvert_exporter": "python",
   "pygments_lexer": "ipython3",
   "version": "3.10.9"
  }
 },
 "nbformat": 4,
 "nbformat_minor": 5
}
